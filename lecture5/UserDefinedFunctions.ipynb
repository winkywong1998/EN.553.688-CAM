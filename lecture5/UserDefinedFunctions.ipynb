{
 "cells": [
  {
   "cell_type": "markdown",
   "metadata": {
    "tags": []
   },
   "source": [
    "**User-defined Functions**\n",
    "\n",
    "If every function you'd ever need were already programmed, we wouldn't need programmers. So it is important to be able to write user-defined functions. \n",
    "\n",
    "Here is an example of a user-defined function."
   ]
  },
  {
   "cell_type": "code",
   "execution_count": 1,
   "metadata": {},
   "outputs": [],
   "source": [
    "import math as m\n",
    "\n",
    "def standard_normal_pdf(x):\n",
    "    twopi=2*m.pi\n",
    "    root2pi=m.sqrt(twopi)\n",
    "    y=m.exp(-.5*x**2)/root2pi\n",
    "    return(y)"
   ]
  },
  {
   "cell_type": "markdown",
   "metadata": {},
   "source": [
    "Here is an example of the use of this function."
   ]
  },
  {
   "cell_type": "code",
   "execution_count": 2,
   "metadata": {},
   "outputs": [
    {
     "data": {
      "text/plain": [
       "0.18264908538902191"
      ]
     },
     "execution_count": 2,
     "metadata": {},
     "output_type": "execute_result"
    }
   ],
   "source": [
    "standard_normal_pdf(1.25)"
   ]
  },
  {
   "cell_type": "markdown",
   "metadata": {
    "tags": []
   },
   "source": [
    "Here is a heavily commented version of the same function."
   ]
  },
  {
   "cell_type": "code",
   "execution_count": null,
   "metadata": {
    "tags": []
   },
   "outputs": [],
   "source": [
    "# function relies on the math library\n",
    "import math as m                \n",
    "\n",
    "#\n",
    "# the keyword \"def\" appears first \n",
    "# the second expression is the function name\n",
    "# the function argument(s) appears next in parentheses\n",
    "#     here x is a dummy variable\n",
    "# the trailing colon (:) appears\n",
    "def standard_normal_pdf(x):     \n",
    "    #\n",
    "    # the body of the function is indented.\n",
    "    # \"local\" variables are created as needed\n",
    "    # \n",
    "    twopi=2*m.pi\n",
    "    print(twopi)\n",
    "    root2pi=m.sqrt(twopi)\n",
    "    y=m.exp(-.5*x**2)/root2pi\n",
    "    #\n",
    "    # one of the local variables (y) is returned\n",
    "    # this is what gets outputted by the function\n",
    "    #\n",
    "    return(y)"
   ]
  },
  {
   "cell_type": "code",
   "execution_count": null,
   "metadata": {},
   "outputs": [],
   "source": [
    "standard_normal_pdf(1.25)"
   ]
  },
  {
   "cell_type": "markdown",
   "metadata": {
    "tags": []
   },
   "source": [
    "To summarize:\n",
    "\n",
    "- the function relies on the math library\n",
    "- the first line includes\n",
    "    - keyword **def** - indicates a function definition \n",
    "    - the name of the function **standard_normal_pdf**\n",
    "    - the function argument \n",
    "    - the trailing (:) - what follows is function body\n",
    "- the body of code after the first line is indented\n",
    "- the final keyword **return** - shows what is output\n",
    "\n",
    "The function body has several local variables\n",
    "\n",
    "- twopi\n",
    "- root2pi\n",
    "- y\n",
    "\n",
    "ones that are only in existence while the function is doing its work. They are said to have *local* scope.\n",
    "\n",
    "The function argument is interpreted just as we do in mathematical functions. It serves as a dummy variable that takes on a value when the function is *called* i.e. used."
   ]
  },
  {
   "cell_type": "markdown",
   "metadata": {},
   "source": [
    "The argument and the local variables are **local** in scope meaning that they are created temporily when the function is invoked/called/used, but they do not exist beyond that.\n",
    "\n",
    "So if we try to print one of those variables, we get an error."
   ]
  },
  {
   "cell_type": "code",
   "execution_count": 3,
   "metadata": {},
   "outputs": [
    {
     "ename": "NameError",
     "evalue": "name 'x' is not defined",
     "output_type": "error",
     "traceback": [
      "\u001b[1;31m---------------------------------------------------------------------------\u001b[0m",
      "\u001b[1;31mNameError\u001b[0m                                 Traceback (most recent call last)",
      "Input \u001b[1;32mIn [3]\u001b[0m, in \u001b[0;36m<cell line: 1>\u001b[1;34m()\u001b[0m\n\u001b[1;32m----> 1\u001b[0m \u001b[38;5;28mprint\u001b[39m(\u001b[43mx\u001b[49m)\n",
      "\u001b[1;31mNameError\u001b[0m: name 'x' is not defined"
     ]
    }
   ],
   "source": [
    "print(x)"
   ]
  },
  {
   "cell_type": "code",
   "execution_count": 4,
   "metadata": {},
   "outputs": [
    {
     "ename": "NameError",
     "evalue": "name 'twopi' is not defined",
     "output_type": "error",
     "traceback": [
      "\u001b[1;31m---------------------------------------------------------------------------\u001b[0m",
      "\u001b[1;31mNameError\u001b[0m                                 Traceback (most recent call last)",
      "Input \u001b[1;32mIn [4]\u001b[0m, in \u001b[0;36m<cell line: 1>\u001b[1;34m()\u001b[0m\n\u001b[1;32m----> 1\u001b[0m \u001b[38;5;28mprint\u001b[39m(\u001b[43mtwopi\u001b[49m)\n",
      "\u001b[1;31mNameError\u001b[0m: name 'twopi' is not defined"
     ]
    }
   ],
   "source": [
    "print(twopi)"
   ]
  },
  {
   "cell_type": "code",
   "execution_count": 6,
   "metadata": {},
   "outputs": [],
   "source": [
    "x2=5"
   ]
  },
  {
   "cell_type": "markdown",
   "metadata": {},
   "source": [
    "**Naming rules**\n",
    "\n",
    "By the way, there are rules for how variables can be named.\n",
    "A variable name\n",
    "\n",
    "- can't be a keyword e.g **def**, **return**, **if**\n",
    "- must have as 1st character \n",
    "    - an alphabetic (any case) character, or\n",
    "    - the underscore character \\_\n",
    "- can have other characters after the 1st that are\n",
    "    - alphanumeric, or\n",
    "    - underscore\n",
    "    \n",
    "The same rule applies for **function names.**"
   ]
  },
  {
   "cell_type": "code",
   "execution_count": null,
   "metadata": {},
   "outputs": [],
   "source": [
    "def=7"
   ]
  },
  {
   "cell_type": "code",
   "execution_count": null,
   "metadata": {},
   "outputs": [],
   "source": [
    "ENDED HERE"
   ]
  },
  {
   "cell_type": "markdown",
   "metadata": {},
   "source": [
    "**Functions needn't return anything**\n",
    "\n",
    "Here is a function that doesn't return a value.\n"
   ]
  },
  {
   "cell_type": "code",
   "execution_count": null,
   "metadata": {},
   "outputs": [],
   "source": [
    "def f(n):\n",
    "    print(\"the number you entered is \"+str(n))"
   ]
  },
  {
   "cell_type": "code",
   "execution_count": null,
   "metadata": {},
   "outputs": [],
   "source": [
    "type(f)"
   ]
  },
  {
   "cell_type": "code",
   "execution_count": null,
   "metadata": {},
   "outputs": [],
   "source": [
    "f(123)"
   ]
  },
  {
   "cell_type": "markdown",
   "metadata": {},
   "source": [
    "If we try to assign a value to the result, let's see what happens."
   ]
  },
  {
   "cell_type": "code",
   "execution_count": null,
   "metadata": {},
   "outputs": [],
   "source": [
    "y=f(89)\n",
    "print(y)\n",
    "print(type(y))"
   ]
  },
  {
   "cell_type": "markdown",
   "metadata": {},
   "source": [
    "We get a special object whose type NoneType. \n",
    "A NoneType variable can only take the value: None"
   ]
  },
  {
   "cell_type": "markdown",
   "metadata": {},
   "source": [
    "**Functions needn't have arguments**\n",
    "\n",
    "Here is an example."
   ]
  },
  {
   "cell_type": "code",
   "execution_count": null,
   "metadata": {},
   "outputs": [],
   "source": [
    "def return_hello():\n",
    "   return(\"hello\")\n",
    "y=return_hello()\n",
    "print(y)"
   ]
  },
  {
   "cell_type": "markdown",
   "metadata": {},
   "source": [
    "**Functions can have more than 1 argument**"
   ]
  },
  {
   "cell_type": "code",
   "execution_count": null,
   "metadata": {},
   "outputs": [],
   "source": [
    "import math as m\n",
    "def EuclideanNorm(x,y):\n",
    "    return(m.sqrt(x**2+y**2))\n",
    "EuclideanNorm(1,1)"
   ]
  },
  {
   "cell_type": "markdown",
   "metadata": {},
   "source": [
    "**Argument counts must be correct**\n",
    "\n",
    "If we try to use a function and don't get the argument count correct, we'll get an error."
   ]
  },
  {
   "cell_type": "code",
   "execution_count": null,
   "metadata": {},
   "outputs": [],
   "source": [
    "return_hello(45)"
   ]
  },
  {
   "cell_type": "code",
   "execution_count": null,
   "metadata": {},
   "outputs": [],
   "source": [
    "EuclideanNorm(4,5,6)"
   ]
  },
  {
   "cell_type": "markdown",
   "metadata": {},
   "source": [
    "**Functions can have a variable number of arguments**\n",
    "\n",
    "We have seen functions that can take a variable numbers of arguments. For example, the **range** function can take 1, 2 or 3 arguments.\n",
    "\n",
    "And we have seen functions that can take **keyword** arguments. For example, we can tell print to append something to the end when we print."
   ]
  },
  {
   "cell_type": "code",
   "execution_count": null,
   "metadata": {},
   "outputs": [],
   "source": [
    "st=\"Hello\"\n",
    "print(st,end=\"!!!\")"
   ]
  },
  {
   "cell_type": "code",
   "execution_count": null,
   "metadata": {},
   "outputs": [],
   "source": [
    "print(\"Your name please\",end=\"?\")"
   ]
  },
  {
   "cell_type": "markdown",
   "metadata": {},
   "source": [
    "**Functions can return multiple values**\n",
    "\n",
    "Consider this example."
   ]
  },
  {
   "cell_type": "code",
   "execution_count": null,
   "metadata": {},
   "outputs": [],
   "source": [
    "def powers(x):\n",
    "    return x**0,x**1,x**2,x**3\n",
    "powers(5)"
   ]
  },
  {
   "cell_type": "markdown",
   "metadata": {},
   "source": [
    "Note that the function returns a tuple. We get the same result using this syntax."
   ]
  },
  {
   "cell_type": "code",
   "execution_count": null,
   "metadata": {},
   "outputs": [],
   "source": [
    "def powers(x):\n",
    "    return(x**0,x**1,x**2,x**3)\n",
    "powers(5)"
   ]
  },
  {
   "cell_type": "markdown",
   "metadata": {},
   "source": [
    "**Assignment**\n",
    "\n",
    "When we have a function that returns multiple values, it returns a tuple, so the rules of tuple assignment apply."
   ]
  },
  {
   "cell_type": "code",
   "execution_count": null,
   "metadata": {},
   "outputs": [],
   "source": [
    "def powers(x):\n",
    "    return (x**0,x**1,x**2,x**3)\n",
    "u=powers(2)\n",
    "print(u)"
   ]
  },
  {
   "cell_type": "code",
   "execution_count": null,
   "metadata": {},
   "outputs": [],
   "source": [
    "u0,u1,u2,u3=powers(3)\n",
    "print(u0)\n",
    "print(u1)\n",
    "print(u2)\n",
    "print(u3)"
   ]
  },
  {
   "cell_type": "raw",
   "metadata": {},
   "source": [
    "We'll see how to create functions allowing for these options in a future lecture."
   ]
  },
  {
   "cell_type": "markdown",
   "metadata": {},
   "source": [
    "**scope** \n",
    "\n",
    "In the following code, the variabe rt2pi has scope outside the function so the function can still use that variable.\n",
    "\n",
    "That variable has **global** scope."
   ]
  },
  {
   "cell_type": "code",
   "execution_count": null,
   "metadata": {},
   "outputs": [],
   "source": [
    "import math as m\n",
    "\n",
    "rt2pi=m.sqrt(2*m.pi)\n",
    "\n",
    "def standard_normal_pdf(t):\n",
    "    y=m.exp(-.5*t**2)/rt2pi\n",
    "    return(y)\n",
    "standard_normal_pdf(1.25)"
   ]
  },
  {
   "cell_type": "markdown",
   "metadata": {},
   "source": [
    "When the function in invoked, the value of that variable is *looked up* at runtime. If the value of this variable changes values, then the function changes."
   ]
  },
  {
   "cell_type": "code",
   "execution_count": null,
   "metadata": {},
   "outputs": [],
   "source": [
    "rt2pi=2.\n",
    "standard_normal_pdf(1.25)"
   ]
  },
  {
   "cell_type": "markdown",
   "metadata": {},
   "source": [
    "**Precedence**\n",
    "\n",
    "What if a variable appears both inside and outside the function? Which has precedence? \n",
    "\n",
    "In the following example, what do you think will be returned when we calculate f(x)? \n",
    "\n",
    "Does it return x or the square of x?"
   ]
  },
  {
   "cell_type": "code",
   "execution_count": null,
   "metadata": {},
   "outputs": [],
   "source": [
    "y=1 # global scope \n",
    "def f(x):\n",
    "    y=2 # local scope \n",
    "    return(x**y)\n",
    "f(3)"
   ]
  },
  {
   "cell_type": "markdown",
   "metadata": {},
   "source": [
    "**Modifying a global variable**\n",
    "\n",
    "We can try to modify the value of a global variable in a function.\n",
    "\n",
    "Consider the following example."
   ]
  },
  {
   "cell_type": "code",
   "execution_count": null,
   "metadata": {},
   "outputs": [],
   "source": [
    "g=5\n",
    "def f(x):\n",
    "    g=g+x\n",
    "    print(g)\n",
    "f(10)"
   ]
  },
  {
   "cell_type": "markdown",
   "metadata": {},
   "source": [
    "That produced an error. If we want our function to not only be able to *read* a variable value and use it, but also to *write* to it, i.e. make changes to a global variable, we need to use the **global** keyword."
   ]
  },
  {
   "cell_type": "code",
   "execution_count": null,
   "metadata": {},
   "outputs": [],
   "source": [
    "g=5\n",
    "def f(x):\n",
    "    global g\n",
    "    g=g+x\n",
    "f(10)\n",
    "print(g)"
   ]
  },
  {
   "cell_type": "code",
   "execution_count": null,
   "metadata": {},
   "outputs": [],
   "source": []
  }
 ],
 "metadata": {
  "kernelspec": {
   "display_name": "Python 3 (ipykernel)",
   "language": "python",
   "name": "python3"
  },
  "language_info": {
   "codemirror_mode": {
    "name": "ipython",
    "version": 3
   },
   "file_extension": ".py",
   "mimetype": "text/x-python",
   "name": "python",
   "nbconvert_exporter": "python",
   "pygments_lexer": "ipython3",
   "version": "3.9.12"
  }
 },
 "nbformat": 4,
 "nbformat_minor": 4
}
