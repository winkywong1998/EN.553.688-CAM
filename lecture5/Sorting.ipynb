{
 "cells": [
  {
   "cell_type": "markdown",
   "metadata": {},
   "source": [
    "**sort method for lists**\n",
    "\n",
    "Lists have a sort method which we illustrate here."
   ]
  },
  {
   "cell_type": "code",
   "execution_count": 12,
   "metadata": {},
   "outputs": [
    {
     "name": "stdout",
     "output_type": "stream",
     "text": [
      "[1, 2, 3, 4, 5, 6, 7]\n"
     ]
    }
   ],
   "source": [
    "L=[1,7,2,6,5,4,3]\n",
    "L.sort()\n",
    "print(L)"
   ]
  },
  {
   "cell_type": "code",
   "execution_count": 13,
   "metadata": {},
   "outputs": [
    {
     "name": "stdout",
     "output_type": "stream",
     "text": [
      "['a', 'aaa', 'aaaa', 'abacus', 'about', 'above', 'abracadabra', 'ancillary']\n"
     ]
    }
   ],
   "source": [
    "L=[\"abacus\",\"about\",\"aaa\",\"ancillary\",\"a\",\"abracadabra\",\"above\",\"aaaa\"]\n",
    "L.sort()\n",
    "print(L)"
   ]
  },
  {
   "cell_type": "code",
   "execution_count": 14,
   "metadata": {},
   "outputs": [
    {
     "name": "stdout",
     "output_type": "stream",
     "text": [
      "[7, 6, 5, 4, 3, 2, 1]\n"
     ]
    }
   ],
   "source": [
    "L=[1,7,2,6,5,4,3]\n",
    "L.sort(reverse=True)\n",
    "print(L)"
   ]
  },
  {
   "cell_type": "code",
   "execution_count": 15,
   "metadata": {},
   "outputs": [
    {
     "name": "stdout",
     "output_type": "stream",
     "text": [
      "['ancillary', 'abracadabra', 'above', 'about', 'abacus', 'aaaa', 'aaa', 'a']\n"
     ]
    }
   ],
   "source": [
    "L=[\"abacus\",\"about\",\"aaa\",\"ancillary\",\"a\",\"abracadabra\",\"above\",\"aaaa\"]\n",
    "L.sort(reverse=True)\n",
    "print(L)"
   ]
  },
  {
   "cell_type": "markdown",
   "metadata": {},
   "source": [
    "For this to work, objects in the list need to be comparable."
   ]
  },
  {
   "cell_type": "code",
   "execution_count": 16,
   "metadata": {},
   "outputs": [
    {
     "ename": "TypeError",
     "evalue": "'<' not supported between instances of 'int' and 'str'",
     "output_type": "error",
     "traceback": [
      "\u001b[0;31m---------------------------------------------------------------------------\u001b[0m",
      "\u001b[0;31mTypeError\u001b[0m                                 Traceback (most recent call last)",
      "Cell \u001b[0;32mIn [16], line 2\u001b[0m\n\u001b[1;32m      1\u001b[0m L\u001b[38;5;241m=\u001b[39m[\u001b[38;5;124m\"\u001b[39m\u001b[38;5;124mabacus\u001b[39m\u001b[38;5;124m\"\u001b[39m,\u001b[38;5;124m\"\u001b[39m\u001b[38;5;124mabout\u001b[39m\u001b[38;5;124m\"\u001b[39m,\u001b[38;5;241m23\u001b[39m, \u001b[38;5;241m5\u001b[39m]\n\u001b[0;32m----> 2\u001b[0m \u001b[43mL\u001b[49m\u001b[38;5;241;43m.\u001b[39;49m\u001b[43msort\u001b[49m\u001b[43m(\u001b[49m\u001b[43m)\u001b[49m\n",
      "\u001b[0;31mTypeError\u001b[0m: '<' not supported between instances of 'int' and 'str'"
     ]
    }
   ],
   "source": [
    "L=[\"abacus\",\"about\",23, 5]\n",
    "L.sort()"
   ]
  },
  {
   "cell_type": "markdown",
   "metadata": {},
   "source": [
    "**Return value**\n",
    "\n",
    "The list is sorted *in-place* and the return value of the method is *None*."
   ]
  },
  {
   "cell_type": "code",
   "execution_count": 17,
   "metadata": {},
   "outputs": [
    {
     "name": "stdout",
     "output_type": "stream",
     "text": [
      "None\n"
     ]
    }
   ],
   "source": [
    "L=[1,7,2,6,5,4,3]\n",
    "L2=L.sort()\n",
    "print(L2)"
   ]
  },
  {
   "cell_type": "markdown",
   "metadata": {},
   "source": [
    "**sorted**\n",
    "\n",
    "Sorted can also be used to sort a list but is a more powerful method and can be used to sort an iterable.\n",
    "\n",
    "The function returns a sorted list.\n",
    "\n",
    "This function, like the sort method:\n",
    "- sorts in increasing order by default\n",
    "- requires that elements in the iterable be comparable. "
   ]
  },
  {
   "cell_type": "code",
   "execution_count": 18,
   "metadata": {},
   "outputs": [
    {
     "name": "stdout",
     "output_type": "stream",
     "text": [
      "[1, 2, 3, 4, 5, 6, 7]\n",
      "<class 'list'>\n"
     ]
    }
   ],
   "source": [
    "L1=[1,7,2,6,5,4,3]\n",
    "L2=sorted(L1)\n",
    "print(L2)\n",
    "print(type(L2))"
   ]
  },
  {
   "cell_type": "code",
   "execution_count": 19,
   "metadata": {},
   "outputs": [
    {
     "name": "stdout",
     "output_type": "stream",
     "text": [
      "['a', 'aaa', 'aaaa', 'abacus', 'about', 'above', 'abracadabra', 'ancillary']\n",
      "['abacus', 'about', 'aaa', 'ancillary', 'a', 'abracadabra', 'above', 'aaaa']\n"
     ]
    }
   ],
   "source": [
    "L=[\"abacus\",\"about\",\"aaa\",\"ancillary\",\"a\",\"abracadabra\",\"above\",\"aaaa\"]\n",
    "print(sorted(L))\n",
    "print(L)"
   ]
  },
  {
   "cell_type": "markdown",
   "metadata": {},
   "source": [
    "**reverse order**\n",
    "\n",
    "The sorted function has an optional keyword argument of reverse."
   ]
  },
  {
   "cell_type": "code",
   "execution_count": 20,
   "metadata": {},
   "outputs": [
    {
     "name": "stdout",
     "output_type": "stream",
     "text": [
      "['ancillary', 'abracadabra', 'above', 'about', 'abacus', 'aaaa', 'aaa', 'a']\n"
     ]
    }
   ],
   "source": [
    "L1=[1,7,2,6,5,4,3]\n",
    "L2=sorted(L,reverse=True)\n",
    "print(L2)"
   ]
  },
  {
   "cell_type": "markdown",
   "metadata": {},
   "source": [
    "**Sorting a list of tuples**\n",
    "\n",
    "The sorting by lexicographic ordering can be done."
   ]
  },
  {
   "cell_type": "code",
   "execution_count": 21,
   "metadata": {},
   "outputs": [
    {
     "name": "stdout",
     "output_type": "stream",
     "text": [
      "(1, 2)\n",
      "(1, 3)\n",
      "(1, 4, 6)\n",
      "(1, 4, 6, 7)\n",
      "(2, 1)\n",
      "(2, 4)\n",
      "(2, 5)\n"
     ]
    }
   ],
   "source": [
    "L=[(1,2),(2,1),(1,3),(2,5),(2,4), (1,4,6),(1,4,6,7)]\n",
    "for x in sorted(L):\n",
    "    print(x)"
   ]
  },
  {
   "cell_type": "code",
   "execution_count": 22,
   "metadata": {},
   "outputs": [
    {
     "name": "stdout",
     "output_type": "stream",
     "text": [
      "[1, 2]\n",
      "[1, 3]\n",
      "[1, 4, 6]\n",
      "[1, 4, 6, 7]\n",
      "[2, 1]\n",
      "[2, 4]\n",
      "[2, 5]\n"
     ]
    }
   ],
   "source": [
    "L=[[1,2],[2,1],[1,3],[2,5],[2,4], [1,4,6],[1,4,6,7]]\n",
    "for x in sorted(L):\n",
    "    print(x)"
   ]
  },
  {
   "cell_type": "markdown",
   "metadata": {},
   "source": [
    "**Use of a key**\n",
    "\n",
    "The real power of the sorted function becomes apparent when it is not clear what about an object should be used to make comparisons.\n",
    "\n",
    "**Example** \n",
    "\n",
    "For example, suppose we have a list of 3-tuples\n",
    "\n",
    "    p=(p[0],p[1],p[2])\n",
    "    \n",
    "where p[1] is a list containing 2 elements\n",
    "\n",
    "    p[1]=[p[1][0],p[1][1]]\n",
    "    \n",
    "We want to sort these 3-tuples by declaring \n",
    "p=(p[0],p[1],p[2]) to precede q=(q[0],q[1],q[2])\n",
    "if it is the case that p[1][1]<q[1][1].\n",
    "\n",
    "We just need to specify a *key* that picks out that value. "
   ]
  },
  {
   "cell_type": "code",
   "execution_count": 23,
   "metadata": {},
   "outputs": [
    {
     "data": {
      "text/plain": [
       "[(2, [7, 0], 1), (3, [81, 1], 5), (9, [81, 2], 97), (19, [3, 5], 27)]"
      ]
     },
     "execution_count": 23,
     "metadata": {},
     "output_type": "execute_result"
    }
   ],
   "source": [
    "L=[(19,[3,5],27),(3,[81,1],5),(9,[81,2],97),(2,[7,0],1)]\n",
    "sorted(L,key=lambda x:x[1][1])"
   ]
  },
  {
   "cell_type": "markdown",
   "metadata": {},
   "source": [
    "To handle ties, we might want to add another element to sort by."
   ]
  },
  {
   "cell_type": "code",
   "execution_count": 24,
   "metadata": {},
   "outputs": [
    {
     "data": {
      "text/plain": [
       "[(2, [7, 5], 1), (3, [81, 5], 5), (9, [81, 5], 97), (19, [3, 5], 27)]"
      ]
     },
     "execution_count": 24,
     "metadata": {},
     "output_type": "execute_result"
    }
   ],
   "source": [
    "L=[(19,[3,5],27),(3,[81,5],5),(9,[81,5],97),(2,[7,5],1)]\n",
    "sorted(L,key=lambda x:(x[1][1],x[0]))"
   ]
  },
  {
   "cell_type": "markdown",
   "metadata": {},
   "source": [
    "**Question to think about**\n",
    "\n",
    "What if you wanted to declare that\n",
    "\n",
    "p=(p[0],p[1],p[2]) to precede q=(q[0],q[1],q[2]) \n",
    "\n",
    "if p[1][1]<q[1][1], and in the case of a tie, require that p[0]>q[0] for p to precede q?\n",
    "\n",
    "How can you create a key that does this?"
   ]
  },
  {
   "cell_type": "code",
   "execution_count": 25,
   "metadata": {},
   "outputs": [
    {
     "data": {
      "text/plain": [
       "[(19, [3, 5], 27), (9, [81, 5], 97), (3, [81, 5], 5), (2, [7, 5], 1)]"
      ]
     },
     "execution_count": 25,
     "metadata": {},
     "output_type": "execute_result"
    }
   ],
   "source": [
    "L=[(19,[3,5],27),(3,[81,5],5),(9,[81,5],97),(2,[7,5],1)]\n",
    "sorted(L,key=lambda x:(x[1][1],-x[0]))"
   ]
  },
  {
   "cell_type": "markdown",
   "metadata": {},
   "source": [
    "What if the entries in the tuples are strings? What is the analogue of -s when s is a string?"
   ]
  },
  {
   "cell_type": "markdown",
   "metadata": {},
   "source": [
    "**Here is another example**\n",
    "\n",
    "We sort 3-tuples of Name, Address, Phone Number, Age by Age."
   ]
  },
  {
   "cell_type": "code",
   "execution_count": 26,
   "metadata": {},
   "outputs": [
    {
     "data": {
      "text/plain": [
       "[('Zelda', '45 St. Paul St.', 22, '443-291-1123'),\n",
       " ('Mary', '3000 Charles St.', 22, '410-788-9812'),\n",
       " ('Joe', '12 Guilford Ave', 35, '410-385-2345'),\n",
       " ('Francine', '345 Able Ave.', 38, '804-328-1902')]"
      ]
     },
     "execution_count": 26,
     "metadata": {},
     "output_type": "execute_result"
    }
   ],
   "source": [
    "L=[('Joe','12 Guilford Ave',35,\"410-385-2345\"),\n",
    "   ('Zelda', '45 St. Paul St.',22,\"443-291-1123\"),\n",
    "   ('Mary', '3000 Charles St.',22,\"410-788-9812\"), \n",
    "   ('Francine','345 Able Ave.',38,\"804-328-1902\")]\n",
    "sorted(L,key=lambda x:x[2])"
   ]
  },
  {
   "cell_type": "markdown",
   "metadata": {},
   "source": [
    "Note that Zelda and Mary have the same age. Maybe in case of a tie by Age we want to use a secondary criterion the Name with the usual dictionary ordering."
   ]
  },
  {
   "cell_type": "code",
   "execution_count": 27,
   "metadata": {},
   "outputs": [
    {
     "data": {
      "text/plain": [
       "[('Mary', '3000 Charles St.', 22, '410-788-9812'),\n",
       " ('Zelda', '45 St. Paul St.', 22, '443-291-1123'),\n",
       " ('Joe', '12 Guilford Ave', 35, '410-385-2345'),\n",
       " ('Francine', '345 Able Ave.', 38, '804-328-1902')]"
      ]
     },
     "execution_count": 27,
     "metadata": {},
     "output_type": "execute_result"
    }
   ],
   "source": [
    "sorted(L,key=lambda x:(x[2],x[0]))"
   ]
  },
  {
   "cell_type": "markdown",
   "metadata": {},
   "source": [
    "**Sorting a dictionary**\n",
    "\n",
    "We can use sorted to sort a dictionary. By default, sorting is based on the keys and only captures keys."
   ]
  },
  {
   "cell_type": "code",
   "execution_count": 28,
   "metadata": {},
   "outputs": [
    {
     "data": {
      "text/plain": [
       "[7, 10, 12]"
      ]
     },
     "execution_count": 28,
     "metadata": {},
     "output_type": "execute_result"
    }
   ],
   "source": [
    "d={10:'dog',7:'cat',12:'bird'}\n",
    "sorted(d)"
   ]
  },
  {
   "cell_type": "markdown",
   "metadata": {},
   "source": [
    "And then we can use list comprehension to get the elements in a sorted list."
   ]
  },
  {
   "cell_type": "code",
   "execution_count": 29,
   "metadata": {},
   "outputs": [
    {
     "data": {
      "text/plain": [
       "[(7, 'cat'), (10, 'dog'), (12, 'bird')]"
      ]
     },
     "execution_count": 29,
     "metadata": {},
     "output_type": "execute_result"
    }
   ],
   "source": [
    "[(k,d[k]) for k in sorted(d)]"
   ]
  },
  {
   "cell_type": "markdown",
   "metadata": {},
   "source": [
    "**Dictionary items**\n",
    "\n",
    "Dictionaries have an items() method, that represents the items in the dictionary as 2-tuples."
   ]
  },
  {
   "cell_type": "code",
   "execution_count": 30,
   "metadata": {},
   "outputs": [
    {
     "name": "stdout",
     "output_type": "stream",
     "text": [
      "(10, 'dog')\n",
      "(7, 'cat')\n",
      "(12, 'bird')\n",
      "<class 'dict_items'>\n"
     ]
    }
   ],
   "source": [
    "d={10:'dog',7:'cat',12:'bird'}\n",
    "for x in d.items():\n",
    "    print(x)\n",
    "print(type(d.items()))"
   ]
  },
  {
   "cell_type": "markdown",
   "metadata": {},
   "source": [
    "**Sorting by key**"
   ]
  },
  {
   "cell_type": "code",
   "execution_count": 31,
   "metadata": {},
   "outputs": [
    {
     "data": {
      "text/plain": [
       "[(7, 'cat'), (10, 'dog'), (12, 'bird'), (13, 'dog')]"
      ]
     },
     "execution_count": 31,
     "metadata": {},
     "output_type": "execute_result"
    }
   ],
   "source": [
    "d={10:'dog',7:'cat',12:'bird', 13:'dog'}\n",
    "sorted(d.items())"
   ]
  },
  {
   "cell_type": "markdown",
   "metadata": {},
   "source": [
    "**Sorting by value**"
   ]
  },
  {
   "cell_type": "code",
   "execution_count": 32,
   "metadata": {},
   "outputs": [
    {
     "data": {
      "text/plain": [
       "[(12, 'bird'), (7, 'cat'), (10, 'dog')]"
      ]
     },
     "execution_count": 32,
     "metadata": {},
     "output_type": "execute_result"
    }
   ],
   "source": [
    "d={10:'dog',7:'cat',12:'bird'}\n",
    "sorted(d.items(),key=lambda x:x[1])"
   ]
  },
  {
   "cell_type": "markdown",
   "metadata": {},
   "source": [
    "**Question**\n",
    "\n",
    "What if we want to sort by value and break ties by using the keys?"
   ]
  },
  {
   "cell_type": "code",
   "execution_count": 33,
   "metadata": {},
   "outputs": [
    {
     "data": {
      "text/plain": [
       "[(12, 'bird'), (5, 'cat'), (7, 'cat'), (9, 'cat'), (10, 'dog'), (13, 'dog')]"
      ]
     },
     "execution_count": 33,
     "metadata": {},
     "output_type": "execute_result"
    }
   ],
   "source": [
    "d={13:'dog',10:'dog',7:'cat',12:'bird', 9:'cat', 5:'cat'}\n",
    "sorted(d.items(),key=lambda x:(x[1],x[0]))"
   ]
  },
  {
   "cell_type": "markdown",
   "metadata": {},
   "source": [
    "**Back to a dictionary**\n",
    "\n",
    "Once we have a list of 2-tuples we can use it to create a dictionary."
   ]
  },
  {
   "cell_type": "code",
   "execution_count": 34,
   "metadata": {},
   "outputs": [
    {
     "name": "stdout",
     "output_type": "stream",
     "text": [
      "{12: 'bird', 5: 'cat', 7: 'cat', 9: 'cat', 10: 'dog', 13: 'dog'}\n"
     ]
    }
   ],
   "source": [
    "L=sorted(d.items(),key=lambda x:(x[1],x[0]))\n",
    "d2={x[0]:x[1] for x in L}\n",
    "print(d2)"
   ]
  },
  {
   "cell_type": "markdown",
   "metadata": {},
   "source": [
    "What happens if the same key appears multiple times?"
   ]
  },
  {
   "cell_type": "code",
   "execution_count": null,
   "metadata": {},
   "outputs": [],
   "source": [
    "L=[(1,\"cat\"),(1,\"dog\")]\n",
    "d3={x[0]:x[1] for x in L}\n",
    "print(d3)"
   ]
  },
  {
   "cell_type": "code",
   "execution_count": null,
   "metadata": {},
   "outputs": [],
   "source": [
    "d3={1:\"cat\"}"
   ]
  },
  {
   "cell_type": "code",
   "execution_count": null,
   "metadata": {},
   "outputs": [],
   "source": [
    "d3[1]=\"dog\""
   ]
  },
  {
   "cell_type": "markdown",
   "metadata": {},
   "source": [
    "**zip**\n",
    "\n",
    "*zip* is another nice function to be aware of. It takes two lists and creates a generator of intertwined 2-tuples."
   ]
  },
  {
   "cell_type": "code",
   "execution_count": 3,
   "metadata": {},
   "outputs": [
    {
     "name": "stdout",
     "output_type": "stream",
     "text": [
      "(1, 6)\n",
      "(2, 7)\n",
      "(3, 8)\n",
      "(4, 9)\n",
      "(5, 10)\n"
     ]
    }
   ],
   "source": [
    "L1=[1,2,3,4,5]\n",
    "L2=[6,7,8,9,10]\n",
    "z=list(zip(L1,L2))\n",
    "for x in z:\n",
    "    print(x)"
   ]
  },
  {
   "cell_type": "markdown",
   "metadata": {},
   "source": [
    "Again, remember how generators work!!!"
   ]
  },
  {
   "cell_type": "code",
   "execution_count": 4,
   "metadata": {},
   "outputs": [
    {
     "name": "stdout",
     "output_type": "stream",
     "text": [
      "(1, 6)\n",
      "(2, 7)\n",
      "(3, 8)\n",
      "(4, 9)\n",
      "(5, 10)\n"
     ]
    }
   ],
   "source": [
    "for x in z:\n",
    "    print(x)"
   ]
  },
  {
   "cell_type": "markdown",
   "metadata": {},
   "source": [
    "**Sorting One Iterable Along Another**\n",
    "\n",
    "Here is an example of where the combination of sorting and zip becomes useful. \n",
    "\n",
    "Suppose we have two lists of the same length. We want to find the permutation that orders the first list, and then apply that same permutation to the second list.\n",
    "\n",
    "Probably, many of you are familiar with using a spreadsheet or in an online table where you sort the rows by some column.\n",
    "\n",
    "In the following example, we have two lists, each of length 10. The element in L1 at positioin i is associated with the element in L2 at position i.\n",
    "\n",
    "We want to order L1 and maintain the same association, i.e. we want to order L2 accordingly so that the value in L1 at position i is still associated with the element of L2 at position i.\n",
    "\n",
    "For doing this with lists, **zip comes to the rescue!**"
   ]
  },
  {
   "cell_type": "code",
   "execution_count": 5,
   "metadata": {},
   "outputs": [
    {
     "name": "stdout",
     "output_type": "stream",
     "text": [
      "[(14, 'a'), (2, 'b'), (7, 'c'), (6, 'd'), (1, 'e'), (5, 'f'), (18, 'g'), (23, 'h'), (19, 'i'), (13, 'j')]\n"
     ]
    }
   ],
   "source": [
    "L1=[14,2,7,6,1,5,18,23,19,13]\n",
    "L2=[\"a\",\"b\",\"c\",\"d\",\"e\",\"f\",\"g\",\"h\",\"i\",\"j\"]\n",
    "Z=list(zip(L1,L2))\n",
    "print(Z)"
   ]
  },
  {
   "cell_type": "code",
   "execution_count": 6,
   "metadata": {},
   "outputs": [
    {
     "name": "stdout",
     "output_type": "stream",
     "text": [
      "[(1, 'e'), (2, 'b'), (5, 'f'), (6, 'd'), (7, 'c'), (13, 'j'), (14, 'a'), (18, 'g'), (19, 'i'), (23, 'h')]\n"
     ]
    }
   ],
   "source": [
    "S=sorted(Z)\n",
    "print(S)"
   ]
  },
  {
   "cell_type": "code",
   "execution_count": 7,
   "metadata": {},
   "outputs": [
    {
     "name": "stdout",
     "output_type": "stream",
     "text": [
      "[1, 2, 5, 6, 7, 13, 14, 18, 19, 23]\n",
      "['e', 'b', 'f', 'd', 'c', 'j', 'a', 'g', 'i', 'h']\n"
     ]
    }
   ],
   "source": [
    "L1=[s[0] for s in S]\n",
    "L2=[s[1] for s in S]\n",
    "print(L1)\n",
    "print(L2)"
   ]
  },
  {
   "cell_type": "markdown",
   "metadata": {},
   "source": [
    "We can make this all happen in a function."
   ]
  },
  {
   "cell_type": "code",
   "execution_count": 8,
   "metadata": {},
   "outputs": [],
   "source": [
    "def sort_L2_along_L1(L1,L2):\n",
    "    Z=list(zip(L1,L2))\n",
    "    S=sorted(Z)\n",
    "    L2=[s[1] for s in S]\n",
    "    return(L2)"
   ]
  },
  {
   "cell_type": "code",
   "execution_count": 9,
   "metadata": {},
   "outputs": [
    {
     "name": "stdout",
     "output_type": "stream",
     "text": [
      "['e', 'b', 'f', 'd', 'c', 'j', 'a', 'g', 'i', 'h']\n"
     ]
    }
   ],
   "source": [
    "L1=[14,2,7,6,1,5,18,23,19,13]\n",
    "L2=[\"a\",\"b\",\"c\",\"d\",\"e\",\"f\",\"g\",\"h\",\"i\",\"j\"]\n",
    "L2=sort_L2_along_L1(L1,L2)\n",
    "print(L2)"
   ]
  },
  {
   "cell_type": "code",
   "execution_count": 10,
   "metadata": {},
   "outputs": [],
   "source": [
    "L1.sort()"
   ]
  },
  {
   "cell_type": "code",
   "execution_count": 11,
   "metadata": {},
   "outputs": [
    {
     "name": "stdout",
     "output_type": "stream",
     "text": [
      "[1, 2, 5, 6, 7, 13, 14, 18, 19, 23]\n"
     ]
    }
   ],
   "source": [
    "print(L1)"
   ]
  },
  {
   "cell_type": "markdown",
   "metadata": {},
   "source": [
    "**Exercise. Permutation that sorts a list**\n",
    "\n",
    "Given a list L of length n, suppose we want a permutation of 0,1,...,n-1\n",
    "i.e. a list p containing the values 0,1,...,n-1 in some order with the property that the values in L[p[i]] for i=0,1,2,...,n-1 are ordered from smallest to largest.\n",
    "\n",
    "Can you write some lines of code to find such a permutation for a given list?\n",
    "\n",
    "Can you create a function that takes a list as its argument and returns a permutation?"
   ]
  },
  {
   "cell_type": "code",
   "execution_count": 15,
   "metadata": {},
   "outputs": [],
   "source": [
    "L=[3,1,5,2]\n",
    "p=[1,3,0,2]"
   ]
  },
  {
   "cell_type": "code",
   "execution_count": 18,
   "metadata": {},
   "outputs": [
    {
     "data": {
      "text/plain": [
       "[1, 2, 3, 5]"
      ]
     },
     "execution_count": 18,
     "metadata": {},
     "output_type": "execute_result"
    }
   ],
   "source": [
    "[L[p[i]] for i in range(4)]"
   ]
  },
  {
   "cell_type": "markdown",
   "metadata": {},
   "source": [
    "**Enumerate**\n",
    "\n",
    "This is a convenient function in Python. It takes any iterable and converts it to an iterable of tuples with 0,1,... as first tuple elements."
   ]
  },
  {
   "cell_type": "code",
   "execution_count": 14,
   "metadata": {},
   "outputs": [
    {
     "name": "stdout",
     "output_type": "stream",
     "text": [
      "(0, 78)\n",
      "(1, 21)\n",
      "(2, 32)\n",
      "(3, 1)\n",
      "(4, 18)\n",
      "(5, 29)\n",
      "(6, 65)\n",
      "(7, 42)\n",
      "(8, 38)\n",
      "[3, 4, 1, 5, 2, 8, 7, 6, 0]\n"
     ]
    }
   ],
   "source": [
    "L=[78,21,32,1,18,29,65,42,38]\n",
    "for e in enumerate(L):\n",
    "    print(e)\n",
    "s=sorted(enumerate(L),key=lambda x:x[1])\n",
    "p=[x[0] for x in s]\n",
    "print(p)"
   ]
  },
  {
   "cell_type": "code",
   "execution_count": 16,
   "metadata": {},
   "outputs": [
    {
     "data": {
      "text/plain": [
       "[1, 18, 21, 29, 32, 38, 42, 65, 78]"
      ]
     },
     "execution_count": 16,
     "metadata": {},
     "output_type": "execute_result"
    }
   ],
   "source": [
    "[L[x] for x in p]"
   ]
  },
  {
   "cell_type": "code",
   "execution_count": 44,
   "metadata": {},
   "outputs": [
    {
     "name": "stdout",
     "output_type": "stream",
     "text": [
      "<class 'str'>\n",
      "9\n"
     ]
    }
   ],
   "source": [
    "print(type('\\n'))\n",
    "print(ord('\\t'))"
   ]
  },
  {
   "cell_type": "code",
   "execution_count": null,
   "metadata": {},
   "outputs": [],
   "source": []
  }
 ],
 "metadata": {
  "kernelspec": {
   "display_name": "Python 3 (ipykernel)",
   "language": "python",
   "name": "python3"
  },
  "language_info": {
   "codemirror_mode": {
    "name": "ipython",
    "version": 3
   },
   "file_extension": ".py",
   "mimetype": "text/x-python",
   "name": "python",
   "nbconvert_exporter": "python",
   "pygments_lexer": "ipython3",
   "version": "3.9.12"
  }
 },
 "nbformat": 4,
 "nbformat_minor": 4
}
