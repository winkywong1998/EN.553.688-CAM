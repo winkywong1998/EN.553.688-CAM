{
 "cells": [
  {
   "cell_type": "markdown",
   "id": "293695bc-efa4-4f66-872e-df6cbf252645",
   "metadata": {},
   "source": [
    "**Hashability, Mutability, Equality**"
   ]
  },
  {
   "cell_type": "markdown",
   "id": "e65cd575-e8bc-4c63-8f23-327cddf2f9a6",
   "metadata": {},
   "source": [
    "In Python, hashes are used to efficiently store things like lists of keys for a dictionary. Internally, the hash of a key is used to determine where in memory a corresponding value is located and hence searching a dictionary is very fast.\n",
    "\n",
    "There are issues with two items having the same hash, a phenomenon referred to as a *collision*. When collisions occur, it becomes necessary to refine the lookup algorithm. \n",
    "\n",
    "Here is a link to an article about hashing in Python:\n",
    "\n",
    "https://andrewbrookins.com/technology/pythons-default-hash-algorithm/#:~:text=So%2C%20there%20you%20have%20it,that%20should%20prevent%20collision%20attacks.\n",
    "\n",
    "An object can be used as a key in a dictionary as long as it is *hashable.*\n",
    "\n",
    "Immutability implies hashability but the reverse is not true."
   ]
  },
  {
   "cell_type": "code",
   "execution_count": 1,
   "id": "37aa71e8-8dd9-42a4-9f90-fd105b77b26d",
   "metadata": {},
   "outputs": [
    {
     "name": "stdout",
     "output_type": "stream",
     "text": [
      "529344067295497451\n"
     ]
    }
   ],
   "source": [
    "L=(1,2,3)      # immutable object\n",
    "print(hash(L)) # no problem hashing it\n",
    "d={(1,2,3):4}  # can be a dictionary key"
   ]
  },
  {
   "cell_type": "code",
   "execution_count": 63,
   "id": "c61bdc4a-e5d2-42a9-8dc6-01512bbff0d3",
   "metadata": {},
   "outputs": [
    {
     "ename": "TypeError",
     "evalue": "unhashable type: 'list'",
     "output_type": "error",
     "traceback": [
      "\u001b[1;31m---------------------------------------------------------------------------\u001b[0m",
      "\u001b[1;31mTypeError\u001b[0m                                 Traceback (most recent call last)",
      "\u001b[1;32m<ipython-input-63-d4e2498779e0>\u001b[0m in \u001b[0;36m<module>\u001b[1;34m\u001b[0m\n\u001b[0;32m      1\u001b[0m \u001b[0mL\u001b[0m\u001b[1;33m=\u001b[0m\u001b[1;33m[\u001b[0m\u001b[1;34m\"dog\"\u001b[0m\u001b[1;33m,\u001b[0m\u001b[1;34m\"cat\"\u001b[0m\u001b[1;33m,\u001b[0m\u001b[1;34m\"bird\"\u001b[0m\u001b[1;33m]\u001b[0m  \u001b[1;31m# mutable object\u001b[0m\u001b[1;33m\u001b[0m\u001b[1;33m\u001b[0m\u001b[0m\n\u001b[0;32m      2\u001b[0m \u001b[1;31m#print(hash(L))          # problem hashing it\u001b[0m\u001b[1;33m\u001b[0m\u001b[1;33m\u001b[0m\u001b[1;33m\u001b[0m\u001b[0m\n\u001b[1;32m----> 3\u001b[1;33m \u001b[0md\u001b[0m\u001b[1;33m=\u001b[0m\u001b[1;33m{\u001b[0m\u001b[1;33m[\u001b[0m\u001b[1;34m\"dog\"\u001b[0m\u001b[1;33m,\u001b[0m\u001b[1;34m\"cat\"\u001b[0m\u001b[1;33m,\u001b[0m\u001b[1;34m\"bird\"\u001b[0m\u001b[1;33m]\u001b[0m\u001b[1;33m:\u001b[0m\u001b[1;36m4\u001b[0m\u001b[1;33m}\u001b[0m           \u001b[1;31m# can't be a dictionary key\u001b[0m\u001b[1;33m\u001b[0m\u001b[1;33m\u001b[0m\u001b[0m\n\u001b[0m",
      "\u001b[1;31mTypeError\u001b[0m: unhashable type: 'list'"
     ]
    }
   ],
   "source": [
    "L=[\"dog\",\"cat\",\"bird\"]  # mutable object\n",
    "print(hash(L))          # problem hashing it\n",
    "d={[\"dog\",\"cat\",\"bird\"]:4}           # can't be a dictionary key"
   ]
  },
  {
   "cell_type": "markdown",
   "id": "a02a1cd1-59d1-4ede-be4a-4179a580d093",
   "metadata": {},
   "source": [
    "**User-defined objects**\n",
    "\n",
    "A user defined object has a hash method that, by default, uses that objects id to hash it."
   ]
  },
  {
   "cell_type": "markdown",
   "id": "ca8429ab-db92-4f20-8063-f0efcabb4c56",
   "metadata": {},
   "source": [
    "An object can be mutable but still hashable."
   ]
  },
  {
   "cell_type": "code",
   "execution_count": 66,
   "id": "abccea97-01cd-4d81-b322-f87c9122c237",
   "metadata": {},
   "outputs": [
    {
     "name": "stdout",
     "output_type": "stream",
     "text": [
      "140600676334\n"
     ]
    }
   ],
   "source": [
    "class myclass:\n",
    "    def __init__(self,L):\n",
    "        self.L=L\n",
    "u=myclass([13,14])\n",
    "# hash(u.L)\n",
    "u.L.append(15)\n",
    "print(hash(u))"
   ]
  },
  {
   "cell_type": "markdown",
   "id": "e84cf2ce-19ee-46d6-8858-bd6f1aed66c9",
   "metadata": {},
   "source": [
    "So one of these myclass objects can be a dictionary key. "
   ]
  },
  {
   "cell_type": "code",
   "execution_count": 67,
   "id": "f79bc20c-c23d-4d7a-a907-a653018616d3",
   "metadata": {},
   "outputs": [],
   "source": [
    "d={u:1}"
   ]
  },
  {
   "cell_type": "code",
   "execution_count": 48,
   "id": "85bb7527-f764-4138-a261-0c711c66c6d5",
   "metadata": {},
   "outputs": [
    {
     "data": {
      "text/plain": [
       "140599749669"
      ]
     },
     "execution_count": 48,
     "metadata": {},
     "output_type": "execute_result"
    }
   ],
   "source": [
    "hash(u)"
   ]
  },
  {
   "cell_type": "code",
   "execution_count": 68,
   "id": "8938c0bf-f4d2-4a5a-b611-5b02effed336",
   "metadata": {},
   "outputs": [
    {
     "data": {
      "text/plain": [
       "2249610821344"
      ]
     },
     "execution_count": 68,
     "metadata": {},
     "output_type": "execute_result"
    }
   ],
   "source": [
    "id(u)"
   ]
  },
  {
   "cell_type": "markdown",
   "id": "b6902310-3df0-4ebb-9199-1c02e12d0a39",
   "metadata": {},
   "source": [
    "It turns out that, by default, python uses the id of an object in a user-defined class to produce the hash of that object.\n",
    "\n",
    "As a consequence, two objects that look the same can have different hash values."
   ]
  },
  {
   "cell_type": "code",
   "execution_count": 52,
   "id": "5b7beddc-c0d6-4f83-9cd8-1379f7b26270",
   "metadata": {},
   "outputs": [
    {
     "name": "stdout",
     "output_type": "stream",
     "text": [
      "False\n",
      "140600676169\n",
      "140600676286\n"
     ]
    }
   ],
   "source": [
    "class myclass:\n",
    "    def __init__(self,x,y):\n",
    "        self.x=x\n",
    "        self.y=y\n",
    "u=myclass(13,14)\n",
    "v=myclass(13,14)\n",
    "print(u==v)\n",
    "print(hash(u))\n",
    "print(hash(v))"
   ]
  },
  {
   "cell_type": "markdown",
   "id": "e0a27746-35c9-4b46-8098-5fb8e1da45df",
   "metadata": {},
   "source": [
    "We can over-write the default hash function for an object."
   ]
  },
  {
   "cell_type": "code",
   "execution_count": 69,
   "id": "29090f73-ca9d-4d38-b838-17ed683bed8f",
   "metadata": {},
   "outputs": [
    {
     "name": "stdout",
     "output_type": "stream",
     "text": [
      "-7344755619461028191\n",
      "-7344755619461028191\n",
      "False\n"
     ]
    }
   ],
   "source": [
    "class myclass:\n",
    "    def __init__(self,x,y):\n",
    "        self.x=x\n",
    "        self.y=y\n",
    "    def __hash__(self):\n",
    "        return(hash((self.x,self.y)))\n",
    "    \n",
    "u=myclass(13,14)\n",
    "v=myclass(13,14)\n",
    "print(hash(u))\n",
    "print(hash(v))\n",
    "print(u==v)"
   ]
  },
  {
   "cell_type": "markdown",
   "id": "20378c9d-f9d0-4864-8b60-6e5ad620ccbf",
   "metadata": {},
   "source": [
    "And we can over-write the default == operator."
   ]
  },
  {
   "cell_type": "code",
   "execution_count": 60,
   "id": "ebee236a-e3e6-401a-bea3-42f9a99e985c",
   "metadata": {},
   "outputs": [
    {
     "name": "stdout",
     "output_type": "stream",
     "text": [
      "True\n",
      "False\n"
     ]
    }
   ],
   "source": [
    "class myclass:\n",
    "    def __init__(self,x,y):\n",
    "        self.x=x\n",
    "        self.y=y\n",
    "    def __hash__(self):\n",
    "        return(hash((self.x,self.y)))\n",
    "    # method 1 -safer!!!\n",
    "    def __eq__(self,other):\n",
    "        if self.x!=other.x:\n",
    "            return False\n",
    "        if self.y!=other.y:\n",
    "            return False\n",
    "        return True\n",
    "    # method 2\n",
    "    def __eq__(self,other):\n",
    "        return(self.__hash__()==other.__hash__())\n",
    "u=myclass(13,14)\n",
    "v=myclass(13,14)\n",
    "w=myclass(13,15)\n",
    "print(u==v)\n",
    "print(u==w)"
   ]
  },
  {
   "cell_type": "code",
   "execution_count": null,
   "id": "3557dd74-8793-4b74-a51b-ce59e17ab42b",
   "metadata": {},
   "outputs": [],
   "source": [
    "hash(\"dog\")\n",
    "hash((k,l))"
   ]
  },
  {
   "cell_type": "markdown",
   "id": "707b9b37-78ae-48a3-b9f4-49f392ad951d",
   "metadata": {},
   "source": [
    "**Hash flooding attacks**\n",
    "\n",
    "When hashing is used, collisions can lead to poor worst case performance of a lookup algorithm. This has led to systems to become vulnerable to certain *denial of service attacks* in which the attacker sends data to the system that when hashed produces collisions, and then gets the system to do many inefficient lookups. \n",
    "\n",
    "This has led to the production of more secure hashing methods."
   ]
  },
  {
   "cell_type": "code",
   "execution_count": 1,
   "id": "125d795c-0d2b-47b7-9194-a34333eeb55f",
   "metadata": {},
   "outputs": [],
   "source": []
  },
  {
   "cell_type": "code",
   "execution_count": null,
   "id": "ddfdd90b-90d4-4cd8-a247-44c97de797a6",
   "metadata": {},
   "outputs": [],
   "source": []
  }
 ],
 "metadata": {
  "kernelspec": {
   "display_name": "Python 3 (ipykernel)",
   "language": "python",
   "name": "python3"
  },
  "language_info": {
   "codemirror_mode": {
    "name": "ipython",
    "version": 3
   },
   "file_extension": ".py",
   "mimetype": "text/x-python",
   "name": "python",
   "nbconvert_exporter": "python",
   "pygments_lexer": "ipython3",
   "version": "3.9.12"
  }
 },
 "nbformat": 4,
 "nbformat_minor": 5
}
