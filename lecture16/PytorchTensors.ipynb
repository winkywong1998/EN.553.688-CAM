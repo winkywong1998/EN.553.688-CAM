{
 "cells": [
  {
   "cell_type": "markdown",
   "metadata": {},
   "source": [
    "**Pytorch**\n",
    "\n",
    "Pytorch can be especially effective if you have a gpu available, and have cuda installed. This makes it possible to do large-scale matrix calculations e.g. (matrix multiplications) more quickly than if you try to do them on your cpu.\n",
    "\n"
   ]
  },
  {
   "cell_type": "code",
   "execution_count": 1,
   "metadata": {},
   "outputs": [
    {
     "name": "stdout",
     "output_type": "stream",
     "text": [
      "cuda not available\n"
     ]
    },
    {
     "ename": "RuntimeError",
     "evalue": "Found no NVIDIA driver on your system. Please check that you have an NVIDIA GPU and installed a driver from http://www.nvidia.com/Download/index.aspx",
     "output_type": "error",
     "traceback": [
      "\u001b[1;31m---------------------------------------------------------------------------\u001b[0m",
      "\u001b[1;31mRuntimeError\u001b[0m                              Traceback (most recent call last)",
      "Input \u001b[1;32mIn [1]\u001b[0m, in \u001b[0;36m<cell line: 10>\u001b[1;34m()\u001b[0m\n\u001b[0;32m      8\u001b[0m     dev\u001b[38;5;241m=\u001b[39m\u001b[38;5;124m\"\u001b[39m\u001b[38;5;124mcpu\u001b[39m\u001b[38;5;124m\"\u001b[39m\n\u001b[0;32m      9\u001b[0m     \u001b[38;5;28mprint\u001b[39m(\u001b[38;5;124m\"\u001b[39m\u001b[38;5;124mcuda not available\u001b[39m\u001b[38;5;124m\"\u001b[39m)\n\u001b[1;32m---> 10\u001b[0m \u001b[38;5;28mprint\u001b[39m(\u001b[43mtorch\u001b[49m\u001b[38;5;241;43m.\u001b[39;49m\u001b[43mcuda\u001b[49m\u001b[38;5;241;43m.\u001b[39;49m\u001b[43mget_device_name\u001b[49m\u001b[43m(\u001b[49m\u001b[43m)\u001b[49m)\n\u001b[0;32m     11\u001b[0m t \u001b[38;5;241m=\u001b[39m torch\u001b[38;5;241m.\u001b[39mcuda\u001b[38;5;241m.\u001b[39mget_device_properties(\u001b[38;5;241m0\u001b[39m)\u001b[38;5;241m.\u001b[39mtotal_memory\n\u001b[0;32m     12\u001b[0m c \u001b[38;5;241m=\u001b[39m torch\u001b[38;5;241m.\u001b[39mcuda\u001b[38;5;241m.\u001b[39mmemory_reserved(\u001b[38;5;241m0\u001b[39m)\n",
      "File \u001b[1;32m~\\anaconda3\\lib\\site-packages\\torch\\cuda\\__init__.py:329\u001b[0m, in \u001b[0;36mget_device_name\u001b[1;34m(device)\u001b[0m\n\u001b[0;32m    317\u001b[0m \u001b[38;5;28;01mdef\u001b[39;00m \u001b[38;5;21mget_device_name\u001b[39m(device: Optional[_device_t] \u001b[38;5;241m=\u001b[39m \u001b[38;5;28;01mNone\u001b[39;00m) \u001b[38;5;241m-\u001b[39m\u001b[38;5;241m>\u001b[39m \u001b[38;5;28mstr\u001b[39m:\n\u001b[0;32m    318\u001b[0m     \u001b[38;5;124mr\u001b[39m\u001b[38;5;124;03m\"\"\"Gets the name of a device.\u001b[39;00m\n\u001b[0;32m    319\u001b[0m \n\u001b[0;32m    320\u001b[0m \u001b[38;5;124;03m    Args:\u001b[39;00m\n\u001b[1;32m   (...)\u001b[0m\n\u001b[0;32m    327\u001b[0m \u001b[38;5;124;03m        str: the name of the device\u001b[39;00m\n\u001b[0;32m    328\u001b[0m \u001b[38;5;124;03m    \"\"\"\u001b[39;00m\n\u001b[1;32m--> 329\u001b[0m     \u001b[38;5;28;01mreturn\u001b[39;00m \u001b[43mget_device_properties\u001b[49m\u001b[43m(\u001b[49m\u001b[43mdevice\u001b[49m\u001b[43m)\u001b[49m\u001b[38;5;241m.\u001b[39mname\n",
      "File \u001b[1;32m~\\anaconda3\\lib\\site-packages\\torch\\cuda\\__init__.py:359\u001b[0m, in \u001b[0;36mget_device_properties\u001b[1;34m(device)\u001b[0m\n\u001b[0;32m    349\u001b[0m \u001b[38;5;28;01mdef\u001b[39;00m \u001b[38;5;21mget_device_properties\u001b[39m(device: _device_t) \u001b[38;5;241m-\u001b[39m\u001b[38;5;241m>\u001b[39m _CudaDeviceProperties:\n\u001b[0;32m    350\u001b[0m     \u001b[38;5;124mr\u001b[39m\u001b[38;5;124;03m\"\"\"Gets the properties of a device.\u001b[39;00m\n\u001b[0;32m    351\u001b[0m \n\u001b[0;32m    352\u001b[0m \u001b[38;5;124;03m    Args:\u001b[39;00m\n\u001b[1;32m   (...)\u001b[0m\n\u001b[0;32m    357\u001b[0m \u001b[38;5;124;03m        _CudaDeviceProperties: the properties of the device\u001b[39;00m\n\u001b[0;32m    358\u001b[0m \u001b[38;5;124;03m    \"\"\"\u001b[39;00m\n\u001b[1;32m--> 359\u001b[0m     \u001b[43m_lazy_init\u001b[49m\u001b[43m(\u001b[49m\u001b[43m)\u001b[49m  \u001b[38;5;66;03m# will define _get_device_properties\u001b[39;00m\n\u001b[0;32m    360\u001b[0m     device \u001b[38;5;241m=\u001b[39m _get_device_index(device, optional\u001b[38;5;241m=\u001b[39m\u001b[38;5;28;01mTrue\u001b[39;00m)\n\u001b[0;32m    361\u001b[0m     \u001b[38;5;28;01mif\u001b[39;00m device \u001b[38;5;241m<\u001b[39m \u001b[38;5;241m0\u001b[39m \u001b[38;5;129;01mor\u001b[39;00m device \u001b[38;5;241m>\u001b[39m\u001b[38;5;241m=\u001b[39m device_count():\n",
      "File \u001b[1;32m~\\anaconda3\\lib\\site-packages\\torch\\cuda\\__init__.py:217\u001b[0m, in \u001b[0;36m_lazy_init\u001b[1;34m()\u001b[0m\n\u001b[0;32m    213\u001b[0m     \u001b[38;5;28;01mraise\u001b[39;00m \u001b[38;5;167;01mAssertionError\u001b[39;00m(\n\u001b[0;32m    214\u001b[0m         \u001b[38;5;124m\"\u001b[39m\u001b[38;5;124mlibcudart functions unavailable. It looks like you have a broken build?\u001b[39m\u001b[38;5;124m\"\u001b[39m)\n\u001b[0;32m    215\u001b[0m \u001b[38;5;66;03m# This function throws if there's a driver initialization error, no GPUs\u001b[39;00m\n\u001b[0;32m    216\u001b[0m \u001b[38;5;66;03m# are found or any other error occurs\u001b[39;00m\n\u001b[1;32m--> 217\u001b[0m \u001b[43mtorch\u001b[49m\u001b[38;5;241;43m.\u001b[39;49m\u001b[43m_C\u001b[49m\u001b[38;5;241;43m.\u001b[39;49m\u001b[43m_cuda_init\u001b[49m\u001b[43m(\u001b[49m\u001b[43m)\u001b[49m\n\u001b[0;32m    218\u001b[0m \u001b[38;5;66;03m# Some of the queued calls may reentrantly call _lazy_init();\u001b[39;00m\n\u001b[0;32m    219\u001b[0m \u001b[38;5;66;03m# we need to just return without initializing in that case.\u001b[39;00m\n\u001b[0;32m    220\u001b[0m \u001b[38;5;66;03m# However, we must not let any *other* threads in!\u001b[39;00m\n\u001b[0;32m    221\u001b[0m _tls\u001b[38;5;241m.\u001b[39mis_initializing \u001b[38;5;241m=\u001b[39m \u001b[38;5;28;01mTrue\u001b[39;00m\n",
      "\u001b[1;31mRuntimeError\u001b[0m: Found no NVIDIA driver on your system. Please check that you have an NVIDIA GPU and installed a driver from http://www.nvidia.com/Download/index.aspx"
     ]
    }
   ],
   "source": [
    "import torch\n",
    "import numpy as np\n",
    "\n",
    "if torch.cuda.is_available():\n",
    "    dev=\"cuda:0\"\n",
    "    print(\"cuda available\")\n",
    "else:\n",
    "    dev=\"cpu\"\n",
    "    print(\"cuda not available\")\n",
    "print(torch.cuda.get_device_name())\n",
    "t = torch.cuda.get_device_properties(0).total_memory\n",
    "c = torch.cuda.memory_reserved(0)\n",
    "a = torch.cuda.memory_allocated(0)\n",
    "print(t)\n",
    "print(c)\n",
    "print(a)"
   ]
  },
  {
   "cell_type": "markdown",
   "metadata": {},
   "source": [
    "**Tensors**\n",
    "\n",
    "In Pytorch, tensors are basic objects to work with. They are basically multidimensional arrays."
   ]
  },
  {
   "cell_type": "code",
   "execution_count": 2,
   "metadata": {},
   "outputs": [
    {
     "name": "stdout",
     "output_type": "stream",
     "text": [
      "tensor([[1., 2., 3.],\n",
      "        [4., 5., 6.]])\n",
      "torch.Size([2, 3])\n",
      "tensor([[[ 1.,  2.,  3.],\n",
      "         [ 4.,  5.,  6.]],\n",
      "\n",
      "        [[ 7.,  8.,  9.],\n",
      "         [10., 11., 12.]]])\n",
      "torch.Size([2, 2, 3])\n",
      "tensor(4.)\n"
     ]
    }
   ],
   "source": [
    "T=torch.tensor([[1.,2.,3.],[4.,5.,6.]])\n",
    "print(T)\n",
    "print(T.size())\n",
    "\n",
    "T=torch.tensor([[[1.,2.,3.],[4.,5.,6.]],[[7.,8.,9.],[10.,11.,12.]]])\n",
    "print(T)\n",
    "print(T.size())\n",
    "\n",
    "print(T[0,1,0])"
   ]
  },
  {
   "cell_type": "markdown",
   "metadata": {},
   "source": [
    "**Basic tensor vector operations**\n",
    "\n",
    "We can add tensors."
   ]
  },
  {
   "cell_type": "code",
   "execution_count": 5,
   "metadata": {},
   "outputs": [
    {
     "name": "stdout",
     "output_type": "stream",
     "text": [
      "tensor([[[6., 7.],\n",
      "         [9., 3.]],\n",
      "\n",
      "        [[8., 9.],\n",
      "         [6., 4.]],\n",
      "\n",
      "        [[5., 7.],\n",
      "         [9., 5.]]], dtype=torch.float64)\n",
      "torch.Size([3, 2, 2])\n",
      "tensor([[[8., 0.],\n",
      "         [9., 0.]],\n",
      "\n",
      "        [[0., 0.],\n",
      "         [8., 3.]],\n",
      "\n",
      "        [[7., 3.],\n",
      "         [4., 8.]]], dtype=torch.float64)\n",
      "torch.Size([3, 2, 2])\n",
      "tensor([[[14.,  7.],\n",
      "         [18.,  3.]],\n",
      "\n",
      "        [[ 8.,  9.],\n",
      "         [14.,  7.]],\n",
      "\n",
      "        [[12., 10.],\n",
      "         [13., 13.]]], dtype=torch.float64)\n"
     ]
    }
   ],
   "source": [
    "import numpy as np\n",
    "L1=np.random.choice([float(i) for i in range(10)],size=(3,2,2))\n",
    "T1=torch.tensor(L1)\n",
    "\n",
    "L2=np.random.choice([float(i) for i in range(10)],size=(3,2,2))\n",
    "T2=torch.tensor(L2)\n",
    "\n",
    "print(T1)\n",
    "print(T1.size())\n",
    "\n",
    "print(T2)\n",
    "print(T2.size())\n",
    "\n",
    "T3=T1+T2\n",
    "print(T3)"
   ]
  },
  {
   "cell_type": "markdown",
   "metadata": {},
   "source": [
    "We can peform scalar multiplication"
   ]
  },
  {
   "cell_type": "code",
   "execution_count": 6,
   "metadata": {},
   "outputs": [
    {
     "name": "stdout",
     "output_type": "stream",
     "text": [
      "tensor([[[6., 5.],\n",
      "         [6., 9.]],\n",
      "\n",
      "        [[3., 1.],\n",
      "         [4., 7.]],\n",
      "\n",
      "        [[2., 1.],\n",
      "         [4., 5.]]], dtype=torch.float64)\n",
      "tensor([[[30., 25.],\n",
      "         [30., 45.]],\n",
      "\n",
      "        [[15.,  5.],\n",
      "         [20., 35.]],\n",
      "\n",
      "        [[10.,  5.],\n",
      "         [20., 25.]]], dtype=torch.float64)\n"
     ]
    }
   ],
   "source": [
    "L1=np.random.choice([float(i) for i in range(10)],size=(3,2,2))\n",
    "T1=torch.tensor(L1)\n",
    "print(T1)\n",
    "T2=5.*T1\n",
    "print(T2)"
   ]
  },
  {
   "cell_type": "markdown",
   "metadata": {},
   "source": [
    "**Coordinatewise multiplication**"
   ]
  },
  {
   "cell_type": "code",
   "execution_count": 7,
   "metadata": {},
   "outputs": [
    {
     "name": "stdout",
     "output_type": "stream",
     "text": [
      "tensor([[[3., 6.],\n",
      "         [7., 4.]],\n",
      "\n",
      "        [[3., 9.],\n",
      "         [4., 3.]],\n",
      "\n",
      "        [[7., 7.],\n",
      "         [4., 6.]]], dtype=torch.float64)\n",
      "tensor([[[5., 4.],\n",
      "         [0., 5.]],\n",
      "\n",
      "        [[1., 3.],\n",
      "         [5., 5.]],\n",
      "\n",
      "        [[4., 1.],\n",
      "         [5., 9.]]], dtype=torch.float64)\n",
      "tensor([[[15., 24.],\n",
      "         [ 0., 20.]],\n",
      "\n",
      "        [[ 3., 27.],\n",
      "         [20., 15.]],\n",
      "\n",
      "        [[28.,  7.],\n",
      "         [20., 54.]]], dtype=torch.float64)\n"
     ]
    }
   ],
   "source": [
    "L1=np.random.choice([float(i) for i in range(10)],size=(3,2,2))\n",
    "T1=torch.tensor(L1)\n",
    "print(T1)\n",
    "L2=np.random.choice([float(i) for i in range(10)],size=(3,2,2))\n",
    "T2=torch.tensor(L2)\n",
    "print(T2)\n",
    "\n",
    "T3=T1*T2\n",
    "print(T3)"
   ]
  },
  {
   "cell_type": "markdown",
   "metadata": {},
   "source": [
    "**Matrix multiplication**\n",
    "\n",
    "A matrix is a 2-d tensor, and mm is used for matrix multiplication."
   ]
  },
  {
   "cell_type": "code",
   "execution_count": 8,
   "metadata": {},
   "outputs": [
    {
     "name": "stdout",
     "output_type": "stream",
     "text": [
      "tensor([[9., 4.],\n",
      "        [7., 3.],\n",
      "        [0., 5.]], dtype=torch.float64)\n",
      "tensor([[6., 0., 2., 3.],\n",
      "        [1., 4., 7., 7.]], dtype=torch.float64)\n",
      "tensor([[58., 16., 46., 55.],\n",
      "        [45., 12., 35., 42.],\n",
      "        [ 5., 20., 35., 35.]], dtype=torch.float64)\n"
     ]
    }
   ],
   "source": [
    "L1=np.random.choice([float(i) for i in range(10)],size=(3,2))\n",
    "T1=torch.tensor(L1)\n",
    "print(T1)\n",
    "L2=np.random.choice([float(i) for i in range(10)],size=(2,4))\n",
    "T2=torch.tensor(L2)\n",
    "print(T2)\n",
    "\n",
    "T3=torch.mm(T1,T2)\n",
    "print(T3)"
   ]
  },
  {
   "cell_type": "markdown",
   "metadata": {},
   "source": [
    "**Batch matrix multiplication**\n",
    "\n",
    "Batch matrix multiplication refers to matrix multiplicaton of two \"batches\" of matrices.\n",
    "\n",
    "A batch of K  MxN matrices is a tensor that is K x M x N.\n",
    "\n",
    "We can batch multiply by another batch, which would be a K x N x P tensor."
   ]
  },
  {
   "cell_type": "code",
   "execution_count": 15,
   "metadata": {},
   "outputs": [
    {
     "name": "stdout",
     "output_type": "stream",
     "text": [
      "tensor([[[4., 3.],\n",
      "         [1., 3.],\n",
      "         [5., 9.]],\n",
      "\n",
      "        [[0., 9.],\n",
      "         [3., 5.],\n",
      "         [1., 8.]],\n",
      "\n",
      "        [[6., 0.],\n",
      "         [6., 9.],\n",
      "         [5., 8.]],\n",
      "\n",
      "        [[0., 8.],\n",
      "         [3., 0.],\n",
      "         [8., 4.]],\n",
      "\n",
      "        [[2., 0.],\n",
      "         [2., 7.],\n",
      "         [2., 9.]]], dtype=torch.float64)\n",
      "tensor([[[1., 0., 1., 8.],\n",
      "         [1., 8., 0., 4.]],\n",
      "\n",
      "        [[2., 0., 4., 4.],\n",
      "         [0., 6., 9., 9.]],\n",
      "\n",
      "        [[0., 1., 0., 6.],\n",
      "         [5., 2., 5., 3.]],\n",
      "\n",
      "        [[6., 8., 9., 8.],\n",
      "         [8., 6., 7., 2.]],\n",
      "\n",
      "        [[2., 1., 1., 3.],\n",
      "         [5., 2., 7., 3.]]], dtype=torch.float64)\n",
      "tensor([[[  7.,  24.,   4.,  44.],\n",
      "         [  4.,  24.,   1.,  20.],\n",
      "         [ 14.,  72.,   5.,  76.]],\n",
      "\n",
      "        [[  0.,  54.,  81.,  81.],\n",
      "         [  6.,  30.,  57.,  57.],\n",
      "         [  2.,  48.,  76.,  76.]],\n",
      "\n",
      "        [[  0.,   6.,   0.,  36.],\n",
      "         [ 45.,  24.,  45.,  63.],\n",
      "         [ 40.,  21.,  40.,  54.]],\n",
      "\n",
      "        [[ 64.,  48.,  56.,  16.],\n",
      "         [ 18.,  24.,  27.,  24.],\n",
      "         [ 80.,  88., 100.,  72.]],\n",
      "\n",
      "        [[  4.,   2.,   2.,   6.],\n",
      "         [ 39.,  16.,  51.,  27.],\n",
      "         [ 49.,  20.,  65.,  33.]]], dtype=torch.float64)\n"
     ]
    }
   ],
   "source": [
    "L1=np.random.choice([float(i) for i in range(10)],size=(5,3,2))\n",
    "T1=torch.tensor(L1)\n",
    "print(T1)\n",
    "L2=np.random.choice([float(i) for i in range(10)],size=(5,2,4))\n",
    "T2=torch.tensor(L2)\n",
    "print(T2)\n",
    "\n",
    "T3=torch.bmm(T1,T2)\n",
    "print(T3)"
   ]
  },
  {
   "cell_type": "markdown",
   "metadata": {},
   "source": [
    "**matmul**\n",
    "\n",
    "matmul allows for more general matrix products."
   ]
  },
  {
   "cell_type": "code",
   "execution_count": 9,
   "metadata": {},
   "outputs": [
    {
     "name": "stdout",
     "output_type": "stream",
     "text": [
      "torch.Size([5, 3, 4])\n",
      "torch.Size([10, 5, 3, 2, 10])\n"
     ]
    }
   ],
   "source": [
    "L1=np.random.choice([float(i) for i in range(10)],size=(5,3,2))\n",
    "T1=torch.tensor(L1)\n",
    "L2=np.random.choice([float(i) for i in range(10)],size=(5,2,4))\n",
    "T2=torch.tensor(L2)\n",
    "T3=torch.matmul(T1,T2)\n",
    "print(T3.size())\n",
    "\n",
    "L1=np.random.choice([float(i) for i in range(10)],size=(10,5,3,2,4))\n",
    "T1=torch.tensor(L1)\n",
    "L2=np.random.choice([float(i) for i in range(10)],size=(4,10))\n",
    "T2=torch.tensor(L2)\n",
    "\n",
    "T3=torch.matmul(T1,T2)\n",
    "print(T3.size())"
   ]
  },
  {
   "cell_type": "markdown",
   "metadata": {},
   "source": [
    "We can do some timings to see the advantages of doing calculations on the gpu."
   ]
  },
  {
   "cell_type": "code",
   "execution_count": 17,
   "metadata": {},
   "outputs": [
    {
     "name": "stdout",
     "output_type": "stream",
     "text": [
      "0.6701779365539551\n",
      "0.0\n"
     ]
    }
   ],
   "source": [
    "import time\n",
    "import torch\n",
    "import numpy as np\n",
    "\n",
    "K=2500\n",
    "L=10000\n",
    "M=1000\n",
    "\n",
    "X=np.random.normal(0,1,(K,L))\n",
    "Y=np.random.normal(0,1,(L,M))\n",
    "\n",
    "start_time=time.time()\n",
    "np.matmul(X,Y)\n",
    "end_time=time.time()\n",
    "print(end_time-start_time)\n",
    "\n",
    "XT=torch.tensor(X)\n",
    "YT=torch.tensor(Y)\n",
    "\n",
    "XG=XT.to(dev)\n",
    "YG=YT.to(dev)\n",
    "\n",
    "start_time=time.time()\n",
    "ZG=torch.matmul(XG,YG)\n",
    "end_time=time.time()\n",
    "print(end_time-start_time)"
   ]
  },
  {
   "cell_type": "markdown",
   "metadata": {},
   "source": [
    "**Outer product**"
   ]
  },
  {
   "cell_type": "code",
   "execution_count": 89,
   "metadata": {},
   "outputs": [
    {
     "name": "stdout",
     "output_type": "stream",
     "text": [
      "tensor([1, 2, 3])\n",
      "tensor([1, 2])\n",
      "tensor([[1, 2],\n",
      "        [2, 4],\n",
      "        [3, 6]])\n"
     ]
    }
   ],
   "source": [
    "v1 = torch.arange(1, 4)    # Size 3\n",
    "v2 = torch.arange(1, 3)    # Size 2\n",
    "r = torch.ger(v1, v2)\n",
    "print(v1)\n",
    "print(v2)\n",
    "print(r)"
   ]
  },
  {
   "cell_type": "code",
   "execution_count": null,
   "metadata": {},
   "outputs": [],
   "source": []
  }
 ],
 "metadata": {
  "kernelspec": {
   "display_name": "Python 3 (ipykernel)",
   "language": "python",
   "name": "python3"
  },
  "language_info": {
   "codemirror_mode": {
    "name": "ipython",
    "version": 3
   },
   "file_extension": ".py",
   "mimetype": "text/x-python",
   "name": "python",
   "nbconvert_exporter": "python",
   "pygments_lexer": "ipython3",
   "version": "3.9.12"
  }
 },
 "nbformat": 4,
 "nbformat_minor": 4
}
