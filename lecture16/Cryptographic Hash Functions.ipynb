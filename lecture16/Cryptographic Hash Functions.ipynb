{
 "cells": [
  {
   "cell_type": "markdown",
   "metadata": {},
   "source": [
    "**Cryptographic Hash Functions**\n",
    "\n",
    "Understanding how cryptocurrencies work requires some understanding of cryptographic hash functions.\n",
    "\n",
    "A cryptographic hash function is a function that takes as input a byte string of any size, and returns a string (the hash/digest) of some fixed number of bytes in size. \n",
    "\n",
    "The following properties are sought for such a function:\n",
    "\n",
    "1) for a given input the output is always the same (the function is deterministic),\n",
    "\n",
    "2) the function can be computed quickly,\n",
    "\n",
    "3) it would be impractical to reverse the process and find the input for a given output,\n",
    "\n",
    "4) similar inputs tend to produce dramatically different outputs.\n",
    "\n",
    "Practically speaking the hash of any byte string _appears to be random_."
   ]
  },
  {
   "cell_type": "markdown",
   "metadata": {},
   "source": [
    "**Hash functions in Python**\n",
    "\n",
    "A very popular hash function is SHA-256. This gives 256 bits (32 bytes of output).\n",
    "\n",
    "In the example below, we create a bytes object and compute the SHA-256 digest from it. \n",
    "\n",
    "The output is another bytes object. In the code below, we print out this in hexadecimal."
   ]
  },
  {
   "cell_type": "code",
   "execution_count": 30,
   "metadata": {},
   "outputs": [
    {
     "name": "stdout",
     "output_type": "stream",
     "text": [
      "b'this is a test'\n",
      "type for bs = <class 'bytes'>\n",
      "\n",
      "type for d = <class 'bytes'>\n",
      "digest of string = \n",
      "b'.\\x99u\\x85H\\x97*\\x8e\\x88\"\\xadG\\xfa\\x10\\x17\\xffr\\xf0o?\\xf6\\xa0\\x16\\x85\\x1fE\\xc3\\x98s+\\xc5\\x0c'\n",
      "hexadecimal version = 2e99758548972a8e8822ad47fa1017ff72f06f3ff6a016851f45c398732bc50c\n",
      "\n",
      "32\n"
     ]
    }
   ],
   "source": [
    "import hashlib \n",
    "\n",
    "m = hashlib.sha256()\n",
    "\n",
    "bs=b'this is a test'\n",
    "print(bs)\n",
    "print(\"type for bs = \" + str(type(bs))+\"\\n\")\n",
    "\n",
    "m.update(bs)\n",
    "d=m.digest()\n",
    "print(\"type for d = \" + str(type(d)))\n",
    "print(\"digest of string = \")\n",
    "print(d)\n",
    "print(\"hexadecimal version = \" + d.hex()+\"\\n\")\n",
    "print(len(d)) # number of bytes = number of bits/8"
   ]
  },
  {
   "cell_type": "markdown",
   "metadata": {},
   "source": [
    "The update method concatenates the input strings.\n",
    "\n",
    "Observe that in the example below, the hash obtained by concatenating strings has the same hash as the one above. "
   ]
  },
  {
   "cell_type": "code",
   "execution_count": 31,
   "metadata": {},
   "outputs": [
    {
     "name": "stdout",
     "output_type": "stream",
     "text": [
      "14\n",
      "\n",
      "b'this is'\n",
      "b' a test'\n",
      "42b57632c93fb87d5f6de87d299eeda64dadbb61376eb196bce5c58cefaac594\n",
      "2e99758548972a8e8822ad47fa1017ff72f06f3ff6a016851f45c398732bc50c\n"
     ]
    }
   ],
   "source": [
    "import hashlib \n",
    "m = hashlib.sha256()\n",
    "\n",
    "bs=b'this is a test'\n",
    "print(str(len(bs))+\"\\n\")\n",
    "\n",
    "bs1=bs[0:7]\n",
    "bs2=bs[7:14]\n",
    "print(bs1)\n",
    "print(bs2)\n",
    "m.update(bs1)\n",
    "print(m.digest().hex())\n",
    "m.update(bs2)\n",
    "print(m.digest().hex())\n"
   ]
  },
  {
   "cell_type": "markdown",
   "metadata": {},
   "source": [
    "So we can compute the hash by digesting one character at a time.\n",
    "\n",
    "To get a sense of how fast this digest can be updated, we can do some timings."
   ]
  },
  {
   "cell_type": "code",
   "execution_count": 32,
   "metadata": {},
   "outputs": [
    {
     "name": "stdout",
     "output_type": "stream",
     "text": [
      "7.96875\n",
      "8.015625\n",
      "0.046875\n"
     ]
    }
   ],
   "source": [
    "import hashlib \n",
    "import time\n",
    "import numpy as np\n",
    "\n",
    "m = hashlib.sha256()\n",
    "\n",
    "bs=b''\n",
    "N=100000\n",
    "#\n",
    "# time to generate and encode N char's to binary\n",
    "#\n",
    "np.random.seed(12131)\n",
    "start_time=time.process_time()\n",
    "for i in range(N):\n",
    "    c= chr(np.random.choice(range(256))).encode()\n",
    "end_time=time.process_time()\n",
    "time_to_generate=end_time-start_time\n",
    "print(time_to_generate)\n",
    "\n",
    "#\n",
    "# time to generate and encode N char's to binary and do hash update\n",
    "#\n",
    "np.random.seed(12131)\n",
    "start_time=time.process_time()\n",
    "for i in range(N):\n",
    "    c= chr(np.random.choice(range(256))).encode()\n",
    "    m.update(c)\n",
    "end_time=time.process_time()\n",
    "time_to_generate_and_hash=end_time-start_time\n",
    "print(time_to_generate_and_hash)\n",
    "time_to_hash=time_to_generate_and_hash-time_to_generate\n",
    "print(time_to_hash)\n"
   ]
  },
  {
   "cell_type": "markdown",
   "metadata": {},
   "source": [
    "The complete gory details about the SHA-256 algorithm can be found here.\n",
    "\n",
    "https://csrc.nist.gov/csrc/media/publications/fips/180/4/final/documents/fips180-4-draft-aug2014.pdf"
   ]
  },
  {
   "cell_type": "markdown",
   "metadata": {},
   "source": [
    "**There are online SHA-256 calculators**\n",
    "\n",
    "\n",
    "https://emn178.github.io/online-tools/sha256.html"
   ]
  },
  {
   "cell_type": "code",
   "execution_count": null,
   "metadata": {},
   "outputs": [],
   "source": []
  }
 ],
 "metadata": {
  "kernelspec": {
   "display_name": "Python 3 (ipykernel)",
   "language": "python",
   "name": "python3"
  },
  "language_info": {
   "codemirror_mode": {
    "name": "ipython",
    "version": 3
   },
   "file_extension": ".py",
   "mimetype": "text/x-python",
   "name": "python",
   "nbconvert_exporter": "python",
   "pygments_lexer": "ipython3",
   "version": "3.9.12"
  }
 },
 "nbformat": 4,
 "nbformat_minor": 4
}
