{
 "cells": [
  {
   "cell_type": "markdown",
   "metadata": {},
   "source": [
    "**Struct Package**\n",
    "\n",
    "Using binary files can be extremely powerful. In Python we can store huge amounts of data for fast retrieval if our data consists of a sequence of records all consisting of the same structure (hence same number of bytes per record).\n",
    "\n",
    "Here is a link to info about the struct package from the python reference manual.\n",
    "\n",
    "https://docs.python.org/3/library/struct.html"
   ]
  },
  {
   "cell_type": "markdown",
   "metadata": {},
   "source": [
    "**Sample Application**\n",
    "\n",
    "To motivate the use of structs, consider the following situation.\n",
    "\n",
    "The Fannie-Mae single family mortgage performance dataset consists of a .csv file for loand originating in every quarter since the year 2000.\n",
    "\n",
    "Each quarter there are between 250,000 - 1,500,000 loans originating in that quarter.\n",
    "\n",
    "In the csv file, for each loan there is \n",
    "\n",
    "- a first line giving information available at the time the loan was originated\n",
    "- a series of lines, one for each month about payments made on the loan and additional information about\n",
    "    - whether default occured\n",
    "    - whether refinancing occured\n",
    "    - whethe the loan was prepayed\n",
    "\n",
    "The entire dataset take up about 650Gb of disk space. Each file can be a gigabyte or 2 in size.\n",
    "\n",
    "These are all text files. Reading one into Python for analysis is very slow.\n",
    "\n",
    "We'd like to be able to get the information for a given loan quickly. \n",
    "\n",
    "So we do the following.\n",
    "\n",
    "We determine the size of each column/field needed to store the information in that column in bytes.\n",
    "\n",
    "Each row requires 480 bytes. The information about the fields is stored in a file \"variables_in_binary_files.csv\".\n",
    "\n",
    "For each .csv file, we create a binary file with the data for each row in the csv file.\n",
    "\n",
    "We also store in a separate file e.g. \"2002Q3LIDinfo.csv\" for each quarter the range of rows in which each loan ID appears."
   ]
  },
  {
   "cell_type": "markdown",
   "metadata": {},
   "source": [
    "**Sample calculation**\n",
    "\n",
    "Here is an example of how we can use these file to do quick data analysis. We want to get information about a loan in the first line of a given quarter. We illustrate with 2003 3rd quarter. "
   ]
  },
  {
   "cell_type": "code",
   "execution_count": 58,
   "metadata": {},
   "outputs": [
    {
     "name": "stdout",
     "output_type": "stream",
     "text": [
      "150306578935\n",
      "1846680\n",
      "59\n"
     ]
    }
   ],
   "source": [
    "import pandas as pd\n",
    "df=pd.read_csv(\"2002Q3LIDinfo.csv\",header=None)\n",
    "df.columns=[\"LID\",\"start\",\"nrows\"]\n",
    "\n",
    "index=41894\n",
    "\n",
    "LID=df.LID[index]\n",
    "start=df.start[index]\n",
    "nrows=df.nrows[index]\n",
    "\n",
    "print(LID)\n",
    "print(start)\n",
    "print(nrows)"
   ]
  },
  {
   "cell_type": "code",
   "execution_count": 59,
   "metadata": {},
   "outputs": [
    {
     "name": "stdout",
     "output_type": "stream",
     "text": [
      "b'150306578935082002B                                               Bank Of America, N.A.                                             Bank Of America, N.A. 6.875 6.875 146000.00      0.00360052002072002  235835806203285 85 235728737NPSF1PNJ1210008212.00FRMN       00                                                N                                                                                                                                                   1N          N N N   '\n"
     ]
    }
   ],
   "source": [
    "with open(\"2002Q3.bin\",\"rb\") as fin:\n",
    "    fin.seek(start*480)\n",
    "    row=fin.read(480)\n",
    "    print(row)"
   ]
  },
  {
   "cell_type": "markdown",
   "metadata": {},
   "source": [
    "**Extract the data for a row**\n",
    "\n",
    "And now we want to extract information in a given row. For example, suppose we want the current interest rate."
   ]
  },
  {
   "cell_type": "code",
   "execution_count": 61,
   "metadata": {},
   "outputs": [
    {
     "data": {
      "text/html": [
       "<div>\n",
       "<style scoped>\n",
       "    .dataframe tbody tr th:only-of-type {\n",
       "        vertical-align: middle;\n",
       "    }\n",
       "\n",
       "    .dataframe tbody tr th {\n",
       "        vertical-align: top;\n",
       "    }\n",
       "\n",
       "    .dataframe thead th {\n",
       "        text-align: right;\n",
       "    }\n",
       "</style>\n",
       "<table border=\"1\" class=\"dataframe\">\n",
       "  <thead>\n",
       "    <tr style=\"text-align: right;\">\n",
       "      <th></th>\n",
       "      <th>varname</th>\n",
       "      <th>nchars</th>\n",
       "      <th>field_start</th>\n",
       "      <th>field_end</th>\n",
       "    </tr>\n",
       "  </thead>\n",
       "  <tbody>\n",
       "    <tr>\n",
       "      <th>0</th>\n",
       "      <td>LOAN_ID</td>\n",
       "      <td>12</td>\n",
       "      <td>0</td>\n",
       "      <td>12</td>\n",
       "    </tr>\n",
       "    <tr>\n",
       "      <th>1</th>\n",
       "      <td>MONTHLY_REPORTING_PERIOD</td>\n",
       "      <td>6</td>\n",
       "      <td>12</td>\n",
       "      <td>18</td>\n",
       "    </tr>\n",
       "    <tr>\n",
       "      <th>2</th>\n",
       "      <td>CHANNEL</td>\n",
       "      <td>1</td>\n",
       "      <td>18</td>\n",
       "      <td>19</td>\n",
       "    </tr>\n",
       "    <tr>\n",
       "      <th>3</th>\n",
       "      <td>SELLER_NAME</td>\n",
       "      <td>68</td>\n",
       "      <td>19</td>\n",
       "      <td>87</td>\n",
       "    </tr>\n",
       "    <tr>\n",
       "      <th>4</th>\n",
       "      <td>SERVICER_NAME</td>\n",
       "      <td>66</td>\n",
       "      <td>87</td>\n",
       "      <td>153</td>\n",
       "    </tr>\n",
       "    <tr>\n",
       "      <th>...</th>\n",
       "      <td>...</td>\n",
       "      <td>...</td>\n",
       "      <td>...</td>\n",
       "      <td>...</td>\n",
       "    </tr>\n",
       "    <tr>\n",
       "      <th>63</th>\n",
       "      <td>BORROWER_ASSISTANCE_PLAN</td>\n",
       "      <td>1</td>\n",
       "      <td>475</td>\n",
       "      <td>476</td>\n",
       "    </tr>\n",
       "    <tr>\n",
       "      <th>64</th>\n",
       "      <td>HLTV</td>\n",
       "      <td>1</td>\n",
       "      <td>476</td>\n",
       "      <td>477</td>\n",
       "    </tr>\n",
       "    <tr>\n",
       "      <th>65</th>\n",
       "      <td>REPURCHASE_MAKE_WHOLE_PROC_FLAG_I</td>\n",
       "      <td>1</td>\n",
       "      <td>477</td>\n",
       "      <td>478</td>\n",
       "    </tr>\n",
       "    <tr>\n",
       "      <th>66</th>\n",
       "      <td>ALTERNATIVE_DELINQUENCY_RESOLUTION</td>\n",
       "      <td>1</td>\n",
       "      <td>478</td>\n",
       "      <td>479</td>\n",
       "    </tr>\n",
       "    <tr>\n",
       "      <th>67</th>\n",
       "      <td>ALTERNATIVE_DELINQUENCY_RESOLUTION_COUNT</td>\n",
       "      <td>1</td>\n",
       "      <td>479</td>\n",
       "      <td>480</td>\n",
       "    </tr>\n",
       "  </tbody>\n",
       "</table>\n",
       "<p>68 rows × 4 columns</p>\n",
       "</div>"
      ],
      "text/plain": [
       "                                     varname  nchars  field_start  field_end\n",
       "0                                    LOAN_ID      12            0         12\n",
       "1                   MONTHLY_REPORTING_PERIOD       6           12         18\n",
       "2                                    CHANNEL       1           18         19\n",
       "3                                SELLER_NAME      68           19         87\n",
       "4                              SERVICER_NAME      66           87        153\n",
       "..                                       ...     ...          ...        ...\n",
       "63                  BORROWER_ASSISTANCE_PLAN       1          475        476\n",
       "64                                      HLTV       1          476        477\n",
       "65         REPURCHASE_MAKE_WHOLE_PROC_FLAG_I       1          477        478\n",
       "66        ALTERNATIVE_DELINQUENCY_RESOLUTION       1          478        479\n",
       "67  ALTERNATIVE_DELINQUENCY_RESOLUTION_COUNT       1          479        480\n",
       "\n",
       "[68 rows x 4 columns]"
      ]
     },
     "execution_count": 61,
     "metadata": {},
     "output_type": "execute_result"
    }
   ],
   "source": [
    "dv=pd.read_csv(\"variables_in_binary_files.csv\")\n",
    "dv"
   ]
  },
  {
   "cell_type": "code",
   "execution_count": 63,
   "metadata": {},
   "outputs": [
    {
     "data": {
      "text/plain": [
       "6.875"
      ]
     },
     "execution_count": 63,
     "metadata": {},
     "output_type": "execute_result"
    }
   ],
   "source": [
    "# print(dv.columns)\n",
    "# print(dv.varname[6])\n",
    "# print(dv.nchars[6])\n",
    "# print(dv.field_start[6])\n",
    "\n",
    "row[dv.field_start[6]:dv.field_end[6]]"
   ]
  },
  {
   "cell_type": "markdown",
   "metadata": {},
   "source": [
    "Note that the result is a byte string. \n",
    "\n",
    "We can do this to get a floating point value in some cases."
   ]
  },
  {
   "cell_type": "code",
   "execution_count": 64,
   "metadata": {},
   "outputs": [
    {
     "data": {
      "text/plain": [
       "6.875"
      ]
     },
     "execution_count": 64,
     "metadata": {},
     "output_type": "execute_result"
    }
   ],
   "source": [
    "float(row[dv.field_start[6]:dv.field_end[6]])"
   ]
  },
  {
   "cell_type": "markdown",
   "metadata": {},
   "source": [
    "**The structs package**\n",
    "\n",
    "To write fields to a file we converting certain python objects to byte strings of fixed length (number of bytes).\n",
    "\n",
    "This is where the struct package becomes useful."
   ]
  },
  {
   "cell_type": "markdown",
   "metadata": {},
   "source": [
    "**Another application**\n",
    "\n",
    "To motivate this, consider the following application, which is now quite common in microbiology. In a single cell RNA seq experiment (scRNA-seq), for a huge number of cells (e.g. 100,000) and for a large number of MRNA's (e.g. 20,000) the count of MRN's expressed for each cell is determined. The result could, in principle, be stored in matrix that is 20,000 x 100,000, so around 2 billion entries.\n",
    "\n",
    "In fact there is typically a great deal of sparsity. Each cell might only typically express about 5% of the MRN's so roughly 100 million entries are nonzero in the matrix. \n",
    "Rather than store all of those zeros, a typical alternative is to use a sparse matrix representation, creating a list of (row,column,value) 3-tuples one for each nonzero entry. This still leads to a very large text file which will take a long time to read in.\n",
    "\n",
    "A standard file format for storing a sparse matrix is called MatrixMarket format (.mtx is a common file extension for such a file.\n",
    "\n",
    "https://math.nist.gov/MatrixMarket/formats.html\n",
    "\n",
    "Here is a very small example (datas.mtx). In this example, the values \n",
    "\n",
    "%% MatrixMarket matrix coordinate integer general\n",
    "%\n",
    "% each data entry after structure line gives row, column, value (real) \n",
    "%\n",
    "% the following structure line gives #rows #columns #nonzero entries\n",
    "5 8 10\n",
    "1 2 18\n",
    "1 3 7\n",
    "1 4 6\n",
    "2 3 2\n",
    "2 4 1\n",
    "2 5 1\n",
    "4 1 1\n",
    "4 4 2\n",
    "4 8 3\n",
    "5 2 12\n",
    "\n",
    "This represents the 5 x 8 matrix whose first row is (0,18,7,6,0,0,0,0)\n",
    "and whose second row is (0,0,2,1,1,0,0,0), etc.."
   ]
  },
  {
   "cell_type": "markdown",
   "metadata": {},
   "source": [
    "**The issue**\n",
    "\n",
    "If we are presented with a list of around 100 million 3-tuples, we'd like a fast way to determine for a given cell (column) the (row,value) pairs for that column.\n",
    "\n",
    "One strategy is to build a binary file holding the sequence of (row,value) pairs for each column, and creating an *index* that, for each column, tells us the range of the binary file that holds the (row,value) pairs for that column.\n",
    "\n",
    "For a huge matrix, this will take some time to create, but when we're done, we'll have something resembing a *database* that we can easily and rapidly read from.\n",
    "\n",
    "In the code below, we use the ctypes package to create a string buffer to load bytes into, and we use the struct package to translate objects (integers in our case) to bytes."
   ]
  },
  {
   "cell_type": "code",
   "execution_count": 65,
   "metadata": {},
   "outputs": [],
   "source": [
    "import os\n",
    "import mylib as my\n",
    "os.chdir(my.onedrive+\"//CurrentCourses//553.688.Fall.2022//Lectures//October//Lecture16\")"
   ]
  },
  {
   "cell_type": "code",
   "execution_count": 21,
   "metadata": {},
   "outputs": [
    {
     "name": "stdout",
     "output_type": "stream",
     "text": [
      "10\n",
      "1 2 18\n",
      "1 3 7\n",
      "1 4 6\n",
      "2 3 2\n",
      "2 4 1\n",
      "2 5 1\n",
      "4 1 1\n",
      "4 4 2\n",
      "4 8 3\n",
      "5 2 1\n",
      "[[0, 1, 18], [0, 2, 7], [0, 3, 6], [1, 2, 2], [1, 3, 1], [1, 4, 1], [3, 0, 1], [3, 3, 2], [3, 7, 3], [4, 1, 1]]\n"
     ]
    }
   ],
   "source": [
    "import struct\n",
    "import ctypes\n",
    "\n",
    "#\n",
    "# read in a small mtx file for starters and load a list of lists of size 3.\n",
    "# that list is called data\n",
    "#\n",
    "# note that mtx format uses row numbering starting from 1 instead of 0.\n",
    "# we'll convert to starting from 0.\n",
    "#\n",
    "fin=open(\"datas.mtx\",\"r\")\n",
    "data=[]\n",
    "for line in fin:\n",
    "    line=line[0:-1]\n",
    "    fields=line.split(\" \")\n",
    "    if fields[0][0]==\"%\": # skip comments\n",
    "        continue\n",
    "    #print(line)\n",
    "    # read in the dimensions of the matrix and number of entries\n",
    "    nrows=int(fields[0])\n",
    "    ncols=int(fields[1])\n",
    "    nentries=int(fields[2])\n",
    "    print(nentries)\n",
    "    break\n",
    "for i in range(nentries):\n",
    "    line=fin.readline()\n",
    "    line=line[0:-1]\n",
    "    print(line)\n",
    "    fields=line.split(\" \")\n",
    "    data.append([int(fields[0])-1,int(fields[1])-1,int(fields[2])])\n",
    "print(data)"
   ]
  },
  {
   "cell_type": "markdown",
   "metadata": {},
   "source": [
    "**Extract column info**\n",
    "\n",
    "We now have all of the data as a list of 3 lists, each of length nentries.\n",
    "\n",
    "Want to store a list consisting of (row,value) pairs for each column. \n",
    "\n",
    "We'll keep track separately of  what the range of pairs is for a given column."
   ]
  },
  {
   "cell_type": "code",
   "execution_count": 22,
   "metadata": {},
   "outputs": [
    {
     "name": "stdout",
     "output_type": "stream",
     "text": [
      "number of bytes for pair = 4\n",
      "buffer size = 40\n"
     ]
    }
   ],
   "source": [
    "#\n",
    "# Sort the data by column\n",
    "#\n",
    "data=sorted(data,key=lambda x:(x[1],x[0]))  \n",
    "#\n",
    "# The structure for a pair will consist of 2 unsigned shorts (each is 2 bytes).\n",
    "# The \"H\" stands for one unsigned short. In more general situation we can have a structure\n",
    "# with 1 or more types.\n",
    "# This is fine if our integers are all less than 256*256-1 = 65,535.\n",
    "#\n",
    "sizeforpair=struct.calcsize(\"!HH\")\n",
    "print(\"number of bytes for pair = \"+str(sizeforpair))\n",
    "#\n",
    "# create a buffer to hold all of the data \n",
    "#\n",
    "buffersize=sizeforpair*nentries\n",
    "print(\"buffer size = \"+str(buffersize))\n",
    "buffer=ctypes.create_string_buffer(nentries*sizeforpair)\n",
    "#\n",
    "# load the data into buffer one entry at a time\n",
    "# Note:\n",
    "#\n",
    "# 1) the ! refers to endianness - when storing a number using multiple bytes\n",
    "#    which byte comes first\n",
    "# 2) the HH explains what is stored - in this case two unsigned shorts\n",
    "# 3) the 3rd argument is an offset - the values get loaded into a position \n",
    "#    that is the size of a single pair (4 bytes) times i.\n",
    "# 3) the final arguments are the 2 integers to be loaded into those 2 positions\n",
    "#\n",
    "for i in range(nentries):\n",
    "    struct.pack_into('!HH',buffer,sizeforpair*i,data[i][0],data[i][2])\n",
    "#\n",
    "# write the buffer out to a file\n",
    "#\n",
    "with open(\"datas.bin\",\"wb\") as fout:\n",
    "    fout.write(buffer)\n",
    "\n",
    "# create columnrange, a list of ncols+1 values\n",
    "# so that column c appears in locations defined by \n",
    "# is range(columnrange[c],columnrange[c+1])\n",
    "#\n",
    "colcounts=[0 for i in range(ncols)]\n",
    "for i in range(nentries):\n",
    "    col=data[i][1]\n",
    "    colcounts[col]+=1\n",
    "cumsum=0\n",
    "columnrange=[0]\n",
    "for col in range(ncols):\n",
    "    cumsum+=colcounts[col]\n",
    "    columnrange.append(cumsum)\n",
    "with open(\"colranges.txt\",\"w\") as fout:\n",
    "    for i in range(ncols+1):\n",
    "        fout.write(str(columnrange[i])+\"\\n\")"
   ]
  },
  {
   "cell_type": "code",
   "execution_count": 21,
   "metadata": {},
   "outputs": [
    {
     "data": {
      "text/plain": [
       "[0, 1, 3, 5, 8, 9, 9, 9, 10]"
      ]
     },
     "execution_count": 21,
     "metadata": {},
     "output_type": "execute_result"
    }
   ],
   "source": [
    "columnrange"
   ]
  },
  {
   "cell_type": "markdown",
   "metadata": {},
   "source": [
    "**Extracting information from the binary file**\n",
    "\n",
    "Thus far, we've created a file that we can *query* one column at a time. To make use of this, we need to open the binary file for reading from, and also get the saved list that tells us the record range of each column."
   ]
  },
  {
   "cell_type": "code",
   "execution_count": 24,
   "metadata": {},
   "outputs": [
    {
     "name": "stdout",
     "output_type": "stream",
     "text": [
      "0.0\n",
      "length of buffer = 1998232\n"
     ]
    }
   ],
   "source": [
    "import ctypes\n",
    "import struct\n",
    "import time\n",
    "#\n",
    "# read in the necessary elements for using this database\n",
    "#\n",
    "ncols=5000\n",
    "colrange=[]\n",
    "with open(\"colrange.txt\") as fin:\n",
    "    for i in range(ncols):\n",
    "        line=fin.readline()\n",
    "        line=line[0:-1]\n",
    "        colrange.append(int(line))\n",
    "sizeforpair=struct.calcsize(\"!HH\")\n",
    "#\n",
    "# read the entire database into a byte array \"buffer\"\n",
    "#\n",
    "start_time=time.process_time()\n",
    "with open(\"data.bin\",\"rb\") as fin:\n",
    "    buffer=fin.read()\n",
    "end_time=time.process_time()\n",
    "print(end_time-start_time)\n",
    "print(\"length of buffer = \"+str(len(buffer)))"
   ]
  },
  {
   "cell_type": "code",
   "execution_count": 26,
   "metadata": {},
   "outputs": [
    {
     "name": "stdout",
     "output_type": "stream",
     "text": [
      "length of buffer = 1998232\n",
      "112 1\n",
      "222 9604\n",
      "223 81\n",
      "238 1\n",
      "303 5929\n",
      "624 7921\n",
      "645 289\n",
      "702 484\n",
      "705 729\n",
      "717 7225\n",
      "782 5625\n",
      "1337 9216\n",
      "1388 1600\n",
      "1443 1369\n",
      "1504 5041\n",
      "1513 529\n",
      "1671 2209\n",
      "1736 1936\n",
      "1772 4489\n",
      "1889 8281\n",
      "1986 2916\n",
      "2062 5184\n",
      "2080 1444\n",
      "2107 3025\n",
      "2183 4624\n",
      "2187 484\n",
      "2295 4900\n",
      "2407 25\n",
      "2604 3844\n",
      "2724 289\n",
      "2753 324\n",
      "2790 2116\n",
      "2905 324\n",
      "2988 289\n",
      "3507 5184\n",
      "3512 144\n",
      "3560 1764\n",
      "3658 1\n",
      "3759 5776\n",
      "3848 8464\n",
      "3855 6724\n",
      "3864 1936\n",
      "3879 1369\n",
      "3903 1\n",
      "3949 2304\n",
      "4003 8836\n",
      "4016 3600\n",
      "4338 676\n",
      "4477 196\n",
      "4643 1521\n",
      "4717 6084\n",
      "4776 7396\n",
      "4833 9\n",
      "4962 1024\n",
      "5016 36\n",
      "5215 1681\n",
      "5246 1521\n",
      "5330 7225\n",
      "5567 6241\n",
      "5606 8649\n",
      "5625 961\n",
      "5770 2704\n",
      "6150 4225\n",
      "6196 5329\n",
      "6247 3600\n",
      "6310 6241\n",
      "6335 169\n",
      "6379 9025\n",
      "6406 3025\n",
      "6518 3844\n",
      "6538 1369\n",
      "6547 5041\n",
      "6565 6241\n",
      "6725 5329\n",
      "6769 8464\n",
      "6924 6400\n",
      "6936 81\n",
      "6942 25\n",
      "7193 9801\n",
      "7239 2916\n",
      "7288 9025\n",
      "7444 1156\n",
      "7545 1089\n",
      "7608 2025\n",
      "7612 400\n",
      "7701 9025\n",
      "7720 7921\n",
      "7879 1\n",
      "7897 3136\n",
      "7906 49\n",
      "7933 144\n",
      "7956 3969\n",
      "8072 625\n",
      "8178 4356\n",
      "8185 2401\n",
      "8187 4\n",
      "8298 9801\n",
      "8454 9\n",
      "8461 81\n",
      "8504 6561\n",
      "8783 3481\n",
      "8795 2209\n",
      "8851 484\n",
      "8931 441\n",
      "8986 4356\n",
      "9015 784\n",
      "9108 2916\n",
      "9126 484\n",
      "9259 9025\n",
      "9341 400\n",
      "9467 4225\n",
      "9512 4096\n",
      "9616 5776\n",
      "9629 400\n",
      "9666 3364\n",
      "9676 9216\n",
      "9767 64\n",
      "9824 6241\n",
      "9935 1521\n",
      "0.0\n"
     ]
    }
   ],
   "source": [
    "#\n",
    "# Now use it!!!\n",
    "#\n",
    "# get all data for column 47\n",
    "#\n",
    "col=47\n",
    "start_time=time.process_time()\n",
    "print(\"length of buffer = \"+str(len(buffer)))\n",
    "for i in range(colrange[col],colrange[col+1]):\n",
    "    row,value=struct.unpack_from('!HH',buffer,i*sizeforpair)\n",
    "    print(row,value)\n",
    "end_time=time.process_time()\n",
    "print(end_time-start_time)"
   ]
  },
  {
   "cell_type": "markdown",
   "metadata": {},
   "source": [
    "Importantly, our data file might be so large that we don't want to read the whole thing in. We can keep it on disk and just extract some bytes as needed."
   ]
  },
  {
   "cell_type": "code",
   "execution_count": 27,
   "metadata": {},
   "outputs": [],
   "source": [
    "ncols=5000\n",
    "colrange=[]\n",
    "with open(\"colrange.txt\") as fin:\n",
    "    for i in range(ncols):\n",
    "        line=fin.readline()\n",
    "        line=line[0:-1]\n",
    "        colrange.append(int(line))\n",
    "\n",
    "sizeforpair=struct.calcsize(\"!HH\")"
   ]
  },
  {
   "cell_type": "code",
   "execution_count": 30,
   "metadata": {},
   "outputs": [
    {
     "name": "stdout",
     "output_type": "stream",
     "text": [
      "column 3 data\n"
     ]
    }
   ],
   "source": [
    "#\n",
    "# get data for column 47 witout reading the entire file\n",
    "#\n",
    "col=47\n",
    "fin=open(\"data.bin\",\"rb\")\n",
    "print(\"column 3 data\")\n",
    "for i in range(colrange[col],colrange[col+1]):\n",
    "    fin.seek(i*sizeforpair)\n",
    "    buffer=fin.read(sizeforpair)\n",
    "    row,value=struct.unpack_from('!HH',buffer)\n",
    "    #print(row,value)\n",
    "fin.close()\n"
   ]
  },
  {
   "cell_type": "markdown",
   "metadata": {},
   "source": [
    "## We've seen two important principles behind the creation of efficient databases.\n",
    "\n",
    "## 1. Storing as binary chunks \n",
    "## 2. Use of an index"
   ]
  },
  {
   "cell_type": "code",
   "execution_count": null,
   "metadata": {},
   "outputs": [],
   "source": []
  }
 ],
 "metadata": {
  "kernelspec": {
   "display_name": "Python 3 (ipykernel)",
   "language": "python",
   "name": "python3"
  },
  "language_info": {
   "codemirror_mode": {
    "name": "ipython",
    "version": 3
   },
   "file_extension": ".py",
   "mimetype": "text/x-python",
   "name": "python",
   "nbconvert_exporter": "python",
   "pygments_lexer": "ipython3",
   "version": "3.9.12"
  }
 },
 "nbformat": 4,
 "nbformat_minor": 4
}
