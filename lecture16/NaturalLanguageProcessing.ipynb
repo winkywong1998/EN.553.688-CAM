{
 "cells": [
  {
   "cell_type": "markdown",
   "id": "2efac13a-21e1-40cb-9f88-6c749b9f21ea",
   "metadata": {},
   "source": [
    "**Using regular expressions for word counts**\n",
    "\n",
    "In the re package \n",
    "\n",
    "- findall returns a list of all matches in a string\n",
    "- finditer returns an iterator over match objects for matches in a string"
   ]
  },
  {
   "cell_type": "code",
   "execution_count": 12,
   "id": "30055d16-a435-4ce3-a01c-6cb0ec6290a3",
   "metadata": {},
   "outputs": [
    {
     "name": "stdout",
     "output_type": "stream",
     "text": [
      "3420\n",
      "1668\n"
     ]
    }
   ],
   "source": [
    "import re\n",
    "with open(\"PrideAndPredjudice.txt\",\"rb\") as fin:\n",
    "    btext=fin.read()\n",
    "    text=btext.decode(\"utf-8\")\n",
    "    #print(text)\n",
    "#\n",
    "# findall returns a list of all matches\n",
    "#\n",
    "L=re.findall(\" the \",text)\n",
    "print(len(L))\n",
    "\n",
    "L=re.findall(\" a \",text)\n",
    "print(len(L))\n"
   ]
  },
  {
   "cell_type": "markdown",
   "id": "7f65d5c3-a653-4664-987f-de539ce89edb",
   "metadata": {},
   "source": [
    "**Determine distribution of gaps between occurences of a word**"
   ]
  },
  {
   "cell_type": "code",
   "execution_count": 27,
   "id": "67ee1124-3177-4915-a792-d943b9aa95a6",
   "metadata": {},
   "outputs": [],
   "source": [
    "it=re.finditer(\" [tT]he \",text)\n",
    "position=[]\n",
    "for x in it:\n",
    "    position.append(x.start()+1)"
   ]
  },
  {
   "cell_type": "code",
   "execution_count": 28,
   "id": "d3fded96-ac8b-4773-bec6-3313305d6e8f",
   "metadata": {},
   "outputs": [
    {
     "data": {
      "text/plain": [
       "<AxesSubplot:>"
      ]
     },
     "execution_count": 28,
     "metadata": {},
     "output_type": "execute_result"
    },
    {
     "data": {
      "image/png": "[encoded data removed]",
      "text/plain": [
       "<Figure size 432x288 with 1 Axes>"
      ]
     },
     "metadata": {
      "needs_background": "light"
     },
     "output_type": "display_data"
    }
   ],
   "source": [
    "import numpy as np\n",
    "import pandas as pd\n",
    "pos=np.array(position)\n",
    "diffs=np.diff(pos)\n",
    "pd.Series(diffs).hist(bins=25)"
   ]
  },
  {
   "cell_type": "markdown",
   "id": "6db89945-8443-47fa-915e-38176bebd437",
   "metadata": {},
   "source": [
    "**Using the nltk package**"
   ]
  },
  {
   "cell_type": "code",
   "execution_count": 30,
   "id": "2614950a-f180-47d0-bf48-135f7e9410c9",
   "metadata": {},
   "outputs": [
    {
     "name": "stderr",
     "output_type": "stream",
     "text": [
      "[nltk_data] Downloading package punkt to\n",
      "[nltk_data]     C:\\Users\\dan\\AppData\\Roaming\\nltk_data...\n",
      "[nltk_data]   Package punkt is already up-to-date!\n"
     ]
    },
    {
     "data": {
      "text/plain": [
       "True"
      ]
     },
     "execution_count": 30,
     "metadata": {},
     "output_type": "execute_result"
    }
   ],
   "source": [
    "import nltk #natural language processing toolkit\n",
    "nltk.download('punkt')"
   ]
  },
  {
   "cell_type": "markdown",
   "id": "6325890f-1a40-4036-a8db-262d42690ebb",
   "metadata": {},
   "source": [
    "The first thing we want to do is tokenize the text."
   ]
  },
  {
   "cell_type": "code",
   "execution_count": 42,
   "id": "d36a8fe5-c6ac-4a29-84e4-07615e865080",
   "metadata": {},
   "outputs": [],
   "source": [
    "from nltk.tokenize import word_tokenize\n",
    "L=word_tokenize(text)"
   ]
  },
  {
   "cell_type": "code",
   "execution_count": 43,
   "id": "7d943cc3-4145-40c2-87d3-993582bc92cb",
   "metadata": {
    "tags": []
   },
   "outputs": [
    {
     "name": "stdout",
     "output_type": "stream",
     "text": [
      "['PRIDE', 'AND', 'PREJUDICE', 'By', 'Jane', 'Austen', 'Chapter', '1', 'It', 'is', 'a', 'truth', 'universally', 'acknowledged', ',', 'that', 'a', 'single', 'man', 'in', 'possession', 'of', 'a', 'good', 'fortune', ',', 'must', 'be', 'in', 'want', 'of', 'a', 'wife', '.', 'However', 'little', 'known', 'the', 'feelings', 'or', 'views', 'of', 'such', 'a', 'man', 'may', 'be', 'on', 'his', 'first', 'entering', 'a', 'neighbourhood', ',', 'this', 'truth', 'is', 'so', 'well', 'fixed', 'in', 'the', 'minds', 'of', 'the', 'surrounding', 'families', ',', 'that', 'he', 'is', 'considered', 'the', 'rightful', 'property', 'of', 'some', 'one', 'or', 'other', 'of', 'their', 'daughters', '.', '“', 'My', 'dear', 'Mr.', 'Bennet', ',', '”', 'said', 'his', 'lady', 'to', 'him', 'one', 'day', ',', '“']\n"
     ]
    }
   ],
   "source": [
    "print(L[0:100])"
   ]
  },
  {
   "cell_type": "markdown",
   "id": "db89a4bf-1e01-46f4-a11b-1385285dca0e",
   "metadata": {},
   "source": [
    "**Remove any words containing non alphabetic characters**"
   ]
  },
  {
   "cell_type": "code",
   "execution_count": 46,
   "id": "0fea1597-2880-444e-a0f8-b0e345706faf",
   "metadata": {},
   "outputs": [
    {
     "name": "stdout",
     "output_type": "stream",
     "text": [
      "['PRIDE', 'AND', 'PREJUDICE', 'By', 'Jane', 'Austen', 'Chapter', 'It', 'is', 'a', 'truth', 'universally', 'acknowledged', 'that', 'a', 'single', 'man', 'in', 'possession', 'of', 'a', 'good', 'fortune', 'must', 'be', 'in', 'want', 'of', 'a', 'wife', 'However', 'little', 'known', 'the', 'feelings', 'or', 'views', 'of', 'such', 'a', 'man', 'may', 'be', 'on', 'his', 'first', 'entering', 'a', 'neighbourhood', 'this', 'truth', 'is', 'so', 'well', 'fixed', 'in', 'the', 'minds', 'of', 'the', 'surrounding', 'families', 'that', 'he', 'is', 'considered', 'the', 'rightful', 'property', 'of', 'some', 'one', 'or', 'other', 'of', 'their', 'daughters', 'My', 'dear', 'Bennet', 'said', 'his', 'lady', 'to', 'him', 'one', 'day', 'have', 'you', 'heard', 'that', 'Netherfield', 'Park', 'is', 'let', 'at', 'last', 'Bennet', 'replied', 'that']\n",
      "119036\n"
     ]
    }
   ],
   "source": [
    "L2=[x for x in L if not re.search(\"[^a-zA-Z]\",x)]\n",
    "print(L2[0:100])\n",
    "print(len(L2))"
   ]
  },
  {
   "cell_type": "markdown",
   "id": "84fb536b-8f42-40bd-8a08-c14ec5ccb034",
   "metadata": {},
   "source": [
    "**Convert characters to lower case**"
   ]
  },
  {
   "cell_type": "code",
   "execution_count": 47,
   "id": "01e99339-1ddf-4f86-8bd4-8a8c56d38805",
   "metadata": {
    "tags": []
   },
   "outputs": [
    {
     "data": {
      "text/plain": [
       "'abcddefgh'"
      ]
     },
     "execution_count": 47,
     "metadata": {},
     "output_type": "execute_result"
    }
   ],
   "source": [
    "\"aBCddeFGH\".lower()"
   ]
  },
  {
   "cell_type": "code",
   "execution_count": 48,
   "id": "f1c69607-3aed-44ac-acce-a786c865ce39",
   "metadata": {},
   "outputs": [],
   "source": [
    "L3=[x.lower() for x in L2]"
   ]
  },
  {
   "cell_type": "markdown",
   "id": "d907c4cd-7df8-4ca1-bec9-d1b8347529ab",
   "metadata": {},
   "source": [
    "**Lemmatizer**\n",
    "\n",
    "A lemmatizer can be used to convert pluralized to their singular counterparts. \n",
    "\n",
    "There are other applications. For example convert words to one in a smaller set with similar meanings."
   ]
  },
  {
   "cell_type": "code",
   "execution_count": 60,
   "id": "1936ac53-30c2-453e-ade5-2c68a90bceb7",
   "metadata": {},
   "outputs": [
    {
     "name": "stderr",
     "output_type": "stream",
     "text": [
      "[nltk_data] Downloading package wordnet to\n",
      "[nltk_data]     C:\\Users\\dan\\AppData\\Roaming\\nltk_data...\n",
      "[nltk_data]   Package wordnet is already up-to-date!\n"
     ]
    },
    {
     "data": {
      "text/plain": [
       "True"
      ]
     },
     "execution_count": 60,
     "metadata": {},
     "output_type": "execute_result"
    }
   ],
   "source": [
    "import nltk\n",
    "nltk.download('wordnet')"
   ]
  },
  {
   "cell_type": "code",
   "execution_count": 65,
   "id": "d5c0922f-6701-41ed-95a5-cc993ed27733",
   "metadata": {},
   "outputs": [
    {
     "name": "stdout",
     "output_type": "stream",
     "text": [
      "bat\n",
      "oat\n",
      "foot\n",
      "law\n",
      "goose\n"
     ]
    },
    {
     "name": "stderr",
     "output_type": "stream",
     "text": [
      "[nltk_data] Downloading package omw-1.4 to\n",
      "[nltk_data]     C:\\Users\\dan\\AppData\\Roaming\\nltk_data...\n",
      "[nltk_data]   Package omw-1.4 is already up-to-date!\n"
     ]
    }
   ],
   "source": [
    "from nltk.stem import WordNetLemmatizer \n",
    "nltk.download('omw-1.4')\n",
    "lemmatizer = WordNetLemmatizer()\n",
    "print(lemmatizer.lemmatize(\"bats\"))\n",
    "print(lemmatizer.lemmatize(\"oats\"))\n",
    "print(lemmatizer.lemmatize(\"feet\"))\n",
    "print(lemmatizer.lemmatize(\"laws\"))\n",
    "print(lemmatizer.lemmatize(\"geese\"))\n"
   ]
  },
  {
   "cell_type": "code",
   "execution_count": 66,
   "id": "f1466558-e007-4368-86ab-9b4466060acb",
   "metadata": {},
   "outputs": [
    {
     "data": {
      "text/plain": [
       "119036"
      ]
     },
     "execution_count": 66,
     "metadata": {},
     "output_type": "execute_result"
    }
   ],
   "source": [
    "L4=[lemmatizer.lemmatize(x) for x in L3]\n",
    "len(L4)"
   ]
  },
  {
   "cell_type": "markdown",
   "id": "3989bae0-37ea-42fa-b850-dc9c7d6cdf96",
   "metadata": {},
   "source": [
    "**Get word counts**\n",
    "\n",
    "Many approaches to the analysis of text start with reducing to word frequencies.\n",
    "\n",
    "For example, one could identify an author of a piece of text from word frequencies."
   ]
  },
  {
   "cell_type": "code",
   "execution_count": 67,
   "id": "3d43f8d6-aef6-46d5-b0b3-ea3990ccbf65",
   "metadata": {},
   "outputs": [
    {
     "name": "stdout",
     "output_type": "stream",
     "text": [
      "{'a': 3, 'b': 2, 'c': 1}\n"
     ]
    }
   ],
   "source": [
    "wcounts={}\n",
    "L=[\"a\",\"b\",\"a\",\"c\",\"a\",\"b\"]\n",
    "for x in L:\n",
    "    if x in wcounts:\n",
    "        wcounts[x]+=1\n",
    "    else:\n",
    "        wcounts[x]=1\n",
    "print(wcounts)"
   ]
  },
  {
   "cell_type": "code",
   "execution_count": 69,
   "id": "8ad5e1b9-037e-4c71-a939-81548df5ae18",
   "metadata": {},
   "outputs": [],
   "source": [
    "wcounts={}\n",
    "for x in L4:\n",
    "    if x in wcounts:\n",
    "        wcounts[x]+=1\n",
    "    else:\n",
    "        wcounts[x]=1"
   ]
  },
  {
   "cell_type": "markdown",
   "id": "acec2b92-9aee-41f6-8a19-a795ae43a0d4",
   "metadata": {},
   "source": [
    "**Make a list of pairs from this and sort by value**"
   ]
  },
  {
   "cell_type": "code",
   "execution_count": 70,
   "id": "4e979d82-d97d-4b39-a467-25ba649f1470",
   "metadata": {},
   "outputs": [],
   "source": [
    "wordlist=[(k,wcounts[k]) for k in wcounts]\n",
    "wordlist=sorted(wordlist,key=lambda x:x[1],reverse=True)"
   ]
  },
  {
   "cell_type": "code",
   "execution_count": 72,
   "id": "65f86199-4ed0-40f7-9e91-73cdd1534fb7",
   "metadata": {},
   "outputs": [
    {
     "data": {
      "text/plain": [
       "[('the', 4331),\n",
       " ('to', 4135),\n",
       " ('of', 3608),\n",
       " ('and', 3578),\n",
       " ('a', 3126),\n",
       " ('her', 2192),\n",
       " ('i', 2065),\n",
       " ('in', 1864),\n",
       " ('wa', 1840),\n",
       " ('she', 1695),\n",
       " ('it', 1612),\n",
       " ('that', 1540),\n",
       " ('not', 1525),\n",
       " ('he', 1324),\n",
       " ('you', 1306),\n",
       " ('his', 1256),\n",
       " ('be', 1239),\n",
       " ('had', 1171),\n",
       " ('for', 1057),\n",
       " ('with', 1050),\n",
       " ('but', 1002),\n",
       " ('is', 858),\n",
       " ('have', 840),\n",
       " ('at', 787),\n",
       " ('him', 728)]"
      ]
     },
     "execution_count": 72,
     "metadata": {},
     "output_type": "execute_result"
    }
   ],
   "source": [
    "wordlist[0:25]"
   ]
  },
  {
   "cell_type": "markdown",
   "id": "c157fef6-2b65-4ce4-b46d-79309c6bd8b9",
   "metadata": {},
   "source": [
    "**Distribution of word lengths**\n",
    "\n",
    "We can also look at word length distributions for words in text."
   ]
  },
  {
   "cell_type": "code",
   "execution_count": 83,
   "id": "57258cba-41a7-4172-9e51-45090958e1cc",
   "metadata": {},
   "outputs": [
    {
     "data": {
      "text/plain": [
       "[(1, 5308),\n",
       " (2, 23399),\n",
       " (3, 26023),\n",
       " (4, 21939),\n",
       " (5, 11288),\n",
       " (6, 8829),\n",
       " (7, 8078),\n",
       " (8, 4748),\n",
       " (9, 4748),\n",
       " (10, 2218),\n",
       " (11, 1218),\n",
       " (12, 791),\n",
       " (13, 328),\n",
       " (14, 107),\n",
       " (15, 7),\n",
       " (16, 4),\n",
       " (17, 3)]"
      ]
     },
     "execution_count": 83,
     "metadata": {},
     "output_type": "execute_result"
    }
   ],
   "source": [
    "wordlengths={}\n",
    "for word in L4:\n",
    "    wordlen=len(word)\n",
    "    if wordlen not in wordlengths:\n",
    "        wordlengths[wordlen]=1\n",
    "    else:\n",
    "        wordlengths[wordlen]+=1\n",
    "wordlengths=list(wordlengths.items())\n",
    "wordlengths=sorted(wordlengths)\n",
    "wordlengths"
   ]
  },
  {
   "cell_type": "markdown",
   "id": "f0283ec9-a6b7-45a4-b762-2b8fab7ab3c1",
   "metadata": {},
   "source": [
    "**Function that combines many steps above**"
   ]
  },
  {
   "cell_type": "code",
   "execution_count": 104,
   "id": "324325b5-66c5-4c01-b3f1-d89ac1133980",
   "metadata": {},
   "outputs": [],
   "source": [
    "def compute_wordlengths(fileid):\n",
    "    with open(fileid,\"rb\") as fin:\n",
    "        btext=fin.read()\n",
    "        text=btext.decode(\"utf-8\")\n",
    "    L=word_tokenize(text)\n",
    "    L2=[x for x in L if not re.search(\"[^a-zA-Z]\",x)]\n",
    "    L3=[x.lower() for x in L2]\n",
    "    wordlengths=np.zeros(20)\n",
    "    for word in L3:\n",
    "        wordlen=len(word)\n",
    "        wordlengths[wordlen]+=1\n",
    "    wordlengths/=np.sum(wordlengths)\n",
    "    return(wordlengths)"
   ]
  },
  {
   "cell_type": "code",
   "execution_count": 105,
   "id": "d1f5cfa6-61fe-4bf0-9d12-b4dda809d65d",
   "metadata": {},
   "outputs": [],
   "source": [
    "WL1=compute_wordlengths(\"PrideAndPredjudice.txt\")\n",
    "WL2=compute_wordlengths(\"SenseAndSensibility.txt\")\n",
    "WL3=compute_wordlengths(\"TheAdventuresOfTomSawyer.txt\")"
   ]
  },
  {
   "cell_type": "code",
   "execution_count": 106,
   "id": "981bc5ea-3747-4641-aa5a-8c0b30b1e8be",
   "metadata": {},
   "outputs": [
    {
     "data": {
      "text/plain": [
       "array([0.00000000e+00, 3.37124903e-02, 1.88548002e-01, 2.34786115e-01,\n",
       "       1.80449612e-01, 9.74159078e-02, 7.32635505e-02, 6.92227561e-02,\n",
       "       4.12480258e-02, 4.05087537e-02, 1.89102456e-02, 1.11814913e-02,\n",
       "       6.47703216e-03, 3.16710911e-03, 7.98077892e-04, 2.52024598e-04,\n",
       "       3.36032797e-05, 2.52024598e-05, 0.00000000e+00, 0.00000000e+00])"
      ]
     },
     "execution_count": 106,
     "metadata": {},
     "output_type": "execute_result"
    }
   ],
   "source": [
    "WL1"
   ]
  },
  {
   "cell_type": "code",
   "execution_count": 107,
   "id": "d890dfae-2c74-4d35-b251-ecb4798493e0",
   "metadata": {},
   "outputs": [
    {
     "data": {
      "text/plain": [
       "array([0.00000000e+00, 3.41431439e-02, 1.90324356e-01, 2.32179852e-01,\n",
       "       1.75903146e-01, 9.54697009e-02, 7.86854202e-02, 6.94597307e-02,\n",
       "       4.74151884e-02, 3.23141914e-02, 2.27486081e-02, 1.10141784e-02,\n",
       "       6.49035349e-03, 2.78389227e-03, 7.93085589e-04, 2.26595882e-04,\n",
       "       2.42781303e-05, 2.42781303e-05, 0.00000000e+00, 0.00000000e+00])"
      ]
     },
     "execution_count": 107,
     "metadata": {},
     "output_type": "execute_result"
    }
   ],
   "source": [
    "WL2"
   ]
  },
  {
   "cell_type": "code",
   "execution_count": 111,
   "id": "033e7e28-ef27-496d-9a97-ef3200abd731",
   "metadata": {},
   "outputs": [
    {
     "data": {
      "text/plain": [
       "[<matplotlib.lines.Line2D at 0x17b77fdc340>]"
      ]
     },
     "execution_count": 111,
     "metadata": {},
     "output_type": "execute_result"
    },
    {
     "data": {
      "image/png": "[encoded data removed]",
      "text/plain": [
       "<Figure size 432x288 with 1 Axes>"
      ]
     },
     "metadata": {
      "needs_background": "light"
     },
     "output_type": "display_data"
    }
   ],
   "source": [
    "import matplotlib.pyplot as plt\n",
    "plt.plot(WL1)\n",
    "plt.plot(WL2)\n",
    "plt.plot(WL3)"
   ]
  },
  {
   "cell_type": "code",
   "execution_count": null,
   "id": "b6a86921-3bb9-4070-a32e-b7a989460811",
   "metadata": {},
   "outputs": [],
   "source": []
  }
 ],
 "metadata": {
  "kernelspec": {
   "display_name": "Python 3 (ipykernel)",
   "language": "python",
   "name": "python3"
  },
  "language_info": {
   "codemirror_mode": {
    "name": "ipython",
    "version": 3
   },
   "file_extension": ".py",
   "mimetype": "text/x-python",
   "name": "python",
   "nbconvert_exporter": "python",
   "pygments_lexer": "ipython3",
   "version": "3.9.12"
  }
 },
 "nbformat": 4,
 "nbformat_minor": 5
}
