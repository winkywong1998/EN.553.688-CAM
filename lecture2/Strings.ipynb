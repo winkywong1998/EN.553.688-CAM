{
 "cells": [
  {
   "cell_type": "markdown",
   "metadata": {},
   "source": [
    "**Strings in Python**\n",
    "\n",
    "We can define a string in python and assign that string to some variable.\n",
    "\n",
    "Quotation marks are used to indicate that we have a literal string on the right hand side.\n",
    "Then print that variable with a print statement."
   ]
  },
  {
   "cell_type": "code",
   "execution_count": null,
   "metadata": {},
   "outputs": [],
   "source": [
    "x=\"string plus another set of characters\"\n",
    "print(x)"
   ]
  },
  {
   "cell_type": "markdown",
   "metadata": {},
   "source": [
    "**Assignment**\n",
    "\n",
    "Recall that the way assignments work: the right hand side is evaluated and then that value is stored as a variable whose name is in the left hand side."
   ]
  },
  {
   "cell_type": "code",
   "execution_count": null,
   "metadata": {},
   "outputs": [],
   "source": [
    "x=\"dog\"\n",
    "print(x)"
   ]
  },
  {
   "cell_type": "markdown",
   "metadata": {},
   "source": [
    "Observe that the print statement strips the quotation marks."
   ]
  },
  {
   "cell_type": "markdown",
   "metadata": {},
   "source": [
    "We can also use single quotes to assign the same value."
   ]
  },
  {
   "cell_type": "code",
   "execution_count": null,
   "metadata": {},
   "outputs": [],
   "source": [
    "y='string dwehgfwhg fwhgfhwgh fgwhg fhwghf '\n",
    "print(y)\n",
    "x=\"string dwehgfwhg fwhgfhwgh fgwhg fhwghf \""
   ]
  },
  {
   "cell_type": "code",
   "execution_count": null,
   "metadata": {},
   "outputs": [],
   "source": [
    "x==y"
   ]
  },
  {
   "cell_type": "markdown",
   "metadata": {},
   "source": [
    "**Length of string**\n",
    "\n",
    "If we want to know how many characters there are in a string, we can use the **len** function.\n",
    "\n",
    "We will see this *len* function used for many different Python objects. \n",
    "\n",
    "(We say that the function is *overloaded*.)"
   ]
  },
  {
   "cell_type": "code",
   "execution_count": null,
   "metadata": {},
   "outputs": [],
   "source": [
    "st=\"dogs and cats\"\n",
    "len(st)"
   ]
  },
  {
   "cell_type": "markdown",
   "metadata": {},
   "source": [
    "**Selection**\n",
    "\n",
    "We can refer to particular elements in a string using\n",
    "square brackets with values 0,1,...,length of string-1.\n"
   ]
  },
  {
   "cell_type": "code",
   "execution_count": null,
   "metadata": {},
   "outputs": [],
   "source": [
    "st=\"do you prefer to have a dog or a cat as a pet?\"\n",
    "print(len(st))\n",
    "print(st[0])\n",
    "print(st[1])\n",
    "print(st[len(st)-1])"
   ]
  },
  {
   "cell_type": "markdown",
   "metadata": {},
   "source": [
    "**Errors**\n",
    "\n",
    "If we specify a value outside of the correct range we get an error."
   ]
  },
  {
   "cell_type": "code",
   "execution_count": null,
   "metadata": {},
   "outputs": [],
   "source": [
    "st[len(st)-1]"
   ]
  },
  {
   "cell_type": "markdown",
   "metadata": {},
   "source": [
    "**Negative indices**\n",
    "\n",
    "We can select characters by counting from the end of the string backwards. \n",
    "Index -1 refers to the last character, -2 the second to last, and so on."
   ]
  },
  {
   "cell_type": "code",
   "execution_count": null,
   "metadata": {},
   "outputs": [],
   "source": [
    "print(st[-1])\n",
    "print(st[-2])\n",
    "print(st[-3])"
   ]
  },
  {
   "cell_type": "markdown",
   "metadata": {},
   "source": [
    "**Slices/Substrings**\n",
    "\n",
    "The colon character is used to specify a range of characters in a string. \n",
    "If we use i:j then this means the indices are i,i+1,...,j-1 so that i is included and j is not."
   ]
  },
  {
   "cell_type": "code",
   "execution_count": null,
   "metadata": {},
   "outputs": [],
   "source": [
    "print(st)\n",
    "print(st[0])\n",
    "print(st[0:5]) # 0,1,2,3,4\n",
    "print(st[2:4]) # 2,3\n",
    "print(st[2:])  # 2,3,... end of string\n",
    "print(st[:3])  # 0,1,2"
   ]
  },
  {
   "cell_type": "code",
   "execution_count": null,
   "metadata": {},
   "outputs": [],
   "source": [
    "print(st[-1])\n",
    "print(st[-2])\n",
    "print(st[0:-1])\n",
    "print(st[0:-2])\n",
    "print(st[-4:-2])\n"
   ]
  },
  {
   "cell_type": "markdown",
   "metadata": {},
   "source": [
    "**Concatenation**"
   ]
  },
  {
   "cell_type": "code",
   "execution_count": 1,
   "metadata": {},
   "outputs": [
    {
     "name": "stdout",
     "output_type": "stream",
     "text": [
      "dogcat\n"
     ]
    }
   ],
   "source": [
    "str1=\"dog\"\n",
    "str2=\"cat\"\n",
    "s=str1+str2\n",
    "print(s)"
   ]
  },
  {
   "cell_type": "code",
   "execution_count": 2,
   "metadata": {},
   "outputs": [
    {
     "name": "stdout",
     "output_type": "stream",
     "text": [
      "dogcatbird\n"
     ]
    }
   ],
   "source": [
    "str1=\"dog\"\n",
    "str2=\"cat\"\n",
    "str3=\"bird\"\n",
    "s=str1+str2+str3\n",
    "print(s)"
   ]
  },
  {
   "cell_type": "markdown",
   "metadata": {},
   "source": [
    "**Addition/Assignment Shortcut**\n",
    "\n",
    "When working with strings, we often find ourselves wanting to add to a first string the characters from a second string, and keep the name of the first string.\n",
    "\n",
    "This can be done using the += operator. \n"
   ]
  },
  {
   "cell_type": "code",
   "execution_count": 3,
   "metadata": {},
   "outputs": [
    {
     "name": "stdout",
     "output_type": "stream",
     "text": [
      "dogscats\n",
      "dogscatsfish\n"
     ]
    }
   ],
   "source": [
    "str1=\"dogs\"\n",
    "str2=\"cats\"\n",
    "str1+=str2 # shortcut for str1=str1+str2\n",
    "print(str1)\n",
    "str3=\"fish\" #shortcute for str1=str1+str3\n",
    "str1+=str3\n",
    "print(str1)"
   ]
  },
  {
   "cell_type": "code",
   "execution_count": 4,
   "metadata": {},
   "outputs": [
    {
     "name": "stdout",
     "output_type": "stream",
     "text": [
      "12\n",
      "60\n",
      "12.0\n",
      "7.0\n"
     ]
    }
   ],
   "source": [
    "x=7\n",
    "y=5\n",
    "x+=y # instead of x=x+y\n",
    "print(x)\n",
    "\n",
    "x*=y # instead of x=x*y\n",
    "print(x)\n",
    "\n",
    "x/=y # instead of x=x/y\n",
    "print(x)\n",
    "\n",
    "x-=y # instead of x=x-y\n",
    "print(x)"
   ]
  },
  {
   "cell_type": "markdown",
   "metadata": {},
   "source": [
    "**Conversion to a string**\n",
    "\n",
    "Conversion from one type to another comes up all of the time.\n",
    "We will often need *stringify* an object, i.e. to convert it to string."
   ]
  },
  {
   "cell_type": "code",
   "execution_count": 5,
   "metadata": {},
   "outputs": [
    {
     "name": "stdout",
     "output_type": "stream",
     "text": [
      "<class 'float'>\n",
      "<class 'str'>\n",
      "98.6\n"
     ]
    }
   ],
   "source": [
    "x=98.6\n",
    "print(type(x))\n",
    "st=str(x) # str is a function\n",
    "print(type(st))\n",
    "print(st)"
   ]
  },
  {
   "cell_type": "markdown",
   "metadata": {},
   "source": [
    "These two representations are not the same."
   ]
  },
  {
   "cell_type": "code",
   "execution_count": 6,
   "metadata": {},
   "outputs": [
    {
     "data": {
      "text/plain": [
       "False"
      ]
     },
     "execution_count": 6,
     "metadata": {},
     "output_type": "execute_result"
    }
   ],
   "source": [
    "st==x"
   ]
  },
  {
   "cell_type": "markdown",
   "metadata": {},
   "source": [
    "Here's a situation where we would want to stringify.\n",
    "\n",
    "This fails:"
   ]
  },
  {
   "cell_type": "code",
   "execution_count": 7,
   "metadata": {},
   "outputs": [
    {
     "name": "stdout",
     "output_type": "stream",
     "text": [
      "98.6\n"
     ]
    },
    {
     "ename": "TypeError",
     "evalue": "can only concatenate str (not \"float\") to str",
     "output_type": "error",
     "traceback": [
      "\u001b[1;31m---------------------------------------------------------------------------\u001b[0m",
      "\u001b[1;31mTypeError\u001b[0m                                 Traceback (most recent call last)",
      "\u001b[1;32m<ipython-input-7-607fe1739151>\u001b[0m in \u001b[0;36m<module>\u001b[1;34m\u001b[0m\n\u001b[0;32m      1\u001b[0m \u001b[0mstr\u001b[0m\u001b[1;33m(\u001b[0m\u001b[1;36m98.6\u001b[0m\u001b[1;33m)\u001b[0m\u001b[1;33m\u001b[0m\u001b[1;33m\u001b[0m\u001b[0m\n\u001b[0;32m      2\u001b[0m \u001b[0mprint\u001b[0m\u001b[1;33m(\u001b[0m\u001b[1;36m98.6\u001b[0m\u001b[1;33m)\u001b[0m\u001b[1;33m\u001b[0m\u001b[1;33m\u001b[0m\u001b[0m\n\u001b[1;32m----> 3\u001b[1;33m \u001b[0mprint\u001b[0m\u001b[1;33m(\u001b[0m\u001b[1;34m\"my temp is \"\u001b[0m \u001b[1;33m+\u001b[0m \u001b[1;36m98.6\u001b[0m\u001b[1;33m)\u001b[0m\u001b[1;33m\u001b[0m\u001b[1;33m\u001b[0m\u001b[0m\n\u001b[0m",
      "\u001b[1;31mTypeError\u001b[0m: can only concatenate str (not \"float\") to str"
     ]
    }
   ],
   "source": [
    "str(98.6)\n",
    "print(98.6)\n",
    "print(\"my temp is \" + 98.6)"
   ]
  },
  {
   "cell_type": "markdown",
   "metadata": {},
   "source": [
    "and this works."
   ]
  },
  {
   "cell_type": "code",
   "execution_count": 8,
   "metadata": {},
   "outputs": [
    {
     "name": "stdout",
     "output_type": "stream",
     "text": [
      "my temp is 98.6\n"
     ]
    }
   ],
   "source": [
    "print(\"my temp is \" + str(98.6))"
   ]
  },
  {
   "cell_type": "markdown",
   "metadata": {},
   "source": [
    "The point is that we can't concatenate a string and a float, but we can concatenate a string with a stringified float."
   ]
  },
  {
   "cell_type": "code",
   "execution_count": null,
   "metadata": {},
   "outputs": [],
   "source": [
    "str1=\"my temp is \"\n",
    "str2=str(98.6)\n",
    "print(str2)\n",
    "str3=str1+str2\n",
    "print(str3)"
   ]
  },
  {
   "cell_type": "markdown",
   "metadata": {},
   "source": [
    "**Warning: Consider this example**"
   ]
  },
  {
   "cell_type": "code",
   "execution_count": 9,
   "metadata": {},
   "outputs": [
    {
     "name": "stdout",
     "output_type": "stream",
     "text": [
      "mystring\n"
     ]
    }
   ],
   "source": [
    "str=\"mystring\"\n",
    "print(str)"
   ]
  },
  {
   "cell_type": "code",
   "execution_count": 10,
   "metadata": {},
   "outputs": [
    {
     "ename": "TypeError",
     "evalue": "'str' object is not callable",
     "output_type": "error",
     "traceback": [
      "\u001b[1;31m---------------------------------------------------------------------------\u001b[0m",
      "\u001b[1;31mTypeError\u001b[0m                                 Traceback (most recent call last)",
      "\u001b[1;32m<ipython-input-10-448260fac0b5>\u001b[0m in \u001b[0;36m<module>\u001b[1;34m\u001b[0m\n\u001b[1;32m----> 1\u001b[1;33m \u001b[0mstr\u001b[0m\u001b[1;33m(\u001b[0m\u001b[1;36m98.6\u001b[0m\u001b[1;33m)\u001b[0m\u001b[1;33m\u001b[0m\u001b[1;33m\u001b[0m\u001b[0m\n\u001b[0m",
      "\u001b[1;31mTypeError\u001b[0m: 'str' object is not callable"
     ]
    }
   ],
   "source": [
    "str(98.6)"
   ]
  },
  {
   "cell_type": "markdown",
   "metadata": {},
   "source": [
    "**The function str() stopped working!!!**\n",
    "\n",
    "If you define str to be a string, it will no longer represent the internal function you want it to. To make str() work again, you need to delete the str object you created."
   ]
  },
  {
   "cell_type": "code",
   "execution_count": null,
   "metadata": {},
   "outputs": [],
   "source": [
    "str=\"abc\"\n",
    "print(str)\n",
    "str(98.6)"
   ]
  },
  {
   "cell_type": "markdown",
   "metadata": {},
   "source": [
    "**Determining all local variables**\n",
    "\n",
    "Python stores all of the variables as a list of *local* variables we've created and we can query what's going on."
   ]
  },
  {
   "cell_type": "code",
   "execution_count": 11,
   "metadata": {},
   "outputs": [
    {
     "data": {
      "text/plain": [
       "{'__name__': '__main__',\n",
       " '__doc__': 'Automatically created module for IPython interactive environment',\n",
       " '__package__': None,\n",
       " '__loader__': None,\n",
       " '__spec__': None,\n",
       " '__builtin__': <module 'builtins' (built-in)>,\n",
       " '__builtins__': <module 'builtins' (built-in)>,\n",
       " '_ih': ['',\n",
       "  'str1=\"dog\"\\nstr2=\"cat\"\\ns=str1+str2\\nprint(s)',\n",
       "  'str1=\"dog\"\\nstr2=\"cat\"\\nstr3=\"bird\"\\ns=str1+str2+str3\\nprint(s)',\n",
       "  'str1=\"dogs\"\\nstr2=\"cats\"\\nstr1+=str2 # shortcut for str1=str1+str2\\nprint(str1)\\nstr3=\"fish\" #shortcute for str1=str1+str3\\nstr1+=str3\\nprint(str1)',\n",
       "  'x=7\\ny=5\\nx+=y # instead of x=x+y\\nprint(x)\\n\\nx*=y # instead of x=x*y\\nprint(x)\\n\\nx/=y # instead of x=x/y\\nprint(x)\\n\\nx-=y # instead of x=x-y\\nprint(x)',\n",
       "  'x=98.6\\nprint(type(x))\\nst=str(x) # str is a function\\nprint(type(st))\\nprint(st)',\n",
       "  'st==x',\n",
       "  'str(98.6)\\nprint(98.6)\\nprint(\"my temp is \" + 98.6)',\n",
       "  'print(\"my temp is \" + str(98.6))',\n",
       "  'str=\"mystring\"\\nprint(str)',\n",
       "  'str(98.6)',\n",
       "  'locals()'],\n",
       " '_oh': {6: False},\n",
       " '_dh': ['E:\\\\OneDrive - Johns Hopkins\\\\CurrentCourses\\\\553.488.Fall.2022\\\\JupyterNotebooks'],\n",
       " 'In': ['',\n",
       "  'str1=\"dog\"\\nstr2=\"cat\"\\ns=str1+str2\\nprint(s)',\n",
       "  'str1=\"dog\"\\nstr2=\"cat\"\\nstr3=\"bird\"\\ns=str1+str2+str3\\nprint(s)',\n",
       "  'str1=\"dogs\"\\nstr2=\"cats\"\\nstr1+=str2 # shortcut for str1=str1+str2\\nprint(str1)\\nstr3=\"fish\" #shortcute for str1=str1+str3\\nstr1+=str3\\nprint(str1)',\n",
       "  'x=7\\ny=5\\nx+=y # instead of x=x+y\\nprint(x)\\n\\nx*=y # instead of x=x*y\\nprint(x)\\n\\nx/=y # instead of x=x/y\\nprint(x)\\n\\nx-=y # instead of x=x-y\\nprint(x)',\n",
       "  'x=98.6\\nprint(type(x))\\nst=str(x) # str is a function\\nprint(type(st))\\nprint(st)',\n",
       "  'st==x',\n",
       "  'str(98.6)\\nprint(98.6)\\nprint(\"my temp is \" + 98.6)',\n",
       "  'print(\"my temp is \" + str(98.6))',\n",
       "  'str=\"mystring\"\\nprint(str)',\n",
       "  'str(98.6)',\n",
       "  'locals()'],\n",
       " 'Out': {6: False},\n",
       " 'get_ipython': <bound method InteractiveShell.get_ipython of <ipykernel.zmqshell.ZMQInteractiveShell object at 0x0000024ECE115C40>>,\n",
       " 'exit': <IPython.core.autocall.ZMQExitAutocall at 0x24ece163a60>,\n",
       " 'quit': <IPython.core.autocall.ZMQExitAutocall at 0x24ece163a60>,\n",
       " '_': False,\n",
       " '__': '',\n",
       " '___': '',\n",
       " '_i': 'str(98.6)',\n",
       " '_ii': 'str=\"mystring\"\\nprint(str)',\n",
       " '_iii': 'print(\"my temp is \" + str(98.6))',\n",
       " '_i1': 'str1=\"dog\"\\nstr2=\"cat\"\\ns=str1+str2\\nprint(s)',\n",
       " 'str1': 'dogscatsfish',\n",
       " 'str2': 'cats',\n",
       " 's': 'dogcatbird',\n",
       " '_i2': 'str1=\"dog\"\\nstr2=\"cat\"\\nstr3=\"bird\"\\ns=str1+str2+str3\\nprint(s)',\n",
       " 'str3': 'fish',\n",
       " '_i3': 'str1=\"dogs\"\\nstr2=\"cats\"\\nstr1+=str2 # shortcut for str1=str1+str2\\nprint(str1)\\nstr3=\"fish\" #shortcute for str1=str1+str3\\nstr1+=str3\\nprint(str1)',\n",
       " '_i4': 'x=7\\ny=5\\nx+=y # instead of x=x+y\\nprint(x)\\n\\nx*=y # instead of x=x*y\\nprint(x)\\n\\nx/=y # instead of x=x/y\\nprint(x)\\n\\nx-=y # instead of x=x-y\\nprint(x)',\n",
       " 'x': 98.6,\n",
       " 'y': 5,\n",
       " '_i5': 'x=98.6\\nprint(type(x))\\nst=str(x) # str is a function\\nprint(type(st))\\nprint(st)',\n",
       " 'st': '98.6',\n",
       " '_i6': 'st==x',\n",
       " '_6': False,\n",
       " '_i7': 'str(98.6)\\nprint(98.6)\\nprint(\"my temp is \" + 98.6)',\n",
       " '_i8': 'print(\"my temp is \" + str(98.6))',\n",
       " '_i9': 'str=\"mystring\"\\nprint(str)',\n",
       " 'str': 'mystring',\n",
       " '_i10': 'str(98.6)',\n",
       " '_i11': 'locals()'}"
      ]
     },
     "execution_count": 11,
     "metadata": {},
     "output_type": "execute_result"
    }
   ],
   "source": [
    "locals()"
   ]
  },
  {
   "cell_type": "markdown",
   "metadata": {},
   "source": [
    "## We see that str was made into a local variable. Oops. Let's fix that."
   ]
  },
  {
   "cell_type": "code",
   "execution_count": 12,
   "metadata": {},
   "outputs": [
    {
     "data": {
      "text/plain": [
       "'98.6'"
      ]
     },
     "execution_count": 12,
     "metadata": {},
     "output_type": "execute_result"
    }
   ],
   "source": [
    "del(str)\n",
    "str(98.6)"
   ]
  },
  {
   "cell_type": "markdown",
   "metadata": {},
   "source": [
    "**replace**\n",
    "\n",
    "We can replace portions of a string that match some pattern with another string using the *replace* method."
   ]
  },
  {
   "cell_type": "code",
   "execution_count": 13,
   "metadata": {},
   "outputs": [
    {
     "data": {
      "text/plain": [
       "'my cat ate my homework'"
      ]
     },
     "execution_count": 13,
     "metadata": {},
     "output_type": "execute_result"
    }
   ],
   "source": [
    "st=\"my dog ate my homework\"\n",
    "st.replace(\"dog\",\"cat\")"
   ]
  },
  {
   "cell_type": "code",
   "execution_count": 14,
   "metadata": {},
   "outputs": [
    {
     "data": {
      "text/plain": [
       "'my dog ate my homework'"
      ]
     },
     "execution_count": 14,
     "metadata": {},
     "output_type": "execute_result"
    }
   ],
   "source": [
    "st"
   ]
  },
  {
   "cell_type": "markdown",
   "metadata": {},
   "source": [
    "Importantly, this doesn't do anything to the original string.\n",
    "\n",
    "Strings have a property called **immutability** - they can't be changed.\n",
    "\n",
    "To save that result we need to do an assignment."
   ]
  },
  {
   "cell_type": "code",
   "execution_count": 15,
   "metadata": {},
   "outputs": [
    {
     "name": "stdout",
     "output_type": "stream",
     "text": [
      "my cat ate my homework\n"
     ]
    }
   ],
   "source": [
    "st=\"my dog ate my homework\"\n",
    "st=st.replace(\"dog\",\"cat\")\n",
    "print(st)"
   ]
  },
  {
   "cell_type": "markdown",
   "metadata": {},
   "source": [
    "Note that we typically get a new id, confirming that we did not actually change the object previously referred to by that name."
   ]
  },
  {
   "cell_type": "code",
   "execution_count": 16,
   "metadata": {},
   "outputs": [
    {
     "name": "stdout",
     "output_type": "stream",
     "text": [
      "2537489539360\n",
      "2537489541440\n"
     ]
    }
   ],
   "source": [
    "st=\"my dog at my homework\"\n",
    "print(id(st))\n",
    "st=st.replace(\"dog\",\"cat\")\n",
    "print(id(st))"
   ]
  },
  {
   "cell_type": "markdown",
   "metadata": {},
   "source": [
    "**Special characters**\n",
    "\n",
    "A backslash preceding a character is used to give special meaning to tha character.\n",
    "In particular\n",
    "\n",
    "- \\n = new line character\n",
    "- \\t = tab character\n",
    "- \\\\\\\\ = backslash character\n",
    "- \\\\\" = to put quotes inside a string (the backslash \"escapes\" the meaning of the \")\n",
    "- \\\\' = to put a single quote inside a string"
   ]
  },
  {
   "cell_type": "markdown",
   "metadata": {},
   "source": [
    "Here's an example of putting literal quotes in a string."
   ]
  },
  {
   "cell_type": "code",
   "execution_count": 19,
   "metadata": {},
   "outputs": [
    {
     "name": "stdout",
     "output_type": "stream",
     "text": [
      "He said \" let's go get a cup of coffee sometime.\"\n"
     ]
    }
   ],
   "source": [
    "st=\"He said \\\" let's go get a cup of coffee sometime.\\\"\"\n",
    "print(st)"
   ]
  },
  {
   "cell_type": "markdown",
   "metadata": {},
   "source": [
    "If the apostrophe were not in the sentence, we could use single quotes."
   ]
  },
  {
   "cell_type": "code",
   "execution_count": 20,
   "metadata": {},
   "outputs": [
    {
     "name": "stdout",
     "output_type": "stream",
     "text": [
      "He said \"let us go get a cup of coffee sometime.\"\n"
     ]
    }
   ],
   "source": [
    "st='He said \"let us go get a cup of coffee sometime.\"'\n",
    "print(st)"
   ]
  },
  {
   "cell_type": "markdown",
   "metadata": {},
   "source": [
    "But the apostrophe in \"let's\" causes a problem."
   ]
  },
  {
   "cell_type": "code",
   "execution_count": 21,
   "metadata": {},
   "outputs": [
    {
     "ename": "SyntaxError",
     "evalue": "invalid syntax (<ipython-input-21-9f200e6b3c80>, line 1)",
     "output_type": "error",
     "traceback": [
      "\u001b[1;36m  File \u001b[1;32m\"<ipython-input-21-9f200e6b3c80>\"\u001b[1;36m, line \u001b[1;32m1\u001b[0m\n\u001b[1;33m    st='He said \"let's us go get a cup of coffee sometime\"'\u001b[0m\n\u001b[1;37m                     ^\u001b[0m\n\u001b[1;31mSyntaxError\u001b[0m\u001b[1;31m:\u001b[0m invalid syntax\n"
     ]
    }
   ],
   "source": [
    "st='He said \"let's us go get a cup of coffee sometime\"'\n",
    "print(st)"
   ]
  },
  {
   "cell_type": "markdown",
   "metadata": {},
   "source": [
    "But we can use the escape to eliminate that issue."
   ]
  },
  {
   "cell_type": "code",
   "execution_count": 22,
   "metadata": {},
   "outputs": [
    {
     "name": "stdout",
     "output_type": "stream",
     "text": [
      "He said \"let's go get a cup of coffee sometime.\"\n"
     ]
    }
   ],
   "source": [
    "st='He said \\\"let\\'s go get a cup of coffee sometime.\\\"'\n",
    "print(st)"
   ]
  },
  {
   "cell_type": "markdown",
   "metadata": {},
   "source": [
    "The newline character often appears in strings."
   ]
  },
  {
   "cell_type": "code",
   "execution_count": 33,
   "metadata": {},
   "outputs": [
    {
     "name": "stdout",
     "output_type": "stream",
     "text": [
      "Roses are red.\n",
      "Violets are blue.\n",
      "I work with Python.\n",
      "Why shouldn't you?\n"
     ]
    }
   ],
   "source": [
    "st=\"Roses are red.\\nViolets are blue.\\nI work with Python.\\nWhy shouldn't you?\"\n",
    "print(st)"
   ]
  },
  {
   "cell_type": "markdown",
   "metadata": {},
   "source": [
    "**Other string methods**\n",
    "\n",
    "There is a host of other methods that can be used on a string. In addition to reading the Python documentations you can use dir(object) to determine the attributes and methods associated with an object.\n",
    "\n",
    "Generally, Python objects have methods (as well as attributes, to be discussed later). \n",
    "\n",
    "We've seen an example of a method - the replace method for a string.\n",
    "\n",
    "A **method** associated with an object is a function that is called using the syntax:\n",
    "\n",
    "    object.method_name()\n",
    "\n",
    "Using the **dir()** function we can determine all methods associated with an object.\n",
    "This is demonstrated with a string object **st** that we created above."
   ]
  },
  {
   "cell_type": "code",
   "execution_count": 25,
   "metadata": {},
   "outputs": [
    {
     "data": {
      "text/plain": [
       "\"Roses are red.\\nViolets are blue.\\nI work with Python.\\nWhy shouldn't you?\""
      ]
     },
     "execution_count": 25,
     "metadata": {},
     "output_type": "execute_result"
    }
   ],
   "source": [
    "st"
   ]
  },
  {
   "cell_type": "code",
   "execution_count": 24,
   "metadata": {},
   "outputs": [
    {
     "data": {
      "text/plain": [
       "['__add__',\n",
       " '__class__',\n",
       " '__contains__',\n",
       " '__delattr__',\n",
       " '__dir__',\n",
       " '__doc__',\n",
       " '__eq__',\n",
       " '__format__',\n",
       " '__ge__',\n",
       " '__getattribute__',\n",
       " '__getitem__',\n",
       " '__getnewargs__',\n",
       " '__gt__',\n",
       " '__hash__',\n",
       " '__init__',\n",
       " '__init_subclass__',\n",
       " '__iter__',\n",
       " '__le__',\n",
       " '__len__',\n",
       " '__lt__',\n",
       " '__mod__',\n",
       " '__mul__',\n",
       " '__ne__',\n",
       " '__new__',\n",
       " '__reduce__',\n",
       " '__reduce_ex__',\n",
       " '__repr__',\n",
       " '__rmod__',\n",
       " '__rmul__',\n",
       " '__setattr__',\n",
       " '__sizeof__',\n",
       " '__str__',\n",
       " '__subclasshook__',\n",
       " 'capitalize',\n",
       " 'casefold',\n",
       " 'center',\n",
       " 'count',\n",
       " 'encode',\n",
       " 'endswith',\n",
       " 'expandtabs',\n",
       " 'find',\n",
       " 'format',\n",
       " 'format_map',\n",
       " 'index',\n",
       " 'isalnum',\n",
       " 'isalpha',\n",
       " 'isascii',\n",
       " 'isdecimal',\n",
       " 'isdigit',\n",
       " 'isidentifier',\n",
       " 'islower',\n",
       " 'isnumeric',\n",
       " 'isprintable',\n",
       " 'isspace',\n",
       " 'istitle',\n",
       " 'isupper',\n",
       " 'join',\n",
       " 'ljust',\n",
       " 'lower',\n",
       " 'lstrip',\n",
       " 'maketrans',\n",
       " 'partition',\n",
       " 'replace',\n",
       " 'rfind',\n",
       " 'rindex',\n",
       " 'rjust',\n",
       " 'rpartition',\n",
       " 'rsplit',\n",
       " 'rstrip',\n",
       " 'split',\n",
       " 'splitlines',\n",
       " 'startswith',\n",
       " 'strip',\n",
       " 'swapcase',\n",
       " 'title',\n",
       " 'translate',\n",
       " 'upper',\n",
       " 'zfill']"
      ]
     },
     "execution_count": 24,
     "metadata": {},
     "output_type": "execute_result"
    }
   ],
   "source": [
    "dir(st)"
   ]
  },
  {
   "cell_type": "markdown",
   "metadata": {},
   "source": [
    "**Examples and Getting Help**"
   ]
  },
  {
   "cell_type": "code",
   "execution_count": 32,
   "metadata": {},
   "outputs": [
    {
     "name": "stdout",
     "output_type": "stream",
     "text": [
      "rosesarered\n"
     ]
    }
   ],
   "source": [
    "st=\"Rosesarered\"\n",
    "st=st.lower()\n",
    "print(st)"
   ]
  },
  {
   "cell_type": "code",
   "execution_count": 35,
   "metadata": {},
   "outputs": [
    {
     "data": {
      "text/plain": [
       "['Roses are red.',\n",
       " 'Violets are blue.',\n",
       " 'I work with Python.',\n",
       " \"Why shouldn't you?\"]"
      ]
     },
     "execution_count": 35,
     "metadata": {},
     "output_type": "execute_result"
    }
   ],
   "source": [
    "st.split(\"\\n\")"
   ]
  },
  {
   "cell_type": "code",
   "execution_count": 54,
   "metadata": {},
   "outputs": [],
   "source": [
    "st=st=\"Roses are red.\\nViolets are blue.\\nI work with Python.\\nWhy shouldn't you?\""
   ]
  },
  {
   "cell_type": "code",
   "execution_count": 55,
   "metadata": {},
   "outputs": [
    {
     "name": "stdout",
     "output_type": "stream",
     "text": [
      "Roses are red.\n",
      "Violets are blue.\n",
      "I work with Python.\n",
      "Why shouldn't you?\n"
     ]
    }
   ],
   "source": [
    "print(st)"
   ]
  },
  {
   "cell_type": "code",
   "execution_count": 57,
   "metadata": {},
   "outputs": [
    {
     "name": "stdout",
     "output_type": "stream",
     "text": [
      "ROSES ARE RED.\n",
      "VIOLETS ARE BLUE.\n",
      "I WORK WITH PYTHON.\n",
      "WHY SHOULDN'T YOU?\n"
     ]
    }
   ],
   "source": [
    "print(st.upper())"
   ]
  },
  {
   "cell_type": "code",
   "execution_count": 58,
   "metadata": {},
   "outputs": [
    {
     "name": "stdout",
     "output_type": "stream",
     "text": [
      "Help on built-in function rstrip:\n",
      "\n",
      "rstrip(chars=None, /) method of builtins.str instance\n",
      "    Return a copy of the string with trailing whitespace removed.\n",
      "    \n",
      "    If chars is given and not None, remove characters in chars instead.\n",
      "\n"
     ]
    }
   ],
   "source": [
    "help(st.rstrip)"
   ]
  },
  {
   "cell_type": "code",
   "execution_count": 59,
   "metadata": {},
   "outputs": [],
   "source": [
    "st=\"This is a string with some whitespace chars \\n \\t \""
   ]
  },
  {
   "cell_type": "code",
   "execution_count": 60,
   "metadata": {},
   "outputs": [
    {
     "data": {
      "text/plain": [
       "'This is a string with some whitespace chars'"
      ]
     },
     "execution_count": 60,
     "metadata": {},
     "output_type": "execute_result"
    }
   ],
   "source": [
    "st.rstrip()"
   ]
  },
  {
   "cell_type": "code",
   "execution_count": null,
   "metadata": {},
   "outputs": [],
   "source": []
  }
 ],
 "metadata": {
  "kernelspec": {
   "display_name": "Python 3",
   "language": "python",
   "name": "python3"
  },
  "language_info": {
   "codemirror_mode": {
    "name": "ipython",
    "version": 3
   },
   "file_extension": ".py",
   "mimetype": "text/x-python",
   "name": "python",
   "nbconvert_exporter": "python",
   "pygments_lexer": "ipython3",
   "version": "3.8.8"
  }
 },
 "nbformat": 4,
 "nbformat_minor": 4
}
