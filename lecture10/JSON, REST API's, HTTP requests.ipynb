{
 "cells": [
  {
   "cell_type": "markdown",
   "metadata": {},
   "source": [
    "**REST api's json & xml**"
   ]
  },
  {
   "cell_type": "markdown",
   "metadata": {},
   "source": [
    "**GET requests**"
   ]
  },
  {
   "cell_type": "markdown",
   "metadata": {},
   "source": [
    "One way to get data from a REST API (think of this as a web site that allows clients to make requests through browsers or devices capable of making requests) through http GET requests. \n",
    "\n",
    "More information about what REST means can be found here:\n",
    "\n",
    "https://restfulapi.net/\n",
    "\n",
    "Here, the information about a request being made is passed to the API is completely determined by the URL formed by the requester. \n",
    "\n",
    "For example, below we'll make a request to the Alpha Vantage site and receive a JSON response.\n",
    "\n",
    "Here is a link to the site:\n",
    "\n",
    "https://www.alphavantage.co/\n",
    "\n",
    "You will need to request a free key to use the site. Here is a link for getting a key: (please do not use my key)\n",
    "\n",
    "https://www.alphavantage.co/support/#api-key\n",
    "\n",
    "This link gives examples of how to use the API\n",
    "\n",
    "https://www.alphavantage.co/documentation/"
   ]
  },
  {
   "cell_type": "markdown",
   "metadata": {},
   "source": [
    "**Search for a symbol**\n",
    "\n",
    "For starters, we try a symbol search.  Here, we search for any symbol matching \"pfe\""
   ]
  },
  {
   "cell_type": "code",
   "execution_count": 1,
   "metadata": {},
   "outputs": [
    {
     "name": "stdout",
     "output_type": "stream",
     "text": [
      "{\n",
      "    \"bestMatches\": [\n",
      "        {\n",
      "            \"1. symbol\": \"PFE\",\n",
      "            \"2. name\": \"Pfizer Inc\",\n",
      "            \"3. type\": \"Equity\",\n",
      "            \"4. region\": \"United States\",\n",
      "            \"5. marketOpen\": \"09:30\",\n",
      "            \"6. marketClose\": \"16:00\",\n",
      "            \"7. timezone\": \"UTC-04\",\n",
      "            \"8. currency\": \"USD\",\n",
      "            \"9. matchScore\": \"1.0000\"\n",
      "        },\n",
      "        {\n",
      "            \"1. symbol\": \"PFEB\",\n",
      "            \"2. name\": \"Innovator U.S. Equity Power Buffer ETF - February\",\n",
      "            \"3. type\": \"ETF\",\n",
      "            \"4. region\": \"United States\",\n",
      "            \"5. marketOpen\": \"09:30\",\n",
      "            \"6. marketClose\": \"16:00\",\n",
      "            \"7. timezone\": \"UTC-04\",\n",
      "            \"8. currency\": \"USD\",\n",
      "            \"9. matchScore\": \"0.8571\"\n",
      "        },\n",
      "        {\n",
      "            \"1. symbol\": \"PFEL\",\n",
      "            \"2. name\": \"AXS 2X PFE Bull Daily ETF\",\n",
      "            \"3. type\": \"ETF\",\n",
      "            \"4. region\": \"United States\",\n",
      "            \"5. marketOpen\": \"09:30\",\n",
      "            \"6. marketClose\": \"16:00\",\n",
      "            \"7. timezone\": \"UTC-04\",\n",
      "            \"8. currency\": \"USD\",\n",
      "            \"9. matchScore\": \"0.8571\"\n",
      "        },\n",
      "        {\n",
      "            \"1. symbol\": \"PFES\",\n",
      "            \"2. name\": \"AXS 2X PFE Bear Daily ETF\",\n",
      "            \"3. type\": \"ETF\",\n",
      "            \"4. region\": \"United States\",\n",
      "            \"5. marketOpen\": \"09:30\",\n",
      "            \"6. marketClose\": \"16:00\",\n",
      "            \"7. timezone\": \"UTC-04\",\n",
      "            \"8. currency\": \"USD\",\n",
      "            \"9. matchScore\": \"0.8571\"\n",
      "        },\n",
      "        {\n",
      "            \"1. symbol\": \"PFE.FRK\",\n",
      "            \"2. name\": \"Pfizer Inc\",\n",
      "            \"3. type\": \"Equity\",\n",
      "            \"4. region\": \"Frankfurt\",\n",
      "            \"5. marketOpen\": \"08:00\",\n",
      "            \"6. marketClose\": \"20:00\",\n",
      "            \"7. timezone\": \"UTC+02\",\n",
      "            \"8. currency\": \"EUR\",\n",
      "            \"9. matchScore\": \"0.7500\"\n",
      "        },\n",
      "        {\n",
      "            \"1. symbol\": \"PFEAX\",\n",
      "            \"2. name\": \"PACIFIC FUNDS SMALL-CAP VALUE CLASS A\",\n",
      "            \"3. type\": \"Mutual Fund\",\n",
      "            \"4. region\": \"United States\",\n",
      "            \"5. marketOpen\": \"09:30\",\n",
      "            \"6. marketClose\": \"16:00\",\n",
      "            \"7. timezone\": \"UTC-04\",\n",
      "            \"8. currency\": \"USD\",\n",
      "            \"9. matchScore\": \"0.7500\"\n",
      "        },\n",
      "        {\n",
      "            \"1. symbol\": \"PFEIX\",\n",
      "            \"2. name\": \"PACIFIC FUNDS SMALL-CAP VALUE CLASS R6\",\n",
      "            \"3. type\": \"Mutual Fund\",\n",
      "            \"4. region\": \"United States\",\n",
      "            \"5. marketOpen\": \"09:30\",\n",
      "            \"6. marketClose\": \"16:00\",\n",
      "            \"7. timezone\": \"UTC-04\",\n",
      "            \"8. currency\": \"USD\",\n",
      "            \"9. matchScore\": \"0.7500\"\n",
      "        },\n",
      "        {\n",
      "            \"1. symbol\": \"PFESX\",\n",
      "            \"2. name\": \"PFG BR Equity ETF Strategy Fund USD Class R\",\n",
      "            \"3. type\": \"Mutual Fund\",\n",
      "            \"4. region\": \"United States\",\n",
      "            \"5. marketOpen\": \"09:30\",\n",
      "            \"6. marketClose\": \"16:00\",\n",
      "            \"7. timezone\": \"UTC-04\",\n",
      "            \"8. currency\": \"USD\",\n",
      "            \"9. matchScore\": \"0.7500\"\n",
      "        },\n",
      "        {\n",
      "            \"1. symbol\": \"PFE.DEX\",\n",
      "            \"2. name\": \"Pfizer Inc\",\n",
      "            \"3. type\": \"Equity\",\n",
      "            \"4. region\": \"XETRA\",\n",
      "            \"5. marketOpen\": \"08:00\",\n",
      "            \"6. marketClose\": \"20:00\",\n",
      "            \"7. timezone\": \"UTC+02\",\n",
      "            \"8. currency\": \"EUR\",\n",
      "            \"9. matchScore\": \"0.6667\"\n",
      "        },\n",
      "        {\n",
      "            \"1. symbol\": \"PFFVF\",\n",
      "            \"2. name\": \"Pfeiffer Vacuum Technology AG\",\n",
      "            \"3. type\": \"Equity\",\n",
      "            \"4. region\": \"United States\",\n",
      "            \"5. marketOpen\": \"09:30\",\n",
      "            \"6. marketClose\": \"16:00\",\n",
      "            \"7. timezone\": \"UTC-04\",\n",
      "            \"8. currency\": \"USD\",\n",
      "            \"9. matchScore\": \"0.5000\"\n",
      "        }\n",
      "    ]\n",
      "}\n"
     ]
    }
   ],
   "source": [
    "import requests\n",
    "url=\"https://www.alphavantage.co/query?function=SYMBOL_SEARCH&keywords=pfe&apikey=BVTKTSNPKMSDK0TN\"\n",
    "resp = requests.get(url)\n",
    "print(resp.text)"
   ]
  },
  {
   "cell_type": "markdown",
   "metadata": {},
   "source": [
    "The output is a JSON string, something to be explained below."
   ]
  },
  {
   "cell_type": "code",
   "execution_count": null,
   "metadata": {},
   "outputs": [],
   "source": [
    "import json\n",
    "url=\"https://www.alphavantage.co/query?function=SYMBOL_SEARCH&keywords=sony&apikey=BVTKTSNPKMSDK0TN\"\n",
    "resp = requests.get(url)\n",
    "data=json.loads(resp.text)\n",
    "print(type(data))"
   ]
  },
  {
   "cell_type": "markdown",
   "metadata": {},
   "source": [
    "Since the data object is a dictionary, we print the keys."
   ]
  },
  {
   "cell_type": "code",
   "execution_count": null,
   "metadata": {},
   "outputs": [],
   "source": [
    "list(data.keys())"
   ]
  },
  {
   "cell_type": "markdown",
   "metadata": {},
   "source": [
    "There is only one key"
   ]
  },
  {
   "cell_type": "code",
   "execution_count": null,
   "metadata": {},
   "outputs": [],
   "source": [
    "k=list(data.keys())[0]\n",
    "type(data[k])"
   ]
  },
  {
   "cell_type": "markdown",
   "metadata": {},
   "source": [
    "We get a list."
   ]
  },
  {
   "cell_type": "code",
   "execution_count": null,
   "metadata": {},
   "outputs": [],
   "source": [
    "data[k][2]"
   ]
  },
  {
   "cell_type": "markdown",
   "metadata": {},
   "source": [
    "**Currency Exchange Rates**\n",
    "\n",
    "This site provides a link to a list of foreign currency symbols:\n",
    "\n",
    "&nbsp;&nbsp;&nbsp; https://www.alphavantage.co/physical_currency_list/\n",
    "\n",
    "Here is an example where we get weekly exchange rates from euros to dollars:\n",
    "\n"
   ]
  },
  {
   "cell_type": "code",
   "execution_count": null,
   "metadata": {},
   "outputs": [],
   "source": [
    "import json\n",
    "import requests\n",
    "url=\"https://www.alphavantage.co/query?function=FX_WEEKLY&from_symbol=EUR&to_symbol=USD&apikey=BVTKTSNPKMSDK0TN\"\n",
    "resp = requests.get(url)\n",
    "data=json.loads(resp.text)\n",
    "print(type(data))"
   ]
  },
  {
   "cell_type": "code",
   "execution_count": null,
   "metadata": {},
   "outputs": [],
   "source": [
    "L=list(data.keys())\n",
    "print(L)"
   ]
  },
  {
   "cell_type": "code",
   "execution_count": null,
   "metadata": {},
   "outputs": [],
   "source": [
    "data[L[0]]"
   ]
  },
  {
   "cell_type": "code",
   "execution_count": null,
   "metadata": {},
   "outputs": [],
   "source": [
    "## Look at this then comment it out cuz it is very long."
   ]
  },
  {
   "cell_type": "code",
   "execution_count": null,
   "metadata": {},
   "outputs": [],
   "source": [
    "#data[L[1]]"
   ]
  },
  {
   "cell_type": "markdown",
   "metadata": {},
   "source": [
    "Let's make an array of date strings and closing rates."
   ]
  },
  {
   "cell_type": "code",
   "execution_count": null,
   "metadata": {},
   "outputs": [],
   "source": [
    "import datetime\n",
    "date=[]\n",
    "close=[]\n",
    "for k in data[L[1]]:\n",
    "    date.append(datetime.datetime.strptime(k, '%Y-%m-%d').date())\n",
    "    close.append(float(data[L[1]][k]['4. close']))"
   ]
  },
  {
   "cell_type": "code",
   "execution_count": null,
   "metadata": {},
   "outputs": [],
   "source": [
    "print(date[1:10])\n",
    "print(close[1:10])"
   ]
  },
  {
   "cell_type": "markdown",
   "metadata": {},
   "source": [
    "And plot the data"
   ]
  },
  {
   "cell_type": "code",
   "execution_count": null,
   "metadata": {},
   "outputs": [],
   "source": [
    "from matplotlib import pyplot as plt\n",
    "plt.figure(figsize=(10,6))\n",
    "plt.title(\"Exchange Rate History EUR to USD\")\n",
    "plt.xlabel(\"Date\")\n",
    "plt.ylabel(\"Exchange Rate\")\n",
    "plt.plot(date,close)"
   ]
  },
  {
   "cell_type": "code",
   "execution_count": null,
   "metadata": {},
   "outputs": [],
   "source": [
    "import json\n",
    "s=json.dumps(close)\n",
    "#print(s)\n",
    "with open(\"close.txt\",\"w\") as fout:\n",
    "    fout.write(s)\n",
    "\n",
    "with open(\"close.txt\") as fin:\n",
    "    s=fin.read()\n",
    "v=json.loads(s)\n",
    "close==v"
   ]
  },
  {
   "cell_type": "markdown",
   "metadata": {},
   "source": [
    "**Journal articles**\n",
    "\n",
    "Here is another example. If you sign up for a key to the News API at this site:\n",
    "\n",
    "&nbsp;&nbsp;&nbsp; https://newsapi.org/\n",
    "\n",
    "you will be able to get news articles from a host of sites. \n",
    "\n",
    "Our first task is to see a list of news sources.\n",
    "\n",
    "(Please sign up for your own key!)"
   ]
  },
  {
   "cell_type": "code",
   "execution_count": null,
   "metadata": {},
   "outputs": [],
   "source": [
    "import json, requests\n",
    "\n",
    "url=\"https://newsapi.org/v2/sources?apiKey=1893f9c334a5406c82666d19376fae79\"\n",
    "resp=requests.get(url)\n",
    "data=json.loads(resp.text)\n",
    "print(type(data))\n",
    "print(list(data.keys()))"
   ]
  },
  {
   "cell_type": "code",
   "execution_count": null,
   "metadata": {},
   "outputs": [],
   "source": [
    "len(data['sources'])"
   ]
  },
  {
   "cell_type": "code",
   "execution_count": null,
   "metadata": {},
   "outputs": [],
   "source": [
    "sources=data['sources']\n",
    "print(sources[56])"
   ]
  },
  {
   "cell_type": "code",
   "execution_count": null,
   "metadata": {},
   "outputs": [],
   "source": [
    "print(sources[0]['name'])"
   ]
  },
  {
   "cell_type": "code",
   "execution_count": null,
   "metadata": {},
   "outputs": [],
   "source": [
    "sources=[x['name'] for x in data['sources']]\n",
    "print(sources)"
   ]
  },
  {
   "cell_type": "markdown",
   "metadata": {},
   "source": [
    "This API has many nice features. For example, we can search all the news sources for articles about a specific topic. The articles found can be retried 20 at a time using the page argument (page=1 gives the first 20, page=2 the second 20, and so on)"
   ]
  },
  {
   "cell_type": "code",
   "execution_count": null,
   "metadata": {},
   "outputs": [],
   "source": [
    "import json, requests\n",
    "url=\"https://newsapi.org/v2/everything?page=1&q=covid&apiKey=1893f9c334a5406c82666d19376fae79\"\n",
    "resp = requests.get(url)\n",
    "data=resp.json()\n",
    "print(type(data))\n",
    "print(list(data.keys()))"
   ]
  },
  {
   "cell_type": "code",
   "execution_count": null,
   "metadata": {},
   "outputs": [],
   "source": [
    "data['status']"
   ]
  },
  {
   "cell_type": "code",
   "execution_count": null,
   "metadata": {},
   "outputs": [],
   "source": [
    "data['totalResults']"
   ]
  },
  {
   "cell_type": "code",
   "execution_count": null,
   "metadata": {},
   "outputs": [],
   "source": [
    "type(data['articles'])"
   ]
  },
  {
   "cell_type": "code",
   "execution_count": null,
   "metadata": {},
   "outputs": [],
   "source": [
    "len(data['articles'])"
   ]
  },
  {
   "cell_type": "code",
   "execution_count": null,
   "metadata": {},
   "outputs": [],
   "source": [
    "data['articles'][19]"
   ]
  },
  {
   "cell_type": "code",
   "execution_count": null,
   "metadata": {},
   "outputs": [],
   "source": [
    "[x['title'] for x in data['articles']]"
   ]
  },
  {
   "cell_type": "markdown",
   "metadata": {
    "jupyter": {
     "source_hidden": true
    },
    "tags": []
   },
   "source": [
    "# POST requests\n",
    "\n",
    "## Another common way to interact with a REST API is via POST requests. Here, in addition to supplying a URL (address) to send the request message to, some additional data is included in the body of the message. It is often the case that the data included is represented using JSON.\n",
    "\n",
    "## Using json and requests packages in combination makes this process quite simple. In the following example, we query a risk model server using a post request. The server expects a JSON string as data. In Python, we create a dictionary object (payload) and convert it to a JSON string using json.dumps().\n",
    "\n",
    "## Then we use the requests package's requests.post() method to post the query to the server. "
   ]
  },
  {
   "cell_type": "code",
   "execution_count": null,
   "metadata": {},
   "outputs": [],
   "source": [
    "L=[{\"dog\":45,\"cat\":[1,2,3]}]\n",
    "Ljson=json.dumps(L)\n",
    "print(Ljson)"
   ]
  },
  {
   "cell_type": "code",
   "execution_count": null,
   "metadata": {},
   "outputs": [],
   "source": [
    "import json\n",
    "url=\"http://riskmodels.incar.jhu.edu/ocpu/library/STS/R/STS.main/json\"\n",
    "payload={\n",
    "          'user_input_list': {\n",
    "                                'model':\"STS_Mort\",\n",
    "                                'query':1\n",
    "                             }\n",
    "        }\n",
    "\n",
    "pjson=json.dumps(payload)\n",
    "\n",
    "print(type(pjson))\n",
    "print(pjson)\n",
    "headers = {'Content-type': 'application/json'}\n",
    "\n",
    "r=requests.post(url=url,data=pjson,headers=headers)\n",
    "\n",
    "print(type(r))\n",
    "print(r.text)\n",
    "out3=r.json()\n",
    "print(type(out3))"
   ]
  },
  {
   "cell_type": "markdown",
   "metadata": {},
   "source": [
    "The returned data is JSON and the request's json() method converts it back to a dictionary of dictionaries whose values are lists."
   ]
  },
  {
   "cell_type": "code",
   "execution_count": null,
   "metadata": {},
   "outputs": [],
   "source": [
    "list(out3.keys())"
   ]
  },
  {
   "cell_type": "code",
   "execution_count": null,
   "metadata": {},
   "outputs": [],
   "source": [
    "print(type(out3['CHF']))\n",
    "print(out3['CHF'])\n",
    "out3['CHF']['default'][0]\n",
    "out3['CHF']['type'][0]"
   ]
  },
  {
   "cell_type": "markdown",
   "metadata": {},
   "source": [
    "**Additional API's**\n",
    "\n",
    "There are many, many API's out there to interact with programmatically.\n",
    "\n",
    "Here is a link to a large database of API's:\n",
    "\n",
    "&nbsp;&nbsp;&nbsp; https://www.programmableweb.com/apis/directory\n",
    "\n",
    "One of the APIs found from searching for financial API's is the open exchange rate site. Anyone can sign up for a site key (api_id) and make queries. (Many features are disabled in the free version.)\n"
   ]
  },
  {
   "cell_type": "code",
   "execution_count": null,
   "metadata": {},
   "outputs": [],
   "source": [
    "import json, requests\n",
    "url='https://openexchangerates.org/api/latest.json?app_id=601313014eb840ae9b6efbf72690b1e1'\n",
    "resp = requests.get(url=url)\n",
    "rates=resp.json()\n",
    "type(rates)"
   ]
  },
  {
   "cell_type": "code",
   "execution_count": null,
   "metadata": {},
   "outputs": [],
   "source": [
    "list(rates.keys())"
   ]
  },
  {
   "cell_type": "code",
   "execution_count": null,
   "metadata": {},
   "outputs": [],
   "source": [
    "rates['timestamp']"
   ]
  },
  {
   "cell_type": "code",
   "execution_count": null,
   "metadata": {},
   "outputs": [],
   "source": [
    "rates['rates']['CNY']"
   ]
  },
  {
   "cell_type": "code",
   "execution_count": null,
   "metadata": {},
   "outputs": [],
   "source": [
    "rates['rates']['CNY']"
   ]
  },
  {
   "cell_type": "code",
   "execution_count": null,
   "metadata": {},
   "outputs": [],
   "source": [
    "print(rates['rates'])"
   ]
  },
  {
   "cell_type": "markdown",
   "metadata": {},
   "source": [
    "Here is an example of getting currency rates for a particular date in the past."
   ]
  },
  {
   "cell_type": "code",
   "execution_count": null,
   "metadata": {},
   "outputs": [],
   "source": [
    "import requests\n",
    "url='https://openexchangerates.org/api/historical/2013-02-16.json?app_id=601313014eb840ae9b6efbf72690b1e1'\n",
    "resp = requests.get(url=url)\n",
    "rates=resp.json()\n",
    "rates\n",
    "rates['rates']['CNY']"
   ]
  },
  {
   "cell_type": "code",
   "execution_count": null,
   "metadata": {},
   "outputs": [],
   "source": [
    "rates['rates']['CNY']"
   ]
  },
  {
   "cell_type": "markdown",
   "metadata": {
    "jp-MarkdownHeadingCollapsed": true,
    "tags": []
   },
   "source": [
    "**JSON**\n",
    "\n",
    "JSON stands for Javascript Object Notation. JSON is as a standard way of encoding data for transferring it between applications. There are other standards. For example XML is another very popular one.\n",
    "\n",
    "JSON is ubiquitous, and you are likely using it in many applications already without realizing it. For example, Jupyter notebooks stored as JSON files (and what you are looking at if you are interacting with a Jupyter notebook via your browser is an interpretation of a JSON file.\n",
    "\n",
    "A JSON structure is a piece of text whose syntax follows some basic grammatical rules that can be described as follows. It uses as primitive types quoted strings, numbers, Boolean (true/false), and null is built out of two data structure types:\n",
    "\n",
    "objects - These are unordered sets of name/value pairs (like dictionaries in Python) enclosed in { }, with entries comma separated. The names are quoted strings.\n",
    "\n",
    "arrays - These are ordered collections of values, enclosed in [] and separated by commas.\n",
    "\n",
    "The type of values allowed are primitive, objects, or arrays.\n",
    "\n",
    "Here is a link to a page describing JSON:\n",
    "\n",
    "&nbsp;&nbsp;&nbsp;  https://documentation.progress.com/output/ua/OpenEdge_latest/index.html#page/dvjsn/json-data-types.html\n",
    "\n",
    "A website is available for testing expressions for JSON validity.\n",
    "\n",
    "&nbsp;&nbsp;&nbsp; https://jsonlint.com/\n",
    "\n",
    "\n",
    "If you have a web service, for example, one that serves up stock quotes, you might require that queries to your server are passed as  customary to set up a We will be looking into passing JSON objects to external applications (web servers) and retreiving JSON objects from those applications. |"
   ]
  },
  {
   "cell_type": "markdown",
   "metadata": {},
   "source": [
    "**JSON package**"
   ]
  },
  {
   "cell_type": "markdown",
   "metadata": {},
   "source": [
    "We can use the json package to convert from certain Python objects to json strings."
   ]
  },
  {
   "cell_type": "code",
   "execution_count": null,
   "metadata": {},
   "outputs": [],
   "source": [
    "import json\n",
    "\n",
    "mydictionary={'a':(175,56), 'b': 165, 'c':[4,5,6], 'd':{'dan':45, 'john':\"johnstring\"}}\n",
    "\n",
    "s=json.dumps(mydictionary)\n",
    "\n",
    "print(s)\n",
    "print(type(s))"
   ]
  },
  {
   "cell_type": "code",
   "execution_count": null,
   "metadata": {},
   "outputs": [],
   "source": [
    "import json\n",
    "\n",
    "mylist=[1,2,{'a':'apple','d':'dog','c': ['cat',12,[2,3]]}]\n",
    "\n",
    "s=json.dumps(mylist)\n",
    "print(s)\n",
    "print(type(s))"
   ]
  },
  {
   "cell_type": "markdown",
   "metadata": {},
   "source": [
    "Objects get stringified if we try to use them as keys"
   ]
  },
  {
   "cell_type": "markdown",
   "metadata": {},
   "source": [
    "And we can go in the other direction. Starting with a json string we can convert back to a Python object.\n",
    "\n",
    "Note that in order to put a \" inside the quotes it needs to be _escaped_ using a backslash."
   ]
  },
  {
   "cell_type": "code",
   "execution_count": null,
   "metadata": {},
   "outputs": [],
   "source": [
    "import json\n",
    "s=\"[1, 2, {\\\"a\\\": \\\"apple\\\", \\\"d\\\": \\\"dog\\\", \\\"c\\\": [\\\"cat\\\", 12, [2, 3]]}]\"\n",
    "print(s)\n"
   ]
  },
  {
   "cell_type": "code",
   "execution_count": null,
   "metadata": {
    "jupyter": {
     "source_hidden": true
    },
    "tags": []
   },
   "outputs": [],
   "source": [
    "import json\n",
    "s=\"[1, 2, {\\\"a\\\": \\\"apple\\\", \\\"d\\\": \\\"dog\\\", \\\"c\\\": [\\\"cat\\\", 12, [2, 3]]}]\"\n",
    "L=json.loads(s)\n",
    "print(type(L))\n",
    "print(L)\n",
    "print(L[2])\n",
    "print(type(L[2]))\n",
    "print(L[2]['c'])"
   ]
  }
 ],
 "metadata": {
  "kernelspec": {
   "display_name": "Python 3 (ipykernel)",
   "language": "python",
   "name": "python3"
  },
  "language_info": {
   "codemirror_mode": {
    "name": "ipython",
    "version": 3
   },
   "file_extension": ".py",
   "mimetype": "text/x-python",
   "name": "python",
   "nbconvert_exporter": "python",
   "pygments_lexer": "ipython3",
   "version": "3.9.12"
  }
 },
 "nbformat": 4,
 "nbformat_minor": 4
}
