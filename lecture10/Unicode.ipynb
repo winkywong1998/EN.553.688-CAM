{
 "cells": [
  {
   "cell_type": "markdown",
   "metadata": {},
   "source": [
    "**Unicode - expanding the human readable text string alphabet**\n",
    "\n",
    "Now consider a file with _very_ special characters. \n",
    "Have a look at the file \"special.txt\"\n",
    "Below is what the file looks like in a hex editor \n",
    "HxD is a free hex editor availble in windows\n",
    "There is also an online hex editor \n",
    "\n",
    "    https://hexed.it/"
   ]
  },
  {
   "cell_type": "code",
   "execution_count": 3,
   "metadata": {},
   "outputs": [
    {
     "data": {
      "image/png": "[encoded data removed]",
      "text/plain": [
       "<IPython.core.display.Image object>"
      ]
     },
     "execution_count": 3,
     "metadata": {},
     "output_type": "execute_result"
    }
   ],
   "source": [
    "from IPython.display import Image\n",
    "Image(\"hexedit.png\")"
   ]
  },
  {
   "cell_type": "markdown",
   "metadata": {},
   "source": [
    "And here is what happens when we read the file into a text string."
   ]
  },
  {
   "cell_type": "code",
   "execution_count": 3,
   "metadata": {},
   "outputs": [
    {
     "name": "stdout",
     "output_type": "stream",
     "text": [
      "Special character: ðŸ˜¸\n",
      "Special character: ðŸ˜€\n",
      "Special character: Î¨\n"
     ]
    }
   ],
   "source": [
    "fin=open(\"special.txt\",\"r\")|\n",
    "text=fin.read()\n",
    "fin.close()\n",
    "print(text)"
   ]
  },
  {
   "cell_type": "markdown",
   "metadata": {},
   "source": [
    "Here's another example. The file special2.txt also contains special characters."
   ]
  },
  {
   "cell_type": "code",
   "execution_count": 1,
   "metadata": {},
   "outputs": [
    {
     "ename": "UnicodeDecodeError",
     "evalue": "'charmap' codec can't decode byte 0x90 in position 5: character maps to <undefined>",
     "output_type": "error",
     "traceback": [
      "\u001b[1;31m---------------------------------------------------------------------------\u001b[0m",
      "\u001b[1;31mUnicodeDecodeError\u001b[0m                        Traceback (most recent call last)",
      "Input \u001b[1;32mIn [1]\u001b[0m, in \u001b[0;36m<cell line: 2>\u001b[1;34m()\u001b[0m\n\u001b[0;32m      1\u001b[0m fin\u001b[38;5;241m=\u001b[39m\u001b[38;5;28mopen\u001b[39m(\u001b[38;5;124m\"\u001b[39m\u001b[38;5;124mspecial2.txt\u001b[39m\u001b[38;5;124m\"\u001b[39m,\u001b[38;5;124m\"\u001b[39m\u001b[38;5;124mr\u001b[39m\u001b[38;5;124m\"\u001b[39m)\n\u001b[1;32m----> 2\u001b[0m text\u001b[38;5;241m=\u001b[39m\u001b[43mfin\u001b[49m\u001b[38;5;241;43m.\u001b[39;49m\u001b[43mread\u001b[49m\u001b[43m(\u001b[49m\u001b[43m)\u001b[49m\n\u001b[0;32m      3\u001b[0m fin\u001b[38;5;241m.\u001b[39mclose()\n\u001b[0;32m      4\u001b[0m \u001b[38;5;28mprint\u001b[39m(text)\n",
      "File \u001b[1;32m~\\anaconda3\\lib\\encodings\\cp1252.py:23\u001b[0m, in \u001b[0;36mIncrementalDecoder.decode\u001b[1;34m(self, input, final)\u001b[0m\n\u001b[0;32m     22\u001b[0m \u001b[38;5;28;01mdef\u001b[39;00m \u001b[38;5;21mdecode\u001b[39m(\u001b[38;5;28mself\u001b[39m, \u001b[38;5;28minput\u001b[39m, final\u001b[38;5;241m=\u001b[39m\u001b[38;5;28;01mFalse\u001b[39;00m):\n\u001b[1;32m---> 23\u001b[0m     \u001b[38;5;28;01mreturn\u001b[39;00m \u001b[43mcodecs\u001b[49m\u001b[38;5;241;43m.\u001b[39;49m\u001b[43mcharmap_decode\u001b[49m\u001b[43m(\u001b[49m\u001b[38;5;28;43minput\u001b[39;49m\u001b[43m,\u001b[49m\u001b[38;5;28;43mself\u001b[39;49m\u001b[38;5;241;43m.\u001b[39;49m\u001b[43merrors\u001b[49m\u001b[43m,\u001b[49m\u001b[43mdecoding_table\u001b[49m\u001b[43m)\u001b[49m[\u001b[38;5;241m0\u001b[39m]\n",
      "\u001b[1;31mUnicodeDecodeError\u001b[0m: 'charmap' codec can't decode byte 0x90 in position 5: character maps to <undefined>"
     ]
    }
   ],
   "source": [
    "fin=open(\"special2.txt\",\"r\")\n",
    "text=fin.read()\n",
    "fin.close()\n",
    "print(text)"
   ]
  },
  {
   "cell_type": "markdown",
   "metadata": {},
   "source": [
    "So we can't even read the file in as a text file!"
   ]
  },
  {
   "cell_type": "markdown",
   "metadata": {},
   "source": [
    "Any file in our computer as consists of a sequence of *bytes*. \n",
    "\n",
    "A *byte* consists of 8 bits (0's and 1's). \n",
    "\n",
    "So each byte can be represented in various ways:\n",
    "\n",
    "- 8 binary digits\n",
    "\n",
    "- a decimal from 0 to 255\n",
    "\n",
    "- 2 hexadecimal digits that is, two digits in base 16 (0,1,..,9,A,B,C,D,E,F)\n",
    "\n",
    "We can have a look at the characters that have been read in and we see that our string almost consists of an entry for each byte."
   ]
  },
  {
   "cell_type": "markdown",
   "metadata": {},
   "source": [
    "We read in the file special.txt and special2.txt and store the bytes. And determine which bytes represent ascii characters.\n",
    "\n",
    "When a byte is in the decimal range 0,1,...,127, i.e. hexadecimal 00 - 7F we can get a character using the built-in chr() function.\n",
    "\n",
    "When a byte is in the decimal range 128,129,...,255 i.e. hexadecimal 80 - FF this defines an extended ascii character."
   ]
  },
  {
   "cell_type": "code",
   "execution_count": 1,
   "metadata": {},
   "outputs": [
    {
     "name": "stdout",
     "output_type": "stream",
     "text": [
      "<class 'bytes'>\n",
      "71\n",
      "S\n",
      "p\n",
      "e\n",
      "c\n",
      "i\n",
      "a\n",
      "l\n",
      " \n",
      "c\n",
      "h\n",
      "a\n",
      "r\n",
      "a\n",
      "c\n",
      "t\n",
      "e\n",
      "r\n",
      ":\n",
      " \n",
      "EXTENDED ASCII\n",
      "EXTENDED ASCII\n",
      "EXTENDED ASCII\n",
      "EXTENDED ASCII\n",
      "\n",
      "\n",
      "\n",
      "S\n",
      "p\n",
      "e\n",
      "c\n",
      "i\n",
      "a\n",
      "l\n",
      " \n",
      "c\n",
      "h\n",
      "a\n",
      "r\n",
      "a\n",
      "c\n",
      "t\n",
      "e\n",
      "r\n",
      ":\n",
      " \n",
      "EXTENDED ASCII\n",
      "EXTENDED ASCII\n",
      "EXTENDED ASCII\n",
      "EXTENDED ASCII\n",
      "\n",
      "\n",
      "\n",
      "S\n",
      "p\n",
      "e\n",
      "c\n",
      "i\n",
      "a\n",
      "l\n",
      " \n",
      "c\n",
      "h\n",
      "a\n",
      "r\n",
      "a\n",
      "c\n",
      "t\n",
      "e\n",
      "r\n",
      ":\n",
      " \n",
      "EXTENDED ASCII\n",
      "EXTENDED ASCII\n"
     ]
    }
   ],
   "source": [
    "fin=open(\"special.txt\",\"rb\")\n",
    "b=fin.read()\n",
    "print(type(b))\n",
    "print(len(b))\n",
    "fin.close()\n",
    "for i in range(len(b)):\n",
    "    if b[i]<128:\n",
    "        print(chr(b[i]))\n",
    "    else: \n",
    "        print(\"EXTENDED ASCII\")"
   ]
  },
  {
   "cell_type": "code",
   "execution_count": 6,
   "metadata": {},
   "outputs": [
    {
     "name": "stdout",
     "output_type": "stream",
     "text": [
      "EXTENDED ASCII\n",
      "EXTENDED ASCII\n",
      "EXTENDED ASCII\n",
      "EXTENDED ASCII\n",
      "EXTENDED ASCII\n",
      "EXTENDED ASCII\n",
      "EXTENDED ASCII\n",
      "EXTENDED ASCII\n",
      "EXTENDED ASCII\n",
      "EXTENDED ASCII\n",
      "EXTENDED ASCII\n",
      "EXTENDED ASCII\n",
      "EXTENDED ASCII\n",
      "EXTENDED ASCII\n",
      "EXTENDED ASCII\n",
      "\n",
      "\n",
      "EXTENDED ASCII\n",
      "EXTENDED ASCII\n",
      "EXTENDED ASCII\n",
      "EXTENDED ASCII\n",
      "EXTENDED ASCII\n",
      "EXTENDED ASCII\n",
      "EXTENDED ASCII\n",
      "EXTENDED ASCII\n",
      "EXTENDED ASCII\n",
      "EXTENDED ASCII\n",
      "EXTENDED ASCII\n",
      "EXTENDED ASCII\n",
      "EXTENDED ASCII\n",
      "EXTENDED ASCII\n",
      "EXTENDED ASCII\n",
      "EXTENDED ASCII\n",
      "EXTENDED ASCII\n",
      "EXTENDED ASCII\n",
      "EXTENDED ASCII\n",
      "EXTENDED ASCII\n",
      "EXTENDED ASCII\n"
     ]
    }
   ],
   "source": [
    "fin=open(\"special2.txt\",\"rb\")\n",
    "b=fin.read()\n",
    "fin.close()\n",
    "for i in range(len(b)):\n",
    "    if b[i]<128:\n",
    "        print(chr(b[i]))\n",
    "    else:\n",
    "        print(\"EXTENDED ASCII\")"
   ]
  },
  {
   "cell_type": "markdown",
   "metadata": {},
   "source": [
    "The _chr_ function converts an integer in the range 0-255 to a character."
   ]
  },
  {
   "cell_type": "code",
   "execution_count": 84,
   "metadata": {},
   "outputs": [
    {
     "name": "stdout",
     "output_type": "stream",
     "text": [
      "True\n",
      "U\n",
      "True\n"
     ]
    }
   ],
   "source": [
    "d1=0x55\n",
    "d2=85\n",
    "print(d1==d2)\n",
    "c1=chr(d1)\n",
    "c2='U'\n",
    "print(c1)\n",
    "print(c1==c2)"
   ]
  },
  {
   "cell_type": "markdown",
   "metadata": {},
   "source": [
    "So an issue here is that our text file contains special _unicode_ characters. The Python interpreter doesn't know that we included these in our file until we alert it to this fact. Instead, the interpreter tries to read the file into the string as a collection of 8 bit characters\n"
   ]
  },
  {
   "cell_type": "markdown",
   "metadata": {},
   "source": [
    "The file \"special.txt\" contains bytes that represent _unicode_ characters, using a particular coding referred to as _utf-8_ (More about how this encoding works below.)\n",
    "\n",
    "If we want to read these bytes into a string and have that string represent the characters, we read the file in as a binary file and then decode the string.\n",
    "\n",
    "When we read the file in as a binary file, we obtain a _bytes_ object."
   ]
  },
  {
   "cell_type": "code",
   "execution_count": 57,
   "metadata": {},
   "outputs": [
    {
     "name": "stdout",
     "output_type": "stream",
     "text": [
      "71\n",
      "b'Special character: \\xf0\\x9f\\x98\\xb8\\r\\nSpecial character: \\xf0\\x9f\\x98\\x80\\r\\nSpecial character: \\xce\\xa8'\n",
      "<class 'bytes'>\n"
     ]
    }
   ],
   "source": [
    "fin=open(\"special.txt\",\"rb\")\n",
    "btext=fin.read()\n",
    "print(len(btext))\n",
    "fin.close()\n",
    "print(btext)\n",
    "print(type(btext))"
   ]
  },
  {
   "cell_type": "markdown",
   "metadata": {},
   "source": [
    "When we print a bytes object to the screen, the ascii characters are shown in their usual representation, while the bytes represeneting non-ascii characters are show as \\xhh where hh consists of two hexadecimal characters."
   ]
  },
  {
   "cell_type": "markdown",
   "metadata": {},
   "source": [
    "**Decoding**\n",
    "\n",
    "This can be then *decoded* to produce a text string with <u> unicode </u> characters."
   ]
  },
  {
   "cell_type": "code",
   "execution_count": 4,
   "metadata": {},
   "outputs": [
    {
     "name": "stdout",
     "output_type": "stream",
     "text": [
      "b'Special character: \\xf0\\x9f\\x98\\xb8\\r\\nSpecial character: \\xf0\\x9f\\x98\\x80\\r\\nSpecial character: \\xce\\xa8'\n"
     ]
    },
    {
     "data": {
      "text/plain": [
       "71"
      ]
     },
     "execution_count": 4,
     "metadata": {},
     "output_type": "execute_result"
    }
   ],
   "source": [
    "fin=open(\"special.txt\",\"rb\")\n",
    "btext=fin.read() # read every byte into btext\n",
    "print(btext)\n",
    "fin.close()\n",
    "len(btext)"
   ]
  },
  {
   "cell_type": "markdown",
   "metadata": {},
   "source": [
    "Now decode it"
   ]
  },
  {
   "cell_type": "code",
   "execution_count": 3,
   "metadata": {},
   "outputs": [
    {
     "name": "stdout",
     "output_type": "stream",
     "text": [
      "Special character: 😸\n",
      "Special character: 😀\n",
      "Special character: Ψ\n",
      "<class 'str'>\n",
      "64\n"
     ]
    }
   ],
   "source": [
    "text=btext.decode()\n",
    "print(text)\n",
    "print(type(text))\n",
    "print(len(text))"
   ]
  },
  {
   "cell_type": "markdown",
   "metadata": {},
   "source": [
    "So we see that Python <u> strings </u> can contain these special unicode characters. A string containing a unicode character has length 1, despite the fact that its binary representation can consist of more than 2 bytes."
   ]
  },
  {
   "cell_type": "code",
   "execution_count": 13,
   "metadata": {},
   "outputs": [
    {
     "name": "stdout",
     "output_type": "stream",
     "text": [
      "😸\n",
      "1\n"
     ]
    }
   ],
   "source": [
    "funnyface=btext[19:23].decode()\n",
    "print(funnyface)\n",
    "print(len(funnyface))"
   ]
  },
  {
   "cell_type": "code",
   "execution_count": 14,
   "metadata": {},
   "outputs": [
    {
     "name": "stdout",
     "output_type": "stream",
     "text": [
      "😸\n",
      "1\n"
     ]
    }
   ],
   "source": [
    "print(text[19])\n",
    "print(len(text[19]))"
   ]
  },
  {
   "cell_type": "markdown",
   "metadata": {},
   "source": [
    "If we try to write our string out to a file we get an error."
   ]
  },
  {
   "cell_type": "code",
   "execution_count": 5,
   "metadata": {},
   "outputs": [
    {
     "ename": "UnicodeEncodeError",
     "evalue": "'charmap' codec can't encode character '\\U0001f638' in position 19: character maps to <undefined>",
     "output_type": "error",
     "traceback": [
      "\u001b[1;31m---------------------------------------------------------------------------\u001b[0m",
      "\u001b[1;31mUnicodeEncodeError\u001b[0m                        Traceback (most recent call last)",
      "\u001b[1;32m~\\AppData\\Local\\Temp/ipykernel_19572/360038480.py\u001b[0m in \u001b[0;36m<module>\u001b[1;34m\u001b[0m\n\u001b[0;32m      1\u001b[0m \u001b[0mfout\u001b[0m\u001b[1;33m=\u001b[0m\u001b[0mopen\u001b[0m\u001b[1;33m(\u001b[0m\u001b[1;34m\"try.txt\"\u001b[0m\u001b[1;33m,\u001b[0m\u001b[1;34m\"w\"\u001b[0m\u001b[1;33m)\u001b[0m\u001b[1;33m\u001b[0m\u001b[1;33m\u001b[0m\u001b[0m\n\u001b[1;32m----> 2\u001b[1;33m \u001b[0mfout\u001b[0m\u001b[1;33m.\u001b[0m\u001b[0mwrite\u001b[0m\u001b[1;33m(\u001b[0m\u001b[0mtext\u001b[0m\u001b[1;33m)\u001b[0m\u001b[1;33m\u001b[0m\u001b[1;33m\u001b[0m\u001b[0m\n\u001b[0m\u001b[0;32m      3\u001b[0m \u001b[0mfout\u001b[0m\u001b[1;33m.\u001b[0m\u001b[0mclose\u001b[0m\u001b[1;33m(\u001b[0m\u001b[1;33m)\u001b[0m\u001b[1;33m\u001b[0m\u001b[1;33m\u001b[0m\u001b[0m\n",
      "\u001b[1;32m~\\anaconda3\\envs\\CAMenv\\lib\\encodings\\cp1252.py\u001b[0m in \u001b[0;36mencode\u001b[1;34m(self, input, final)\u001b[0m\n\u001b[0;32m     17\u001b[0m \u001b[1;32mclass\u001b[0m \u001b[0mIncrementalEncoder\u001b[0m\u001b[1;33m(\u001b[0m\u001b[0mcodecs\u001b[0m\u001b[1;33m.\u001b[0m\u001b[0mIncrementalEncoder\u001b[0m\u001b[1;33m)\u001b[0m\u001b[1;33m:\u001b[0m\u001b[1;33m\u001b[0m\u001b[1;33m\u001b[0m\u001b[0m\n\u001b[0;32m     18\u001b[0m     \u001b[1;32mdef\u001b[0m \u001b[0mencode\u001b[0m\u001b[1;33m(\u001b[0m\u001b[0mself\u001b[0m\u001b[1;33m,\u001b[0m \u001b[0minput\u001b[0m\u001b[1;33m,\u001b[0m \u001b[0mfinal\u001b[0m\u001b[1;33m=\u001b[0m\u001b[1;32mFalse\u001b[0m\u001b[1;33m)\u001b[0m\u001b[1;33m:\u001b[0m\u001b[1;33m\u001b[0m\u001b[1;33m\u001b[0m\u001b[0m\n\u001b[1;32m---> 19\u001b[1;33m         \u001b[1;32mreturn\u001b[0m \u001b[0mcodecs\u001b[0m\u001b[1;33m.\u001b[0m\u001b[0mcharmap_encode\u001b[0m\u001b[1;33m(\u001b[0m\u001b[0minput\u001b[0m\u001b[1;33m,\u001b[0m\u001b[0mself\u001b[0m\u001b[1;33m.\u001b[0m\u001b[0merrors\u001b[0m\u001b[1;33m,\u001b[0m\u001b[0mencoding_table\u001b[0m\u001b[1;33m)\u001b[0m\u001b[1;33m[\u001b[0m\u001b[1;36m0\u001b[0m\u001b[1;33m]\u001b[0m\u001b[1;33m\u001b[0m\u001b[1;33m\u001b[0m\u001b[0m\n\u001b[0m\u001b[0;32m     20\u001b[0m \u001b[1;33m\u001b[0m\u001b[0m\n\u001b[0;32m     21\u001b[0m \u001b[1;32mclass\u001b[0m \u001b[0mIncrementalDecoder\u001b[0m\u001b[1;33m(\u001b[0m\u001b[0mcodecs\u001b[0m\u001b[1;33m.\u001b[0m\u001b[0mIncrementalDecoder\u001b[0m\u001b[1;33m)\u001b[0m\u001b[1;33m:\u001b[0m\u001b[1;33m\u001b[0m\u001b[1;33m\u001b[0m\u001b[0m\n",
      "\u001b[1;31mUnicodeEncodeError\u001b[0m: 'charmap' codec can't encode character '\\U0001f638' in position 19: character maps to <undefined>"
     ]
    }
   ],
   "source": [
    "fout=open(\"try.txt\",\"w\")\n",
    "fout.write(text)\n",
    "fout.close()"
   ]
  },
  {
   "cell_type": "markdown",
   "metadata": {},
   "source": [
    "**Encoding**\n",
    "\n",
    "Going in the other direction, if we have a string with unicode characters in it, then to print it out, we need to encoded it as a bytes object, and write it as a binary file."
   ]
  },
  {
   "cell_type": "code",
   "execution_count": 6,
   "metadata": {},
   "outputs": [
    {
     "name": "stdout",
     "output_type": "stream",
     "text": [
      "<class 'bytes'>\n"
     ]
    }
   ],
   "source": [
    "fout=open(\"try.txt\",\"wb\")\n",
    "bt=text.encode()\n",
    "print(type(bt))\n",
    "fout.write(bt)\n",
    "fout.close()"
   ]
  },
  {
   "cell_type": "code",
   "execution_count": 18,
   "metadata": {},
   "outputs": [],
   "source": [
    "btext2=text.encode()\n",
    "fout=open(\"output4.txt\",\"wb\")\n",
    "fout.write(btext2)\n",
    "fout.close()\n"
   ]
  },
  {
   "cell_type": "markdown",
   "metadata": {},
   "source": [
    "**How does utf-8 encoding work**\n",
    "\n",
    "The encoding method is described enthusiastically in a fun YouTube video here. (Looks like he recorded from a hotel lobby.)\n",
    "\n",
    "https://www.youtube.com/watch?v=MijmeoH9LT4\n",
    "\n",
    "Thomas \"Tom\" Scott[2] is an English YouTuber, educator, game show host and web developer:\n",
    "\n",
    "https://en.wikipedia.org/wiki/Tom_Scott_(presenter)\n",
    "\n",
    "\n",
    "The basic idea is explained in the following image."
   ]
  },
  {
   "cell_type": "code",
   "execution_count": 127,
   "metadata": {},
   "outputs": [
    {
     "data": {
      "image/png": "[encoded data removed]",
      "text/plain": [
       "<IPython.core.display.Image object>"
      ]
     },
     "execution_count": 127,
     "metadata": {},
     "output_type": "execute_result"
    }
   ],
   "source": [
    "from IPython.display import Image\n",
    "Image(\"utf-8.png\")"
   ]
  },
  {
   "cell_type": "markdown",
   "metadata": {},
   "source": [
    "When a byte appears in the stream whose first bit is 0, this indicates that the next 7 bits give code (0-127) of an ascii character.\n",
    "\n",
    "When a byte starts with 110xxxxx, this indicates that the next byte will be of the form 10xxxxxx, and the 11 avilaiable bits can be used to encode a character.\n",
    "\n",
    "When a byte starts with 1110xxxx, this indicates that the next two bytes will be of the form 10xxxxxx, and the 16 avilaiable bits can be used to encode a character.\n",
    "\n",
    "When a byte starts with 11110xxx, this indicates that the next three bytes will be of the form 10xxxxxx, and the 21 avilaiable bits can be used to encode a character.\n",
    "\n",
    "As a result, we are able to encode 2,164,864 possible characters.\n"
   ]
  },
  {
   "cell_type": "code",
   "execution_count": 128,
   "metadata": {},
   "outputs": [
    {
     "data": {
      "text/plain": [
       "2164864"
      ]
     },
     "execution_count": 128,
     "metadata": {},
     "output_type": "execute_result"
    }
   ],
   "source": [
    "2**21 + 2**16 + 2**11 + 2**7"
   ]
  },
  {
   "cell_type": "markdown",
   "metadata": {},
   "source": [
    "For example, the binary representations of the special characters mentioned above are:"
   ]
  },
  {
   "cell_type": "markdown",
   "metadata": {},
   "source": [
    "\\xf0\\x9f\\x98\\xb8 represents the decimal 4,036,991,160 which in binary takes the form 11110000|10011111|10011000|10111000\n",
    "\n",
    "\\xf0\\x9f\\x98\\x80 represents the decimal 4,036,991,104 which in binary takes the form 11110000|10011111|10011000|10000000\n",
    "\n",
    "\\xce\\xa8 represents the decimal 53,904 which in binary takes the form 11001110|10101000\n",
    "\n",
    "Below we see how these calculations can be done in Python."
   ]
  },
  {
   "cell_type": "code",
   "execution_count": 135,
   "metadata": {},
   "outputs": [
    {
     "data": {
      "text/plain": [
       "'0b11110000100111111001100010000000'"
      ]
     },
     "execution_count": 135,
     "metadata": {},
     "output_type": "execute_result"
    }
   ],
   "source": [
    "bin(0xf0*256**3+0x9f*256**2+0x98*256+0x80)"
   ]
  },
  {
   "cell_type": "code",
   "execution_count": 137,
   "metadata": {},
   "outputs": [
    {
     "data": {
      "text/plain": [
       "52904"
      ]
     },
     "execution_count": 137,
     "metadata": {},
     "output_type": "execute_result"
    }
   ],
   "source": [
    "0xce*256+0xa8"
   ]
  },
  {
   "cell_type": "code",
   "execution_count": 6,
   "metadata": {},
   "outputs": [
    {
     "data": {
      "text/plain": [
       "'0b11110000'"
      ]
     },
     "execution_count": 6,
     "metadata": {},
     "output_type": "execute_result"
    }
   ],
   "source": [
    "bin(0xf0)"
   ]
  },
  {
   "cell_type": "code",
   "execution_count": 7,
   "metadata": {},
   "outputs": [
    {
     "data": {
      "text/plain": [
       "'0b10011111'"
      ]
     },
     "execution_count": 7,
     "metadata": {},
     "output_type": "execute_result"
    }
   ],
   "source": [
    "bin(0x9f)"
   ]
  },
  {
   "cell_type": "markdown",
   "metadata": {},
   "source": [
    "**Code points**\n",
    "\n",
    "Strings with unicode characters behave like strings we've seen before."
   ]
  },
  {
   "cell_type": "code",
   "execution_count": 2,
   "metadata": {},
   "outputs": [
    {
     "name": "stdout",
     "output_type": "stream",
     "text": [
      "Special character: 😸\n",
      "Special character: 😀\n",
      "Special character: Ψ\n"
     ]
    }
   ],
   "source": [
    "fin=open(\"special.txt\",\"rb\")\n",
    "btext=fin.read()\n",
    "fin.close()\n",
    "text=btext.decode()\n",
    "print(text)"
   ]
  },
  {
   "cell_type": "code",
   "execution_count": 10,
   "metadata": {},
   "outputs": [
    {
     "data": {
      "text/plain": [
       "64"
      ]
     },
     "execution_count": 10,
     "metadata": {},
     "output_type": "execute_result"
    }
   ],
   "source": [
    "len(text)"
   ]
  },
  {
   "cell_type": "markdown",
   "metadata": {},
   "source": [
    "We can isolate these special characters"
   ]
  },
  {
   "cell_type": "code",
   "execution_count": 16,
   "metadata": {},
   "outputs": [
    {
     "name": "stdout",
     "output_type": "stream",
     "text": [
      "😸 😀 Ψ\n"
     ]
    }
   ],
   "source": [
    "c1=text[19]\n",
    "c2=text[41]\n",
    "c3=text[63]\n",
    "print(c1,c2,c3)"
   ]
  },
  {
   "cell_type": "markdown",
   "metadata": {},
   "source": [
    "Every Unicode character has a code point, which we can look up in standard unicode tables.\n",
    "\n",
    "The function ord() gives us the code point of a character."
   ]
  },
  {
   "cell_type": "code",
   "execution_count": 17,
   "metadata": {},
   "outputs": [
    {
     "name": "stdout",
     "output_type": "stream",
     "text": [
      "128568\n",
      "128512\n",
      "936\n"
     ]
    }
   ],
   "source": [
    "print(ord(c1))\n",
    "print(ord(c2))\n",
    "print(ord(c3))"
   ]
  },
  {
   "cell_type": "markdown",
   "metadata": {},
   "source": [
    "So we can go to our online character table and find the code point for some character. \n",
    "\n",
    "Here\n",
    "\n",
    "https://www.unicode.org/charts/PDF/U1F600.pdf\n",
    "\n",
    "We find that the code point for the smiling face with sunglasses is 1F60E. This is a hexadecimal representation of a code point.\n",
    "\n",
    "To convert from code point to character, we use _chr()_."
   ]
  },
  {
   "cell_type": "code",
   "execution_count": 196,
   "metadata": {},
   "outputs": [
    {
     "name": "stdout",
     "output_type": "stream",
     "text": [
      "128526\n"
     ]
    }
   ],
   "source": [
    "d=0x1F60E\n",
    "print(d)"
   ]
  },
  {
   "cell_type": "code",
   "execution_count": 197,
   "metadata": {},
   "outputs": [
    {
     "data": {
      "text/plain": [
       "'😎'"
      ]
     },
     "execution_count": 197,
     "metadata": {},
     "output_type": "execute_result"
    }
   ],
   "source": [
    "chr(128526)"
   ]
  },
  {
   "cell_type": "markdown",
   "metadata": {},
   "source": [
    "Here os a link to the unicode character table:\n",
    "\n",
    "https://unicode-table.com/en/\n",
    "\n",
    "We can choose a character from this page and insert it into a text string."
   ]
  },
  {
   "cell_type": "code",
   "execution_count": 199,
   "metadata": {},
   "outputs": [
    {
     "name": "stdout",
     "output_type": "stream",
     "text": [
      "😎\n"
     ]
    }
   ],
   "source": [
    "c=chr(0x1F60E)\n",
    "print(c)"
   ]
  },
  {
   "cell_type": "markdown",
   "metadata": {},
   "source": [
    "Flowers from that site\n",
    "\n",
    "https://unicode-table.com/en/sets/symbols-for-nickname/#flowers"
   ]
  },
  {
   "cell_type": "code",
   "execution_count": 19,
   "metadata": {},
   "outputs": [
    {
     "name": "stdout",
     "output_type": "stream",
     "text": [
      "❉🌼🌷\n"
     ]
    }
   ],
   "source": [
    "c1=chr(0x2749)\n",
    "c2=chr(0x1f33c)\n",
    "c3=chr(0x1f337)\n",
    "print(c1+c2+c3)"
   ]
  },
  {
   "cell_type": "code",
   "execution_count": 3,
   "metadata": {},
   "outputs": [
    {
     "ename": "SyntaxError",
     "evalue": "invalid syntax (826327269.py, line 1)",
     "output_type": "error",
     "traceback": [
      "\u001b[1;36m  Input \u001b[1;32mIn [3]\u001b[1;36m\u001b[0m\n\u001b[1;33m    It is possible to have a binary file with mal-formed utf-8 encoding.\u001b[0m\n\u001b[1;37m                   ^\u001b[0m\n\u001b[1;31mSyntaxError\u001b[0m\u001b[1;31m:\u001b[0m invalid syntax\n"
     ]
    }
   ],
   "source": [
    "It is possible to have a binary file with mal-formed utf-8 encoding.\n",
    "\n",
    "1111 1110"
   ]
  },
  {
   "cell_type": "code",
   "execution_count": 5,
   "metadata": {},
   "outputs": [
    {
     "ename": "UnicodeDecodeError",
     "evalue": "'utf-8' codec can't decode byte 0xfe in position 0: invalid start byte",
     "output_type": "error",
     "traceback": [
      "\u001b[1;31m---------------------------------------------------------------------------\u001b[0m",
      "\u001b[1;31mUnicodeDecodeError\u001b[0m                        Traceback (most recent call last)",
      "\u001b[1;32m<ipython-input-5-19ced6d2d13f>\u001b[0m in \u001b[0;36m<module>\u001b[1;34m\u001b[0m\n\u001b[0;32m      1\u001b[0m \u001b[0mbst\u001b[0m\u001b[1;33m=\u001b[0m\u001b[0mbytearray\u001b[0m\u001b[1;33m(\u001b[0m\u001b[1;33m)\u001b[0m\u001b[1;33m\u001b[0m\u001b[1;33m\u001b[0m\u001b[0m\n\u001b[0;32m      2\u001b[0m \u001b[0mbst\u001b[0m\u001b[1;33m.\u001b[0m\u001b[0mappend\u001b[0m\u001b[1;33m(\u001b[0m\u001b[1;36m0xFE\u001b[0m\u001b[1;33m)\u001b[0m\u001b[1;33m\u001b[0m\u001b[1;33m\u001b[0m\u001b[0m\n\u001b[1;32m----> 3\u001b[1;33m \u001b[0mbst\u001b[0m\u001b[1;33m.\u001b[0m\u001b[0mdecode\u001b[0m\u001b[1;33m(\u001b[0m\u001b[1;33m)\u001b[0m\u001b[1;33m\u001b[0m\u001b[1;33m\u001b[0m\u001b[0m\n\u001b[0m",
      "\u001b[1;31mUnicodeDecodeError\u001b[0m: 'utf-8' codec can't decode byte 0xfe in position 0: invalid start byte"
     ]
    }
   ],
   "source": [
    "bst=bytearray()\n",
    "bst.append(0xFE)\n",
    "bst.decode()"
   ]
  },
  {
   "cell_type": "code",
   "execution_count": null,
   "metadata": {},
   "outputs": [],
   "source": []
  }
 ],
 "metadata": {
  "kernelspec": {
   "display_name": "Python 3 (ipykernel)",
   "language": "python",
   "name": "python3"
  },
  "language_info": {
   "codemirror_mode": {
    "name": "ipython",
    "version": 3
   },
   "file_extension": ".py",
   "mimetype": "text/x-python",
   "name": "python",
   "nbconvert_exporter": "python",
   "pygments_lexer": "ipython3",
   "version": "3.9.12"
  }
 },
 "nbformat": 4,
 "nbformat_minor": 4
}
