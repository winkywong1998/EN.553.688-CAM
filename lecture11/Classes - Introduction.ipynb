{
 "cells": [
  {
   "cell_type": "markdown",
   "metadata": {},
   "source": [
    "**A first look at Classes**\n",
    "\n",
    "\n",
    "We start with the simple task of building a new data type. \n",
    "\n",
    "To illustrate, suppose we are programming for a project in which we arrange for trades to take place on an exchange. Once that trade is executed, we want to store the information about the trade that took place. \n",
    "\n",
    "A trade can be represented by the following components:\n",
    "\n",
    "- a time stamp (when did the trade take place)\n",
    "- a buyer\n",
    "- a seller\n",
    "- an asset traded (stock symbol)\n",
    "- the price agreed upon\n",
    "- the quantity of the asset sold\n",
    "\n",
    "We want to define an object called a *trade* so we create a *class* that allows us to create instances of such objects. \n",
    "\n",
    "When we create a class, the first order of business is creating a _constructor_ which in Python is creating a user-defined  \\_\\_init\\_\\_ function. The constructor is said to *instanciate* an object in the class, i.e. create an *instance* of an object."
   ]
  },
  {
   "cell_type": "code",
   "execution_count": 1,
   "metadata": {},
   "outputs": [],
   "source": [
    "import datetime\n",
    "class trade:\n",
    "    def __init__(self,timestamp, symbol,buyerid,sellerid,price,quantity):\n",
    "        self.timestamp=timestamp\n",
    "        self.symbol=symbol\n",
    "        self.buyerid=buyerid\n",
    "        self.sellerid=sellerid\n",
    "        self.price=price\n",
    "        self.quantity=quantity"
   ]
  },
  {
   "cell_type": "markdown",
   "metadata": {},
   "source": [
    "Then from the user's point of view, instantiating an object in the class and populating the object's _attributes_ (symbol, buyerid, sellerid, etc.) becomes a matter of calling the function with the class name."
   ]
  },
  {
   "cell_type": "code",
   "execution_count": 2,
   "metadata": {},
   "outputs": [
    {
     "name": "stdout",
     "output_type": "stream",
     "text": [
      "<class '__main__.trade'>\n"
     ]
    }
   ],
   "source": [
    "dt=datetime.datetime(2019,9,30,10,14) # dt is a datetime object\n",
    "\n",
    "trade1=trade(dt,\"MSFT\", \"AJU8A9\", \"HYT4T2\", 67.454, 1200)\n",
    "print(type(trade1))\n",
    "\n",
    "dt2=datetime.datetime(2019,9,30,10,15) # dt is a datetime object\n",
    "trade2=trade(dt2,\"MSFT\", \"AJU8A9\", \"HYT4T2\", 67.4, 1000)\n",
    "\n"
   ]
  },
  {
   "cell_type": "markdown",
   "metadata": {},
   "source": [
    "The atttributes are available using the . after the object."
   ]
  },
  {
   "cell_type": "code",
   "execution_count": 3,
   "metadata": {},
   "outputs": [
    {
     "name": "stdout",
     "output_type": "stream",
     "text": [
      "2019-09-30 10:14:00\n",
      "67.454\n",
      "MSFT\n",
      "AJU8A9\n",
      "HYT4T2\n",
      "67.454\n",
      "1200\n"
     ]
    }
   ],
   "source": [
    "print(trade1.timestamp)\n",
    "print(trade1.price)\n",
    "print(trade1.symbol)\n",
    "print(trade1.buyerid)\n",
    "print(trade1.sellerid)\n",
    "print(trade1.price)\n",
    "print(trade1.quantity)"
   ]
  },
  {
   "cell_type": "markdown",
   "metadata": {},
   "source": [
    "Attributes can be modified."
   ]
  },
  {
   "cell_type": "code",
   "execution_count": 4,
   "metadata": {},
   "outputs": [
    {
     "name": "stdout",
     "output_type": "stream",
     "text": [
      "1500\n"
     ]
    }
   ],
   "source": [
    "trade1.quantity=1500\n",
    "print(trade1.quantity)"
   ]
  },
  {
   "cell_type": "markdown",
   "metadata": {},
   "source": [
    "The user can even add additional attributes."
   ]
  },
  {
   "cell_type": "code",
   "execution_count": 5,
   "metadata": {},
   "outputs": [],
   "source": [
    "trade1.after_hours_trade=True"
   ]
  },
  {
   "cell_type": "code",
   "execution_count": 7,
   "metadata": {},
   "outputs": [
    {
     "name": "stdout",
     "output_type": "stream",
     "text": [
      "True\n"
     ]
    }
   ],
   "source": [
    "print(trade1.after_hours_trade)"
   ]
  },
  {
   "cell_type": "markdown",
   "metadata": {},
   "source": [
    "You might wonder whether it is possible to make an object immutable or make its attributes immutable. There is a fair amount of discussion by various bloggers about this on the internet."
   ]
  },
  {
   "cell_type": "markdown",
   "metadata": {},
   "source": [
    "At this point, printing the object isn't very informative."
   ]
  },
  {
   "cell_type": "code",
   "execution_count": 8,
   "metadata": {},
   "outputs": [
    {
     "name": "stdout",
     "output_type": "stream",
     "text": [
      "<__main__.trade object at 0x00000228E8176070>\n"
     ]
    }
   ],
   "source": [
    "print(trade1)"
   ]
  },
  {
   "cell_type": "markdown",
   "metadata": {},
   "source": [
    "**Adding a method to a class**"
   ]
  },
  {
   "cell_type": "code",
   "execution_count": 9,
   "metadata": {},
   "outputs": [
    {
     "name": "stdout",
     "output_type": "stream",
     "text": [
      "type of self = <class '__main__.trade'>\n",
      "MSFT\n"
     ]
    },
    {
     "data": {
      "text/plain": [
       "'MSFT'"
      ]
     },
     "execution_count": 9,
     "metadata": {},
     "output_type": "execute_result"
    }
   ],
   "source": [
    "import datetime\n",
    "class trade:\n",
    "    def __init__(self,timestamp, symbol,buyerid,sellerid,price,quantity):\n",
    "        print(\"type of self = \"+str(type(self)))\n",
    "        self.timestamp=timestamp\n",
    "        self.symbol=symbol\n",
    "        self.buyerid=buyerid\n",
    "        self.sellerid=sellerid\n",
    "        self.price=price\n",
    "        self.quantity=quantity\n",
    "    def square_of_quantity(self):\n",
    "        s=self.quantity**2\n",
    "        return(s)\n",
    "    def get_symbol(self):\n",
    "        return(self.symbol)\n",
    "dt=datetime.datetime(2019,9,30,10,14) # dt is a datetime object\n",
    "trade1=trade(dt,\"MSFT\", \"AJU8A9\", \"HYT4T2\", 67.454, 1200)\n",
    "print(trade1.symbol)\n",
    "trade1.square_of_quantity()\n",
    "trade1.get_symbol()"
   ]
  },
  {
   "cell_type": "markdown",
   "metadata": {},
   "source": [
    "**Adding a print method**"
   ]
  },
  {
   "cell_type": "code",
   "execution_count": 10,
   "metadata": {},
   "outputs": [
    {
     "name": "stdout",
     "output_type": "stream",
     "text": [
      "TimeStamp: 10/19/2022 09:53:59:087\n",
      "Symbol: MSFT\n",
      "BuyerId: = AJU8A9\n",
      "SellerId: HYT4T2\n",
      "Price: 67.454\n",
      "Quantity 1200\n",
      "\n"
     ]
    }
   ],
   "source": [
    "import datetime\n",
    "class trade:\n",
    "    def __init__(self,timestamp, symbol,buyerid,sellerid,price,quantity):\n",
    "        self.timestamp=timestamp\n",
    "        self.symbol=symbol\n",
    "        self.buyerid=buyerid\n",
    "        self.sellerid=sellerid\n",
    "        self.price=price\n",
    "        self.quantity=quantity\n",
    "    def print(self):\n",
    "        timestr=self.timestamp.strftime(\"%m/%d/%Y %H:%M:%S:%f\")[:-3]\n",
    "        s=\"TimeStamp: \" + timestr + \"\\n\"\n",
    "        s+=\"Symbol: \" + self.symbol + \"\\n\"\n",
    "        s+=\"BuyerId: = \" + self.buyerid + \"\\n\"\n",
    "        s+=\"SellerId: \" + self.sellerid + \"\\n\"\n",
    "        s+=\"Price: \" + str(self.price) + \"\\n\"\n",
    "        s+=\"Quantity \" + str(self.quantity) + \"\\n\"\n",
    "        print(s)\n",
    "    def squareofprice(self):\n",
    "        return(self.price**2)\n",
    "trade1=trade(datetime.datetime.today(),\"MSFT\", \"AJU8A9\", \"HYT4T2\", 67.454, 1200)\n",
    "trade1.print()"
   ]
  },
  {
   "cell_type": "code",
   "execution_count": 11,
   "metadata": {},
   "outputs": [
    {
     "name": "stdout",
     "output_type": "stream",
     "text": [
      "<__main__.trade object at 0x00000228E826FC40>\n"
     ]
    }
   ],
   "source": [
    "print(trade1)"
   ]
  },
  {
   "cell_type": "code",
   "execution_count": 12,
   "metadata": {},
   "outputs": [
    {
     "name": "stdout",
     "output_type": "stream",
     "text": [
      "5.6\n",
      "[1, 0.2, '3']\n"
     ]
    }
   ],
   "source": [
    "x=5.6\n",
    "print(x)\n",
    "L=[1,.2,\"3\"]\n",
    "print(L)"
   ]
  },
  {
   "cell_type": "markdown",
   "metadata": {},
   "source": [
    "**Stringify**\n",
    "\n",
    "We can also add a \\_\\_str\\_\\_ method with similar code, but this code actually returns something (a string). When we print with a trade as an argument, this results in calling the method to create a string version to print, and then prints it."
   ]
  },
  {
   "cell_type": "code",
   "execution_count": 15,
   "metadata": {},
   "outputs": [
    {
     "name": "stdout",
     "output_type": "stream",
     "text": [
      "__str__ has been called!!!!\n",
      "TimeStamp: 10/19/2022 10:05:42:300\n",
      "Symbol: MSFT\n",
      "BuyerId: = AJU8A9\n",
      "SellerId: HYT4T2\n",
      "Price: 67.454\n",
      "Quantity 1200\n",
      "\n",
      "__str__ has been called!!!!\n"
     ]
    },
    {
     "data": {
      "text/plain": [
       "'TimeStamp: 10/19/2022 10:05:42:300\\nSymbol: MSFT\\nBuyerId: = AJU8A9\\nSellerId: HYT4T2\\nPrice: 67.454\\nQuantity 1200\\n'"
      ]
     },
     "execution_count": 15,
     "metadata": {},
     "output_type": "execute_result"
    }
   ],
   "source": [
    "import datetime\n",
    "class trade:\n",
    "    def __init__(self,timestamp, symbol,buyerid,sellerid,price,quantity):\n",
    "        self.timestamp=timestamp\n",
    "        self.symbol=symbol\n",
    "        self.buyerid=buyerid\n",
    "        self.sellerid=sellerid\n",
    "        self.price=price\n",
    "        self.quantity=quantity\n",
    "    def print(self):\n",
    "        timestr=self.timestamp.strftime(\"%m/%d/%Y %H:%M:%S:%f\")[:-3]\n",
    "        s=\"TimeStamp: \" + timestr + \"\\n\"\n",
    "        s+=\"Symbol: \" + self.symbol + \"\\n\"\n",
    "        s+=\"BuyerId: = \" + self.buyerid + \"\\n\"\n",
    "        s+=\"SellerId: \" + self.sellerid + \"\\n\"\n",
    "        s+=\"Price: \" + str(self.price) + \"\\n\"\n",
    "        s+=\"Quantity \" + str(self.quantity) + \"\\n\"\n",
    "        print(s) #print the string\n",
    "    def __str__(self): # stringify!!!\n",
    "        print(\"__str__ has been called!!!!\")\n",
    "        timestr=self.timestamp.strftime(\"%m/%d/%Y %H:%M:%S:%f\")[:-3]\n",
    "        s=\"TimeStamp: \" + timestr + \"\\n\"\n",
    "        s+=\"Symbol: \" + self.symbol + \"\\n\"\n",
    "        s+=\"BuyerId: = \" + self.buyerid + \"\\n\"\n",
    "        s+=\"SellerId: \" + self.sellerid + \"\\n\"\n",
    "        s+=\"Price: \" + str(self.price) + \"\\n\"\n",
    "        s+=\"Quantity \" + str(self.quantity) + \"\\n\"\n",
    "        return(s) # return string\n",
    "    def __len__(self):\n",
    "        return(self.quantity)\n",
    "trade1=trade(datetime.datetime.today(),\"MSFT\", \"AJU8A9\", \"HYT4T2\", 67.454, 1200)\n",
    "print(trade1)\n",
    "str(trade1) # str uses the __str__() method we created\n"
   ]
  },
  {
   "cell_type": "markdown",
   "metadata": {},
   "source": [
    "We can verify that \\_\\_str\\_\\_ was called automatically."
   ]
  },
  {
   "cell_type": "code",
   "execution_count": 16,
   "metadata": {},
   "outputs": [
    {
     "name": "stdout",
     "output_type": "stream",
     "text": [
      "in __str__ \n",
      "\n",
      "TimeStamp: 10/19/2022 10:05:45:586\n",
      "Symbol: MSFT\n",
      "BuyerId: = AJU8A9\n",
      "SellerId: HYT4T2\n",
      "Price: 67.454\n",
      "Quantity 1200\n",
      "\n"
     ]
    }
   ],
   "source": [
    "import datetime\n",
    "class trade:\n",
    "    def __init__(self,timestamp, symbol,buyerid,sellerid,price,quantity):\n",
    "        self.timestamp=timestamp\n",
    "        self.symbol=symbol\n",
    "        self.buyerid=buyerid\n",
    "        self.sellerid=sellerid\n",
    "        self.price=price\n",
    "        self.quantity=quantity\n",
    "    def print(self):\n",
    "        timestr=self.timestamp.strftime(\"%m/%d/%Y %H:%M:%S:%f\")[:-3]\n",
    "        s=\"TimeStamp: \" + timestr + \"\\n\"\n",
    "        s+=\"Symbol: \" + self.symbol + \"\\n\"\n",
    "        s+=\"BuyerId: = \" + self.buyerid + \"\\n\"\n",
    "        s+=\"SellerId: \" + self.sellerid + \"\\n\"\n",
    "        s+=\"Price: \" + str(self.price) + \"\\n\"\n",
    "        s+=\"Quantity \" + str(self.quantity) + \"\\n\"\n",
    "        print(s)\n",
    "    def __str__(self):\n",
    "        print(\"in __str__ \\n\")\n",
    "        timestr=self.timestamp.strftime(\"%m/%d/%Y %H:%M:%S:%f\")[:-3]\n",
    "        s=\"TimeStamp: \" + timestr + \"\\n\"\n",
    "        s+=\"Symbol: \" + self.symbol + \"\\n\"\n",
    "        s+=\"BuyerId: = \" + self.buyerid + \"\\n\"\n",
    "        s+=\"SellerId: \" + self.sellerid + \"\\n\"\n",
    "        s+=\"Price: \" + str(self.price) + \"\\n\"\n",
    "        s+=\"Quantity \" + str(self.quantity) + \"\\n\"\n",
    "        return(s)\n",
    "trade1=trade(datetime.datetime.today(),\"MSFT\", \"AJU8A9\", \"HYT4T2\", 67.454, 1200)\n",
    "print(trade1)"
   ]
  },
  {
   "cell_type": "markdown",
   "metadata": {},
   "source": [
    "We know of one other instance in which \\_\\_str\\_\\_ is automatically called."
   ]
  },
  {
   "cell_type": "code",
   "execution_count": 17,
   "metadata": {},
   "outputs": [
    {
     "name": "stdout",
     "output_type": "stream",
     "text": [
      "in __str__ \n",
      "\n",
      "This is a string to format \n",
      " TimeStamp: 10/19/2022 10:05:45:586\n",
      "Symbol: MSFT\n",
      "BuyerId: = AJU8A9\n",
      "SellerId: HYT4T2\n",
      "Price: 67.454\n",
      "Quantity 1200\n",
      ".\n"
     ]
    }
   ],
   "source": [
    "st=\"This is a string to format \\n {}.\".format(trade1)\n",
    "print(st)"
   ]
  },
  {
   "cell_type": "markdown",
   "metadata": {},
   "source": [
    "**Standard syntax**\n",
    "\n",
    "In Python, methods and attributes of object with names of the form \\_\\_functionname\\_\\_  are typically viewed as private, meaning, not part of that object's _public_ interface. That is, when we create objects, the code that makes use of those objects typically doesn't use those functions or attributes directly. These are viewed as part of the inner workings of the object. This is how the concept of _encapsulation_ in object-oriented programming is implemented in Python. Other languages are more strict about not allowing the private methods to be touched."
   ]
  },
  {
   "cell_type": "code",
   "execution_count": 18,
   "metadata": {},
   "outputs": [
    {
     "data": {
      "text/plain": [
       "['__add__',\n",
       " '__class__',\n",
       " '__class_getitem__',\n",
       " '__contains__',\n",
       " '__delattr__',\n",
       " '__delitem__',\n",
       " '__dir__',\n",
       " '__doc__',\n",
       " '__eq__',\n",
       " '__format__',\n",
       " '__ge__',\n",
       " '__getattribute__',\n",
       " '__getitem__',\n",
       " '__gt__',\n",
       " '__hash__',\n",
       " '__iadd__',\n",
       " '__imul__',\n",
       " '__init__',\n",
       " '__init_subclass__',\n",
       " '__iter__',\n",
       " '__le__',\n",
       " '__len__',\n",
       " '__lt__',\n",
       " '__mul__',\n",
       " '__ne__',\n",
       " '__new__',\n",
       " '__reduce__',\n",
       " '__reduce_ex__',\n",
       " '__repr__',\n",
       " '__reversed__',\n",
       " '__rmul__',\n",
       " '__setattr__',\n",
       " '__setitem__',\n",
       " '__sizeof__',\n",
       " '__str__',\n",
       " '__subclasshook__',\n",
       " 'append',\n",
       " 'clear',\n",
       " 'copy',\n",
       " 'count',\n",
       " 'extend',\n",
       " 'index',\n",
       " 'insert',\n",
       " 'pop',\n",
       " 'remove',\n",
       " 'reverse',\n",
       " 'sort']"
      ]
     },
     "execution_count": 18,
     "metadata": {},
     "output_type": "execute_result"
    }
   ],
   "source": [
    "dir(list)"
   ]
  },
  {
   "cell_type": "code",
   "execution_count": 24,
   "metadata": {},
   "outputs": [
    {
     "name": "stdout",
     "output_type": "stream",
     "text": [
      "3\n"
     ]
    }
   ],
   "source": [
    "L=[1,2,3]\n",
    "len(L)\n",
    "print(L.__len__())"
   ]
  },
  {
   "cell_type": "code",
   "execution_count": 25,
   "metadata": {},
   "outputs": [
    {
     "name": "stdout",
     "output_type": "stream",
     "text": [
      "__len__ has been called\n"
     ]
    },
    {
     "data": {
      "text/plain": [
       "4"
      ]
     },
     "execution_count": 25,
     "metadata": {},
     "output_type": "execute_result"
    }
   ],
   "source": [
    "import datetime\n",
    "class trade:\n",
    "    def __init__(self,timestamp, symbol,buyerid,sellerid,price,quantity):\n",
    "        self.timestamp=timestamp\n",
    "        self.symbol=symbol\n",
    "        self.buyerid=buyerid\n",
    "        self.sellerid=sellerid\n",
    "        self.price=price\n",
    "        self.quantity=quantity\n",
    "    def print(self):\n",
    "        timestr=self.timestamp.strftime(\"%m/%d/%Y %H:%M:%S:%f\")[:-3]\n",
    "        s=\"TimeStamp: \" + timestr + \"\\n\"\n",
    "        s+=\"Symbol: \" + self.symbol + \"\\n\"\n",
    "        s+=\"BuyerId: = \" + self.buyerid + \"\\n\"\n",
    "        s+=\"SellerId: \" + self.sellerid + \"\\n\"\n",
    "        s+=\"Price: \" + str(self.price) + \"\\n\"\n",
    "        s+=\"Quantity \" + str(self.quantity) + \"\\n\"\n",
    "        print(s)\n",
    "    def __str__(self):\n",
    "        print(\"in __str__ \\n\")\n",
    "        timestr=self.timestamp.strftime(\"%m/%d/%Y %H:%M:%S:%f\")[:-3]\n",
    "        s=\"TimeStamp: \" + timestr + \"\\n\"\n",
    "        s+=\"Symbol: \" + self.symbol + \"\\n\"\n",
    "        s+=\"BuyerId: = \" + self.buyerid + \"\\n\"\n",
    "        s+=\"SellerId: \" + self.sellerid + \"\\n\"\n",
    "        s+=\"Price: \" + str(self.price) + \"\\n\"\n",
    "        s+=\"Quantity \" + str(self.quantity) + \"\\n\"\n",
    "        return(s)\n",
    "    def __len__(self):\n",
    "        print(\"__len__ has been called\")\n",
    "        return(len(self.symbol))\n",
    "trade1=trade(datetime.datetime.today(),\"MSFT\", \"AJU8A9\", \"HYT4T2\", 67.454, 1200)\n",
    "#print(trade1.__len__())\n",
    "len(trade1)"
   ]
  },
  {
   "cell_type": "code",
   "execution_count": 26,
   "metadata": {},
   "outputs": [
    {
     "data": {
      "text/plain": [
       "'4/12/1955,IBM,UHSDUU,DFJKD,75,9.8'"
      ]
     },
     "execution_count": 26,
     "metadata": {},
     "output_type": "execute_result"
    }
   ],
   "source": [
    "\"4/12/1955,IBM,UHSDUU,DFJKD,75,9.8\""
   ]
  },
  {
   "cell_type": "markdown",
   "metadata": {},
   "source": [
    "**Help**\n",
    "\n",
    "In Python, we can get help on an object or function using help(). For example to get help on _list_ we can use"
   ]
  },
  {
   "cell_type": "code",
   "execution_count": 27,
   "metadata": {},
   "outputs": [
    {
     "name": "stdout",
     "output_type": "stream",
     "text": [
      "Help on class list in module builtins:\n",
      "\n",
      "class list(object)\n",
      " |  list(iterable=(), /)\n",
      " |  \n",
      " |  Built-in mutable sequence.\n",
      " |  \n",
      " |  If no argument is given, the constructor creates a new empty list.\n",
      " |  The argument must be an iterable if specified.\n",
      " |  \n",
      " |  Methods defined here:\n",
      " |  \n",
      " |  __add__(self, value, /)\n",
      " |      Return self+value.\n",
      " |  \n",
      " |  __contains__(self, key, /)\n",
      " |      Return key in self.\n",
      " |  \n",
      " |  __delitem__(self, key, /)\n",
      " |      Delete self[key].\n",
      " |  \n",
      " |  __eq__(self, value, /)\n",
      " |      Return self==value.\n",
      " |  \n",
      " |  __ge__(self, value, /)\n",
      " |      Return self>=value.\n",
      " |  \n",
      " |  __getattribute__(self, name, /)\n",
      " |      Return getattr(self, name).\n",
      " |  \n",
      " |  __getitem__(...)\n",
      " |      x.__getitem__(y) <==> x[y]\n",
      " |  \n",
      " |  __gt__(self, value, /)\n",
      " |      Return self>value.\n",
      " |  \n",
      " |  __iadd__(self, value, /)\n",
      " |      Implement self+=value.\n",
      " |  \n",
      " |  __imul__(self, value, /)\n",
      " |      Implement self*=value.\n",
      " |  \n",
      " |  __init__(self, /, *args, **kwargs)\n",
      " |      Initialize self.  See help(type(self)) for accurate signature.\n",
      " |  \n",
      " |  __iter__(self, /)\n",
      " |      Implement iter(self).\n",
      " |  \n",
      " |  __le__(self, value, /)\n",
      " |      Return self<=value.\n",
      " |  \n",
      " |  __len__(self, /)\n",
      " |      Return len(self).\n",
      " |  \n",
      " |  __lt__(self, value, /)\n",
      " |      Return self<value.\n",
      " |  \n",
      " |  __mul__(self, value, /)\n",
      " |      Return self*value.\n",
      " |  \n",
      " |  __ne__(self, value, /)\n",
      " |      Return self!=value.\n",
      " |  \n",
      " |  __repr__(self, /)\n",
      " |      Return repr(self).\n",
      " |  \n",
      " |  __reversed__(self, /)\n",
      " |      Return a reverse iterator over the list.\n",
      " |  \n",
      " |  __rmul__(self, value, /)\n",
      " |      Return value*self.\n",
      " |  \n",
      " |  __setitem__(self, key, value, /)\n",
      " |      Set self[key] to value.\n",
      " |  \n",
      " |  __sizeof__(self, /)\n",
      " |      Return the size of the list in memory, in bytes.\n",
      " |  \n",
      " |  append(self, object, /)\n",
      " |      Append object to the end of the list.\n",
      " |  \n",
      " |  clear(self, /)\n",
      " |      Remove all items from list.\n",
      " |  \n",
      " |  copy(self, /)\n",
      " |      Return a shallow copy of the list.\n",
      " |  \n",
      " |  count(self, value, /)\n",
      " |      Return number of occurrences of value.\n",
      " |  \n",
      " |  extend(self, iterable, /)\n",
      " |      Extend list by appending elements from the iterable.\n",
      " |  \n",
      " |  index(self, value, start=0, stop=9223372036854775807, /)\n",
      " |      Return first index of value.\n",
      " |      \n",
      " |      Raises ValueError if the value is not present.\n",
      " |  \n",
      " |  insert(self, index, object, /)\n",
      " |      Insert object before index.\n",
      " |  \n",
      " |  pop(self, index=-1, /)\n",
      " |      Remove and return item at index (default last).\n",
      " |      \n",
      " |      Raises IndexError if list is empty or index is out of range.\n",
      " |  \n",
      " |  remove(self, value, /)\n",
      " |      Remove first occurrence of value.\n",
      " |      \n",
      " |      Raises ValueError if the value is not present.\n",
      " |  \n",
      " |  reverse(self, /)\n",
      " |      Reverse *IN PLACE*.\n",
      " |  \n",
      " |  sort(self, /, *, key=None, reverse=False)\n",
      " |      Sort the list in ascending order and return None.\n",
      " |      \n",
      " |      The sort is in-place (i.e. the list itself is modified) and stable (i.e. the\n",
      " |      order of two equal elements is maintained).\n",
      " |      \n",
      " |      If a key function is given, apply it once to each list item and sort them,\n",
      " |      ascending or descending, according to their function values.\n",
      " |      \n",
      " |      The reverse flag can be set to sort in descending order.\n",
      " |  \n",
      " |  ----------------------------------------------------------------------\n",
      " |  Class methods defined here:\n",
      " |  \n",
      " |  __class_getitem__(...) from builtins.type\n",
      " |      See PEP 585\n",
      " |  \n",
      " |  ----------------------------------------------------------------------\n",
      " |  Static methods defined here:\n",
      " |  \n",
      " |  __new__(*args, **kwargs) from builtins.type\n",
      " |      Create and return a new object.  See help(type) for accurate signature.\n",
      " |  \n",
      " |  ----------------------------------------------------------------------\n",
      " |  Data and other attributes defined here:\n",
      " |  \n",
      " |  __hash__ = None\n",
      "\n"
     ]
    }
   ],
   "source": [
    "help(list)"
   ]
  },
  {
   "cell_type": "markdown",
   "metadata": {},
   "source": [
    "When we put a commment string in the code at the beginning of the class definition, that comment shows up when we get help on the class."
   ]
  },
  {
   "cell_type": "code",
   "execution_count": 28,
   "metadata": {},
   "outputs": [
    {
     "name": "stdout",
     "output_type": "stream",
     "text": [
      "Help on class trade in module __main__:\n",
      "\n",
      "class trade(builtins.object)\n",
      " |  trade(timestamp, symbol, buyerid, sellerid, price, quantity)\n",
      " |  \n",
      " |  A trade object stores information about a trade.\n",
      " |  I hope you have fun using this!!!\n",
      " |  \n",
      " |  Methods defined here:\n",
      " |  \n",
      " |  __init__(self, timestamp, symbol, buyerid, sellerid, price, quantity)\n",
      " |      Here is the constructor\n",
      " |  \n",
      " |  __str__(self)\n",
      " |      stringify\n",
      " |  \n",
      " |  ----------------------------------------------------------------------\n",
      " |  Data descriptors defined here:\n",
      " |  \n",
      " |  __dict__\n",
      " |      dictionary for instance variables (if defined)\n",
      " |  \n",
      " |  __weakref__\n",
      " |      list of weak references to the object (if defined)\n",
      "\n"
     ]
    }
   ],
   "source": [
    "import datetime\n",
    "class trade:\n",
    "    \"\"\"\n",
    "    A trade object stores information about a trade.\n",
    "    I hope you have fun using this!!!\n",
    "    \"\"\"\n",
    "    def __init__(self,timestamp, symbol,buyerid,sellerid,price,quantity):\n",
    "        \"\"\"\n",
    "        Here is the constructor\n",
    "        \"\"\"\n",
    "        self.timestamp=timestamp\n",
    "        self.symbol=symbol\n",
    "        self.buyerid=buyerid\n",
    "        self.sellerid=sellerid\n",
    "        self.price=price\n",
    "        self.quantity=quantity\n",
    "    def __str__(self):\n",
    "        \"\"\"\n",
    "        stringify\n",
    "        \"\"\"\n",
    "        print(\"in __str__ \\n\")\n",
    "        timestr=self.timestamp.strftime(\"%m/%d/%Y %H:%M:%S:%f\")[:-3]\n",
    "        s=\"TimeStamp: \" + timestr + \"\\n\"\n",
    "        s+=\"Symbol: \" + self.symbol + \"\\n\"\n",
    "        s+=\"BuyerId: = \" + self.buyerid + \"\\n\"\n",
    "        s+=\"SellerId: \" + self.sellerid + \"\\n\"\n",
    "        s+=\"Price: \" + str(self.price) + \"\\n\"\n",
    "        s+=\"Quantity \" + str(self.quantity) + \"\\n\"\n",
    "        return(s)\n",
    "help(trade)"
   ]
  },
  {
   "cell_type": "code",
   "execution_count": 29,
   "metadata": {},
   "outputs": [
    {
     "data": {
      "text/plain": [
       "['__class__',\n",
       " '__delattr__',\n",
       " '__dict__',\n",
       " '__dir__',\n",
       " '__doc__',\n",
       " '__eq__',\n",
       " '__format__',\n",
       " '__ge__',\n",
       " '__getattribute__',\n",
       " '__gt__',\n",
       " '__hash__',\n",
       " '__init__',\n",
       " '__init_subclass__',\n",
       " '__le__',\n",
       " '__lt__',\n",
       " '__module__',\n",
       " '__ne__',\n",
       " '__new__',\n",
       " '__reduce__',\n",
       " '__reduce_ex__',\n",
       " '__repr__',\n",
       " '__setattr__',\n",
       " '__sizeof__',\n",
       " '__str__',\n",
       " '__subclasshook__',\n",
       " '__weakref__']"
      ]
     },
     "execution_count": 29,
     "metadata": {},
     "output_type": "execute_result"
    }
   ],
   "source": [
    "dir(trade)"
   ]
  },
  {
   "cell_type": "markdown",
   "metadata": {},
   "source": [
    "**Class attributes**\n",
    "\n",
    "We can introduce objects of a class which are not properties of instances, but rather, are attributes of _all_ instances. "
   ]
  },
  {
   "cell_type": "code",
   "execution_count": 38,
   "metadata": {},
   "outputs": [],
   "source": [
    "import datetime\n",
    "class trade:\n",
    "    \"\"\"\n",
    "    A trade object stores information about a trade.\n",
    "    ntrades keeps track of the number of times a trade is instantiated.\n",
    "    \"\"\"\n",
    "    ntrades=0\n",
    "    nstr=0\n",
    "    TSlist=[]\n",
    "    def __init__(self,timestamp, symbol,buyerid,sellerid,price,quantity):\n",
    "        self.timestamp=timestamp\n",
    "        trade.TSlist.append(timestamp)\n",
    "        self.symbol=symbol\n",
    "        self.buyerid=buyerid\n",
    "        self.sellerid=sellerid\n",
    "        self.price=price\n",
    "        self.quantity=quantity\n",
    "        trade.ntrades=trade.ntrades+1\n",
    "    def __str__(self):\n",
    "        print(\"in __str__ \\n\")\n",
    "        timestr=self.timestamp.strftime(\"%m/%d/%Y %H:%M:%S:%f\")[:-3]\n",
    "        s=\"TimeStamp: \" + timestr + \"\\n\"\n",
    "        s+=\"Symbol: \" + self.symbol + \"\\n\"\n",
    "        s+=\"BuyerId: = \" + self.buyerid + \"\\n\"\n",
    "        s+=\"SellerId: \" + self.sellerid + \"\\n\"\n",
    "        s+=\"Price: \" + str(self.price) + \"\\n\"\n",
    "        s+=\"Quantity \" + str(self.quantity) + \"\\n\"\n",
    "        trade.nstr+=1\n",
    "        return(s)"
   ]
  },
  {
   "cell_type": "code",
   "execution_count": 39,
   "metadata": {},
   "outputs": [
    {
     "name": "stdout",
     "output_type": "stream",
     "text": [
      "0\n"
     ]
    }
   ],
   "source": [
    "print(trade.ntrades)"
   ]
  },
  {
   "cell_type": "code",
   "execution_count": 32,
   "metadata": {},
   "outputs": [
    {
     "name": "stdout",
     "output_type": "stream",
     "text": [
      "1\n",
      "1\n"
     ]
    }
   ],
   "source": [
    "trade1=trade(datetime.datetime.today(),\"MSFT\", \"AJU8A9\", \"HYT4T2\", 67.454, 1200)\n",
    "print(trade1.ntrades)\n",
    "print(trade.ntrades)"
   ]
  },
  {
   "cell_type": "code",
   "execution_count": 33,
   "metadata": {},
   "outputs": [
    {
     "name": "stdout",
     "output_type": "stream",
     "text": [
      "in __str__ \n",
      "\n",
      "TimeStamp: 10/19/2022 10:18:24:714\n",
      "Symbol: MSFT\n",
      "BuyerId: = AJU8A9\n",
      "SellerId: HYT4T2\n",
      "Price: 67.454\n",
      "Quantity 1200\n",
      "\n",
      "1\n"
     ]
    }
   ],
   "source": [
    "print(trade1)\n",
    "print(trade.nstr)"
   ]
  },
  {
   "cell_type": "code",
   "execution_count": 34,
   "metadata": {},
   "outputs": [
    {
     "name": "stdout",
     "output_type": "stream",
     "text": [
      "2\n",
      "2\n",
      "1\n",
      "in __str__ \n",
      "\n",
      "TimeStamp: 10/19/2022 10:21:25:525\n",
      "Symbol: MSFT\n",
      "BuyerId: = HYT4T2\n",
      "SellerId: KLR43W\n",
      "Price: 67.569\n",
      "Quantity 1200\n",
      "\n"
     ]
    }
   ],
   "source": [
    "trade2=trade(datetime.datetime.today(),\"MSFT\", \"HYT4T2\", \"KLR43W\",67.569, 1200)\n",
    "print(trade2.ntrades)\n",
    "print(trade.ntrades)\n",
    "print(trade.nstr)\n",
    "print(trade2)"
   ]
  },
  {
   "cell_type": "code",
   "execution_count": 35,
   "metadata": {},
   "outputs": [
    {
     "name": "stdout",
     "output_type": "stream",
     "text": [
      "3\n",
      "3\n",
      "3\n",
      "3\n",
      "2\n"
     ]
    }
   ],
   "source": [
    "trade3=trade(datetime.datetime.today(),\"MSFT\", \"KLR43W\", \"KLR43W\",67.876, 1200)\n",
    "print(trade3.ntrades)\n",
    "print(trade1.ntrades)\n",
    "print(trade2.ntrades)\n",
    "print(trade.ntrades)\n",
    "print(trade.nstr)"
   ]
  },
  {
   "cell_type": "code",
   "execution_count": 36,
   "metadata": {},
   "outputs": [],
   "source": [
    "L=trade.TSlist"
   ]
  },
  {
   "cell_type": "code",
   "execution_count": 37,
   "metadata": {},
   "outputs": [
    {
     "data": {
      "text/plain": [
       "[datetime.datetime(2022, 10, 19, 10, 18, 24, 714654),\n",
       " datetime.datetime(2022, 10, 19, 10, 21, 25, 525701),\n",
       " datetime.datetime(2022, 10, 19, 10, 21, 26, 136830)]"
      ]
     },
     "execution_count": 37,
     "metadata": {},
     "output_type": "execute_result"
    }
   ],
   "source": [
    "L"
   ]
  },
  {
   "cell_type": "code",
   "execution_count": 38,
   "metadata": {},
   "outputs": [
    {
     "data": {
      "text/plain": [
       "[datetime.datetime(2022, 2, 24, 16, 3, 1, 899947),\n",
       " datetime.datetime(2022, 2, 24, 16, 3, 54, 336198),\n",
       " datetime.datetime(2022, 2, 24, 16, 4, 23, 182313)]"
      ]
     },
     "execution_count": 38,
     "metadata": {},
     "output_type": "execute_result"
    }
   ],
   "source": [
    "trade1.TSlist"
   ]
  },
  {
   "cell_type": "markdown",
   "metadata": {},
   "source": [
    "The class attributes can be accessed directly as an attribute of an object whose name is the name of the class."
   ]
  },
  {
   "cell_type": "code",
   "execution_count": null,
   "metadata": {},
   "outputs": [],
   "source": []
  },
  {
   "cell_type": "code",
   "execution_count": 36,
   "metadata": {},
   "outputs": [
    {
     "data": {
      "text/plain": [
       "type"
      ]
     },
     "execution_count": 36,
     "metadata": {},
     "output_type": "execute_result"
    }
   ],
   "source": [
    "type(trade)"
   ]
  },
  {
   "cell_type": "code",
   "execution_count": 37,
   "metadata": {},
   "outputs": [
    {
     "name": "stdout",
     "output_type": "stream",
     "text": [
      "6\n"
     ]
    }
   ],
   "source": [
    "print(trade.ntrades)"
   ]
  },
  {
   "cell_type": "code",
   "execution_count": 38,
   "metadata": {},
   "outputs": [
    {
     "data": {
      "text/plain": [
       "[datetime.datetime(2021, 10, 4, 14, 6, 23, 467779),\n",
       " datetime.datetime(2021, 10, 4, 14, 6, 23, 468779),\n",
       " datetime.datetime(2021, 10, 4, 14, 6, 23, 468779),\n",
       " datetime.datetime(2021, 10, 4, 14, 6, 57, 423664),\n",
       " datetime.datetime(2021, 10, 4, 14, 6, 57, 423664),\n",
       " datetime.datetime(2021, 10, 4, 14, 6, 57, 424664)]"
      ]
     },
     "execution_count": 38,
     "metadata": {},
     "output_type": "execute_result"
    }
   ],
   "source": [
    "trade.TSlist"
   ]
  },
  {
   "cell_type": "raw",
   "metadata": {},
   "source": []
  },
  {
   "cell_type": "markdown",
   "metadata": {},
   "source": [
    "When we create a class as described above, the instances can be given additional attributes."
   ]
  },
  {
   "cell_type": "code",
   "execution_count": 40,
   "metadata": {},
   "outputs": [
    {
     "name": "stdout",
     "output_type": "stream",
     "text": [
      "Stanley Kowalski\n",
      "in __str__ \n",
      "\n",
      "{'timestamp': datetime.datetime(2022, 10, 19, 10, 31, 34, 264367), 'symbol': 'MSFT', 'buyerid': 'AJU8A9', 'sellerid': 'HYT4T2', 'price': 67.454, 'quantity': 1200, 'broker': 'Stanley Kowalski'}\n"
     ]
    }
   ],
   "source": [
    "import datetime\n",
    "class trade:\n",
    "    \"\"\"\n",
    "    A trade object stores information about a trade.\n",
    "    ntrades keeps track of the number of times a trade is instantiated.\n",
    "    \"\"\"\n",
    "    ntrades=0\n",
    "    def __init__(self,timestamp, symbol,buyerid,sellerid,price,quantity):\n",
    "        self.timestamp=timestamp\n",
    "        self.symbol=symbol\n",
    "        self.buyerid=buyerid\n",
    "        self.sellerid=sellerid\n",
    "        self.price=price\n",
    "        self.quantity=quantity\n",
    "        trade.ntrades=trade.ntrades+1\n",
    "    def __str__(self):\n",
    "        print(\"in __str__ \\n\")\n",
    "        timestr=self.timestamp.strftime(\"%m/%d/%Y %H:%M:%S:%f\")[:-3]\n",
    "        s=\"TimeStamp: \" + timestr + \"\\n\"\n",
    "        s+=\"Symbol: \" + self.symbol + \"\\n\"\n",
    "        s+=\"BuyerId: = \" + self.buyerid + \"\\n\"\n",
    "        s+=\"SellerId: \" + self.sellerid + \"\\n\"\n",
    "        s+=\"Price: \" + str(self.price) + \"\\n\"\n",
    "        s+=\"Quantity \" + str(self.quantity) + \"\\n\"\n",
    "        return(s)\n",
    "trade1=trade(datetime.datetime.today(),\"MSFT\", \"AJU8A9\", \"HYT4T2\", 67.454, 1200)\n",
    "trade2=trade(datetime.datetime.today(),\"MSFT\", \"HYT4T2\", \"KLR43W\",67.569, 1200)\n",
    "trade3=trade(datetime.datetime.today(),\"MSFT\", \"KLR43W\", \"KLR43W\",67.876, 1200)\n",
    "trade1.broker=\"Stanley Kowalski\"\n",
    "print(trade1.broker)\n",
    "trade1.__str__()\n",
    "#print(trade2.broker)\n",
    "print(trade1.__dict__)"
   ]
  },
  {
   "cell_type": "code",
   "execution_count": 41,
   "metadata": {},
   "outputs": [
    {
     "data": {
      "text/plain": [
       "{'timestamp': datetime.datetime(2022, 10, 19, 10, 31, 34, 264367),\n",
       " 'symbol': 'MSFT',\n",
       " 'buyerid': 'HYT4T2',\n",
       " 'sellerid': 'KLR43W',\n",
       " 'price': 67.569,\n",
       " 'quantity': 1200}"
      ]
     },
     "execution_count": 41,
     "metadata": {},
     "output_type": "execute_result"
    }
   ],
   "source": [
    "trade2.__dict__"
   ]
  },
  {
   "cell_type": "code",
   "execution_count": 42,
   "metadata": {},
   "outputs": [
    {
     "data": {
      "text/plain": [
       "['__class__',\n",
       " '__class_getitem__',\n",
       " '__contains__',\n",
       " '__delattr__',\n",
       " '__delitem__',\n",
       " '__dir__',\n",
       " '__doc__',\n",
       " '__eq__',\n",
       " '__format__',\n",
       " '__ge__',\n",
       " '__getattribute__',\n",
       " '__getitem__',\n",
       " '__gt__',\n",
       " '__hash__',\n",
       " '__init__',\n",
       " '__init_subclass__',\n",
       " '__ior__',\n",
       " '__iter__',\n",
       " '__le__',\n",
       " '__len__',\n",
       " '__lt__',\n",
       " '__ne__',\n",
       " '__new__',\n",
       " '__or__',\n",
       " '__reduce__',\n",
       " '__reduce_ex__',\n",
       " '__repr__',\n",
       " '__reversed__',\n",
       " '__ror__',\n",
       " '__setattr__',\n",
       " '__setitem__',\n",
       " '__sizeof__',\n",
       " '__str__',\n",
       " '__subclasshook__',\n",
       " 'clear',\n",
       " 'copy',\n",
       " 'fromkeys',\n",
       " 'get',\n",
       " 'items',\n",
       " 'keys',\n",
       " 'pop',\n",
       " 'popitem',\n",
       " 'setdefault',\n",
       " 'update',\n",
       " 'values']"
      ]
     },
     "execution_count": 42,
     "metadata": {},
     "output_type": "execute_result"
    }
   ],
   "source": [
    "dir(dict)"
   ]
  },
  {
   "cell_type": "markdown",
   "metadata": {},
   "source": [
    "In Python, there are objects for which this is not allowed. This is true of many built-in classes e.g. list."
   ]
  },
  {
   "cell_type": "code",
   "execution_count": 43,
   "metadata": {},
   "outputs": [
    {
     "ename": "AttributeError",
     "evalue": "'list' object has no attribute 'x'",
     "output_type": "error",
     "traceback": [
      "\u001b[1;31m---------------------------------------------------------------------------\u001b[0m",
      "\u001b[1;31mAttributeError\u001b[0m                            Traceback (most recent call last)",
      "\u001b[1;32m~\\AppData\\Local\\Temp/ipykernel_32224/1167260909.py\u001b[0m in \u001b[0;36m<module>\u001b[1;34m\u001b[0m\n\u001b[0;32m      1\u001b[0m \u001b[0mL\u001b[0m\u001b[1;33m=\u001b[0m\u001b[1;33m[\u001b[0m\u001b[1;36m1\u001b[0m\u001b[1;33m,\u001b[0m\u001b[1;36m2\u001b[0m\u001b[1;33m,\u001b[0m\u001b[1;36m3\u001b[0m\u001b[1;33m]\u001b[0m\u001b[1;33m\u001b[0m\u001b[1;33m\u001b[0m\u001b[0m\n\u001b[1;32m----> 2\u001b[1;33m \u001b[0mL\u001b[0m\u001b[1;33m.\u001b[0m\u001b[0mx\u001b[0m\u001b[1;33m=\u001b[0m\u001b[1;36m5\u001b[0m\u001b[1;33m\u001b[0m\u001b[1;33m\u001b[0m\u001b[0m\n\u001b[0m",
      "\u001b[1;31mAttributeError\u001b[0m: 'list' object has no attribute 'x'"
     ]
    }
   ],
   "source": [
    "L=[1,2,3]\n",
    "L.x=5"
   ]
  },
  {
   "cell_type": "code",
   "execution_count": 44,
   "metadata": {},
   "outputs": [
    {
     "ename": "AttributeError",
     "evalue": "'list' object has no attribute '__dict__'",
     "output_type": "error",
     "traceback": [
      "\u001b[1;31m---------------------------------------------------------------------------\u001b[0m",
      "\u001b[1;31mAttributeError\u001b[0m                            Traceback (most recent call last)",
      "\u001b[1;32m~\\AppData\\Local\\Temp/ipykernel_32224/572307757.py\u001b[0m in \u001b[0;36m<module>\u001b[1;34m\u001b[0m\n\u001b[1;32m----> 1\u001b[1;33m \u001b[0mL\u001b[0m\u001b[1;33m.\u001b[0m\u001b[0m__dict__\u001b[0m\u001b[1;33m\u001b[0m\u001b[1;33m\u001b[0m\u001b[0m\n\u001b[0m",
      "\u001b[1;31mAttributeError\u001b[0m: 'list' object has no attribute '__dict__'"
     ]
    }
   ],
   "source": [
    "L.__dict__"
   ]
  },
  {
   "cell_type": "code",
   "execution_count": 45,
   "metadata": {},
   "outputs": [
    {
     "ename": "AttributeError",
     "evalue": "'dict' object has no attribute 'x'",
     "output_type": "error",
     "traceback": [
      "\u001b[1;31m---------------------------------------------------------------------------\u001b[0m",
      "\u001b[1;31mAttributeError\u001b[0m                            Traceback (most recent call last)",
      "\u001b[1;32m~\\AppData\\Local\\Temp/ipykernel_32224/3305890486.py\u001b[0m in \u001b[0;36m<module>\u001b[1;34m\u001b[0m\n\u001b[0;32m      1\u001b[0m \u001b[0md\u001b[0m\u001b[1;33m=\u001b[0m\u001b[1;33m{\u001b[0m\u001b[1;34m\"A\"\u001b[0m\u001b[1;33m:\u001b[0m\u001b[1;36m1\u001b[0m\u001b[1;33m,\u001b[0m\u001b[1;34m\"B\"\u001b[0m\u001b[1;33m:\u001b[0m\u001b[1;36m2\u001b[0m\u001b[1;33m}\u001b[0m\u001b[1;33m\u001b[0m\u001b[1;33m\u001b[0m\u001b[0m\n\u001b[1;32m----> 2\u001b[1;33m \u001b[0md\u001b[0m\u001b[1;33m.\u001b[0m\u001b[0mx\u001b[0m\u001b[1;33m=\u001b[0m\u001b[1;36m5\u001b[0m\u001b[1;33m\u001b[0m\u001b[1;33m\u001b[0m\u001b[0m\n\u001b[0m",
      "\u001b[1;31mAttributeError\u001b[0m: 'dict' object has no attribute 'x'"
     ]
    }
   ],
   "source": [
    "d={\"A\":1,\"B\":2}\n",
    "d.x=5"
   ]
  },
  {
   "cell_type": "markdown",
   "metadata": {},
   "source": [
    "**Restricting attributes**\n",
    "\n",
    "How can we make it so that the attributes of an instance are restricted?\n",
    "\n",
    "The instances of objects we create have an implict _dynamic_ dictionary.\n",
    "\n",
    "When we add attributes to the object, we modify keys and values for dictionary associated with the particular instance."
   ]
  },
  {
   "cell_type": "code",
   "execution_count": 46,
   "metadata": {},
   "outputs": [
    {
     "name": "stdout",
     "output_type": "stream",
     "text": [
      "{'timestamp': datetime.datetime(2022, 10, 19, 10, 31, 34, 264367), 'symbol': 'MSFT', 'buyerid': 'AJU8A9', 'sellerid': 'HYT4T2', 'price': 67.454, 'quantity': 1200, 'broker': 'Stanley Kowalski'}\n",
      "{'timestamp': datetime.datetime(2022, 10, 19, 10, 31, 34, 264367), 'symbol': 'MSFT', 'buyerid': 'HYT4T2', 'sellerid': 'KLR43W', 'price': 67.569, 'quantity': 1200}\n"
     ]
    }
   ],
   "source": [
    "print(trade1.__dict__)\n",
    "print(trade2.__dict__)"
   ]
  },
  {
   "cell_type": "markdown",
   "metadata": {},
   "source": [
    "**Slots**\n",
    "\n",
    "We can resrict the adding of additional attributes using slots. This can improve the speed and memory usage of your code."
   ]
  },
  {
   "cell_type": "code",
   "execution_count": 49,
   "metadata": {},
   "outputs": [],
   "source": [
    "import datetime\n",
    "class trade:\n",
    "    \"\"\"\n",
    "    A trade object stores information about a trade.\n",
    "    ntrades keeps track of the number of times a trade is instantiated.\n",
    "    \"\"\"\n",
    "    ntrades=0\n",
    "    \n",
    "    __slots__=('timestamp', 'symbol','buyerid','sellerid','price','quantity')\n",
    "    \n",
    "    def __init__(self,timestamp, symbol,buyerid,sellerid,price,quantity):\n",
    "        self.timestamp=timestamp\n",
    "        self.symbol=symbol\n",
    "        self.buyerid=buyerid\n",
    "        self.sellerid=sellerid\n",
    "        self.price=price\n",
    "        self.quantity=quantity\n",
    "        trade.ntrades=trade.ntrades+1\n",
    "    def __str__(self):\n",
    "        print(\"in __str__ \\n\")\n",
    "        timestr=self.timestamp.strftime(\"%m/%d/%Y %H:%M:%S:%f\")[:-3]\n",
    "        s=\"TimeStamp: \" + timestr + \"\\n\"\n",
    "        s+=\"Symbol: \" + self.symbol + \"\\n\"\n",
    "        s+=\"BuyerId: = \" + self.buyerid + \"\\n\"\n",
    "        s+=\"SellerId: \" + self.sellerid + \"\\n\"\n",
    "        s+=\"Price: \" + str(self.price) + \"\\n\"\n",
    "        s+=\"Quantity \" + str(self.quantity) + \"\\n\"\n",
    "        return(s)\n",
    "trade1=trade(datetime.datetime.today(),\"MSFT\", \"AJU8A9\", \"HYT4T2\", 67.454, 1200)"
   ]
  },
  {
   "cell_type": "markdown",
   "metadata": {},
   "source": [
    "Now we get an error when we try to add an attribute to a particular instance."
   ]
  },
  {
   "cell_type": "code",
   "execution_count": 48,
   "metadata": {},
   "outputs": [
    {
     "name": "stdout",
     "output_type": "stream",
     "text": [
      "{'timestamp': datetime.datetime(2022, 2, 24, 16, 16, 16, 103174), 'symbol': 'MSFT', 'buyerid': 'AJU8A9', 'sellerid': 'HYT4T2', 'price': 67.454, 'quantity': 1200}\n"
     ]
    }
   ],
   "source": [
    "print(trade1.__dict__)"
   ]
  },
  {
   "cell_type": "code",
   "execution_count": 45,
   "metadata": {},
   "outputs": [
    {
     "ename": "AttributeError",
     "evalue": "'trade' object has no attribute 'broker'",
     "output_type": "error",
     "traceback": [
      "\u001b[1;31m---------------------------------------------------------------------------\u001b[0m",
      "\u001b[1;31mAttributeError\u001b[0m                            Traceback (most recent call last)",
      "\u001b[1;32m~\\AppData\\Local\\Temp/ipykernel_28644/1356691205.py\u001b[0m in \u001b[0;36m<module>\u001b[1;34m\u001b[0m\n\u001b[1;32m----> 1\u001b[1;33m \u001b[0mtrade1\u001b[0m\u001b[1;33m.\u001b[0m\u001b[0mbroker\u001b[0m\u001b[1;33m=\u001b[0m\u001b[1;34m\"Stanley Kowalski\"\u001b[0m\u001b[1;33m\u001b[0m\u001b[1;33m\u001b[0m\u001b[0m\n\u001b[0m\u001b[0;32m      2\u001b[0m \u001b[1;31m#print(trade1.broker)\u001b[0m\u001b[1;33m\u001b[0m\u001b[1;33m\u001b[0m\u001b[0m\n\u001b[0;32m      3\u001b[0m \u001b[1;31m#print(trade1.__dict__)\u001b[0m\u001b[1;33m\u001b[0m\u001b[1;33m\u001b[0m\u001b[0m\n",
      "\u001b[1;31mAttributeError\u001b[0m: 'trade' object has no attribute 'broker'"
     ]
    }
   ],
   "source": [
    "trade1.broker=\"Stanley Kowalski\"\n",
    "#print(trade1.broker)\n",
    "#print(trade1.__dict__)"
   ]
  },
  {
   "cell_type": "code",
   "execution_count": 46,
   "metadata": {},
   "outputs": [],
   "source": [
    "trade1.quantity=1500"
   ]
  },
  {
   "cell_type": "markdown",
   "metadata": {},
   "source": [
    "And there is no longer a dictionary for each instance."
   ]
  },
  {
   "cell_type": "code",
   "execution_count": 76,
   "metadata": {},
   "outputs": [
    {
     "ename": "AttributeError",
     "evalue": "'trade' object has no attribute '__dict__'",
     "output_type": "error",
     "traceback": [
      "\u001b[1;31m---------------------------------------------------------------------------\u001b[0m",
      "\u001b[1;31mAttributeError\u001b[0m                            Traceback (most recent call last)",
      "\u001b[1;32m<ipython-input-76-cc09398cf9ec>\u001b[0m in \u001b[0;36m<module>\u001b[1;34m\u001b[0m\n\u001b[1;32m----> 1\u001b[1;33m \u001b[0mtrade1\u001b[0m\u001b[1;33m.\u001b[0m\u001b[0m__dict__\u001b[0m\u001b[1;33m\u001b[0m\u001b[1;33m\u001b[0m\u001b[0m\n\u001b[0m",
      "\u001b[1;31mAttributeError\u001b[0m: 'trade' object has no attribute '__dict__'"
     ]
    }
   ],
   "source": [
    "trade1.__dict__"
   ]
  },
  {
   "cell_type": "code",
   "execution_count": null,
   "metadata": {},
   "outputs": [],
   "source": []
  },
  {
   "cell_type": "markdown",
   "metadata": {},
   "source": [
    "But there is a \\_\\_slots\\_\\_ attribute for each instance, but this is really an attribute of the class."
   ]
  },
  {
   "cell_type": "code",
   "execution_count": 206,
   "metadata": {},
   "outputs": [
    {
     "name": "stdout",
     "output_type": "stream",
     "text": [
      "('timestamp', 'symbol', 'buyerid', 'sellerid', 'price', 'quantity')\n",
      "True\n"
     ]
    }
   ],
   "source": [
    "print(trade1.__slots__)\n",
    "print(trade1.__slots__==trade.__slots__)"
   ]
  },
  {
   "cell_type": "code",
   "execution_count": 183,
   "metadata": {},
   "outputs": [
    {
     "name": "stdout",
     "output_type": "stream",
     "text": [
      "['__add__', '__class__', '__contains__', '__delattr__', '__delitem__', '__dir__', '__doc__', '__eq__', '__format__', '__ge__', '__getattribute__', '__getitem__', '__gt__', '__hash__', '__iadd__', '__imul__', '__init__', '__init_subclass__', '__iter__', '__le__', '__len__', '__lt__', '__mul__', '__ne__', '__new__', '__reduce__', '__reduce_ex__', '__repr__', '__reversed__', '__rmul__', '__setattr__', '__setitem__', '__sizeof__', '__str__', '__subclasshook__', 'append', 'clear', 'copy', 'count', 'extend', 'index', 'insert', 'pop', 'remove', 'reverse', 'sort']\n"
     ]
    }
   ],
   "source": [
    "print(dir(L))"
   ]
  },
  {
   "cell_type": "markdown",
   "metadata": {},
   "source": [
    "# Derived Classes\n",
    "\n",
    "## Once we have an existing class, we can derive a new class from it. Then we can over-ride methods or use the base method. \n",
    "\n",
    "## So in the following example in which we create a derived class (mytrade)from the base class (trade), the constructor (\\_\\_init\\_\\_) is not over-ridden but the \\_\\_str\\_\\_ method is."
   ]
  },
  {
   "cell_type": "code",
   "execution_count": 47,
   "metadata": {},
   "outputs": [
    {
     "name": "stdout",
     "output_type": "stream",
     "text": [
      "TimeStamp: 10/19/2022 11:07:00:702\n",
      "BuyerId: = AJU8A9\n",
      "Symbol: MSFT\n",
      "SellerId: HYT4T2\n",
      "Price: 67.454\n",
      "Quantity 1200\n",
      "\n",
      "TimeStamp: 10/19/2022 11:07:00:702\n",
      "Symbol: MSFT\n",
      "BuyerId: = AJU8A9\n",
      "SellerId: HYT4T2\n",
      "Price: 67.454\n",
      "Quantity 1200\n",
      "\n"
     ]
    }
   ],
   "source": [
    "import datetime\n",
    "class trade:\n",
    "    \"\"\"\n",
    "    A trade object stores information about a trade.\n",
    "    ntrades keeps track of the number of times a trade is instantiated.\n",
    "    \"\"\"\n",
    "    __slots__=('timestamp','symbol','buyerid','sellerid','price','quantity')\n",
    "    ntrades=0\n",
    "    def __init__(self,timestamp, symbol,buyerid,sellerid,price,quantity):\n",
    "        self.timestamp=timestamp\n",
    "        self.symbol=symbol\n",
    "        self.buyerid=buyerid\n",
    "        self.sellerid=sellerid\n",
    "        self.price=price\n",
    "        self.quantity=quantity\n",
    "        trade.ntrades=trade.ntrades+1\n",
    "    def __str__(self):\n",
    "        #print(\"in __str__ \\n\")\n",
    "        timestr=self.timestamp.strftime(\"%m/%d/%Y %H:%M:%S:%f\")[:-3]\n",
    "        s=\"TimeStamp: \" + timestr + \"\\n\"\n",
    "        s+=\"Symbol: \" + self.symbol + \"\\n\"\n",
    "        s+=\"BuyerId: = \" + self.buyerid + \"\\n\"\n",
    "        s+=\"SellerId: \" + self.sellerid + \"\\n\"\n",
    "        s+=\"Price: \" + str(self.price) + \"\\n\"\n",
    "        s+=\"Quantity \" + str(self.quantity) + \"\\n\"\n",
    "        return(s)\n",
    "class mytrade(trade): # mytrade(trade) indicates that mytrade class is derived from trade class\n",
    "    def __str__(self):\n",
    "        timestr=self.timestamp.strftime(\"%m/%d/%Y %H:%M:%S:%f\")[:-3]\n",
    "        s=\"TimeStamp: \" + timestr + \"\\n\"\n",
    "        s+=\"BuyerId: = \" + self.buyerid + \"\\n\"\n",
    "        s+=\"Symbol: \" + self.symbol + \"\\n\"\n",
    "        s+=\"SellerId: \" + self.sellerid + \"\\n\"\n",
    "        s+=\"Price: \" + str(self.price) + \"\\n\"\n",
    "        s+=\"Quantity \" + str(self.quantity) + \"\\n\"\n",
    "        return(s)\n",
    "        \n",
    "trade1=mytrade(datetime.datetime.today(),\"MSFT\", \"AJU8A9\", \"HYT4T2\", 67.454, 1200)\n",
    "print(trade1)\n",
    "\n",
    "trade2=trade(datetime.datetime.today(),\"MSFT\", \"AJU8A9\", \"HYT4T2\", 67.454, 1200)\n",
    "print(trade2)"
   ]
  },
  {
   "cell_type": "code",
   "execution_count": 48,
   "metadata": {},
   "outputs": [
    {
     "name": "stdout",
     "output_type": "stream",
     "text": [
      "5\n",
      "5\n",
      "3\n"
     ]
    }
   ],
   "source": [
    "class mylist(list):\n",
    "    def __len__(self):\n",
    "        return(5)\n",
    "L1=mylist([1,2,3])\n",
    "print(len(L1))\n",
    "print(L1.__len__())\n",
    "print(list.__len__(L1))"
   ]
  },
  {
   "cell_type": "markdown",
   "metadata": {},
   "source": [
    "## We over-rode the base class method, but we can still call the base class method if we want it. We simply need to prefix the method name with the name of the base class."
   ]
  },
  {
   "cell_type": "code",
   "execution_count": 49,
   "metadata": {},
   "outputs": [
    {
     "name": "stdout",
     "output_type": "stream",
     "text": [
      "Don't forget that print calls __str__\n",
      "in __str__ \n",
      "\n"
     ]
    },
    {
     "data": {
      "text/plain": [
       "'TimeStamp: 10/19/2022 11:07:01:756\\nSymbol: MSFT\\nBuyerId: = AJU8A9\\nSellerId: HYT4T2\\nPrice: 67.454\\nQuantity 1200\\n'"
      ]
     },
     "execution_count": 49,
     "metadata": {},
     "output_type": "execute_result"
    }
   ],
   "source": [
    "import datetime\n",
    "class trade:\n",
    "    \"\"\"\n",
    "    A trade object stores information about a trade.\n",
    "    ntrades keeps track of the number of times a trade is instantiated.\n",
    "    \"\"\"\n",
    "    ntrades=0\n",
    "    __slots__=('timestamp','symbol','buyerid','sellerid','price','quantity')\n",
    "    def __init__(self,timestamp, symbol,buyerid,sellerid,price,quantity):\n",
    "        self.timestamp=timestamp\n",
    "        self.symbol=symbol\n",
    "        self.buyerid=buyerid\n",
    "        self.sellerid=sellerid\n",
    "        self.price=price\n",
    "        self.quantity=quantity\n",
    "        trade.ntrades=trade.ntrades+1\n",
    "    def __str__(self):\n",
    "        print(\"in __str__ \\n\")\n",
    "        timestr=self.timestamp.strftime(\"%m/%d/%Y %H:%M:%S:%f\")[:-3]\n",
    "        s=\"TimeStamp: \" + timestr + \"\\n\"\n",
    "        s+=\"Symbol: \" + self.symbol + \"\\n\"\n",
    "        s+=\"BuyerId: = \" + self.buyerid + \"\\n\"\n",
    "        s+=\"SellerId: \" + self.sellerid + \"\\n\"\n",
    "        s+=\"Price: \" + str(self.price) + \"\\n\"\n",
    "        s+=\"Quantity \" + str(self.quantity) + \"\\n\"\n",
    "        return(s)\n",
    "class mytrade(trade): # mytrade(trade) indicates that mytrade class is derived from trade class\n",
    "    def __str__(self):\n",
    "        return(\"Don't forget that print calls __str__\")\n",
    "trade1=mytrade(datetime.datetime.today(),\"MSFT\", \"AJU8A9\", \"HYT4T2\", 67.454, 1200)\n",
    "print(trade1)\n",
    "trade.__str__(trade1)"
   ]
  },
  {
   "cell_type": "code",
   "execution_count": 50,
   "metadata": {},
   "outputs": [
    {
     "name": "stdout",
     "output_type": "stream",
     "text": [
      "5\n",
      "5\n",
      "3\n"
     ]
    }
   ],
   "source": [
    "class mylist(list):\n",
    "    def __len__(self):\n",
    "        return(5)\n",
    "L1=mylist([1,2,3])\n",
    "print(len(L1))\n",
    "print(L1.__len__())\n",
    "print(list.__len__(L1))"
   ]
  },
  {
   "cell_type": "code",
   "execution_count": null,
   "metadata": {},
   "outputs": [],
   "source": []
  }
 ],
 "metadata": {
  "kernelspec": {
   "display_name": "Python 3 (ipykernel)",
   "language": "python",
   "name": "python3"
  },
  "language_info": {
   "codemirror_mode": {
    "name": "ipython",
    "version": 3
   },
   "file_extension": ".py",
   "mimetype": "text/x-python",
   "name": "python",
   "nbconvert_exporter": "python",
   "pygments_lexer": "ipython3",
   "version": "3.9.7"
  }
 },
 "nbformat": 4,
 "nbformat_minor": 4
}
