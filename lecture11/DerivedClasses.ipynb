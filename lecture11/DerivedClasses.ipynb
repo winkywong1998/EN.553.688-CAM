{
 "cells": [
  {
   "cell_type": "markdown",
   "metadata": {},
   "source": [
    "**Derived Classes**\n",
    "\n",
    "Once we have an existing class (which we will call the *base* class), we can derive a new class from it (which we call the *derived* class).\n",
    "\n",
    "The derived class will **inherit** methods from the base class but we can also **override** methods in the base class.\n",
    "\n",
    "So in the following example in which we create a derived class (mytrade)from the base class (trade), the constructor (\\_\\_init\\_\\_) is not over-ridden but the \\_\\_str\\_\\_ method is.\n",
    "\n",
    "The \\_\\_str\\_\\_ method in the derived class stringifies differently."
   ]
  },
  {
   "cell_type": "code",
   "execution_count": 2,
   "metadata": {},
   "outputs": [
    {
     "name": "stdout",
     "output_type": "stream",
     "text": [
      "TimeStamp: 10/05/2022 11:06:39:403\n",
      "Symbol: MSFT\n",
      "Price: 67.454\n",
      "Quantity 1200\n",
      "\n",
      "TimeStamp: 10/05/2022 11:06:39:403\n",
      "Symbol: MSFT\n",
      "BuyerId: = AJU8A9\n",
      "SellerId: HYT4T2\n",
      "Price: 67.454\n",
      "Quantity 1200\n",
      "\n"
     ]
    }
   ],
   "source": [
    "import datetime\n",
    "class trade:\n",
    "    \"\"\"\n",
    "    A trade object stores information about a trade.\n",
    "    ntrades keeps track of the number of times a trade is instantiated.\n",
    "    \"\"\"\n",
    "    __slots__=('timestamp','symbol','buyerid','sellerid','price','quantity')\n",
    "    ntrades=0\n",
    "    def __init__(self,timestamp, symbol,buyerid,sellerid,price,quantity):\n",
    "        self.timestamp=timestamp\n",
    "        self.symbol=symbol\n",
    "        self.buyerid=buyerid\n",
    "        self.sellerid=sellerid\n",
    "        self.price=price\n",
    "        self.quantity=quantity\n",
    "        trade.ntrades=trade.ntrades+1\n",
    "    def __str__(self):\n",
    "        #print(\"in __str__ \\n\")\n",
    "        timestr=self.timestamp.strftime(\"%m/%d/%Y %H:%M:%S:%f\")[:-3]\n",
    "        s=\"TimeStamp: \" + timestr + \"\\n\"\n",
    "        s+=\"Symbol: \" + self.symbol + \"\\n\"\n",
    "        s+=\"BuyerId: = \" + self.buyerid + \"\\n\"\n",
    "        s+=\"SellerId: \" + self.sellerid + \"\\n\"\n",
    "        s+=\"Price: \" + str(self.price) + \"\\n\"\n",
    "        s+=\"Quantity \" + str(self.quantity) + \"\\n\"\n",
    "        return(s)\n",
    "class mytrade(trade): # mytrade(trade) indicates that mytrade class is derived from trade class\n",
    "    def __str__(self):\n",
    "        timestr=self.timestamp.strftime(\"%m/%d/%Y %H:%M:%S:%f\")[:-3]\n",
    "        s=\"TimeStamp: \" + timestr + \"\\n\"\n",
    "        s+=\"Symbol: \" + self.symbol + \"\\n\"\n",
    "        s+=\"Price: \" + str(self.price) + \"\\n\"\n",
    "        s+=\"Quantity \" + str(self.quantity) + \"\\n\"\n",
    "        return(s)\n",
    "        \n",
    "trade1=mytrade(datetime.datetime.today(),\"MSFT\", \"AJU8A9\", \"HYT4T2\", 67.454, 1200)\n",
    "print(trade1)\n",
    "\n",
    "trade2=trade(datetime.datetime.today(),\"MSFT\", \"AJU8A9\", \"HYT4T2\", 67.454, 1200)\n",
    "print(trade2)"
   ]
  },
  {
   "cell_type": "markdown",
   "metadata": {},
   "source": [
    "**Accessing an overridden method**\n",
    "\n",
    "We overrode the base class method, but we can still call the base class method if we want it. We simply need to prefix the method name with the name of the base class."
   ]
  },
  {
   "cell_type": "code",
   "execution_count": 6,
   "metadata": {},
   "outputs": [
    {
     "name": "stdout",
     "output_type": "stream",
     "text": [
      "TimeStamp: 10/05/2022 11:09:24:830\n",
      "Symbol: MSFT\n",
      "Price: 67.454\n",
      "Quantity 1200\n",
      "\n",
      "TimeStamp: 10/05/2022 11:09:24:830\n",
      "Symbol: MSFT\n",
      "BuyerId: = AJU8A9\n",
      "SellerId: HYT4T2\n",
      "Price: 67.454\n",
      "Quantity 1200\n",
      "\n"
     ]
    }
   ],
   "source": [
    "import datetime\n",
    "class trade:\n",
    "    \"\"\"\n",
    "    A trade object stores information about a trade.\n",
    "    ntrades keeps track of the number of times a trade is instantiated.\n",
    "    \"\"\"\n",
    "    ntrades=0\n",
    "    __slots__=('timestamp','symbol','buyerid','sellerid','price','quantity')\n",
    "    def __init__(self,timestamp, symbol,buyerid,sellerid,price,quantity):\n",
    "        self.timestamp=timestamp\n",
    "        self.symbol=symbol\n",
    "        self.buyerid=buyerid\n",
    "        self.sellerid=sellerid\n",
    "        self.price=price\n",
    "        self.quantity=quantity\n",
    "        trade.ntrades=trade.ntrades+1\n",
    "    def __str__(self):\n",
    "        timestr=self.timestamp.strftime(\"%m/%d/%Y %H:%M:%S:%f\")[:-3]\n",
    "        s=\"TimeStamp: \" + timestr + \"\\n\"\n",
    "        s+=\"Symbol: \" + self.symbol + \"\\n\"\n",
    "        s+=\"BuyerId: = \" + self.buyerid + \"\\n\"\n",
    "        s+=\"SellerId: \" + self.sellerid + \"\\n\"\n",
    "        s+=\"Price: \" + str(self.price) + \"\\n\"\n",
    "        s+=\"Quantity \" + str(self.quantity) + \"\\n\"\n",
    "        return(s)\n",
    "class mytrade(trade): # mytrade(trade) indicates that mytrade class is derived from trade class\n",
    "    def __str__(self):\n",
    "        timestr=self.timestamp.strftime(\"%m/%d/%Y %H:%M:%S:%f\")[:-3]\n",
    "        s=\"TimeStamp: \" + timestr + \"\\n\"\n",
    "        s+=\"Symbol: \" + self.symbol + \"\\n\"\n",
    "        s+=\"Price: \" + str(self.price) + \"\\n\"\n",
    "        s+=\"Quantity \" + str(self.quantity) + \"\\n\"\n",
    "        return(s)\n",
    "trade1=mytrade(datetime.datetime.today(),\"MSFT\", \"AJU8A9\", \"HYT4T2\", 67.454, 1200)\n",
    "print(trade1)\n",
    "print(trade.__str__(trade1))"
   ]
  }
 ],
 "metadata": {
  "kernelspec": {
   "display_name": "Python 3 (ipykernel)",
   "language": "python",
   "name": "python3"
  },
  "language_info": {
   "codemirror_mode": {
    "name": "ipython",
    "version": 3
   },
   "file_extension": ".py",
   "mimetype": "text/x-python",
   "name": "python",
   "nbconvert_exporter": "python",
   "pygments_lexer": "ipython3",
   "version": "3.9.12"
  }
 },
 "nbformat": 4,
 "nbformat_minor": 4
}
