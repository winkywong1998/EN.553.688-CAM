{
 "cells": [
  {
   "cell_type": "markdown",
   "metadata": {},
   "source": [
    "**HTML** \n",
    "\n",
    "The html parser will be used to illustrate an application of derived classes.\n",
    "\n",
    "We'll use the parser to extract some data posted at a web site.\n",
    "\n",
    "Before getting to that we discuss the structure of html.\n",
    "\n",
    "Take a look at this web site with annual inflation rates from the Minneapolis fed:\n",
    "\n",
    "https://www.minneapolisfed.org/about-us/monetary-policy/inflation-calculator/consumer-price-index-1913-\n",
    "\n",
    "When we point our browser to a url, a file is passed to the browser for displying.\n",
    "\n",
    "We can view that file (the *page source*) and inspect its structure."
   ]
  },
  {
   "cell_type": "markdown",
   "metadata": {},
   "source": [
    "**Structure of HTML files**\n",
    "\n",
    "A typical HTML file has the following:\n",
    "\n",
    "- **doctype header** which looks like \\<!DOCTYPE ... \\>\n",
    "\n",
    "Followed by \n",
    "\n",
    "- **tags** which have the form \\<...\\>. These typically tell the browser how to display the data \n",
    "\n",
    "interspersed with \n",
    "\n",
    "- **data** which is not enclosed in the tags content (text, images, an executable script). \n"
   ]
  },
  {
   "cell_type": "markdown",
   "metadata": {},
   "source": [
    "**Tags**\n",
    "\n",
    "There are many different types of tags. \n",
    "\n",
    "Some tags provide *comments* - these take the form: \\<!-- ... --> and are ignored by the browser\n",
    "\n",
    "Tags that actually do something meaningful are either \n",
    "\n",
    "- opening tags,\n",
    "- closing tags, or\n",
    "- self-closing tags."
   ]
  },
  {
   "cell_type": "markdown",
   "metadata": {},
   "source": [
    "**Opening and closing tags**\n",
    "\n",
    "An *opening* tag is of the form \\<tagname ...>. \n",
    "\n",
    "Such tags include \\<html ...>, \\<body ...>,  \\<table ...>, \\<div ...>. \n",
    "\n",
    "Opening tags are paired with *closing* tags, which take the form \\</tagname>.\n",
    "\n",
    "For example:\n",
    "\n",
    "- **html** The entire html document after the doctype header typically starts with an opening \\<html> tag\n",
    "and ends with a closing \\</html> tag.\n",
    "\n",
    "- **table** A table in the html document would start with an opening \\<table> and end with a closing \\</table> tag.\n",
    "\n",
    "- **tr** A row in a table would start with an opening \\<tr> and end with a closing \\</tr> tag.\n",
    "\n",
    "- **p** A paragraph would start with an opening \\<p> and end with a closing \\</p> tag.\n",
    "\n",
    "- **div** A section/division of an html file would have an opening \\<div> and a closing \\</div> tag."
   ]
  },
  {
   "cell_type": "markdown",
   "metadata": {},
   "source": [
    "**Self-closing tags**\n",
    "\n",
    "A self-closing tag (a tag that is both *opening* and *closing*) takes the form <tagname .../>. \n",
    "\n",
    "For example\n",
    "\n",
    "- a line break is created using a \\<br/> tag\n",
    "- an image uses a \\<img ... /> tag\n",
    "- a hyperlink (link to another page) uses a \\<link ... /> tag\n",
    "\n",
    "**Attributes**\n",
    "\n",
    "Tags may carry with them extra information, referred to as attributes. These appear inside the tag itself. For example\n",
    "\n",
    "\\<html lang=\"en\">\n",
    "\n",
    "and \n",
    "\n",
    "\\<meta property=\"twitter:card\" content=\"summary_large_image\" />\n",
    "\n",
    "**Data**\n",
    "\n",
    "Again, material not appearing inside a tag is referred to as data."
   ]
  },
  {
   "cell_type": "markdown",
   "metadata": {},
   "source": [
    "**Requests package**\n",
    "\n",
    "In additional to directly viewing a page's source we can download that source page an extract information from it.\n",
    "\n",
    "To motivate what follows, we would like to extract the inflation data from the table appearing on this page and store it in as some sort of Python object (list/dictionary/array etc), or write it out to a file.\n",
    "\n",
    "Below, we\n",
    "\n",
    "- import the package\n",
    "- do a **get** to extract a response from the above\n",
    "- print the status code for the response (200 means success, 404 means failure)."
   ]
  },
  {
   "cell_type": "markdown",
   "metadata": {},
   "source": [
    "In the following case, I deliberatly mis-spell the url."
   ]
  },
  {
   "cell_type": "code",
   "execution_count": 3,
   "metadata": {},
   "outputs": [
    {
     "name": "stdout",
     "output_type": "stream",
     "text": [
      "404\n"
     ]
    }
   ],
   "source": [
    "import requests as req\n",
    "url=\"https://www.minneapolisfed.org/about-us/monetary-policy/inflation-2calculator/consumer-price-index-1913-\"\n",
    "res=req.get(url)\n",
    "print(res.status_code)"
   ]
  },
  {
   "cell_type": "markdown",
   "metadata": {},
   "source": [
    "And use the correct url here."
   ]
  },
  {
   "cell_type": "code",
   "execution_count": 4,
   "metadata": {},
   "outputs": [
    {
     "name": "stdout",
     "output_type": "stream",
     "text": [
      "200\n"
     ]
    }
   ],
   "source": [
    "import requests as req\n",
    "url=\"https://www.minneapolisfed.org/about-us/monetary-policy/inflation-calculator/consumer-price-index-1913-\"\n",
    "res=req.get(url)\n",
    "print(res.status_code)"
   ]
  },
  {
   "cell_type": "markdown",
   "metadata": {},
   "source": [
    "**Getting the text**\n",
    "\n",
    "Having been successful we can extract the **text** (page source), which is an attribute of the response."
   ]
  },
  {
   "cell_type": "code",
   "execution_count": 5,
   "metadata": {},
   "outputs": [],
   "source": [
    "import requests as req\n",
    "url=\"https://www.minneapolisfed.org/about-us/monetary-policy/inflation-calculator/consumer-price-index-1913-\"\n",
    "res=req.get(url)\n",
    "text=res.text\n",
    "with open(\"pagesource.html\",\"w\") as fout:\n",
    "    fout.write(text)"
   ]
  },
  {
   "cell_type": "markdown",
   "metadata": {},
   "source": [
    "We can open that html file in Jupyter."
   ]
  },
  {
   "cell_type": "markdown",
   "metadata": {},
   "source": [
    "**Tree structure**\n",
    "\n",
    "Opening and closing tags must be nested, meaning that if we have two different pairs of opening and closing tags, say \\<tag1>, \\<tag1/>, \\<tag2>, \\<tag2/>, they can be ordered like this in the file:\n",
    "\n",
    ">\\<tag1> <br/>\n",
    ">\\<tag2> <br/>\n",
    ">\\<tag2/> <br/>\n",
    "> \\<tag1/> <br/>\n",
    "\n",
    "or like this:\n",
    "\n",
    ">\\<tag2> <br/>\n",
    ">\\<tag1><br/>\n",
    ">\\<tag1/><br/>\n",
    "> \\<tag2/><br/>\n",
    "\n",
    "But this would not be allowed:\n",
    "\n",
    ">\\<tag1> <br/>\n",
    ">\\<tag2><br/>\n",
    ">\\<tag1/><br/>\n",
    "> \\<tag2/><br/>\n",
    "\n",
    "nor would this\n",
    "\n",
    ">\\<tag2> <br/>\n",
    ">\\<tag1> <br/>\n",
    ">\\<tag2/> <br/>\n",
    "> \\<tag1/> <br/>\n",
    "\n",
    "In the first case\n",
    "\n",
    ">\\<tag1> <br/>\n",
    ">\\<tag2> <br/>\n",
    ">\\<tag2/> <br/>\n",
    "> \\<tag1/> <br/>\n",
    "\n",
    "in which tag2 is nested inside tag1, we can think of tag2 as a *child* of tag1.\n",
    "\n",
    "As a consequence, the tags define a tree-like structure which we can represent pictorially.\n",
    "To illustrate with a small example, consider the small file **sample.html** which looks like this:"
   ]
  },
  {
   "attachments": {
    "ae41370f-12ce-4f68-bcee-be6ebdc3df48.PNG": {
     "image/png": "[encoded data removed]"
    }
   },
   "cell_type": "markdown",
   "metadata": {},
   "source": [
    "![samplehtmlimage.PNG](attachment:ae41370f-12ce-4f68-bcee-be6ebdc3df48.PNG)"
   ]
  },
  {
   "cell_type": "markdown",
   "metadata": {},
   "source": [
    "The tree structure can be displayed using an opening tag in each line and using an indent to represent the child relationship."
   ]
  },
  {
   "cell_type": "markdown",
   "metadata": {},
   "source": [
    "<html>\n",
    "\t<head>\n",
    "\t\t<title>\n",
    "\t<body>\n",
    "\t\t<p>\n",
    "\t\t<p>\n",
    "\t\t\t<br />\n",
    "\t\t<table>\n",
    "\t\t\t<th>\n",
    "\t\t\t\t<td>\n",
    "\t\t\t\t<td>\n",
    "\t\t\t\t<td>\n",
    "\t\t\t<tr>\n",
    "\t\t\t\t<td>\n",
    "\t\t\t\t<td>\n",
    "\t\t\t\t<td>\n",
    "\t\t\t<tr>\n",
    "\t\t\t\t<td>\n",
    "\t\t\t\t<td>\n",
    "\t\t\t\t<td>\n",
    "\t\t\t<tr>\n",
    "\t\t\t\t<td>\n",
    "\t\t\t\t<td>\n",
    "\t\t\t\t<td>"
   ]
  },
  {
   "cell_type": "markdown",
   "metadata": {},
   "source": [
    "**HTML Tables**\n",
    "\n",
    "An html table has in its simplest form: \n",
    "\n",
    "- an optional header row with column headings enclosed in \\<th> .. \\</th> tags.\n",
    "- table body rows which are enclosed in \\<tr> ... \\</tr> tags \n",
    "- data in the body of the table enclosed in \\<td> .. \\</td> tags.\n",
    "\n",
    "**Question.** How can we programmatically extract the inflation data from the online table?\n",
    "\n",
    "We'll talk about this in the lecture on the html parser."
   ]
  },
  {
   "cell_type": "code",
   "execution_count": null,
   "metadata": {},
   "outputs": [],
   "source": []
  }
 ],
 "metadata": {
  "kernelspec": {
   "display_name": "Python 3 (ipykernel)",
   "language": "python",
   "name": "python3"
  },
  "language_info": {
   "codemirror_mode": {
    "name": "ipython",
    "version": 3
   },
   "file_extension": ".py",
   "mimetype": "text/x-python",
   "name": "python",
   "nbconvert_exporter": "python",
   "pygments_lexer": "ipython3",
   "version": "3.9.12"
  }
 },
 "nbformat": 4,
 "nbformat_minor": 4
}
