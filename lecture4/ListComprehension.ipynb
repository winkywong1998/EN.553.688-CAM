{
 "cells": [
  {
   "cell_type": "markdown",
   "metadata": {},
   "source": [
    "**List Comprehension**\n",
    "\n",
    "This is a powerful method for creating a new list from an existing one.\n",
    "\n",
    "In the following example, we start with a list of integers then produce from that the list of square of each number in the list."
   ]
  },
  {
   "cell_type": "code",
   "execution_count": null,
   "metadata": {},
   "outputs": [],
   "source": [
    "L1=[1,6,7,8,2,4,1,5,6,7,8,4,3,5]\n",
    "L2=[x**2 for x in L1] \n",
    "print(L2)"
   ]
  },
  {
   "cell_type": "markdown",
   "metadata": {},
   "source": [
    "The expression that appears first can be a function but we can do a look-up."
   ]
  },
  {
   "cell_type": "code",
   "execution_count": null,
   "metadata": {},
   "outputs": [],
   "source": [
    "M=['a','b','c','d','e','f','g','h','i']\n",
    "L3=[M[i] for i in L1]\n",
    "print(L3)"
   ]
  },
  {
   "cell_type": "markdown",
   "metadata": {},
   "source": [
    "The portion that depends on the iteration variable can be any expression. It needn't depend on the variable."
   ]
  },
  {
   "cell_type": "code",
   "execution_count": null,
   "metadata": {},
   "outputs": [],
   "source": [
    "L4=[\"\" for i in [1,2,3,4,5]]\n",
    "print(L4)"
   ]
  },
  {
   "cell_type": "markdown",
   "metadata": {},
   "source": [
    "And it can be arbitrarily complex."
   ]
  },
  {
   "cell_type": "code",
   "execution_count": null,
   "metadata": {},
   "outputs": [],
   "source": [
    "M=['a','b','c','d','e','f','g','h','i']\n",
    "N=['j','k','l','m','n','o','p','q','r']\n",
    "P=[0,1,2,3,4,5,6,7,8]\n",
    "Q=[0,1,2,3,4,5,6,7,8]\n",
    "L=[str(P[i])+M[i].upper()+N[i].upper()+N[(i**2)%9]+str(P[i]**2) for i in Q]\n",
    "print(L)\n"
   ]
  },
  {
   "cell_type": "markdown",
   "metadata": {},
   "source": [
    "What does that % symbol do? The expression n%m gives the remainder when n is divided by m."
   ]
  },
  {
   "cell_type": "code",
   "execution_count": null,
   "metadata": {},
   "outputs": [],
   "source": [
    "8%7"
   ]
  },
  {
   "cell_type": "markdown",
   "metadata": {},
   "source": [
    "And we don't have to iterate over values in a list, we can iterate over anything that is *iterable*.\n",
    "\n",
    "We saw that ranges are iterable so we can make a list of all of the squares of the integers in some range."
   ]
  },
  {
   "cell_type": "code",
   "execution_count": null,
   "metadata": {},
   "outputs": [],
   "source": [
    "[x**2 for x in range(1,15)]"
   ]
  },
  {
   "cell_type": "markdown",
   "metadata": {},
   "source": [
    "Strings are also iterable."
   ]
  },
  {
   "cell_type": "code",
   "execution_count": null,
   "metadata": {},
   "outputs": [],
   "source": [
    "for c in \"dog\":\n",
    "    print(c)"
   ]
  },
  {
   "cell_type": "markdown",
   "metadata": {},
   "source": [
    "So we can make a list of numbers associated with each character in a string as shown here."
   ]
  },
  {
   "cell_type": "code",
   "execution_count": null,
   "metadata": {},
   "outputs": [],
   "source": [
    "d={\"a\":1,\"b\":2,\"c\":3,\"d\":4,\"e\":5,\"f\":6,\"g\":7,\"h\":8,\"i\":9}\n",
    "[d[c] for c in \"cicada\"]"
   ]
  },
  {
   "cell_type": "markdown",
   "metadata": {},
   "source": [
    "**Inclusion conditions**\n",
    "\n",
    "We can also add a **condition for inclusion** in the list."
   ]
  },
  {
   "cell_type": "code",
   "execution_count": null,
   "metadata": {},
   "outputs": [],
   "source": [
    "L1=[1, 6, 7, 8, 2, 4, 1, 5, 6, 7, 8, 4, 3, 5]\n",
    "print(L1)\n",
    "L2=[x for x in L1 if x>5 and x<=8]\n",
    "print(L2)"
   ]
  },
  {
   "cell_type": "code",
   "execution_count": null,
   "metadata": {},
   "outputs": [],
   "source": [
    "[x**2 for x in L1 if x<4]"
   ]
  },
  {
   "cell_type": "markdown",
   "metadata": {},
   "source": [
    "**Nested list comprehension**\n",
    "\n",
    "We can peform nested list comprehension. \n",
    "\n",
    "The range function can take a variable as an argument.\n",
    "\n",
    "So, as an example, if we want a list of all 2-tuples (i,j) where\n",
    "- i goes from 1 to 5 \n",
    "- j goes from i to 5 \n",
    "\n",
    "in both cases, including 5 we can do this following."
   ]
  },
  {
   "cell_type": "code",
   "execution_count": null,
   "metadata": {},
   "outputs": [],
   "source": [
    "L=[(i,j) for i in range(1,6) for j in range(i,6)]\n",
    "print(L)"
   ]
  },
  {
   "cell_type": "markdown",
   "metadata": {},
   "source": [
    "Observe that the way this works is we peform the second iteration for each value in the first iteration.\n",
    "\n",
    "Try and figure out how to create a list of all (i,j,k) where \n",
    "\n",
    "- i goes from 1 to 5 (including 5)\n",
    "- j goes from i to 5 (including 5)\n",
    "- k goes from j to 5 (including 5)."
   ]
  },
  {
   "cell_type": "markdown",
   "metadata": {},
   "source": [
    "**Another example**\n",
    "\n",
    "What happens when we do this?"
   ]
  },
  {
   "cell_type": "code",
   "execution_count": null,
   "metadata": {},
   "outputs": [],
   "source": [
    "L=[[j for j in range(1,i)] for i in range(1,6)]\n",
    "print(L)"
   ]
  },
  {
   "cell_type": "code",
   "execution_count": null,
   "metadata": {},
   "outputs": [],
   "source": []
  }
 ],
 "metadata": {
  "kernelspec": {
   "display_name": "Python 3 (ipykernel)",
   "language": "python",
   "name": "python3"
  },
  "language_info": {
   "codemirror_mode": {
    "name": "ipython",
    "version": 3
   },
   "file_extension": ".py",
   "mimetype": "text/x-python",
   "name": "python",
   "nbconvert_exporter": "python",
   "pygments_lexer": "ipython3",
   "version": "3.9.12"
  }
 },
 "nbformat": 4,
 "nbformat_minor": 4
}
