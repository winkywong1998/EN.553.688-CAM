{
 "cells": [
  {
   "cell_type": "markdown",
   "metadata": {},
   "source": [
    "**Boolean type/Logical Functions & Operations**\n",
    "\n",
    "In Python, a variable can take a Boolean value (True/False). \n",
    "\n",
    "Standard Boolean operations are available. \n",
    "\n",
    "These are critical for controlling the flow of a program. \n",
    "\n",
    "We'll see Boolean operations soon in the List Comprehension notebook, when we learn about one of Python's great features."
   ]
  },
  {
   "cell_type": "code",
   "execution_count": 1,
   "metadata": {},
   "outputs": [
    {
     "name": "stdout",
     "output_type": "stream",
     "text": [
      "<class 'bool'>\n",
      "True\n",
      "<class 'bool'>\n",
      "False\n"
     ]
    }
   ],
   "source": [
    "t=True\n",
    "f=False\n",
    "print(type(t))\n",
    "print(t)\n",
    "print(type(f))\n",
    "print(f)"
   ]
  },
  {
   "cell_type": "markdown",
   "metadata": {},
   "source": [
    "**not**"
   ]
  },
  {
   "cell_type": "code",
   "execution_count": 2,
   "metadata": {},
   "outputs": [
    {
     "name": "stdout",
     "output_type": "stream",
     "text": [
      "False\n",
      "True\n"
     ]
    }
   ],
   "source": [
    "b1=not t\n",
    "b2=not f\n",
    "print(b1)\n",
    "print(b2)"
   ]
  },
  {
   "cell_type": "markdown",
   "metadata": {},
   "source": [
    "**and**"
   ]
  },
  {
   "cell_type": "code",
   "execution_count": 3,
   "metadata": {},
   "outputs": [
    {
     "name": "stdout",
     "output_type": "stream",
     "text": [
      "True\n",
      "False\n",
      "False\n",
      "False\n"
     ]
    }
   ],
   "source": [
    "b1=t and t\n",
    "b2=t and f\n",
    "b3=f and t\n",
    "b4=f and f\n",
    "print(b1)\n",
    "print(b2)\n",
    "print(b3)\n",
    "print(b4)"
   ]
  },
  {
   "cell_type": "markdown",
   "metadata": {},
   "source": [
    "**or**"
   ]
  },
  {
   "cell_type": "code",
   "execution_count": 4,
   "metadata": {},
   "outputs": [
    {
     "name": "stdout",
     "output_type": "stream",
     "text": [
      "True\n",
      "True\n",
      "True\n",
      "False\n"
     ]
    }
   ],
   "source": [
    "b1=t or  t\n",
    "b2=t or f\n",
    "b3=f or t\n",
    "b4=f or f\n",
    "print(b1)\n",
    "print(b2)\n",
    "print(b3)\n",
    "print(b4)"
   ]
  },
  {
   "cell_type": "markdown",
   "metadata": {},
   "source": [
    "**Abbreviated versions**\n",
    "\n",
    "The and operator can also be abbreviated as & and the or operation can be abbreviated as |.\n",
    "\n",
    "We can form arbitrarily complex Boolean functions."
   ]
  },
  {
   "cell_type": "code",
   "execution_count": 5,
   "metadata": {},
   "outputs": [
    {
     "name": "stdout",
     "output_type": "stream",
     "text": [
      "False\n"
     ]
    }
   ],
   "source": [
    "x=not (((not t) or (not f)) and (not f))\n",
    "print(x)"
   ]
  },
  {
   "cell_type": "code",
   "execution_count": 6,
   "metadata": {},
   "outputs": [
    {
     "name": "stdout",
     "output_type": "stream",
     "text": [
      "False\n"
     ]
    }
   ],
   "source": [
    "x=not (((not t) | (not f)) & (not f))\n",
    "print(x)"
   ]
  },
  {
   "cell_type": "markdown",
   "metadata": {},
   "source": [
    "**Testing equality**\n",
    "\n",
    "We've already discussed testing equality using == to produce a Boolean value."
   ]
  },
  {
   "cell_type": "code",
   "execution_count": 7,
   "metadata": {},
   "outputs": [
    {
     "name": "stdout",
     "output_type": "stream",
     "text": [
      "False\n",
      "<class 'bool'>\n",
      "True\n"
     ]
    }
   ],
   "source": [
    "x=(1==2)\n",
    "print(x)\n",
    "print(type(x))\n",
    "\n",
    "x=(5==5)\n",
    "print(x)"
   ]
  },
  {
   "cell_type": "markdown",
   "metadata": {},
   "source": [
    "**Comparisons**\n",
    "\n",
    "We can also compare variables for their ordering properties to produce Booleans.\n",
    "\n",
    "Of course we can compare numbers.\n",
    "\n",
    "For example, we can compare numbers using <, <=, ==, >= and >.\n",
    "\n",
    "Strings have a *dictionary/lexicographic* order, so strings can be compared using the same operators."
   ]
  },
  {
   "cell_type": "code",
   "execution_count": 8,
   "metadata": {},
   "outputs": [
    {
     "name": "stdout",
     "output_type": "stream",
     "text": [
      "False\n",
      "False\n",
      "False\n",
      "True\n",
      "True\n"
     ]
    }
   ],
   "source": [
    "str1=\"dog\"\n",
    "str2=\"dig\"\n",
    "print(str1<str2)\n",
    "print(str1<=str2)\n",
    "print(str1==str2)\n",
    "print(str1>=str2)\n",
    "print(str1>str2)"
   ]
  },
  {
   "cell_type": "markdown",
   "metadata": {},
   "source": [
    "**Comparing strings**\n",
    "\n",
    "It is worth noting that characters are actually compared using their ascii codes\n",
    "\n",
    "https://www.asciitable.com/\n",
    "\n",
    "We see from this table that in addition to the usual ordering of digits, and characters, we have\n",
    "\n",
    "- upper case characters precede lower case characters\n",
    "- digits precede alphabetic characters\n",
    "- where special characters #, ^, !, ?, \\n appear in the ordering appears somewhat ad hoc\n",
    "\n",
    "So can compare strings of ascii characters."
   ]
  },
  {
   "cell_type": "code",
   "execution_count": 9,
   "metadata": {},
   "outputs": [
    {
     "name": "stdout",
     "output_type": "stream",
     "text": [
      "True\n",
      "False\n",
      "True\n",
      "False\n",
      "True\n"
     ]
    }
   ],
   "source": [
    "print(\"1\"<\"A\")\n",
    "print(\"a\"<=\"A\")\n",
    "print(\"^\"<=\"a\")\n",
    "print(\"^\"<=\"\\n\")\n",
    "print(\"!\"<=\"&\")"
   ]
  },
  {
   "cell_type": "code",
   "execution_count": 10,
   "metadata": {},
   "outputs": [
    {
     "data": {
      "text/plain": [
       "True"
      ]
     },
     "execution_count": 10,
     "metadata": {},
     "output_type": "execute_result"
    }
   ],
   "source": [
    "x=\"7fw90fnk\\n\\tf3><?s1378#$%\"\n",
    "y=\"7fw90fnk\\n\\tf3><u\"\n",
    "x<y"
   ]
  },
  {
   "cell_type": "code",
   "execution_count": 11,
   "metadata": {},
   "outputs": [
    {
     "data": {
      "text/plain": [
       "True"
      ]
     },
     "execution_count": 11,
     "metadata": {},
     "output_type": "execute_result"
    }
   ],
   "source": [
    "x=\"A\"\n",
    "y=\"AA\"\n",
    "x<y"
   ]
  },
  {
   "cell_type": "markdown",
   "metadata": {},
   "source": [
    "When we compare an int and a float, Python treats the int as a float."
   ]
  },
  {
   "cell_type": "code",
   "execution_count": 12,
   "metadata": {},
   "outputs": [
    {
     "data": {
      "text/plain": [
       "True"
      ]
     },
     "execution_count": 12,
     "metadata": {},
     "output_type": "execute_result"
    }
   ],
   "source": [
    "1==1."
   ]
  },
  {
   "cell_type": "markdown",
   "metadata": {},
   "source": [
    "**Comparings lists/tuples**\n",
    "\n",
    "As long as lists or tuples contain objects all of which can be compared i.e. for which <, <=, etc., make sense, we can compare them lexicographically."
   ]
  },
  {
   "cell_type": "code",
   "execution_count": 13,
   "metadata": {},
   "outputs": [
    {
     "name": "stdout",
     "output_type": "stream",
     "text": [
      "True\n",
      "True\n",
      "False\n",
      "True\n"
     ]
    }
   ],
   "source": [
    "L1=[1,2,3]\n",
    "L2=[1,2,5]\n",
    "L3=[1,3]\n",
    "L4=[1]\n",
    "print(L1<L2)\n",
    "print(L1<L3)\n",
    "print(L3<L1)\n",
    "print(L4<L3)"
   ]
  },
  {
   "cell_type": "code",
   "execution_count": 14,
   "metadata": {},
   "outputs": [
    {
     "name": "stdout",
     "output_type": "stream",
     "text": [
      "True\n",
      "True\n",
      "False\n",
      "True\n"
     ]
    }
   ],
   "source": [
    "L1=(1,2,3)\n",
    "L2=(1,2,5)\n",
    "L3=(1,3)\n",
    "L4=(1,)\n",
    "print(L1<L2)\n",
    "print(L1<L3)\n",
    "print(L3<L1)\n",
    "print(L4<L3)"
   ]
  },
  {
   "cell_type": "code",
   "execution_count": 15,
   "metadata": {},
   "outputs": [
    {
     "data": {
      "text/plain": [
       "True"
      ]
     },
     "execution_count": 15,
     "metadata": {},
     "output_type": "execute_result"
    }
   ],
   "source": [
    "L1=[\"dog\",\"dough\",\"digit\"]\n",
    "L2=[\"dog\",\"doughs\"]\n",
    "L1<L2"
   ]
  },
  {
   "cell_type": "code",
   "execution_count": 16,
   "metadata": {},
   "outputs": [
    {
     "data": {
      "text/plain": [
       "False"
      ]
     },
     "execution_count": 16,
     "metadata": {},
     "output_type": "execute_result"
    }
   ],
   "source": [
    "L1=[\"dog\",\"dough\",\"digit\"]\n",
    "L2=[\"dog\",\"dough\"]\n",
    "L1<L2"
   ]
  },
  {
   "cell_type": "markdown",
   "metadata": {},
   "source": [
    "**is** \n",
    "\n",
    "The **is** comparison is used not to check equality of values, but to check whether the variables refer to the same object in memory.\n",
    "\n",
    "Using **is** x is y is the same as using id(x)==id(y)"
   ]
  },
  {
   "cell_type": "code",
   "execution_count": 17,
   "metadata": {},
   "outputs": [
    {
     "name": "stdout",
     "output_type": "stream",
     "text": [
      "True\n",
      "False\n"
     ]
    }
   ],
   "source": [
    "x=\"Is this the same as that?\"\n",
    "y=x\n",
    "z=\"Is this the same as that?\"\n",
    "print(x is y)\n",
    "print(x is z)"
   ]
  }
 ],
 "metadata": {
  "kernelspec": {
   "display_name": "Python 3 (ipykernel)",
   "language": "python",
   "name": "python3"
  },
  "language_info": {
   "codemirror_mode": {
    "name": "ipython",
    "version": 3
   },
   "file_extension": ".py",
   "mimetype": "text/x-python",
   "name": "python",
   "nbconvert_exporter": "python",
   "pygments_lexer": "ipython3",
   "version": "3.9.12"
  }
 },
 "nbformat": 4,
 "nbformat_minor": 4
}
