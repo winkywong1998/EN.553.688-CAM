{
 "cells": [
  {
   "cell_type": "markdown",
   "id": "c5820764-8eca-410d-9b4d-0175124edd43",
   "metadata": {},
   "source": [
    "**Monte Carlo Example**\n",
    "\n",
    "Assume U and V are independent Uniform(0,1) random variables.\n",
    "Let \n",
    "$$\n",
    "X = \\frac{U^2}{1+V^2}\n",
    "$$\n",
    "\n",
    "**Question**\n",
    "\n",
    "What is the probability that $X>\\frac{1}{2}$?"
   ]
  },
  {
   "cell_type": "code",
   "execution_count": 4,
   "id": "99dfcef2-aa29-4e6f-9e1f-c983c89e5010",
   "metadata": {},
   "outputs": [
    {
     "name": "stdout",
     "output_type": "stream",
     "text": [
      "phat = 0.18812\n",
      "sd = 0.39080796511841964\n",
      "se = 0.0012358432975098416\n",
      "ci lower = 0.18569774713688073\n",
      "ci upper = 0.1905422528631193\n"
     ]
    }
   ],
   "source": [
    "import numpy as np\n",
    "ntrials=100000\n",
    "X=np.zeros(ntrials)\n",
    "for i in range(ntrials):\n",
    "    U=np.random.uniform(0,1,1)\n",
    "    V=np.random.uniform(0,1,1)\n",
    "    X[i]=(U**2)/(1+V**2)\n",
    "Y=X>.5\n",
    "phat=Y.mean()\n",
    "print(\"phat = \"+str(phat))\n",
    "sd=Y.std()\n",
    "print(\"sd = \"+str(sd))\n",
    "se=sd/np.sqrt(ntrials)\n",
    "print(\"se = \"+str(se))\n",
    "cilower=phat-1.96*se\n",
    "ciupper=phat+1.96*se\n",
    "print(\"ci lower = \"+str(cilower))\n",
    "print(\"ci upper = \"+str(ciupper))"
   ]
  },
  {
   "cell_type": "markdown",
   "id": "ebda5b78-f9f1-4555-b512-2f842b8b1b9d",
   "metadata": {},
   "source": [
    "**Question**\n",
    "\n",
    "What is the expected value of $e^{-X}$?"
   ]
  },
  {
   "cell_type": "code",
   "execution_count": 3,
   "id": "30472305-83f9-4e41-9b50-983e85c5e6fb",
   "metadata": {},
   "outputs": [
    {
     "name": "stdout",
     "output_type": "stream",
     "text": [
      "muhat = 0.7921337195409817\n",
      "sd = 0.17437391682629458\n",
      "se = 0.0005514187416958504\n",
      "ci lower = 0.7910529388072578\n",
      "ci upper = 0.7932145002747055\n"
     ]
    }
   ],
   "source": [
    "import numpy as np\n",
    "ntrials=100000\n",
    "X=np.zeros(ntrials)\n",
    "for i in range(ntrials):\n",
    "    U=np.random.uniform(0,1,1)\n",
    "    V=np.random.uniform(0,1,1)\n",
    "    X[i]=(U**2)/(1+V**2)\n",
    "    Y=np.exp(-X)\n",
    "muhat=Y.mean()\n",
    "print(\"muhat = \"+str(muhat))\n",
    "sd=Y.std()\n",
    "print(\"sd = \"+str(sd))\n",
    "se=sd/np.sqrt(ntrials)\n",
    "print(\"se = \"+str(se))\n",
    "cilower=muhat-1.96*se\n",
    "ciupper=muhat+1.96*se\n",
    "print(\"ci lower = \"+str(cilower))\n",
    "print(\"ci upper = \"+str(ciupper))"
   ]
  },
  {
   "cell_type": "code",
   "execution_count": null,
   "id": "0bd87cc8-6ce0-4865-b357-cf63a03c0e09",
   "metadata": {},
   "outputs": [],
   "source": []
  }
 ],
 "metadata": {
  "kernelspec": {
   "display_name": "Python 3 (ipykernel)",
   "language": "python",
   "name": "python3"
  },
  "language_info": {
   "codemirror_mode": {
    "name": "ipython",
    "version": 3
   },
   "file_extension": ".py",
   "mimetype": "text/x-python",
   "name": "python",
   "nbconvert_exporter": "python",
   "pygments_lexer": "ipython3",
   "version": "3.9.12"
  }
 },
 "nbformat": 4,
 "nbformat_minor": 5
}
