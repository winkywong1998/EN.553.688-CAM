{
 "cells": [
  {
   "cell_type": "markdown",
   "metadata": {},
   "source": [
    "**Priority Queues in Python**\n",
    "\n",
    "A priority queue is a collection that objects that may be updated by adding additional elements one at a time. \n",
    "\n",
    "Think of a call center that receives calls, orders them somehow to determine which call gets responded to first.\n",
    "\n",
    "Objects are assigned a ordering/priority, and are *popped/removed* from the queue with the element of highest priority removed.\n",
    "\n",
    "Here highest priority means lowest in the ordering (think of 1,2,3, ... where 1 comes first, 2 comes second, etc.)\n",
    "\n",
    "For some objects (like ints or floats) there is a natural ordering, so priority is determined using the usual ordering (lower numbers get first priority. "
   ]
  },
  {
   "cell_type": "markdown",
   "metadata": {},
   "source": [
    "**Example**\n",
    "\n",
    "To illustrate, lets create a list of random numbers and **put** them into the queue."
   ]
  },
  {
   "cell_type": "code",
   "execution_count": 7,
   "metadata": {},
   "outputs": [
    {
     "name": "stdout",
     "output_type": "stream",
     "text": [
      "[ 8  1  3 14 11 11 13  2  8  7  9  2  4  6  6]\n"
     ]
    }
   ],
   "source": [
    "import numpy as np\n",
    "import queue\n",
    "\n",
    "PQ=queue.PriorityQueue() # create a priorty queue\n",
    "\n",
    "L=np.random.choice(range(15),size=15)\n",
    "print(L)\n",
    "\n",
    "\n",
    "for x in L:\n",
    "    PQ.put(x)\n",
    "PQ.put(65.421)"
   ]
  },
  {
   "cell_type": "code",
   "execution_count": 3,
   "metadata": {},
   "outputs": [],
   "source": [
    "x=PQ.get()"
   ]
  },
  {
   "cell_type": "code",
   "execution_count": 4,
   "metadata": {},
   "outputs": [
    {
     "name": "stdout",
     "output_type": "stream",
     "text": [
      "0\n"
     ]
    }
   ],
   "source": [
    "print(x)"
   ]
  },
  {
   "cell_type": "markdown",
   "metadata": {},
   "source": [
    "**Popping from the queue**\n",
    "\n",
    "Now we pop from the queue in order of priority. When we do a get, the element with the highest priority is removed from the queue and that element is also returned."
   ]
  },
  {
   "cell_type": "code",
   "execution_count": 5,
   "metadata": {},
   "outputs": [
    {
     "name": "stdout",
     "output_type": "stream",
     "text": [
      "0\n",
      "1\n",
      "3\n",
      "3\n",
      "3\n",
      "4\n",
      "5\n",
      "6\n",
      "8\n",
      "8\n",
      "10\n",
      "13\n",
      "13\n",
      "14\n",
      "65.421\n"
     ]
    }
   ],
   "source": [
    "while not PQ.empty():\n",
    "    x=PQ.get()\n",
    "    print(x)"
   ]
  },
  {
   "cell_type": "code",
   "execution_count": 8,
   "metadata": {},
   "outputs": [
    {
     "data": {
      "text/plain": [
       "1"
      ]
     },
     "execution_count": 8,
     "metadata": {},
     "output_type": "execute_result"
    }
   ],
   "source": [
    "PQ.queue[0]"
   ]
  },
  {
   "cell_type": "markdown",
   "metadata": {},
   "source": [
    "**Peaking at the queue**\n",
    "\n",
    "If we want to inspect a queue, we need to be careful because the get operation removes the element from the queue.\n",
    "\n",
    "One way to inspect the queue is to remove elements one at a time, store them in a list, then move them back into the queue."
   ]
  },
  {
   "cell_type": "code",
   "execution_count": 9,
   "metadata": {},
   "outputs": [
    {
     "name": "stdout",
     "output_type": "stream",
     "text": [
      "[ 5  0  4  1  6  4 11  5 13  8  6  5  0  1  0]\n",
      "0\n",
      "0\n",
      "0\n",
      "1\n",
      "1\n",
      "4\n",
      "4\n",
      "5\n",
      "5\n",
      "5\n",
      "6\n",
      "6\n",
      "8\n",
      "11\n",
      "13\n",
      "[]\n",
      "[]\n"
     ]
    }
   ],
   "source": [
    "import numpy as np\n",
    "import queue\n",
    "\n",
    "#\n",
    "# create the queue and load stuff into it\n",
    "#\n",
    "PQ=queue.PriorityQueue()\n",
    "L=np.random.choice(range(15),size=15)\n",
    "print(L)\n",
    "for x in L:\n",
    "    PQ.put(x)\n",
    "    \n",
    "#\n",
    "# remove one at a time and store in a list or another queue\n",
    "#\n",
    "PQ2=queue.PriorityQueue()\n",
    "L=[]\n",
    "while not PQ.empty():\n",
    "    x=PQ.get()\n",
    "    PQ2.put(x)\n",
    "    print(x)\n",
    "\n",
    "#\n",
    "# put the list elements back in the original queue\n",
    "#\n",
    "while not PQ2.empty():\n",
    "    x=PQ2.get()\n",
    "    PQ.put(x)\n",
    "\n",
    "\n",
    "print(L)"
   ]
  },
  {
   "cell_type": "markdown",
   "metadata": {},
   "source": [
    "So here is a function to make a list (in priority order) from a priority queue and reload it."
   ]
  },
  {
   "cell_type": "code",
   "execution_count": null,
   "metadata": {},
   "outputs": [],
   "source": [
    "def list_from_queue(PQ):\n",
    "    L=[]\n",
    "    while not PQ.empty():\n",
    "        L.append(PQ.get())\n",
    "    for x in L:\n",
    "        PQ.put(x)\n",
    "    return(L,PQ)\n",
    "#\n",
    "# Create and load a priority queue\n",
    "#\n",
    "PQ=queue.PriorityQueue()\n",
    "L=np.random.choice(range(15),size=15)\n",
    "print(L)\n",
    "for x in L:\n",
    "    PQ.put(x)\n",
    "#\n",
    "# Get list from queue\n",
    "#   \n",
    "L,PQ=list_from_queue(PQ)\n",
    "print(L)"
   ]
  },
  {
   "cell_type": "markdown",
   "metadata": {},
   "source": [
    "**Customized ordering**\n",
    "\n",
    "How do we create an **customized ordering** of elements for a queue?\n",
    "\n",
    "The ordering is determined by calling the \\_\\_lt\\_\\_ (less than) method for a pair of objects O1 and O2 using a call like:\n",
    "&nbsp;&nbsp;&nbsp;&nbsp;&nbsp; O1.\\_\\_lt\\_\\_(O2)\n",
    "\n",
    "The O1 will receive higher priority than O2 if O1.\\_\\_lt\\_\\_(O2) yields True.\n",
    "\n",
    "To add an object to the queue, we call the _put_ method for the queue.\n",
    "\n",
    "To get the highest priority object from the queue and remove it we call the _get_ method for the queue.\n",
    "\n",
    "**Size of queue**\n",
    "\n",
    "To determine the number of objects in the queue, we can use the .qsize() method.\n",
    "\n",
    "**Finding highest priority element**\n",
    "\n",
    "To see the highest priority object without removing it, we can use the .queue[0] attribute. \n",
    "\n",
    "**Important note:** the objects are available as .queue[0],.queue[1],....,.queue[n-1] but these are **not** in order by priority.\n",
    "\n",
    "**Example.**\n",
    "\n",
    "In the following example, we consider a class of objects with a single slot for a numerical _value_."
   ]
  },
  {
   "cell_type": "code",
   "execution_count": 10,
   "metadata": {},
   "outputs": [
    {
     "name": "stdout",
     "output_type": "stream",
     "text": [
      "Adding to the queue:\n",
      "   value of thing added = 108.35314067371922\n",
      "   value of thing added = 96.51837942343742\n",
      "   value of thing added = 97.61284239513589\n",
      "   value of thing added = 101.66215172432801\n",
      "   value of thing added = 92.77203980841308\n",
      "Number of things in the queue = 5\n",
      "Printing queue contents without modifying it:\n",
      "   108.35314067371922\n",
      "   101.66215172432801\n",
      "   97.61284239513589\n",
      "   96.51837942343742\n",
      "   92.77203980841308\n",
      "Number of things in the queue = 5\n",
      "queue is non-empty\n",
      "   108.35314067371922\n",
      "Number of things in queue = 4\n",
      "   101.66215172432801\n",
      "Number of things in queue = 3\n",
      "   97.61284239513589\n",
      "Number of things in queue = 2\n",
      "   96.51837942343742\n",
      "Number of things in queue = 1\n",
      "   92.77203980841308\n",
      "Number of things in queue = 0\n",
      "queue is empty\n"
     ]
    }
   ],
   "source": [
    "import queue as Q\n",
    "import numpy as np\n",
    "\n",
    "#\n",
    "# Create a class of things to put in the queue.\n",
    "#\n",
    "class thing:\n",
    "    __slots__=(\"value\")\n",
    "    def __init__(self,value):\n",
    "        self.value=value\n",
    "    \n",
    "    def __lt__(self,other):\n",
    "        if self.value>=other.value:\n",
    "            return(True)\n",
    "        return(False)\n",
    "    def __str__(self):\n",
    "        return(\"   \"+str(self.value))\n",
    "    \n",
    "#\n",
    "# Create an instance of a priority queue\n",
    "#\n",
    "PQ=Q.PriorityQueue()\n",
    "#\n",
    "# Add some things to the queue \n",
    "#\n",
    "print(\"Adding to the queue:\")\n",
    "for i in range(5):\n",
    "    v=np.random.normal(100,10,1)[0]\n",
    "    t=thing(v)\n",
    "    PQ.put(t)\n",
    "    print(\"   value of thing added = \" + str(v))\n",
    "print(\"Number of things in the queue = \" + str(PQ.qsize()))\n",
    "#\n",
    "# Print the elements of the queue.\n",
    "# This doesn't modify contents of the queue.\n",
    "#\n",
    "n=PQ.qsize()\n",
    "print(\"Printing queue contents without modifying it:\")\n",
    "for i in range(n):\n",
    "    print(PQ.queue[i])\n",
    "print(\"Number of things in the queue = \" + str(PQ.qsize()))\n",
    "#\n",
    "# Is queue empty?\n",
    "#\n",
    "if PQ.empty():\n",
    "    print(\"queue is empty\")\n",
    "else:\n",
    "    print(\"queue is non-empty\")\n",
    "#\n",
    "# Get the elements one at a time.\n",
    "#\n",
    "while not PQ.empty():\n",
    "    v=PQ.get()\n",
    "    print(v)\n",
    "    print(\"Number of things in queue = \" + str(PQ.qsize()))\n",
    "#\n",
    "# Is queue empty?\n",
    "#\n",
    "if PQ.empty():\n",
    "    print(\"queue is empty\")\n",
    "else:\n",
    "    print(\"queue is non-empty\")"
   ]
  },
  {
   "cell_type": "markdown",
   "metadata": {},
   "source": [
    "**Slightly more complicated example**"
   ]
  },
  {
   "cell_type": "code",
   "execution_count": 11,
   "metadata": {},
   "outputs": [
    {
     "name": "stdout",
     "output_type": "stream",
     "text": [
      "Adding to the queue:\n",
      "   value of thing added = 9068.712035914963\n",
      "   value of thing added = 12985.601149375625\n",
      "   value of thing added = 10377.708376840734\n",
      "   value of thing added = 9942.011380809628\n",
      "   value of thing added = 10637.563575990096\n",
      "Number of things in the queue = 5\n",
      "Printing queue contents without modifying it:\n",
      "   105.06680718743245  88.6462768611771  101.1169960670191  9068.712035914963\n",
      "   101.08906201271871  98.24821123240136  100.16388283669295  9942.011380809628\n",
      "   74.93671307319653  100.12024747029139  102.90397720825322  10377.708376840734\n",
      "   97.3786355309054  123.31506432783044  104.51458290271542  12985.601149375625\n",
      "   99.25782287051149  94.84337002336831  111.11272986739155  10637.563575990096\n",
      "Number of things in the queue = 5\n",
      "queue is non-empty\n",
      "   105.06680718743245  88.6462768611771  101.1169960670191  9068.712035914963\n",
      "Number of things in queue = 4\n",
      "   101.08906201271871  98.24821123240136  100.16388283669295  9942.011380809628\n",
      "Number of things in queue = 3\n",
      "   74.93671307319653  100.12024747029139  102.90397720825322  10377.708376840734\n",
      "Number of things in queue = 2\n",
      "   99.25782287051149  94.84337002336831  111.11272986739155  10637.563575990096\n",
      "Number of things in queue = 1\n",
      "   97.3786355309054  123.31506432783044  104.51458290271542  12985.601149375625\n",
      "Number of things in queue = 0\n",
      "queue is empty\n"
     ]
    }
   ],
   "source": [
    "import queue as Q\n",
    "import numpy as np\n",
    "\n",
    "#\n",
    "# Create a class of things to put in the queue.\n",
    "#\n",
    "class thing:\n",
    "    __slots__=(\"v1\",\"v2\",\"v3\")\n",
    "    def __init__(self,v1,v2,v3):\n",
    "        self.v1=v1\n",
    "        self.v2=v2\n",
    "        self.v3=v3\n",
    "    def pcalc(self):\n",
    "        return(self.v1+self.v2*self.v3)\n",
    "    def __lt__(self,other):\n",
    "        scalc=self.pcalc()\n",
    "        ocalc=other.pcalc()\n",
    "        if scalc<=ocalc:\n",
    "            return(True)\n",
    "        return(False)\n",
    "    def __str__(self):\n",
    "        return(\"   \"+str(self.v1)+\"  \"+str(self.v2)+\"  \"+str(self.v3)+\"  \"+str(self.pcalc()))\n",
    "    \n",
    "#\n",
    "# Create an instance of a priority queue\n",
    "#\n",
    "PQ=Q.PriorityQueue()\n",
    "#\n",
    "# Add some things to the queue \n",
    "#\n",
    "print(\"Adding to the queue:\")\n",
    "for i in range(5):\n",
    "    v1=np.random.normal(100,10,1)[0]\n",
    "    v2=np.random.normal(100,10,1)[0]\n",
    "    v3=np.random.normal(100,10,1)[0]\n",
    "    t=thing(v1,v2,v3)\n",
    "    PQ.put(t)\n",
    "    print(\"   value of thing added = \" + str(t.pcalc()))\n",
    "print(\"Number of things in the queue = \" + str(PQ.qsize()))\n",
    "#\n",
    "# Print the elements of the queue.\n",
    "# This doesn't modify contents of the queue.\n",
    "#\n",
    "n=PQ.qsize()\n",
    "print(\"Printing queue contents without modifying it:\")\n",
    "for i in range(n):\n",
    "    print(PQ.queue[i])\n",
    "print(\"Number of things in the queue = \" + str(PQ.qsize()))\n",
    "#\n",
    "# Is queue empty?\n",
    "#\n",
    "if PQ.empty():\n",
    "    print(\"queue is empty\")\n",
    "else:\n",
    "    print(\"queue is non-empty\")\n",
    "#\n",
    "# Get the elements one at a time.\n",
    "#\n",
    "while PQ.qsize():\n",
    "    v=PQ.get()\n",
    "    print(v)\n",
    "    print(\"Number of things in queue = \" + str(PQ.qsize()))\n",
    "#\n",
    "# Is queue empty?\n",
    "#\n",
    "if PQ.empty():\n",
    "    print(\"queue is empty\")\n",
    "else:\n",
    "    print(\"queue is non-empty\")"
   ]
  }
 ],
 "metadata": {
  "kernelspec": {
   "display_name": "Python 3 (ipykernel)",
   "language": "python",
   "name": "python3"
  },
  "language_info": {
   "codemirror_mode": {
    "name": "ipython",
    "version": 3
   },
   "file_extension": ".py",
   "mimetype": "text/x-python",
   "name": "python",
   "nbconvert_exporter": "python",
   "pygments_lexer": "ipython3",
   "version": "3.9.12"
  }
 },
 "nbformat": 4,
 "nbformat_minor": 4
}
