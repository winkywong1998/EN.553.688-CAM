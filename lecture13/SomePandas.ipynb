{
 "cells": [
  {
   "cell_type": "markdown",
   "id": "1ad5d020-7377-47ac-bd3c-1ef95c66ffb1",
   "metadata": {},
   "source": [
    "**Some Pandas**\n",
    "\n",
    "We use the pandas package to deal with flat/rectangular datasets.\n",
    "Pandas calls these data frames (a term that comes from R).\n",
    "We'll only introduce a few things one can do with these for now.\n",
    "\n",
    "- read a .csv file as a pandas data frame\n",
    "- apply a function to every row to produce a pandas *Series*\n",
    "- create a new data frame by selecting rows satisfying some criterion\n"
   ]
  },
  {
   "cell_type": "code",
   "execution_count": 1,
   "id": "6a731181-45b2-4141-a61e-403ae784d4bb",
   "metadata": {},
   "outputs": [
    {
     "name": "stdout",
     "output_type": "stream",
     "text": [
      "(9864, 5)\n"
     ]
    },
    {
     "data": {
      "text/html": [
       "<div>\n",
       "<style scoped>\n",
       "    .dataframe tbody tr th:only-of-type {\n",
       "        vertical-align: middle;\n",
       "    }\n",
       "\n",
       "    .dataframe tbody tr th {\n",
       "        vertical-align: top;\n",
       "    }\n",
       "\n",
       "    .dataframe thead th {\n",
       "        text-align: right;\n",
       "    }\n",
       "</style>\n",
       "<table border=\"1\" class=\"dataframe\">\n",
       "  <thead>\n",
       "    <tr style=\"text-align: right;\">\n",
       "      <th></th>\n",
       "      <th>location</th>\n",
       "      <th>princ</th>\n",
       "      <th>irate</th>\n",
       "      <th>cscore</th>\n",
       "      <th>result</th>\n",
       "    </tr>\n",
       "  </thead>\n",
       "  <tbody>\n",
       "    <tr>\n",
       "      <th>0</th>\n",
       "      <td>suburban</td>\n",
       "      <td>358</td>\n",
       "      <td>7.00</td>\n",
       "      <td>728</td>\n",
       "      <td>default</td>\n",
       "    </tr>\n",
       "    <tr>\n",
       "      <th>1</th>\n",
       "      <td>suburban</td>\n",
       "      <td>637</td>\n",
       "      <td>7.25</td>\n",
       "      <td>675</td>\n",
       "      <td>default</td>\n",
       "    </tr>\n",
       "    <tr>\n",
       "      <th>2</th>\n",
       "      <td>suburban</td>\n",
       "      <td>303</td>\n",
       "      <td>7.25</td>\n",
       "      <td>645</td>\n",
       "      <td>non-default</td>\n",
       "    </tr>\n",
       "    <tr>\n",
       "      <th>3</th>\n",
       "      <td>suburban</td>\n",
       "      <td>397</td>\n",
       "      <td>7.25</td>\n",
       "      <td>609</td>\n",
       "      <td>non-default</td>\n",
       "    </tr>\n",
       "    <tr>\n",
       "      <th>4</th>\n",
       "      <td>suburban</td>\n",
       "      <td>420</td>\n",
       "      <td>7.75</td>\n",
       "      <td>669</td>\n",
       "      <td>default</td>\n",
       "    </tr>\n",
       "    <tr>\n",
       "      <th>5</th>\n",
       "      <td>suburban</td>\n",
       "      <td>574</td>\n",
       "      <td>7.25</td>\n",
       "      <td>715</td>\n",
       "      <td>default</td>\n",
       "    </tr>\n",
       "    <tr>\n",
       "      <th>6</th>\n",
       "      <td>suburban</td>\n",
       "      <td>744</td>\n",
       "      <td>6.75</td>\n",
       "      <td>716</td>\n",
       "      <td>non-default</td>\n",
       "    </tr>\n",
       "    <tr>\n",
       "      <th>7</th>\n",
       "      <td>suburban</td>\n",
       "      <td>390</td>\n",
       "      <td>7.25</td>\n",
       "      <td>681</td>\n",
       "      <td>non-default</td>\n",
       "    </tr>\n",
       "    <tr>\n",
       "      <th>8</th>\n",
       "      <td>urban</td>\n",
       "      <td>491</td>\n",
       "      <td>7.50</td>\n",
       "      <td>518</td>\n",
       "      <td>default</td>\n",
       "    </tr>\n",
       "    <tr>\n",
       "      <th>9</th>\n",
       "      <td>suburban</td>\n",
       "      <td>451</td>\n",
       "      <td>7.50</td>\n",
       "      <td>641</td>\n",
       "      <td>default</td>\n",
       "    </tr>\n",
       "  </tbody>\n",
       "</table>\n",
       "</div>"
      ],
      "text/plain": [
       "   location  princ  irate  cscore       result\n",
       "0  suburban    358   7.00     728      default\n",
       "1  suburban    637   7.25     675      default\n",
       "2  suburban    303   7.25     645  non-default\n",
       "3  suburban    397   7.25     609  non-default\n",
       "4  suburban    420   7.75     669      default\n",
       "5  suburban    574   7.25     715      default\n",
       "6  suburban    744   6.75     716  non-default\n",
       "7  suburban    390   7.25     681  non-default\n",
       "8     urban    491   7.50     518      default\n",
       "9  suburban    451   7.50     641      default"
      ]
     },
     "execution_count": 1,
     "metadata": {},
     "output_type": "execute_result"
    }
   ],
   "source": [
    "import pandas as pd\n",
    "df=pd.read_csv(\"mortgage_data.csv\")\n",
    "print(df.shape)\n",
    "df.head(10)"
   ]
  },
  {
   "cell_type": "code",
   "execution_count": 2,
   "id": "0022d738-268a-4cba-98ed-113e1bf39e19",
   "metadata": {},
   "outputs": [
    {
     "data": {
      "text/plain": [
       "location    suburban\n",
       "princ            574\n",
       "irate           7.25\n",
       "cscore           715\n",
       "result       default\n",
       "Name: 5, dtype: object"
      ]
     },
     "execution_count": 2,
     "metadata": {},
     "output_type": "execute_result"
    }
   ],
   "source": [
    "df.iloc[5]"
   ]
  },
  {
   "cell_type": "code",
   "execution_count": 3,
   "id": "18f919f2-dbcd-4ccc-ba04-d7622b056ed1",
   "metadata": {},
   "outputs": [
    {
     "data": {
      "text/plain": [
       "0       False\n",
       "1        True\n",
       "2        True\n",
       "3        True\n",
       "4        True\n",
       "        ...  \n",
       "9859     True\n",
       "9860     True\n",
       "9861    False\n",
       "9862    False\n",
       "9863     True\n",
       "Length: 9864, dtype: bool"
      ]
     },
     "execution_count": 3,
     "metadata": {},
     "output_type": "execute_result"
    }
   ],
   "source": [
    "def f(row):\n",
    "    return(row.irate>7.2)\n",
    "df.apply(f,axis=1)"
   ]
  },
  {
   "cell_type": "code",
   "execution_count": 4,
   "id": "ae6f0eaa-cd39-4007-b3ba-a5fae375c6e5",
   "metadata": {},
   "outputs": [
    {
     "data": {
      "text/plain": [
       "0       False\n",
       "1       False\n",
       "2       False\n",
       "3       False\n",
       "4       False\n",
       "        ...  \n",
       "9859    False\n",
       "9860    False\n",
       "9861    False\n",
       "9862    False\n",
       "9863    False\n",
       "Length: 9864, dtype: bool"
      ]
     },
     "execution_count": 4,
     "metadata": {},
     "output_type": "execute_result"
    }
   ],
   "source": [
    "def f(row):\n",
    "    return(row.location==\"urban\")\n",
    "df.apply(f,axis=1)"
   ]
  },
  {
   "cell_type": "code",
   "execution_count": 5,
   "id": "c457de7c-aef8-4f1d-8a94-065708e6955f",
   "metadata": {},
   "outputs": [
    {
     "data": {
      "text/plain": [
       "0       True\n",
       "1       True\n",
       "2       True\n",
       "3       True\n",
       "4       True\n",
       "        ... \n",
       "9859    True\n",
       "9860    True\n",
       "9861    True\n",
       "9862    True\n",
       "9863    True\n",
       "Length: 9864, dtype: bool"
      ]
     },
     "execution_count": 5,
     "metadata": {},
     "output_type": "execute_result"
    }
   ],
   "source": [
    "def f(row):\n",
    "    return(row.location in [\"urban\",\"suburban\"])\n",
    "df.apply(f,axis=1)"
   ]
  },
  {
   "cell_type": "code",
   "execution_count": 7,
   "id": "08d6f86e-2d0f-412a-8dc3-be1fec087db5",
   "metadata": {},
   "outputs": [
    {
     "name": "stdout",
     "output_type": "stream",
     "text": [
      "0       False\n",
      "1       False\n",
      "2       False\n",
      "3       False\n",
      "4       False\n",
      "        ...  \n",
      "9859    False\n",
      "9860    False\n",
      "9861    False\n",
      "9862     True\n",
      "9863    False\n",
      "Length: 9864, dtype: bool\n",
      "(617, 5)\n",
      "(9247, 5)\n"
     ]
    }
   ],
   "source": [
    "def f(row):\n",
    "    return(row.cscore>750)\n",
    "res=df.apply(f,axis=1) # True/False Series\n",
    "print(res)\n",
    "dfnew1=df.loc[res] # rows of df that give res==True\n",
    "dfnew2=df.loc[~res] # rows of df that give res=False\n",
    "print(dfnew1.shape)\n",
    "print(dfnew2.shape)\n",
    "\n"
   ]
  },
  {
   "cell_type": "code",
   "execution_count": null,
   "id": "1cb77984-869d-4f0f-ae5f-bb1c1e3b4024",
   "metadata": {},
   "outputs": [],
   "source": []
  }
 ],
 "metadata": {
  "kernelspec": {
   "display_name": "Python 3 (ipykernel)",
   "language": "python",
   "name": "python3"
  },
  "language_info": {
   "codemirror_mode": {
    "name": "ipython",
    "version": 3
   },
   "file_extension": ".py",
   "mimetype": "text/x-python",
   "name": "python",
   "nbconvert_exporter": "python",
   "pygments_lexer": "ipython3",
   "version": "3.9.12"
  }
 },
 "nbformat": 4,
 "nbformat_minor": 5
}
