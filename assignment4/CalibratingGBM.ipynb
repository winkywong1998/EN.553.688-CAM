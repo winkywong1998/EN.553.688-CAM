{
 "cells": [
  {
   "cell_type": "markdown",
   "id": "87702763-0a6f-4f54-9436-aa4451894a87",
   "metadata": {},
   "source": [
    "**Read instructions carefully**\n",
    "\n",
    "- rules about literal assignments continue to apply (make sure you understand them!!!)\n",
    "- cells for code are marked with comments like # code cell for Problem X\n",
    "- literal assignment cells are marked with comments like # literal assignment cell for Problem X\n",
    "- please do not remove those comments"
   ]
  },
  {
   "cell_type": "markdown",
   "id": "54d69cff-1420-4e9e-bb1b-58919262d3c8",
   "metadata": {},
   "source": [
    "**Geometric Brownian Motion**\n",
    "\n",
    "Suppose we have a Brownian motion with drift process $X_t, t>0$ with the property that $\\log(X_t)$ is Brownian motion\n",
    "with drift\n",
    "\n",
    "- starting at time 0 at $\\log(X_0)$\n",
    "- drift rate $\\mu$\n",
    "- volatility parameter $\\sigma$\n",
    "\n",
    "is said to be geometric Brownian motion (GBM) with \n",
    "\n",
    "- starting at time 0 at $X_0$\n",
    "- drift rate $\\mu$\n",
    "- volatility parameter $\\sigma$\n",
    "\n",
    "Equivalently, we can write\n",
    "\n",
    "$$\n",
    "X_t = X_0e^{\\mu t + \\sigma B_t}\n",
    "$$\n",
    "\n",
    "where $B_t$ is Brownian motion starting at 0.\n",
    "\n",
    "Below, we create some realizations where \n",
    "\n",
    "- $X_0 = 5.$\n",
    "- $\\mu = .2$\n",
    "- $\\sigma = .3$\n",
    "\n",
    "and plot them.\n"
   ]
  },
  {
   "cell_type": "code",
   "execution_count": 1,
   "id": "40920218-cdf4-4f14-be92-ae4e25f2dc69",
   "metadata": {},
   "outputs": [],
   "source": [
    "import numpy as np\n",
    "import matplotlib.pyplot as plt\n",
    "def BMrealization(B0,T,N):\n",
    "    Delta=T/N\n",
    "    rtDelta=np.sqrt(Delta)\n",
    "    delta=np.random.normal(0,1,size=N)\n",
    "    delta=np.insert(delta,0,B0/rtDelta)\n",
    "    B=np.cumsum(delta)*rtDelta\n",
    "    T=np.linspace(0,T,N+1)\n",
    "    return T,B"
   ]
  },
  {
   "cell_type": "code",
   "execution_count": 2,
   "id": "539552e9-d15d-455f-867b-e4ea669be666",
   "metadata": {},
   "outputs": [
    {
     "data": {
      "text/plain": [
       "[<matplotlib.lines.Line2D at 0x18593e2f6a0>]"
      ]
     },
     "execution_count": 2,
     "metadata": {},
     "output_type": "execute_result"
    },
    {
     "data": {
      "image/png": "[encoded data removed]",
      "text/plain": [
       "<Figure size 432x288 with 1 Axes>"
      ]
     },
     "metadata": {
      "needs_background": "light"
     },
     "output_type": "display_data"
    }
   ],
   "source": [
    "T,B=BMrealization(0,10,1000)\n",
    "X1=.2*T+.3*B\n",
    "T,B=BMrealization(0,10,1000)\n",
    "X2=.2*T+.3*B\n",
    "T,B=BMrealization(0,10,1000)\n",
    "X3=.2*T+.3*B\n",
    "\n",
    "G1=5*np.exp(X1)\n",
    "G2=5*np.exp(X2)\n",
    "G3=5*np.exp(X3)\n",
    "\n",
    "plt.plot(T,G1)\n",
    "plt.plot(T,G2)\n",
    "plt.plot(T,G3)\n"
   ]
  },
  {
   "cell_type": "markdown",
   "id": "5988b96e-0f9a-4e68-a9ed-9f4e77f19d42",
   "metadata": {},
   "source": [
    "**Asset prices**\n",
    "\n",
    "Geometric Brownian motion (GBM) is often found to be useful in modeling asset prices. \n",
    "\n",
    "Typically, a model is *calibrated*, meaning parameters like $\\mu$ and $\\sigma$ are estimated, based on historical data.\n",
    "\n",
    "Once we have in our hands a calibrated model, we can come up with answers to questions such as: \n",
    "\n",
    "    \"What is the chance that the price will double in the next 20 years.\"\n",
    "    \n",
    "Of course, we need to be careful about our assumptions (who could have predicted the 2008 financial crisis, or war in Ukraine, etc.?), but at least we have a framework for making *educated* guesses about the future. "
   ]
  },
  {
   "cell_type": "markdown",
   "id": "4da80d2e-4b32-4823-9d02-87b21268f113",
   "metadata": {},
   "source": [
    "**Calibrating the 1-d GBM Model and differences of log series**\n",
    "\n",
    "Suppose $X_t$ is geometric Brownian motion with drift parameter $\\mu$ and volatility parameter $\\sigma,$\n",
    "so that \n",
    "$$\n",
    "\\log X_t = \\log X_0 + \\mu t + \\sigma B_t,\n",
    "$$\n",
    "\n",
    "For any $0=t_0 < t_1 < \\ldots < t_m$ the differences of logs\n",
    "\n",
    "$$\n",
    "\\log X_{t_i}- \\log X_{t_{i-1}} = \\mu(t_i-t_{i-1}) + \\sigma (B_{t_i}-B_{t_{i-1}}).\n",
    "$$\n",
    "\n",
    "have a known joint distribution:\n",
    "\n",
    "- $\\log X_{t_i}- \\log X_{t_{i-1}}$ is normally distributed with mean $\\mu(t_i-t_{i-1})$ and variance $\\sigma^2 (t_i-t_{i-1})$ for $i=1,\\ldots,m.$\n",
    "\n",
    "- the $\\log X_{t_i}- \\log X_{t_{i-1}}$ are independent for $i=1,\\ldots,m.$\n",
    "\n",
    "\n",
    "To calibrate the 1-d GBM model, assume we have observations of a GBM at equispaced times\n",
    "\n",
    "$$\n",
    "X_0, X_\\Delta, X_{2\\Delta}, \\ldots, X_{N\\Delta}\n",
    "$$\n",
    "\n",
    "we take **natural** logs and then take differences\n",
    "\n",
    "$$\n",
    "U_j = \\log X_{j\\Delta} - \\log X_{(j-1)\\Delta}, \\mbox{ for } j=1,\\ldots,N.\n",
    "$$\n",
    "\n",
    "(In modeling using a GBM model, we will often reduce from a series $X_0,\\ldots,X_N$ to a **differences of logs** series\n",
    "$U_1,\\ldots,U_N.$)\n",
    "\n",
    "From the remark above these $U_1,\\ldots,U_N$ are iid normally distributed random variables with \n",
    "\n",
    "- mean $\\mu\\Delta$ and\n",
    "- variance $\\sigma^2 \\Delta.$\n",
    "\n",
    "\n",
    "From now on, we can decide to measure time using any units we like, so we take our time unit to be  $\\Delta=1$ and our differences of logs will have\n",
    "\n",
    "- mean $\\mu$ and\n",
    "- variance $\\sigma^2.$\n",
    "\n",
    "\n",
    "Be careful! If we decide to use a different time unit, it affects the values of the parameters. (Think of the drift as telling us a change per unit time, so if we measure time in weeks vs. years we'd need to correct by a factor of $1/52.$)\n",
    "\n",
    "\n",
    "To calibrate the model, we can take as estimates the sample mean of the differences of logs\n",
    "$$\n",
    "\\hat{\\mu} = \\overline{U} = \\frac{1}{N} \\sum_{i=1}^N U_i\n",
    "$$\n",
    "\n",
    "and the sample standard deviation of the differences of logs\n",
    "\n",
    "$$\n",
    "\\hat{\\sigma} = \\sqrt{S^2} \n",
    "$$\n",
    "\n",
    "where as usual\n",
    "\n",
    "$$ \n",
    "S^2 = \\frac{1}{N-1} \\sum_{i=1}^N (U_i-\\overline{U})^2.\n",
    "$$"
   ]
  },
  {
   "attachments": {
    "f6038c08-f8b1-4924-a8aa-ab6edbeee609.png": {
     "image/png": "[encoded data removed]"
    }
   },
   "cell_type": "markdown",
   "id": "fad1ff3f-a6e6-4498-a3fa-52835ab31580",
   "metadata": {},
   "source": [
    "**Confidence Intervals**\n",
    "\n",
    "Since the $U_i$ are iid $N(\\mu,\\sigma^2),$\n",
    "we can get a 95% confidence interval for $\\mu$ using the usual \n",
    "\n",
    "$$\n",
    "\\hat{\\mu} \\pm 1.96 \\hat{\\sigma}/\\sqrt{N}.\n",
    "$$\n",
    "\n",
    "To get a confidence interval for $\\sigma$ you may recall that for a sample of size $N$ from a $N(\\mu,\\sigma^2)$ distribution that\n",
    "\n",
    "$$\n",
    "(N-1) S^2/\\sigma^2\n",
    "$$\n",
    "\n",
    "has a $\\chi^2$ distribution with $N-1$ degrees of freedom. So if we take $x_1$ to be the 2.5% quantile and $x_2$ to be the 97.5% quantile of that distribution (see figure)\n",
    "\n",
    "![ChiSq.png](attachment:f6038c08-f8b1-4924-a8aa-ab6edbeee609.png)\n",
    "\n",
    "then\n",
    "\n",
    "$$\n",
    "P\\left[x_1 \\leq (N-1) S^2/\\sigma^2 \\leq x_2\\right] = .95\n",
    "$$\n",
    "\n",
    "giving\n",
    "\n",
    "$$\n",
    "P\\left[\\sqrt{\\frac{(N-1)S^2}{x_2}} \\leq \\sigma \\leq \\sqrt{\\frac{(N-1) S^2}{x_1}}\\right] = .95\n",
    "$$\n",
    "\n",
    "so we get as a 95% confidence interval lower bound\n",
    "\n",
    "$$\n",
    "\\sqrt{\\frac{(N-1)S^2}{x_2}},\n",
    "$$\n",
    "\n",
    "and upper bound\n",
    "\n",
    "$$\\sqrt{\\frac{(N-1)S^2}{x_1}}.$$\n",
    "\n",
    "Critical points of the $\\chi^2$ distribution with $\\nu$ degrees of freedom can be obtained using a function from scipy.stats.\n",
    "For example, we compute the 2.5% and 97.5% quantiles of the $\\chi^2$ distribution with 10 degrees of freedom as follows."
   ]
  },
  {
   "cell_type": "code",
   "execution_count": 3,
   "id": "7dac21f6-46d2-44a9-9df4-657d4078a521",
   "metadata": {},
   "outputs": [
    {
     "data": {
      "text/plain": [
       "array([ 3.24697278, 20.48317735])"
      ]
     },
     "execution_count": 3,
     "metadata": {},
     "output_type": "execute_result"
    }
   ],
   "source": [
    "from scipy.stats import chi2\n",
    "chi2.ppf([.025,.975], 10)"
   ]
  },
  {
   "cell_type": "markdown",
   "id": "c5cdef93-2f16-4219-b0af-b83182a0c5b4",
   "metadata": {},
   "source": [
    "**Problem 1 (5 points): Read in the price data as a 1-d numpy array and plot it**\n",
    "\n",
    "The file SPY.csv contains the weekly price of an ETF that tracks the S&P500 index.\n",
    "\n",
    "Read the data from that file and create a 1-d numpy array of weekly prices.\n",
    "\n",
    "Make a plot of price vs. week. (Weeks can be taken to be 0,1,...).\n",
    "\n",
    "You can read the data in any way you like but here are some notes on **one method** for reading the prices from the file and ending up with a numpy array of prices\n",
    "\n",
    "- initialize an empty list of prices\n",
    "- read the file line by line in a loop \n",
    "\n",
    "    - when a line is read in as a string convert the line to a list using the split function\n",
    "    - after splitting you can extract the price as a string by picking a  particular list element\n",
    "    - remove the trailing new line character from the price string \n",
    "    - convert the price string to a float\n",
    "    - append the price to the list\n",
    "\n",
    "- convert the list to a numpy array\n",
    "    \n",
    "Use the following cell for your code."
   ]
  },
  {
   "cell_type": "code",
   "execution_count": 4,
   "id": "8ab8d5b2-8278-4f0a-b1c2-5e86891903ba",
   "metadata": {},
   "outputs": [
    {
     "name": "stdout",
     "output_type": "stream",
     "text": [
      "            Date       Price\n",
      "0      10/4/1993   27.041269\n",
      "1     10/11/1993   27.628355\n",
      "2     10/18/1993   27.224733\n",
      "3     10/25/1993   27.499908\n",
      "4      11/1/1993   27.041269\n",
      "...          ...         ...\n",
      "1509    9/5/2022  404.936584\n",
      "1510   9/12/2022  383.982666\n",
      "1511   9/19/2022  367.950012\n",
      "1512   9/26/2022  357.179993\n",
      "1513   10/3/2022  373.200012\n",
      "\n",
      "[1514 rows x 2 columns]\n",
      "[27.041269 27.628355 27.224733 ... 367.950012 357.179993 373.200012]\n"
     ]
    }
   ],
   "source": [
    "import pandas as pd\n",
    "import numpy as np\n",
    "spy_data = pd.read_csv('SPY.csv')\n",
    "print(spy_data)\n",
    "spy_price = np.array(spy_data.values[:, 1])\n",
    "print(spy_price)"
   ]
  },
  {
   "cell_type": "markdown",
   "id": "ed967b68-1c83-45af-8dfb-722b4f94d3b2",
   "metadata": {},
   "source": [
    "**Problem 2 (5 points): Calibrate a GBM model for the weekly price series**\n",
    "\n",
    "Using *week* as the time unit, estimate the paramaters $\\mu$ and $\\sigma$ for the fitted GBM model using the method described above.\n",
    "\n",
    "Put your code in the following cell. \n",
    "\n",
    "You can use any method that works and gets the right answer.\n",
    "\n",
    "There is a literal assignment cell after the next one where you should put your literal assignments to some quantities."
   ]
  },
  {
   "cell_type": "code",
   "execution_count": 5,
   "id": "a4077e8c-207e-4221-9d78-3ca58d60c511",
   "metadata": {},
   "outputs": [
    {
     "name": "stdout",
     "output_type": "stream",
     "text": [
      "mu estimate = 0.00173\n",
      "mu 95% confidence interval = (0.00050,0.00297)\n",
      "sigma estimate = 0.02446\n",
      "sigma 95% confidence interval = (0.02362,0.02536)\n"
     ]
    }
   ],
   "source": [
    "import numpy as np\n",
    "from scipy.stats import chi2\n",
    "\n",
    "spy_log_price = np.log(spy_data[['Price']])\n",
    "spy_log_price_diff = spy_log_price.diff()\n",
    "spy_log_price_diff = spy_log_price_diff.drop([0])\n",
    "spy_log_price_diff = spy_log_price_diff.values[:,0]\n",
    "# print(log_price_diff)\n",
    "\n",
    "spy_n = len(spy_log_price_diff)\n",
    "\n",
    "spy_ppf = chi2.ppf([.025,.975], spy_n - 1)\n",
    "spy_chi2_low = spy_ppf[0] \n",
    "spy_chi2_up =spy_ppf[1]\n",
    "\n",
    "spy_mu = np.mean(spy_log_price_diff)\n",
    "spy_stddev = np.var(spy_log_price_diff, ddof = 1)\n",
    "spy_sigma = np.sqrt(spy_stddev)\n",
    "\n",
    "spy_mu_lower = spy_mu - 1.96 * np.sqrt(spy_stddev) / np.sqrt(spy_n)\n",
    "spy_mu_upper = spy_mu + 1.96 * np.sqrt(spy_stddev) / np.sqrt(spy_n)\n",
    "spy_sigma_lower = np.sqrt((spy_n - 1) * spy_stddev / spy_chi2_up)\n",
    "spy_sigma_upper = np.sqrt((spy_n - 1) * spy_stddev / spy_chi2_low)\n",
    "print(\"mu estimate = {0:7.5f}\".format(spy_mu))\n",
    "print(\"mu 95% confidence interval = ({0:7.5f},{1:7.5f})\".format(spy_mu_lower,spy_mu_upper))\n",
    "print(\"sigma estimate = {0:7.5f}\".format(spy_sigma))\n",
    "print(\"sigma 95% confidence interval = ({0:7.5f},{1:7.5f})\".format(spy_sigma_lower,spy_sigma_upper))"
   ]
  },
  {
   "cell_type": "markdown",
   "id": "803cee94-15df-4852-b99f-2e39b1fe80f0",
   "metadata": {},
   "source": [
    "In the following cell give literal floating point assignments to the following variables.\n",
    "\n",
    "Assignments of values to variables with these names should appear only once in your entire notebook.\n",
    "\n",
    "Please make an effort to round your answers in a sensible way (but don't ask me how many digits to give).\n",
    "\n",
    "**mu_SPY_est** = estimate of $\\mu$\n",
    "\n",
    "**mu_SPY_lower** = 95% lower confidence bound for $\\mu$\n",
    "\n",
    "**mu_SPY_upper** = 95% upper confidence bound for $\\mu$\n",
    "\n",
    "**sigma_SPY_est** = estimate of $\\sigma$\n",
    "\n",
    "**sigma_SPY_lower** = 95% lower confidence bound for $\\sigma$\n",
    "\n",
    "**sigma_SPY_upper** = 95% upper confidence bound for $\\sigma$\n"
   ]
  },
  {
   "cell_type": "code",
   "execution_count": 6,
   "id": "abe520c1-9af2-4954-bee3-f5763b392dbc",
   "metadata": {},
   "outputs": [],
   "source": [
    "# Literal assignment cell for Problem 2\n",
    "mu_SPY_est = 0.00173\n",
    "mu_SPY_lower = 0.00050\n",
    "mu_SPY_upper = 0.00297\n",
    "sigma_SPY_est= 0.02446\n",
    "sigma_SPY_lower= 0.02362\n",
    "sigma_SPY_upper= 0.02536"
   ]
  },
  {
   "cell_type": "markdown",
   "id": "1ad0a85e-ef22-4a91-8fd7-31d941ffc5ba",
   "metadata": {},
   "source": [
    "**Problem 3 (5 points): Read the MSFT weekly price series into a 1-d numpy array and plot it**\n",
    "\n",
    "In another file (MSFT.csv) the weekly price history for Microsoft shares during the same time period.\n",
    "\n",
    "Do the same thing you did in Problem 1 but this time for the MSFT data.\n",
    "\n",
    "Use the following cell for your code."
   ]
  },
  {
   "cell_type": "code",
   "execution_count": 7,
   "id": "223e0995-0b53-4a8f-b1ef-5b7f94aed2b7",
   "metadata": {},
   "outputs": [
    {
     "name": "stdout",
     "output_type": "stream",
     "text": [
      "            Date       Price\n",
      "0      10/4/1993    1.656263\n",
      "1     10/11/1993    1.582760\n",
      "2     10/18/1993    1.575409\n",
      "3     10/25/1993    1.570509\n",
      "4      11/1/1993    1.543558\n",
      "...          ...         ...\n",
      "1509    9/5/2022  264.459991\n",
      "1510   9/12/2022  244.740005\n",
      "1511   9/19/2022  237.919998\n",
      "1512   9/26/2022  232.899994\n",
      "1513   10/3/2022  246.789993\n",
      "\n",
      "[1514 rows x 2 columns]\n",
      "[1.656263 1.58276 1.575409 ... 237.919998 232.899994 246.789993]\n"
     ]
    }
   ],
   "source": [
    "import pandas as pd\n",
    "import numpy as np\n",
    "msft_data = pd.read_csv('MSFT.csv')\n",
    "print(msft_data)\n",
    "msft_price = np.array(msft_data.values[:, 1])\n",
    "print(msft_price)"
   ]
  },
  {
   "cell_type": "markdown",
   "id": "d019590d-e4b0-4b21-9149-05df9f2ed921",
   "metadata": {},
   "source": [
    "**Problem 4 (5 points): Calibrating a GBM model to MSFT weekly price series**\n",
    "\n",
    "Calibrate a GBM model for the MSFT weekly price series as you did for the SPY price series. \n",
    "\n",
    "Put your code in the following cell and use the subsequent cell to give literal floating point assignments"
   ]
  },
  {
   "cell_type": "code",
   "execution_count": 8,
   "id": "62e275a9-2cfb-47d9-a32b-9d060a660b68",
   "metadata": {},
   "outputs": [
    {
     "name": "stdout",
     "output_type": "stream",
     "text": [
      "mu estimate = 0.00331\n",
      "mu 95% confidence interval = (0.00129,0.00532)\n",
      "sigma estimate = 0.03994\n",
      "sigma 95% confidence interval = (0.03856,0.04141)\n"
     ]
    }
   ],
   "source": [
    "import numpy as np\n",
    "from scipy.stats import chi2\n",
    "\n",
    "msft_log_price = np.log(msft_data[['Price']])\n",
    "msft_log_price_diff = msft_log_price.diff()\n",
    "msft_log_price_diff = msft_log_price_diff.drop([0])\n",
    "msft_log_price_diff = msft_log_price_diff.values[:,0]\n",
    "# print(log_price_diff)\n",
    "\n",
    "msft_n = len(msft_log_price_diff)\n",
    "\n",
    "msft_ppf = chi2.ppf([.025,.975], msft_n - 1)\n",
    "msft_chi2_low = msft_ppf[0] \n",
    "msft_chi2_up =msft_ppf[1]\n",
    "\n",
    "msft_mu = np.mean(msft_log_price_diff)\n",
    "msft_stddev = np.var(msft_log_price_diff, ddof = 1)\n",
    "msft_sigma = np.sqrt(msft_stddev)\n",
    "\n",
    "msft_mu_lower = msft_mu - 1.96 * np.sqrt(msft_stddev) / np.sqrt(msft_n)\n",
    "msft_mu_upper = msft_mu + 1.96 * np.sqrt(msft_stddev) / np.sqrt(msft_n)\n",
    "msft_sigma_lower = np.sqrt((msft_n - 1) * msft_stddev / msft_chi2_up)\n",
    "msft_sigma_upper = np.sqrt((msft_n - 1) * msft_stddev / msft_chi2_low)\n",
    "print(\"mu estimate = {0:7.5f}\".format(msft_mu))\n",
    "print(\"mu 95% confidence interval = ({0:7.5f},{1:7.5f})\".format(msft_mu_lower,msft_mu_upper))\n",
    "print(\"sigma estimate = {0:7.5f}\".format(msft_sigma))\n",
    "print(\"sigma 95% confidence interval = ({0:7.5f},{1:7.5f})\".format(msft_sigma_lower,msft_sigma_upper))"
   ]
  },
  {
   "cell_type": "markdown",
   "id": "18b9d65c-f14d-48ec-9ded-02fac3e8287f",
   "metadata": {},
   "source": [
    "In the following cell give literal floating point assignments to the following variables.\n",
    "\n",
    "Assignments of values to variables with these names should appear **only once** in your entire notebook.\n",
    "\n",
    "Please make an effort to round your answers in a sensible way (but don't ask me how many digits to give).\n",
    "\n",
    "**mu_MSFT_est** = estimate of $\\mu$\n",
    "\n",
    "**mu_MSFT_lower** = 95% lower confidence bound for $\\mu$\n",
    "\n",
    "**mu_MSFT_upper** = 95% upper confidence bound for $\\mu$\n",
    "\n",
    "**sigma_MSFT_est** = estimate of $\\sigma$\n",
    "\n",
    "**sigma_MSFT_lower** = 95% lower confidence bound for $\\sigma$\n",
    "\n",
    "**sigma_MSFT_upper** = 95% upper confidence bound for $\\sigma$\n"
   ]
  },
  {
   "cell_type": "code",
   "execution_count": 9,
   "id": "5217c5da-7d77-4f28-a4c5-e101e38bfd24",
   "metadata": {},
   "outputs": [],
   "source": [
    "# Literal assignment cell for Problem 4\n",
    "mu_MSFT_est = 0.00331\n",
    "mu_MSFT_lower = 0.00129\n",
    "mu_MSFT_upper = 0.00532\n",
    "sigma_MSFT_est = 0.03994\n",
    "sigma_MSFT_lower = 0.03856\n",
    "sigma_MSFT_upper = 0.04141"
   ]
  },
  {
   "cell_type": "markdown",
   "id": "47adce6e-bfce-4900-a8a3-7b0255e4f067",
   "metadata": {},
   "source": [
    "**Investigating dependency 1: the sample correlation coefficient**\n",
    "\n",
    "Given a sequence of pairs $(U_i,V_i), i=1,\\ldots,n$ we define the sample correlation coefficient to be\n",
    "\n",
    "$$\n",
    "\\hat{\\rho} = \\frac{\\sum_{i=1}^n (U_i - \\overline{U})(V_i - \\overline{V})}\n",
    "{\\sqrt{\\sum_{i=1}^n (U_i-\\overline{U})^2\\sum_{i=1}^n (V_i-\\overline{V})^2}}\n",
    "$$\n",
    "\n",
    "where\n",
    "\n",
    "$$\n",
    "\\overline{U} = \\frac{1}{n} \\sum_{i=1}^n U_i\n",
    "$$\n",
    "\n",
    "and\n",
    "\n",
    "$$\n",
    "\\overline{V} = \\frac{1}{n} \\sum_{i=1}^n V_i.\n",
    "$$"
   ]
  },
  {
   "cell_type": "markdown",
   "id": "8eb84f13-63cc-4e29-b796-31e9cfcdd41b",
   "metadata": {},
   "source": [
    "**Investigating dependency 2:  Scatter plots**\n",
    "\n",
    "It is easy to create scatter plots in matplotlib. \n",
    "\n",
    "Here's an example. \n",
    "\n",
    "We can create a sample $(U,V)$ from the bivariate normal distribution with parameters $\\mu_U,\\mu_V,\\sigma_U,\\sigma_V,$ and $\\rho$ by taking\n",
    "\n",
    "- $U \\sim N(\\mu_U,\\sigma_U)$ \n",
    "- $e \\sim N(0,1)$ independent of $U,$ and\n",
    "- $V=\\mu_V+\\rho\\frac{\\sigma_V}{\\sigma_U} (U-\\mu_U)+\\sqrt{1-\\rho^2}\\sigma_V e$$\n",
    "\n",
    "(If you've never seen this before, try calculating $\\mbox{Cov}(U,V).$\n",
    "\n",
    "Below we scatter plot a sample of N such pairs using parameters $\\mu_U=0$, $\\mu_V=0$, $\\sigma_U=1$, $\\sigma_V=1,$ \n",
    "for varying values of $\\rho$ and we compute the sample correlation matrix.\n"
   ]
  },
  {
   "cell_type": "code",
   "execution_count": 10,
   "id": "c41b571b-b867-4341-b8d2-1e37c8021f2d",
   "metadata": {},
   "outputs": [
    {
     "name": "stdout",
     "output_type": "stream",
     "text": [
      "[[1.         0.94900201]\n",
      " [0.94900201 1.        ]]\n"
     ]
    },
    {
     "data": {
      "image/png": "[encoded data removed]",
      "text/plain": [
       "<Figure size 432x288 with 1 Axes>"
      ]
     },
     "metadata": {
      "needs_background": "light"
     },
     "output_type": "display_data"
    }
   ],
   "source": [
    "import matplotlib.pyplot as plt\n",
    "import numpy as np\n",
    "\n",
    "def demonstrate_correlated_normals(rho,N):\n",
    "    U=np.random.normal(0,1,N)\n",
    "    V=rho*U+np.sqrt(1-rho**2)*np.random.normal(0,1,N)\n",
    "    plt.scatter(U,V,s=.75)\n",
    "    print(np.corrcoef(U,V))\n",
    "demonstrate_correlated_normals(.95,1000)"
   ]
  },
  {
   "cell_type": "markdown",
   "id": "e0256577-0bb5-4308-ac78-89e18eb3061b",
   "metadata": {},
   "source": [
    "**Problem 5 (5 points) Investigate dependency between pairs of weekly asset price series**\n",
    "\n",
    "When we have a pair of processes observed for the same time periods, they often exhibit a tendency to change in a dependent fashion i.e. one tends to go up when the other tends to as well does, or one tends to go down when the other goes up.\n",
    "\n",
    "We explore this for the case of SPY vs. MSFT.\n",
    "\n",
    "Give a scatter plot the **differences of log** SPY prices vs. the **differences of log** MSFT prices and **compute the sample correlation coefficient between these two differences of log series**.\n",
    "\n",
    "Use the following cell for your code.\n",
    "\n",
    "In the subsequent cell give the literal value for the correlation coefficient."
   ]
  },
  {
   "cell_type": "code",
   "execution_count": 11,
   "id": "aa2f6ee0-c31f-4938-9471-8ca466468b0e",
   "metadata": {},
   "outputs": [
    {
     "name": "stdout",
     "output_type": "stream",
     "text": [
      "0.6005025752291888\n"
     ]
    },
    {
     "data": {
      "image/png": "[encoded data removed]",
      "text/plain": [
       "<Figure size 432x288 with 1 Axes>"
      ]
     },
     "metadata": {
      "needs_background": "light"
     },
     "output_type": "display_data"
    }
   ],
   "source": [
    "import matplotlib.pyplot as plt\n",
    "plt.scatter(spy_log_price_diff,msft_log_price_diff,s=.75)\n",
    "corr = np.corrcoef(spy_log_price_diff, msft_log_price_diff)[0,1]\n",
    "print(corr)"
   ]
  },
  {
   "cell_type": "markdown",
   "id": "ce2387a2-da07-4e7c-80b6-4eda298f74c9",
   "metadata": {},
   "source": [
    "In the following cell assign a literal floating point value to the variable **sample_correlation_coefficient**.\n",
    "Please round your answer in a reasonable fashion."
   ]
  },
  {
   "cell_type": "code",
   "execution_count": 12,
   "id": "b16b0d58-bf7d-4c1c-86d2-52f23e272350",
   "metadata": {},
   "outputs": [],
   "source": [
    "# Literal assignment cell for Problem 5\n",
    "sample_correlation_coefficient = 0.60050258"
   ]
  },
  {
   "cell_type": "markdown",
   "id": "6a7a184b-e8a3-4984-b6a3-32ada0df9d2a",
   "metadata": {},
   "source": [
    "**Adding independent Brownian motion processes**\n",
    "\n",
    "Observe that if we have two independent Brownian motion processes $B_t$ and $\\tilde{B}_t$ for $t\\geq 0,$ then \n",
    "the process\n",
    "\n",
    "$$\n",
    "\\hat{B}_t = c B_t + \\sqrt{1-c^2} \\tilde{B}_t\n",
    "$$\n",
    "\n",
    "defines a Brownian motion process for any constant $c \\in [-1,1].$ To explain why, observe that \n",
    "\n",
    "- the increments between time\n",
    "$t$ and $t+dt$ are given by\n",
    "$$\n",
    "d\\hat{B}_t  = c dB_t + \\sqrt{1-c^2} d\\tilde{B}_t.\n",
    "$$\n",
    "Since $dB_t$ and $d\\tilde{B}_t$ are independent and distributed as $N(0,dt)$ is is also that case that $d\\hat{B}_t$ has a normal distribution with mean 0 and variance \n",
    "\n",
    "$$\n",
    "\\mbox{Var}( c dB_t + \\sqrt{1-c^2} d\\tilde{B}_t) = c^2 \\mbox{Var}(dB_t)dt + (1-c^2) \\mbox{Var}(d\\tilde{B}_t)dt\n",
    "+2 c \\sqrt{1-c^2} \\mbox{Cov}(dB_t,d\\tilde{B}_t)\n",
    "$$\n",
    "\n",
    "$$\n",
    "c^2 dt + (1-c^2) dt = dt\n",
    "$$\n",
    "\n",
    "\n",
    "\n",
    "- the increments for the $\\hat{B}_t$ process are independent because the increments for the $B_t$ and $\\tilde{B}_t$ are.\n",
    "\n"
   ]
  },
  {
   "cell_type": "markdown",
   "id": "9e8c61bd-86b0-471a-b1a9-e87810bcc33c",
   "metadata": {},
   "source": [
    "**Bivariate GBM model**\n",
    "\n",
    "We can define a model for a pair of series in which each series by itself follows a GBM model, but for which the two series exhibit **dependence.**\n",
    "\n",
    "Here, we take $X_t$ to be GBM starting at $X_0$ with drift parameter $\\mu_X$ and volatility paramater $\\sigma_X$ so\n",
    "\n",
    "$$\n",
    "\\log X_t = \\log X_0 + \\mu_X t + \\sigma_X B_t\n",
    "$$\n",
    "\n",
    "where, as usual $B_t$ denotes Brownian motion starting from 0, so $\\log X_t$ is  \n",
    "Brownian motion starting at $\\log X_0$ with drift parameter $\\mu_X$ and volatility paramater $\\sigma_X.$ \n",
    "\n",
    "We introduce another independent Brownian motion $\\tilde{B}_t$ (also starting at 0) and \n",
    "define another process $G^{(Y)}_t$ \n",
    "\n",
    "$$\n",
    "\\log Y_t = \\log Y_0 + \\mu_Y t + \\sigma_Y \\rho B_t + \\sigma_Y \\sqrt{1-\\rho^2} \\tilde{B}_t\n",
    "$$\n",
    "\n",
    "As a result of the above comment, \n",
    "\n",
    "- $\\log Y_t$ is Brownian motion starting at $\\log Y_0$ with drift parameter $\\mu_Y$ and volatility paramater $\\sigma_Y,$ and\n",
    "- $Y_t$ is GBM starting at $Y_0$ with drift parameter $\\mu_Y$ and volatility paramater $\\sigma_Y.$ \n",
    "\n",
    "But we have arranged for the increments between the two processes to be **dependent.** \n",
    "\n",
    "Here, \n",
    "\n",
    "- the increment of $\\log X_t$ from time $t$ to time $dt$ is $\\sigma_X dB_t$\n",
    "- the increment of $\\log Y_t$ from time $t$ to time $dt$ is $\\sigma_Y \\rho dB_t + \\sigma_Y \\sqrt{1-\\rho^2} d\\tilde{B}_t.$\n",
    "\n",
    "The covariance between increments of the log series is then obtained by a calculation very similar to the one above:\n",
    "\n",
    "$$\n",
    "\\mbox{Cov}(d\\log X_t, d\\log Y_t) = \\mbox{Cov}(\\sigma_X dB_t, \\sigma_Y\\rho dB_t + \\sigma_Y\\sqrt{1-\\rho^2} d\\tilde{B}_t)\n",
    "$$\n",
    "\n",
    "$$\n",
    "= \\sigma_X\\sigma_Y \\rho \\mbox{Cov}( dB_t, dB_t) + \\sigma_X\\sigma_Y\\sqrt{1-\\rho^2}\\mbox{Cov}(dB_t,d\\tilde{B}_t).\n",
    "$$\n",
    "\n",
    "by independence the second term is zero and the first term is the variance of $dB_t,$ so we get a covariance of \n",
    "\n",
    "$$\n",
    "\\sigma_X\\sigma_Y \\rho dt.\n",
    "$$\n",
    "\n",
    "Since \n",
    "\n",
    "$$\n",
    "\\mbox{Var}(d\\log X_t) = \\sigma_X^2 dt, ~~~\\mbox{Var}(d\\log Y_t) = \\sigma_Y^2 dt\n",
    "$$ \n",
    "\n",
    "we find that the correlation coefficient between infinitesimal increments of the log series is $\\rho.$\n",
    "\n",
    "\n",
    "**Realizations for the bivariate GBM model**\n",
    "\n",
    "When a series of values $(X_i,Y_i), i=0,1,\\ldots$ equispaced in time  are realized from a **bivariate GBM model** with the following parameters\n",
    "\n",
    "- $X_0$ the starting value of the $X$-series\n",
    "- $Y_0$ the starting value of the $Y$-series\n",
    "- $\\mu_X$ the drift parameter of the $X$-series\n",
    "- $\\mu_Y$ the drift parameter of the $Y$-series\n",
    "- $\\sigma_X$ the volatility parameter of the $X$-series\n",
    "- $\\sigma_Y$ the volatility parameter of the $Y$-series\n",
    "- $\\rho$ the correlation coefficient\n",
    "\n",
    "where the drift and volaility parameters are based on the time unit equalling 1, we can \n",
    "create realizations $(X_j,Y_j),~j=0,\\ldots,N$ as follows:\n",
    "\n",
    "We start with $X_0$ and $Y_0$ with the specified values, then our update step consists of generating independent random variables $\\delta_1$ and $\\delta_2$ whose distributions are $N(0,1)$ and defining \n",
    "$$\n",
    "X_{j+1} = X_j \\exp\\left( \\mu_X + \\sigma_X \\delta_1\\right)\n",
    "$$\n",
    "\n",
    "and\n",
    "\n",
    "$$\n",
    "Y_{j+1} = Y_j \\exp \\left(\\mu_Y + \\rho \\sigma_Y \\delta_1 + \\sqrt{1-\\rho^2} \\sigma_Y\\delta_2 \\right)\n",
    "$$\n",
    "\n",
    "for $j=0,\\ldots,N-1.$\n",
    "\n"
   ]
  },
  {
   "cell_type": "markdown",
   "id": "88758a5f-02ad-4431-8bcb-11fc3b41d278",
   "metadata": {},
   "source": [
    "**Calibrating the model**\n",
    "\n",
    "Now we consider calibration of the above model for a pair of series, based on data observed at equispaced times.\n",
    "\n",
    "So assume we have a process $(X_t,Y_t),~t\\geq 0$ as above and we observe pairs \n",
    "$(X_{j\\Delta},Y_{j\\Delta}),~j=0,\\ldots,N$ equispaced in time. \n",
    "\n",
    "We estimate the drift and volatility parameters for the $X$ and $Y$ processes separately as before, and **the only remaining task** is estimating the parameter $\\rho.$ \n",
    "\n",
    "To this end, as above, let\n",
    "$$\n",
    "U_j = \\log X_{j\\Delta} - \\log X_{(j-1)\\Delta},  \n",
    "$$\n",
    "\n",
    "and\n",
    "\n",
    "$$\n",
    "V_j = \\log Y_{j\\Delta} - \\log Y_{(j-1)\\Delta}\n",
    "$$\n",
    "\n",
    "for $j=1,\\ldots,N.$ Then\n",
    "\n",
    "$$\n",
    "U_j =  \\mu_X \\Delta + \\sigma_X(B_{j\\Delta} -B_{(j-1)\\Delta})\n",
    "$$\n",
    "\n",
    "and\n",
    "\n",
    "$$\n",
    "V_j =  \\mu_Y \\Delta + \\sigma_Y\\rho (B_{j\\Delta} -B_{(j-1)\\Delta}) +\\sigma_Y\\sqrt{1-\\rho^2} (\\tilde{B}_{j\\Delta} -\\tilde{B}_{(j-1)\\Delta} \n",
    "$$\n",
    "\n",
    "We have \n",
    "\n",
    "$$\n",
    "B_{j\\Delta} -B_{(j-1)\\Delta} \\sim N(0,\\Delta)\n",
    "$$ \n",
    "\n",
    "independent of \n",
    "\n",
    "$$\n",
    "\\tilde{B}_{j\\Delta} -\\tilde{B}_{(j-1)\\Delta} \\sim N(0,\\Delta)\n",
    "$$\n",
    "\n",
    "so $(U_j,V_j)$ are iid bivariate normal with parameters $\\mu_X\\Delta, \\sigma_X\\Delta, \\mu_Y\\Delta, \\sigma_Y\\Delta,$ and $\\rho.$\n",
    "\n",
    "As mentioned above, we can take as our time unit $\\Delta$ so we can assume $\\Delta=1.$\n",
    "\n",
    "We complete calibration of our *dependent* GBM processes  by estimating $\\rho$ using the sample correlation coefficient of the difference of logs series \n",
    "\n",
    "$$\n",
    "\\hat{\\rho} = \\frac{ \\sum_{i=1}^n (U_i - \\overline{U})(V_i - \\overline{V})}\n",
    "{\\sqrt{\\sum_{i=1}^n (U_i-\\overline{U})^2\\sum_{i=1}^n (V_i-\\overline{V})^2}}.\n",
    "$$\n",
    "\n",
    "as you calculated above.\n"
   ]
  },
  {
   "cell_type": "markdown",
   "id": "d9b850a9-6470-4558-8dce-0e7e731ec628",
   "metadata": {},
   "source": [
    "**Confidence interval for a correlation coefficient**\n",
    "\n",
    "Given an iid sample of values $(X,Y)$ say \n",
    "\n",
    "$$\n",
    "(X_1,Y_1),\\ldots,(X_n,Y_n)\n",
    "$$\n",
    "\n",
    "drawn from a bivariate normal distribution \n",
    "\n",
    "(see https://en.wikipedia.org/wiki/Multivariate_normal_distribution\n",
    "bivariate case)\n",
    "\n",
    "with parameters (5 of them)\n",
    "\n",
    "$$\n",
    "\\mu_X = E[X], \\mu_Y = E[Y], \n",
    "$$\n",
    "\n",
    "$$\n",
    "\\sigma^2_X = \\mbox{Var}(X), \\sigma^2_Y = \\mbox{Var}(Y), \n",
    "$$\n",
    "\n",
    "$$\n",
    "\\rho = \\mbox{Cor}(X,Y) = \\frac{E[(X-\\mu_X)(Y-\\mu_Y)]}{\\sigma_X\\sigma_Y}\n",
    "$$\n",
    "\n",
    "the sample correlation correlation coefficient is defined as above\n",
    "\n",
    "$$\n",
    "\\hat{\\rho} = \\frac{\\sum_{i=1}^n (X_i - \\overline{X})(Y_i - \\overline{Y})}\n",
    "{\\sqrt{\\sum_{i=1}^n (X_i-\\overline{X})^2\\sum_{i=1}^n (Y_i-\\overline{Y})^2}}.\n",
    "$$\n",
    "\n",
    "\n",
    "It is known that for large values of $n$ the distribution of \n",
    "\n",
    "$$\n",
    "\\sqrt{n-3}\\left( \\frac{1}{2}\\log \\left(\\frac{1+\\hat{\\rho}}{1-\\hat{\\rho}}\\right)\n",
    "- \\frac{1}{2}\\log \\left(\\frac{1+\\rho}{1-\\rho}\\right)\\right)\n",
    "$$\n",
    "\n",
    "is approximately $N(0,1)$ no matter what the true value of $\\rho$ happens to be. \n",
    "The transformation \n",
    "\n",
    "$$\n",
    "\\psi(r) = \\frac{1}{2}\\log\\left(\\frac{1+r}{1-r}\\right)\n",
    "$$ \n",
    "\n",
    "that makes this work is an example of a *variance stabilizing transformation* and this particular transformation (for the sample correlation coefficient) is referred to as *Fisher's transformation* or *Fisher's z-transformation*.\n",
    "\n",
    "As a consequence of the statement above, if we pick constants $z_1 < z_2,$ then\n",
    "\n",
    "$$\n",
    "P\\left[z_1 \\leq \\sqrt{n-3}(\\psi(\\hat{\\rho}) - \\psi(\\rho))\\leq z_2\\right] \\approx \\Phi(z_2)- \\Phi(z_1),\n",
    "$$\n",
    "\n",
    "where $\\Phi$ denotes the normal cdf. \n",
    "\n",
    "The event in the proabability can be re-written so that\n",
    "\n",
    "$$\n",
    "P\\left[ \\frac{z_1}{\\sqrt{n-3}}\\leq \\psi(\\hat{\\rho}) - \\psi(\\rho) \\leq \\frac{z_2}{\\sqrt{n-3}}\n",
    "\\right] \\approx  \\Phi(z_2)- \\Phi(z_1),\n",
    "$$\n",
    "\n",
    "which is in turn equivalent to\n",
    "\n",
    "$$\n",
    "P\\left[ \\psi(\\hat{\\rho}) - \\frac{z_2}{\\sqrt{n-3}}\\leq \\psi(\\rho) \\leq \\psi(\\hat{\\rho}) - \\frac{z_2}{\\sqrt{n-3}} \\right] \\approx  \\Phi(z_2)- \\Phi(z_1),\n",
    "$$\n",
    "\n",
    "The function $\\psi$ is monotone increasing in the interval $(-1,1)$ with inverse function \n",
    "\n",
    "$$\n",
    "\\psi^{-1}(x)=\\frac{e^{2x}-1}{e^{2x}+1},\n",
    "$$\n",
    "\n",
    "and so we have\n",
    "\n",
    "$$\n",
    "P\\left[ \\psi^{-1}\\left(\\psi(\\hat{\\rho}) - \\frac{z_2}{\\sqrt{n-3}}\\right) \\leq \\rho \\leq \\psi^{-1}\\left(\\psi(\\hat{\\rho}) - \\frac{z_2}{\\sqrt{n-3}}\\right)\n",
    "\\right] \\approx  \\Phi(z_2)- \\Phi(z_1),\n",
    "$$\n",
    "\n",
    "Taking $z_1 = \\Phi^{-1}(.025) \\approx -1.96$ and $z_2 = \\Phi^{-1}(.975) \\approx 1.96$ makes this probability approximately 95% and we get approximate 95% lower and upper bounds\n",
    "\n",
    "$$\n",
    "\\mbox{95% lower bound for } \\rho =  \\psi^{-1}\\left(\\psi(\\hat{\\rho}) - \\frac{1.96}{\\sqrt{n-3}}\\right)\n",
    "$$\n",
    "\n",
    "and\n",
    "\n",
    "$$\n",
    "\\mbox{95% upper bound for } \\rho =   \\psi^{-1}\\left(\\psi(\\hat{\\rho}) + \\frac{1.96}{\\sqrt{n-3}}\\right)\n",
    "$$\n",
    "\n"
   ]
  },
  {
   "cell_type": "markdown",
   "id": "5e9249a0-81bc-4498-8f7e-30dfcc60c118",
   "metadata": {},
   "source": [
    "**Problem 6 (5 points): 95% confidence interval for $\\rho$\n",
    "\n",
    "Use the above methodology to get a 95% confidence interval for $\\rho,$ assuming our SPY and MSFT series satisfy the bivariate GBM model described above. \n",
    "\n",
    "Put your code in the following cell. Use the subsequent cell for literal assignments. \n",
    "\n",
    "As usual\n",
    "\n",
    "- do not assign values to these variables anywhere else in this notebook\n",
    "- use appropriate rounding"
   ]
  },
  {
   "cell_type": "code",
   "execution_count": 13,
   "id": "51e2a932-bc48-44e1-862d-ebda618d1ff6",
   "metadata": {},
   "outputs": [
    {
     "name": "stdout",
     "output_type": "stream",
     "text": [
      "0.6005025752291888\n",
      "rho 95% confidence interval = (0.56727,0.63178)\n"
     ]
    }
   ],
   "source": [
    "def phi(x):\n",
    "    return 1/2 * np.log((1 + x) / (1 - x))\n",
    "def inv_phi(x):\n",
    "    return (np.exp(2 * x) - 1) / (np.exp(2 * x) + 1)\n",
    "print(corr)\n",
    "ro_lower = inv_phi(phi(corr) - 1.96/(np.sqrt(spy_n - 3)))\n",
    "ro_upper = inv_phi(phi(corr) + 1.96/(np.sqrt(spy_n - 3)))\n",
    "print(\"rho 95% confidence interval = ({0:7.5f},{1:7.5f})\".format(ro_lower, ro_upper))"
   ]
  },
  {
   "cell_type": "markdown",
   "id": "3289b3d3-c05e-49b2-bb25-928d1a840a43",
   "metadata": {},
   "source": [
    "Use the following cell to provide literal assignments to the variables\n",
    "\n",
    "- **lower_confidence_bound_for_corr_coeff**\n",
    "- **upper_confidence_bound_for_corr_coeff**\n"
   ]
  },
  {
   "cell_type": "code",
   "execution_count": 14,
   "id": "1430608d-3ed9-4af2-8583-b5988d068072",
   "metadata": {},
   "outputs": [],
   "source": [
    "# Literal assignment cell for Problem 6\n",
    "lower_confidence_bound_for_corr_coeff = 0.56727\n",
    "upper_confidence_bound_for_corr_coeff = 0.63178"
   ]
  },
  {
   "cell_type": "markdown",
   "id": "0a072cbf-e98c-476d-9d3d-8ee8c98e7cf2",
   "metadata": {},
   "source": [
    "**Application of the calibrated bivariate GBM model**\n",
    "\n",
    "Having calibrated the model, what can we do with it?\n",
    "\n",
    "Here's an example of a question we might wish to know the answer to. It is 10/4/2022 and we have just observed the historical data for these two price series. We calibrate our bivariate model to the historical data and we want to understand the likelihood of some future event. For example,  \n",
    "\n",
    "\"What is the chance that the MSFT/SPY price ratio ever goes above .8 in the next 52 weeks?\"\n",
    "\n",
    "We can answer this by assuming our GBM model to be correct and to describe the behavior of prices moving forward in time.\n",
    "\n",
    "We use Monte-Carlo simulation, that is, \n",
    "\n",
    "- for M trials \n",
    "    - generate 52 weeks of samples from the calibrated GBM model with starting values for SPY and MSFT being the prices observed on 10/3/2022.\n",
    "    - determine whether the event in question occured\n",
    "- compute the proportion of trials in which the event occured\n",
    "- get a confidence interval for the unknown proportion\n",
    "\n",
    "**Problem 7 (5 points) Generate bivariate GBM realizations**\n",
    "\n",
    "Write a function called **generate_bivariate_GBM_realizations** that takes as arguments\n",
    "\n",
    "- X0 = starting value for X series\n",
    "- Y0 = starting value for Y series\n",
    "- mx = drift parameter for the X series\n",
    "- my = drift parameter for the Y series\n",
    "- sx = volatility parameter for the X series\n",
    "- sy = volatility parameter for the Y series\n",
    "- rho = the correlation coefficient\n",
    "- N = number of time steps after time 0\n",
    "\n",
    "and that outputs a pair of numpy arrays\n",
    "\n",
    "- X of length N+1 \n",
    "- Y of length N+1\n",
    "\n",
    "giving realizations of the bivariate GBM with the given parameters (see **Realizations for the bivariate GBM model** above).\n",
    "\n",
    "Put your code in the following cell. Try to make your code run efficiently."
   ]
  },
  {
   "cell_type": "code",
   "execution_count": 15,
   "id": "b57804e6",
   "metadata": {},
   "outputs": [],
   "source": [
    "def generate_bivariate_GBM_realizations(X0, Y0, mx, my, sx, sy, rho, N):\n",
    "    X = []\n",
    "    Y = []\n",
    "    delta = np.random.normal(0,1,(N,2))\n",
    "    for i in range(N + 1):\n",
    "        if(i != 0):\n",
    "            delta_1 = delta[i - 1][0]\n",
    "            delta_2 = delta[i - 1][1]\n",
    "            X0 = X0 * (np.exp(mx + sx * delta_1))\n",
    "            Y0 = Y0 * (np.exp(my + rho * sy * delta_1 + np.sqrt(1-rho ** 2) * sy * delta_2))\n",
    "        Y.append(Y0)\n",
    "        X.append(X0)\n",
    "    return X, Y"
   ]
  },
  {
   "cell_type": "markdown",
   "id": "f4547a1c-f759-49fd-aabb-9126b01e6039",
   "metadata": {},
   "source": [
    "**Problem 8 (5 points) Monte-Carlo simulation**\n",
    "\n",
    "Assuming the GBM model has been fitted correctly (so make sure you get this right) and accurately reflects the way prices will evolve in the future, generate 10,000 realizations of 52 weeks of future (SPY, MSFT) price pairs and use these to estimate the probability that the ratio \n",
    "\n",
    "    MSFT price/SPY price\n",
    "    \n",
    "will exceed .8 at any week in the next 52 weeks, and give a confidence interval for this probability. Use the following cell for your code. \n",
    "In the subsequent cell you will be asked to provide literal assignments to variables. "
   ]
  },
  {
   "cell_type": "code",
   "execution_count": 16,
   "id": "341d6797-c6a2-442b-aab8-7ef201911a37",
   "metadata": {},
   "outputs": [
    {
     "name": "stdout",
     "output_type": "stream",
     "text": [
      "4850\n",
      "expected value estimate = 0.48500\n",
      "95% confidence interval = (0.47520,0.49480)\n"
     ]
    }
   ],
   "source": [
    "ntrials = 10000\n",
    "count = 0\n",
    "for i in range(ntrials):\n",
    "    pair = generate_bivariate_GBM_realizations(spy_price[-1], msft_price[-1], spy_mu, msft_mu, spy_sigma, msft_sigma, corr, 52)\n",
    "    spy = pair[0]\n",
    "    msft = pair[1]\n",
    "    n = len(spy)\n",
    "    for j in range(n):\n",
    "        ratio = msft[j] / spy[j] \n",
    "        if(ratio > 0.8):\n",
    "            count +=1\n",
    "            break\n",
    "print(count)\n",
    "est = count / ntrials\n",
    "CIlower = est - 1.96 * np.sqrt(est * (1 - est) / ntrials)\n",
    "CIupper = est + 1.96 * np.sqrt(est * (1 - est) / ntrials)\n",
    "print(\"expected value estimate = {0:7.5f}\".format(est))\n",
    "print(\"95% confidence interval = ({0:7.5f},{1:7.5f})\".format(CIlower,CIupper))"
   ]
  },
  {
   "cell_type": "markdown",
   "id": "51ba80bb-2a03-4c44-84ce-b8d45df9aff2",
   "metadata": {},
   "source": [
    "In the following literal assignment cell, assign values to the following variables.\n",
    "\n",
    "**pest** the probability estimate\n",
    "\n",
    "**pest_lower** 95% lower bound for the probability estimate\n",
    "\n",
    "**pestupper** 95% upper bound for the probability estimate\n",
    "\n",
    "As usual\n",
    "\n",
    "- round your answers sensibly\n",
    "- do not assign values to these variables anywhere else in your notebook"
   ]
  },
  {
   "cell_type": "code",
   "execution_count": 17,
   "id": "44e35cfe-cce1-452a-9268-83f6f30ed827",
   "metadata": {},
   "outputs": [],
   "source": [
    "# Literal assignment cell for Problem 8\n",
    "pest = 0.48500\n",
    "pest_lower = 0.47520\n",
    "pest_upper = 0.49480\n"
   ]
  },
  {
   "cell_type": "code",
   "execution_count": null,
   "id": "e0117d17-6405-440e-863c-4a9ea31c7669",
   "metadata": {},
   "outputs": [],
   "source": []
  }
 ],
 "metadata": {
  "kernelspec": {
   "display_name": "Python 3 (ipykernel)",
   "language": "python",
   "name": "python3"
  },
  "language_info": {
   "codemirror_mode": {
    "name": "ipython",
    "version": 3
   },
   "file_extension": ".py",
   "mimetype": "text/x-python",
   "name": "python",
   "nbconvert_exporter": "python",
   "pygments_lexer": "ipython3",
   "version": "3.9.7"
  }
 },
 "nbformat": 4,
 "nbformat_minor": 5
}
