{
 "cells": [
  {
   "cell_type": "markdown",
   "id": "7e0a99fd-20bf-45d6-a1d7-d63b04eca688",
   "metadata": {},
   "source": [
    "**Debugging**\n",
    "\n",
    "The term **bug** in computers has an interesting origin going back to September 7th, 1947:\n",
    "\n",
    "https://education.nationalgeographic.org/resource/worlds-first-computer-bug\n",
    "\n",
    "When an error occurs at runtime, there are some simple strategies for figuring out what the issue is.\n",
    "\n",
    "One thing you can do is pepper your code with print statements. So you can track what happens to your variables.\n",
    "\n",
    "Using try/except can lead to a quick understanding of what went wrong.\n",
    "\n",
    "Another thing is to learn to use a debugger. Information on how to use the debugger can be found here:\n",
    "\n",
    "https://www.jetbrains.com/help/pycharm/running-jupyter-notebook-cells.html#debug-notebook"
   ]
  },
  {
   "cell_type": "code",
   "execution_count": 3,
   "id": "324af02b-307b-42a5-bfb0-47b3da98269d",
   "metadata": {},
   "outputs": [
    {
     "ename": "OverflowError",
     "evalue": "(34, 'Result too large')",
     "output_type": "error",
     "traceback": [
      "\u001b[1;31m---------------------------------------------------------------------------\u001b[0m",
      "\u001b[1;31mOverflowError\u001b[0m                             Traceback (most recent call last)",
      "Input \u001b[1;32mIn [3]\u001b[0m, in \u001b[0;36m<cell line: 2>\u001b[1;34m()\u001b[0m\n\u001b[0;32m      4\u001b[0m y\u001b[38;5;241m=\u001b[39mnp\u001b[38;5;241m.\u001b[39mrandom\u001b[38;5;241m.\u001b[39muniform(\u001b[38;5;241m0.\u001b[39m,\u001b[38;5;241m428.\u001b[39m)\n\u001b[0;32m      5\u001b[0m \u001b[38;5;66;03m#print(x,y)\u001b[39;00m\n\u001b[1;32m----> 6\u001b[0m z\u001b[38;5;241m=\u001b[39m\u001b[43mx\u001b[49m\u001b[38;5;241;43m*\u001b[39;49m\u001b[38;5;241;43m*\u001b[39;49m\u001b[43my\u001b[49m\n",
      "\u001b[1;31mOverflowError\u001b[0m: (34, 'Result too large')"
     ]
    }
   ],
   "source": [
    "import numpy as np\n",
    "for i in range(100000):\n",
    "    x=np.random.uniform(5.,5.27)\n",
    "    y=np.random.uniform(0.,428.)\n",
    "    #print(x,y)\n",
    "    z=x**y"
   ]
  },
  {
   "cell_type": "markdown",
   "id": "d3ad8547-1a95-4d08-b63e-f33022934d0a",
   "metadata": {},
   "source": [
    "**Making the error condition reproducible**\n",
    "\n",
    "We see that there is an overflow error, but what values led to the error?\n",
    "\n",
    "Note that the code is not perfectly reproducible because we didn't set the RNG seed. \n",
    "Setting the RNG seed causes the state of that RNG to be set so that exactly the same random number sequence will be generated every time the program is run (after resetting the seed!). \n",
    "\n",
    "In some situations you might not be able to reproduce the problem. For example, suppose you are capturing streaming data that \n",
    "changes over time.\n",
    "\n",
    "We set the seed below."
   ]
  },
  {
   "cell_type": "code",
   "execution_count": null,
   "id": "63796dcb-7efa-412f-9f8d-e6870ae5af83",
   "metadata": {},
   "outputs": [],
   "source": [
    "import numpy as np\n",
    "np.random.seed(13412)\n",
    "for i in range(100000):\n",
    "    x=np.random.uniform(5.,5.27)\n",
    "    y=np.random.uniform(0.,428.)\n",
    "    z=x**y    "
   ]
  },
  {
   "cell_type": "markdown",
   "id": "7cecb75a-7d32-4e90-a94d-2dec5730149b",
   "metadata": {},
   "source": [
    "**Dealing with an exeption**\n",
    "\n",
    "Here, the exception is an **OverflowError**.\n",
    "\n",
    "In the code below, we introduce Try/Exception to \n",
    "\n",
    "- proceeding as usual when the exception does not occur\n",
    "- do something when the exception occurs (in some cases keeping the code from stopping)\n",
    "\n",
    "Here, we print out the values of the variables when the exception occurs and break out of the loop."
   ]
  },
  {
   "cell_type": "code",
   "execution_count": 4,
   "id": "63489740-099f-4479-b89a-89dd9eb7f37b",
   "metadata": {},
   "outputs": [
    {
     "name": "stdout",
     "output_type": "stream",
     "text": [
      "8065 5.258037450550797 427.84120358969574\n"
     ]
    }
   ],
   "source": [
    "import numpy as np\n",
    "np.random.seed(13412)\n",
    "for i in range(100000):\n",
    "    x=np.random.uniform(5.,5.27)\n",
    "    y=np.random.uniform(0.,428.)\n",
    "    try:\n",
    "        z=x**y\n",
    "    except OverflowError:\n",
    "        print(i,x,y)\n",
    "        break"
   ]
  },
  {
   "cell_type": "markdown",
   "id": "a47a8e48-c582-4b24-9aa3-182be9f61a8a",
   "metadata": {},
   "source": [
    "And in the following we print and don't break."
   ]
  },
  {
   "cell_type": "code",
   "execution_count": 5,
   "id": "4f81cdad-6a94-44dc-a217-583032e4f4bb",
   "metadata": {},
   "outputs": [
    {
     "name": "stdout",
     "output_type": "stream",
     "text": [
      "8065 5.258037450550797 427.84120358969574\n",
      "34468 5.266493876351982 427.50138164600304\n",
      "40042 5.266635587481425 427.50597621810977\n",
      "64307 5.260186716625975 427.9814132911738\n",
      "76382 5.264597802096243 427.9162586199197\n",
      "78421 5.2668807349129505 427.87656891084526\n",
      "81905 5.269433650901329 427.437904884398\n",
      "84380 5.253011207572331 427.9779348827837\n",
      "89274 5.263157667305617 427.78590688804854\n",
      "96909 5.2595337613041675 427.7295318150346\n"
     ]
    }
   ],
   "source": [
    "import numpy as np\n",
    "np.random.seed(13412)\n",
    "for i in range(100000):\n",
    "    x=np.random.uniform(5.,5.27)\n",
    "    y=np.random.uniform(0.,428.)\n",
    "    try:\n",
    "        z=x**y\n",
    "    except OverflowError:\n",
    "        print(i,x,y)"
   ]
  },
  {
   "cell_type": "code",
   "execution_count": 6,
   "id": "3f1aa107-0805-4576-972b-288b5e6118ca",
   "metadata": {},
   "outputs": [
    {
     "name": "stdout",
     "output_type": "stream",
     "text": [
      "8065 5.258037450550797 427.84120358969574\n",
      "34468 5.266493876351982 427.50138164600304\n",
      "40042 5.266635587481425 427.50597621810977\n",
      "64307 5.260186716625975 427.9814132911738\n",
      "76382 5.264597802096243 427.9162586199197\n",
      "78421 5.2668807349129505 427.87656891084526\n",
      "81905 5.269433650901329 427.437904884398\n",
      "84380 5.253011207572331 427.9779348827837\n",
      "89274 5.263157667305617 427.78590688804854\n",
      "96909 5.2595337613041675 427.7295318150346\n"
     ]
    }
   ],
   "source": [
    "import numpy as np\n",
    "np.random.seed(13412)\n",
    "for i in range(100000):\n",
    "    x=np.random.uniform(5.,5.27)\n",
    "    y=np.random.uniform(0.,428.)\n",
    "    try:\n",
    "        z=x**y\n",
    "    except:\n",
    "        print(i,x,y)"
   ]
  },
  {
   "cell_type": "markdown",
   "id": "41a1baee-c5a9-4c47-aae7-d706023db3a7",
   "metadata": {},
   "source": [
    "**Using the debugger**\n",
    "\n",
    "We can also use the debugger to:\n",
    "\n",
    "- step through the code and stop at specified points\n",
    "- examine all local variables\n",
    "\n",
    "This is a very superficial introduction how to use the debugger in a Jupyter notebook.\n",
    "\n",
    "For example, suppose we implement code for factoring an integer into prime powers."
   ]
  },
  {
   "cell_type": "code",
   "execution_count": 2,
   "id": "1d89cca3-e158-4fac-8f07-2f81fdd967c3",
   "metadata": {},
   "outputs": [
    {
     "data": {
      "text/plain": [
       "[(2, 3), (3, 2), (5, 1)]"
      ]
     },
     "execution_count": 2,
     "metadata": {},
     "output_type": "execute_result"
    }
   ],
   "source": [
    "def GeneratorOfPrimes():\n",
    "    PrimeList=[]\n",
    "    n=2\n",
    "    while True:\n",
    "        founddivisor=False\n",
    "        for p in PrimeList:\n",
    "            if n%p==0:\n",
    "                founddivisor=True\n",
    "                break\n",
    "        if not founddivisor:\n",
    "            PrimeList.append(n)\n",
    "            yield(n)\n",
    "        n+=1\n",
    "def PrimeFactorization(n):\n",
    "    g=GeneratorOfPrimes()\n",
    "    Factorization=[]\n",
    "    while True:\n",
    "        p=next(g)\n",
    "        ctr=0\n",
    "        if p>n:\n",
    "            break\n",
    "        while n%p==0:\n",
    "            n=int(n/p)\n",
    "            ctr+=1\n",
    "        if ctr>0:\n",
    "            Factorization.append((p,ctr))\n",
    "    return(Factorization)\n",
    "PrimeFactorization(360)"
   ]
  },
  {
   "cell_type": "code",
   "execution_count": null,
   "id": "71712817-e334-4568-97d4-72382094d516",
   "metadata": {},
   "outputs": [],
   "source": []
  },
  {
   "cell_type": "code",
   "execution_count": null,
   "id": "2a0c324e-a929-464a-a46f-8e9136eb4f34",
   "metadata": {},
   "outputs": [],
   "source": []
  },
  {
   "cell_type": "code",
   "execution_count": null,
   "id": "4fd9d794-d701-405c-b88e-b637308c34ee",
   "metadata": {},
   "outputs": [],
   "source": []
  }
 ],
 "metadata": {
  "kernelspec": {
   "display_name": "Python 3 (ipykernel)",
   "language": "python",
   "name": "python3"
  },
  "language_info": {
   "codemirror_mode": {
    "name": "ipython",
    "version": 3
   },
   "file_extension": ".py",
   "mimetype": "text/x-python",
   "name": "python",
   "nbconvert_exporter": "python",
   "pygments_lexer": "ipython3",
   "version": "3.9.12"
  }
 },
 "nbformat": 4,
 "nbformat_minor": 5
}
