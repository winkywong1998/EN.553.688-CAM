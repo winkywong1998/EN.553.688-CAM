{
 "cells": [
  {
   "cell_type": "markdown",
   "metadata": {},
   "source": [
    "**Control Flow in Python**\n",
    "\n",
    "Control flow refers to specifying how the order of execution of code should occur under specified conditions.\n",
    "\n",
    "We have already seen the use of the for loop iterating over a list or a range."
   ]
  },
  {
   "cell_type": "code",
   "execution_count": null,
   "metadata": {},
   "outputs": [],
   "source": [
    "for i in range(10):\n",
    "    print(i)"
   ]
  },
  {
   "cell_type": "markdown",
   "metadata": {},
   "source": [
    "Some ideas around control flow will be illustrated using Monte-Carlo simulation.\n",
    "\n",
    "It is often the case that a computing platform provides the ability to generate pseudo random samples from the Uniform(0,1) distribution. In an application involving Monte-Carlo simulation, it quite common to need samples from some more complicated distribution.\n",
    "\n",
    "Here we generate a pseudo-random sample of size 10 from the Uniform(0,1) using a function from the numpy package."
   ]
  },
  {
   "cell_type": "code",
   "execution_count": null,
   "metadata": {},
   "outputs": [],
   "source": [
    "import numpy as np\n",
    "for i in range(10):\n",
    "    u=np.random.uniform(102.5,107.6)\n",
    "    print(u)"
   ]
  },
  {
   "cell_type": "markdown",
   "metadata": {},
   "source": [
    "And we build a random number generator for some other distribution using samples from the Uniform(0,1) distribution.\n",
    "\n",
    "Here is a specific example. Suppose we want to generate a Bernoulli(.7) random variable.\n",
    "\n",
    "We create a function **myfunction** that is applied to a random number that has a Uniform(0,1) distribution."
   ]
  },
  {
   "cell_type": "markdown",
   "metadata": {},
   "source": [
    "**if**\n",
    "\n",
    "Our function will make use of an *if* statement. \n",
    "\n",
    "Here, we specify code that should run depending on whether or not some condition is found to be true.\n",
    "\n",
    "Our function returns a value that is 1 if the input is less than or equal to 0.7 and otherwise it returns 0."
   ]
  },
  {
   "cell_type": "code",
   "execution_count": null,
   "metadata": {},
   "outputs": [],
   "source": [
    "def myfunction(u):\n",
    "    if u<=.7:\n",
    "        return(1)\n",
    "    return(0)"
   ]
  },
  {
   "cell_type": "markdown",
   "metadata": {},
   "source": [
    "We can apply this function to a pseudo-random sample of Uniform(0,1)'s."
   ]
  },
  {
   "cell_type": "code",
   "execution_count": null,
   "metadata": {},
   "outputs": [],
   "source": [
    "import numpy as np\n",
    "for i in range(10):\n",
    "    u=np.random.uniform()\n",
    "    x=myfunction(u)\n",
    "    print(x)"
   ]
  },
  {
   "cell_type": "markdown",
   "metadata": {},
   "source": [
    "**if ... else**\n",
    "\n",
    "Another way to code this is to use the if ... else ... construct."
   ]
  },
  {
   "cell_type": "code",
   "execution_count": null,
   "metadata": {},
   "outputs": [],
   "source": [
    "import numpy as np\n",
    "def myfunction(u):\n",
    "    if u<=.7:\n",
    "        return(1)\n",
    "    else:\n",
    "        return(0)\n",
    "L=[]\n",
    "for i in range(100):\n",
    "    u=np.random.uniform()\n",
    "    L.append(myfunction(u))\n",
    "print(L)"
   ]
  },
  {
   "cell_type": "markdown",
   "metadata": {},
   "source": [
    "**if .. elif..elif..else**\n",
    "\n",
    "We can test multiple conditions using if ... elif .. elif ... else.\n",
    "\n",
    "Here, suppose we want a random variable taking values \n",
    "\n",
    "- 0 with probability .4\n",
    "- 1 with probability .2\n",
    "- 2 with probability .15\n",
    "- 3 with probability .25"
   ]
  },
  {
   "cell_type": "code",
   "execution_count": null,
   "metadata": {},
   "outputs": [],
   "source": [
    "def myfunction(u):\n",
    "    if 0 <= u and u <=.4:\n",
    "        return(0)\n",
    "    elif .4<u and u<=.6:\n",
    "        return(1)\n",
    "    elif .6<u and u<=.75:\n",
    "        return(2)\n",
    "    else:\n",
    "        return(3)\n",
    "import numpy as np\n",
    "L=[]\n",
    "for i in range(100):\n",
    "    L.append(myfunction(np.random.uniform()))\n",
    "print(L)"
   ]
  },
  {
   "cell_type": "markdown",
   "metadata": {},
   "source": [
    "**break**\n",
    "\n",
    "The break statement in a for loop causes exit of the current loop."
   ]
  },
  {
   "cell_type": "code",
   "execution_count": null,
   "metadata": {},
   "outputs": [],
   "source": [
    "for i in range(10):\n",
    "    if i>5:\n",
    "        break\n",
    "    print(i)\n",
    "print(\"done\")"
   ]
  },
  {
   "cell_type": "markdown",
   "metadata": {},
   "source": [
    "**Nested loops**\n",
    "\n",
    "We can have nested loops like the one below in which, for each value of i, we execute another loop over a range."
   ]
  },
  {
   "cell_type": "code",
   "execution_count": null,
   "metadata": {},
   "outputs": [],
   "source": [
    "for i in range(2):\n",
    "    for j in range(3):\n",
    "        print((i,j))"
   ]
  },
  {
   "cell_type": "markdown",
   "metadata": {},
   "source": [
    "The range of the inner loop may depend on the value (i) of the outer looping variable. "
   ]
  },
  {
   "cell_type": "code",
   "execution_count": null,
   "metadata": {},
   "outputs": [],
   "source": [
    "for i in range(2):\n",
    "    for j in range(i,i+3):\n",
    "        print((i,j))"
   ]
  },
  {
   "cell_type": "markdown",
   "metadata": {},
   "source": [
    "What if a break statement appears inside the second loop?"
   ]
  },
  {
   "cell_type": "code",
   "execution_count": null,
   "metadata": {},
   "outputs": [],
   "source": [
    "for i in range(2):\n",
    "    for j in range(i,i+3):\n",
    "        if j==i+1:\n",
    "            break\n",
    "        print((i,j))"
   ]
  },
  {
   "cell_type": "markdown",
   "metadata": {},
   "source": [
    "So the break statement refers to the *current* loop, i.e., the inner one."
   ]
  },
  {
   "cell_type": "markdown",
   "metadata": {},
   "source": [
    "**Which loop do we break out of?**"
   ]
  },
  {
   "cell_type": "code",
   "execution_count": null,
   "metadata": {},
   "outputs": [],
   "source": [
    "for i in range(5):\n",
    "    if i>1:\n",
    "        print(\"outer loop break\")\n",
    "        break # current loop is the i loop\n",
    "    for j in range(4):\n",
    "        sum=i+j\n",
    "        print((i,j,sum))\n",
    "        if sum>2:\n",
    "            print(\"inner loop break\") \n",
    "            break"
   ]
  },
  {
   "cell_type": "markdown",
   "metadata": {},
   "source": [
    "**Changing the value of a looping variable**\n",
    "\n",
    "An issue that we need to be mindful of is that unexpected things can happen if you try to change the value of a looping variable. If you have used other programming languages this might seem unusual.\n",
    "\n",
    "What happens when we change the value of a looping variable?\n",
    "What do you suppose happens in this snippet of code?\n",
    "\n",
    "Let's try to understand what happens in this example."
   ]
  },
  {
   "cell_type": "code",
   "execution_count": null,
   "metadata": {},
   "outputs": [],
   "source": [
    "for i in range(5):\n",
    "    print(i)\n",
    "    i=i+1\n",
    "    print(i)"
   ]
  },
  {
   "cell_type": "markdown",
   "metadata": {},
   "source": [
    "So we should think of the looping variable as one that can be used inside the block of code to possible do some calculations but when we define a variable with the same name inside the loop, it's scope is limited only to that block of code and outside the block, i still behaves as if it wasn't modified."
   ]
  },
  {
   "cell_type": "markdown",
   "metadata": {},
   "source": [
    "**continue**\n",
    "\n",
    "The continue statement causes the program to ignore all of the remaining code in the block of the current for loop and proceed to the next value to process in the loop."
   ]
  },
  {
   "cell_type": "code",
   "execution_count": null,
   "metadata": {},
   "outputs": [],
   "source": [
    "for i in range(5):\n",
    "    print(i)\n",
    "    if i==3:\n",
    "        print(\"continue encountered\")\n",
    "        continue # don't execute any more code inside the loop\n",
    "    print(i)"
   ]
  },
  {
   "cell_type": "markdown",
   "metadata": {},
   "source": [
    "**pass**\n",
    "\n",
    "The statement is used as a placeholder. It has no effect. We often use it when we are coding and haven't written some code for some cases and we plan to fill in the details later on."
   ]
  },
  {
   "cell_type": "code",
   "execution_count": null,
   "metadata": {},
   "outputs": [],
   "source": [
    "for i in range(7):\n",
    "    if i>3:\n",
    "        pass\n",
    "    print(i)"
   ]
  },
  {
   "cell_type": "markdown",
   "metadata": {},
   "source": [
    "**while**\n",
    "\n",
    "When a while statement is used, a condition is checked and the block of code is executed if that condition is satisfied.\n",
    "\n",
    "Note the use of i+=1 which is an abbreviation for i=i+1."
   ]
  },
  {
   "cell_type": "code",
   "execution_count": null,
   "metadata": {},
   "outputs": [],
   "source": [
    "i=1\n",
    "while i<5:\n",
    "    i+=1 # i=i+1 \n",
    "    print(i)\n",
    "print(\"done\")"
   ]
  },
  {
   "cell_type": "markdown",
   "metadata": {},
   "source": [
    "The use of break and continue apply to a while loop just as they do for a for loop."
   ]
  },
  {
   "cell_type": "code",
   "execution_count": null,
   "metadata": {},
   "outputs": [],
   "source": [
    "i=0\n",
    "while i<5:\n",
    "    for j in range(3):\n",
    "        if j==i:\n",
    "            continue\n",
    "        print((i,j))\n",
    "    if i>=2:\n",
    "        break\n",
    "    i+=1      "
   ]
  },
  {
   "cell_type": "markdown",
   "metadata": {},
   "source": [
    "We often use a *while True* to create a loop in which calculations proceed until some code is encountered causing a *break* out of the loop to occur."
   ]
  },
  {
   "cell_type": "code",
   "execution_count": null,
   "metadata": {},
   "outputs": [],
   "source": [
    "i=0\n",
    "while True:\n",
    "    print(i)\n",
    "    i=i+1\n",
    "    if i>5:\n",
    "        break\n",
    "print(\"done\")"
   ]
  },
  {
   "cell_type": "markdown",
   "metadata": {
    "tags": []
   },
   "source": [
    "**Switch in Python**\n",
    "\n",
    "Many programming languages have a _switch .. case .. case .._ function, that is, a function that carries out some task, where the specific task depends on the value of a variable. While the Python language does not have an equivalent, we can use a dictionary to achieve something similar.\n",
    "\n",
    "Depending on the day of the week, we want to perform some task."
   ]
  },
  {
   "cell_type": "code",
   "execution_count": 1,
   "metadata": {},
   "outputs": [
    {
     "data": {
      "text/plain": [
       "'8AM'"
      ]
     },
     "execution_count": 1,
     "metadata": {},
     "output_type": "execute_result"
    }
   ],
   "source": [
    "def f0():\n",
    "    return(\"8AM\")\n",
    "def f1():\n",
    "    return(\"8AM\")\n",
    "def f2():\n",
    "    return(\"10AM\")\n",
    "def f3():\n",
    "    return(\"9AM\")\n",
    "def f4():\n",
    "    return(\"8AM\")\n",
    "\n",
    "arrival_time={\"Mon\":f0,\"Tue\":f1,\"Wed\":f2,\"Thu\":f3,\"Fri\":f4}\n",
    "arrival_time[\"Tue\"]()"
   ]
  },
  {
   "cell_type": "markdown",
   "metadata": {},
   "source": [
    "So we see that in Python, values in a dictionary can be functions."
   ]
  },
  {
   "cell_type": "code",
   "execution_count": 2,
   "metadata": {},
   "outputs": [
    {
     "data": {
      "text/plain": [
       "49"
      ]
     },
     "execution_count": 2,
     "metadata": {},
     "output_type": "execute_result"
    }
   ],
   "source": [
    "def Q0function(x): # power 0\n",
    "    return(1.)\n",
    "def Q1function(x): # power 1\n",
    "    return(x)\n",
    "def Q2function(x): # power 2\n",
    "    return(x**2)\n",
    "def Q3function(x): # power 3\n",
    "    return(x**3)\n",
    "\n",
    "qfunction={0:Q0function,1:Q1function,2:Q2function,3:Q3function}\n",
    "qfunction[2](7)"
   ]
  },
  {
   "cell_type": "code",
   "execution_count": null,
   "metadata": {},
   "outputs": [],
   "source": []
  }
 ],
 "metadata": {
  "kernelspec": {
   "display_name": "Python 3 (ipykernel)",
   "language": "python",
   "name": "python3"
  },
  "language_info": {
   "codemirror_mode": {
    "name": "ipython",
    "version": 3
   },
   "file_extension": ".py",
   "mimetype": "text/x-python",
   "name": "python",
   "nbconvert_exporter": "python",
   "pygments_lexer": "ipython3",
   "version": "3.9.7"
  }
 },
 "nbformat": 4,
 "nbformat_minor": 4
}
