{
 "cells": [
  {
   "cell_type": "markdown",
   "metadata": {},
   "source": [
    "**Formatting (Text) Strings**\n",
    "\n",
    "It is useful to be able to put strings into a certain format, especially when  producting reports. \n",
    "\n",
    "Here we discuss the **format** method for a string. The first thing to note is that expressions in curly braces are substituted for."
   ]
  },
  {
   "cell_type": "code",
   "execution_count": 1,
   "metadata": {},
   "outputs": [
    {
     "name": "stdout",
     "output_type": "stream",
     "text": [
      "Hi, my name is Dan\n"
     ]
    }
   ],
   "source": [
    "mystring = \"Hi, my name is {value}\" \n",
    "newstring=mystring.format(value=\"Dan\")\n",
    "print(newstring)"
   ]
  },
  {
   "cell_type": "markdown",
   "metadata": {},
   "source": [
    "**Multiple substitions are allowed**"
   ]
  },
  {
   "cell_type": "code",
   "execution_count": 2,
   "metadata": {},
   "outputs": [
    {
     "name": "stdout",
     "output_type": "stream",
     "text": [
      "My sister's name is Doris.\n",
      "My brother's name is Paul.\n",
      "My sister's name is Janice.\n",
      "My father's name is Melvin.\n",
      "My mother's name is Rita.\n"
     ]
    }
   ],
   "source": [
    "st=\"My {relationship}'s name is {name}.\"\n",
    "nm=[\"Doris\",\"Paul\",\"Janice\",\"Melvin\",\"Rita\"]\n",
    "rel=[\"sister\",\"brother\",\"sister\",\"father\",\"mother\"]\n",
    "for i in range(5):\n",
    "    newstring=st.format(name=nm[i],relationship=rel[i])\n",
    "    print(newstring)"
   ]
  },
  {
   "cell_type": "markdown",
   "metadata": {},
   "source": [
    "**Repeated values**\n",
    "\n",
    "Values can be repeated any number of times."
   ]
  },
  {
   "cell_type": "code",
   "execution_count": null,
   "metadata": {},
   "outputs": [],
   "source": [
    "mystring = \"Did your {pet1} chase your {pet2} or did your {pet2} chase your {pet1}?\"\n",
    "newstring=mystring.format(pet1=\"dog\",pet2=\"cat\")\n",
    "print(newstring)"
   ]
  },
  {
   "cell_type": "markdown",
   "metadata": {},
   "source": [
    "**Unused parameters**\n",
    "\n",
    "There can be unused parameters."
   ]
  },
  {
   "cell_type": "code",
   "execution_count": null,
   "metadata": {},
   "outputs": [],
   "source": [
    "mystring = \"Did your {pet1} chase your {pet2} or did your {pet2} chase your {pet1}?\"\n",
    "newstring=mystring.format(pet1=\"dog\",pet2=\"cat\", pet3=\"bird\")\n",
    "print(newstring)"
   ]
  },
  {
   "cell_type": "markdown",
   "metadata": {},
   "source": [
    "**Supplied names must appear in the parameter list**"
   ]
  },
  {
   "cell_type": "code",
   "execution_count": null,
   "metadata": {},
   "outputs": [],
   "source": [
    "mystring = \"I feel that {something} is missing. Are you missing some {thing} too?\" \n",
    "newstring=mystring.format(something=\"money\")\n",
    "print(newstring)"
   ]
  },
  {
   "cell_type": "code",
   "execution_count": null,
   "metadata": {},
   "outputs": [],
   "source": [
    "mystring = \"I feel that {something} is missing. Are you missing some {thing} too?\" \n",
    "newstring=mystring.format(something=\"money\",thing=\"bills\")\n",
    "print(newstring)"
   ]
  },
  {
   "cell_type": "markdown",
   "metadata": {},
   "source": [
    "**Names are not required**\n",
    "\n",
    "Substitutions can be determined by position rather than by name."
   ]
  },
  {
   "cell_type": "code",
   "execution_count": null,
   "metadata": {},
   "outputs": [],
   "source": [
    "mystring = \"{}, {} and {} were there but {} couldn't make it\" \n",
    "newstring=mystring.format(\"John\",\"Paul\",\"George\",\"Ringo\")\n",
    "print(newstring)"
   ]
  },
  {
   "cell_type": "markdown",
   "metadata": {},
   "source": [
    "**Use of indices**\n",
    "\n",
    "We can use indices to determine where arguments are substituted in a string.\n",
    "\n",
    "The order by which parameters are assigned indices is determined by position."
   ]
  },
  {
   "cell_type": "code",
   "execution_count": null,
   "metadata": {},
   "outputs": [],
   "source": [
    "mystring = \"He used to bring his {0:} but never his {1:}. I would have preferred his {1:}\" \n",
    "newstring=mystring.format(\"dog\", \"cat\")\n",
    "print(newstring)"
   ]
  },
  {
   "cell_type": "code",
   "execution_count": null,
   "metadata": {},
   "outputs": [],
   "source": [
    "mystring = \"He used to bring his {0:} but never his {1:}. I would have preferred his {1:}\" \n",
    "newstring=mystring.format(\"dog\", \"cat\",\"bird\")\n",
    "print(newstring)"
   ]
  },
  {
   "cell_type": "markdown",
   "metadata": {},
   "source": [
    "**What kinds of expressions can be used for substitution?**\n",
    "\n",
    "Some types in Python are suppled with a **\\_\\_str\\_\\_** method.\n",
    "\n",
    "Expressions to be substituted can be literals or objects with a \\_\\_str\\_\\_ method."
   ]
  },
  {
   "cell_type": "code",
   "execution_count": null,
   "metadata": {},
   "outputs": [],
   "source": [
    "x=[1,2,56]\n",
    "x.__str__()"
   ]
  },
  {
   "cell_type": "code",
   "execution_count": null,
   "metadata": {},
   "outputs": [],
   "source": [
    "x=47.8989\n",
    "x.__str__()"
   ]
  },
  {
   "cell_type": "code",
   "execution_count": null,
   "metadata": {},
   "outputs": [],
   "source": [
    "x=36\n",
    "x.__str__()"
   ]
  },
  {
   "cell_type": "code",
   "execution_count": null,
   "metadata": {},
   "outputs": [],
   "source": [
    "f=lambda x:x**x\n",
    "f.__str__()"
   ]
  },
  {
   "cell_type": "markdown",
   "metadata": {},
   "source": [
    "**str() and \\_\\_str\\_\\_()**\n",
    "\n",
    "When we use str(...) the interpreter checks whether the ... possesses an \\_\\_str\\_\\_ method, and if it does, the output of that method gets returned."
   ]
  },
  {
   "cell_type": "code",
   "execution_count": null,
   "metadata": {},
   "outputs": [],
   "source": [
    "x=36.131\n",
    "print(str(x))\n",
    "\n",
    "f=lambda x:x**x\n",
    "print(str(f))"
   ]
  },
  {
   "cell_type": "markdown",
   "metadata": {},
   "source": [
    "**Formatting floats**\n",
    "\n",
    "We usually format floating point values to remove extra digits (try to avoid misleading levels of accuracy!),  align numbers horizontally in tables, and control the amount of space a number takes up.\n",
    "\n",
    "Extra formatting rules are invoked by putting them inside the curly braces after a colon (:). \n",
    "\n",
    "For example, we may want to require that the \n",
    "\n",
    "1) the number of spaces a floating point values takes up is 30,\n",
    "2) the number of digits after the decimal point is 10, and\n",
    "3) the numbers should be aligned in some specific way\n",
    "\n",
    "we can use constructions like the following following:"
   ]
  },
  {
   "cell_type": "code",
   "execution_count": null,
   "metadata": {},
   "outputs": [],
   "source": [
    "import math\n",
    "txt = \"The value of pi is {:^20.3f}.\" # centered\n",
    "print(txt.format(math.pi))\n",
    "txt = \"The value of  e is {:>30.10f}.\" # right aligned\n",
    "print(txt.format(math.e))\n",
    "txt = \"The value of pi is {:<30.10f}.\" # left aligned\n",
    "print(txt.format(math.pi))\n",
    "txt = \"The value of  e is {:30.10f}.\" # default alighnment\n",
    "print(txt.format(math.e))"
   ]
  },
  {
   "cell_type": "markdown",
   "metadata": {},
   "source": [
    "If the number doesn't fit in the desired format, we don't get an error."
   ]
  },
  {
   "cell_type": "code",
   "execution_count": null,
   "metadata": {},
   "outputs": [],
   "source": [
    "import math\n",
    "txt = \"The value of 1,000,000 is {:>11.10f}.\"\n",
    "print(txt.format(1000000))"
   ]
  },
  {
   "cell_type": "markdown",
   "metadata": {},
   "source": [
    "**Signs**\n",
    "\n",
    "Using a + causes a + to appear if the number is positive and - if negative (as usual)"
   ]
  },
  {
   "cell_type": "code",
   "execution_count": null,
   "metadata": {},
   "outputs": [],
   "source": [
    "txt = \"My baby is {:} months old.\"\n",
    "print(txt.format(6))\n",
    "txt = \"My baby is {:} months old.\"\n",
    "print(txt.format(-6))\n",
    "txt = \"My baby is {:+} months old.\"\n",
    "print(txt.format(6))\n",
    "txt = \"My baby is {:+} months old.\"\n",
    "print(txt.format(-6))\n",
    "txt = \"My baby is due in {:+} months so I guess you'd say she is {:+} months old.\"\n",
    "print(txt.format(3,-3))\n",
    "txt = \"Or, if time is going backwards, my baby is {:} months old.\"\n",
    "print(txt.format(3))\n"
   ]
  },
  {
   "cell_type": "markdown",
   "metadata": {},
   "source": [
    "We can leave a space for positive numbers but no sign."
   ]
  },
  {
   "cell_type": "code",
   "execution_count": null,
   "metadata": {},
   "outputs": [],
   "source": [
    "txt = \"But boy was I a terror by the time I was {: } years old.\" \n",
    "print(txt.format(2))\n",
    "txt = \"But boy was I a terror by the time I was {: } years old.\" \n",
    "print(txt.format(-2))"
   ]
  },
  {
   "cell_type": "markdown",
   "metadata": {},
   "source": [
    "**Scientific notation**"
   ]
  },
  {
   "cell_type": "code",
   "execution_count": null,
   "metadata": {},
   "outputs": [],
   "source": [
    "txt = \"The speed of light is {:E} km/hr\"\n",
    "print(txt.format( 1079252848.8))"
   ]
  },
  {
   "cell_type": "code",
   "execution_count": null,
   "metadata": {},
   "outputs": [],
   "source": [
    "txt = \"The speed of light is {:.3E} km/hr\"\n",
    "print(txt.format( 1079252848.8))"
   ]
  },
  {
   "cell_type": "code",
   "execution_count": null,
   "metadata": {},
   "outputs": [],
   "source": [
    "txt = \"The speed of light is {:.1E} km/hr\"\n",
    "print(txt.format( 1079252848.8))"
   ]
  },
  {
   "cell_type": "markdown",
   "metadata": {},
   "source": [
    "**Formatting ints**\n",
    "\n",
    "We can specify the space occupied by an int and the alignment."
   ]
  },
  {
   "cell_type": "code",
   "execution_count": null,
   "metadata": {},
   "outputs": [],
   "source": [
    "amount=123\n",
    "txt = \"I have ${:^10d} in my pocket\" # centered and using 10 spaces\n",
    "print(txt.format(amount))\n",
    "txt = \"I have ${:>10d} in my pocket\" # right aligned\n",
    "print(txt.format(amount))\n",
    "txt = \"I have ${:<10d} in my pocket\" # left aligned\n",
    "print(txt.format(amount))\n",
    "txt = \"I have ${:10d} in my pocket\" # default\n",
    "print(txt.format(amount))\n"
   ]
  },
  {
   "cell_type": "markdown",
   "metadata": {},
   "source": [
    "**Commas in numbers** "
   ]
  },
  {
   "cell_type": "code",
   "execution_count": null,
   "metadata": {},
   "outputs": [],
   "source": [
    "txt = \"The speed of light is {:} km/hr\"\n",
    "print(txt.format( 1079252848.8))\n",
    "txt = \"The speed of light is {:,} km/hr\"\n",
    "print(txt.format( 1079252848.84389439839))"
   ]
  },
  {
   "cell_type": "markdown",
   "metadata": {},
   "source": [
    "**Positioning Text**\n",
    "\n",
    "We can also format the position of text in a string. Here, we make the string take up 8 spaces and vary the alignment."
   ]
  },
  {
   "cell_type": "code",
   "execution_count": null,
   "metadata": {},
   "outputs": [],
   "source": [
    "txt=\"A {:} once bit me.\"\n",
    "print(txt.format(\"dog\"))\n",
    "txt=\"A {:>8} once bit me.\"\n",
    "print(txt.format(\"dog\"))\n",
    "txt=\"A {:<8} once bit me.\"\n",
    "print(txt.format(\"dog\"))\n",
    "txt=\"A {:^8} once bit me.\"\n",
    "print(txt.format(\"dog\"))"
   ]
  },
  {
   "cell_type": "code",
   "execution_count": null,
   "metadata": {},
   "outputs": [],
   "source": [
    "txt=\"A {:5} once bit me.\"\n",
    "print(txt.format(\"giraffe\"))\n",
    "txt=\"A {:5} once bit me.\"\n",
    "print(txt.format(\"dinosaur\"))"
   ]
  },
  {
   "cell_type": "code",
   "execution_count": null,
   "metadata": {},
   "outputs": [],
   "source": []
  },
  {
   "cell_type": "markdown",
   "metadata": {},
   "source": [
    "**String needn't fit in space provided**\n",
    "\n",
    "If the string being substituted doesn't fit, we don't get an error."
   ]
  },
  {
   "cell_type": "code",
   "execution_count": null,
   "metadata": {},
   "outputs": [],
   "source": [
    "txt=\"A {:5} once bit me.\"\n",
    "print(txt.format(\"dinosaur\"))"
   ]
  },
  {
   "cell_type": "markdown",
   "metadata": {},
   "source": [
    "**Creating a table**\n",
    "\n",
    "A most important application is creating a nicely formatted table.\n",
    "\n",
    "Let's create some random data"
   ]
  },
  {
   "cell_type": "code",
   "execution_count": 1,
   "metadata": {},
   "outputs": [
    {
     "name": "stdout",
     "output_type": "stream",
     "text": [
      "['bob', 'mary', 'joe', 'alice', 'ted', 'rose', 'rita', 'mel', 'ed', 'monique']\n",
      "[448.32, 349.4, 26.35, 157.7, 7425.02, 376.11, 155.56, 1.01, 370.7, 35.36]\n",
      "[20 51 43 60 32 47 36 64 74 51]\n"
     ]
    }
   ],
   "source": [
    "import numpy as np\n",
    "name=[\"bob\",\"mary\",\"joe\",\"alice\",\"ted\",\"rose\",\"rita\",\"mel\",\"ed\",\"monique\"]\n",
    "print(name)\n",
    "balance=[np.round(np.exp(np.random.uniform(0,10)),2) for i in range(10)]\n",
    "print(balance)\n",
    "age=np.random.randint(20,80,10)\n",
    "print(age)"
   ]
  },
  {
   "cell_type": "code",
   "execution_count": 2,
   "metadata": {},
   "outputs": [
    {
     "name": "stdout",
     "output_type": "stream",
     "text": [
      "Name          Balance   Age\n",
      "bob            448.32    20\n",
      "mary           349.40    51\n",
      "joe             26.35    43\n",
      "alice          157.70    60\n",
      "ted           7425.02    32\n",
      "rose           376.11    47\n",
      "rita           155.56    36\n",
      "mel              1.01    64\n",
      "ed             370.70    74\n",
      "monique         35.36    51\n"
     ]
    }
   ],
   "source": [
    "txt=\"{:10} {:>10} {:>5}\"\n",
    "print(txt.format(\"Name\",\"Balance\",\"Age\"))\n",
    "txt=\"{:10} {:10.2f} {:5}\"\n",
    "for i in range(10):\n",
    "    print(txt.format(name[i],balance[i],age[i]))"
   ]
  },
  {
   "cell_type": "markdown",
   "metadata": {},
   "source": [
    "**Writing to a file**\n",
    "\n",
    "And of course we can output our created string to a file.\n",
    "\n",
    "But remember that write doesn't include newline characters."
   ]
  },
  {
   "cell_type": "code",
   "execution_count": 3,
   "metadata": {},
   "outputs": [
    {
     "name": "stdout",
     "output_type": "stream",
     "text": [
      "Name          Balance   Agebob            448.32    20mary           349.40    51joe             26.35    43alice          157.70    60ted           7425.02    32rose           376.11    47rita           155.56    36mel              1.01    64ed             370.70    74monique         35.36    51\n"
     ]
    }
   ],
   "source": [
    "txt=\"{:10} {:>10} {:>5}\"\n",
    "st=txt.format(\"Name\",\"Balance\",\"Age\")\n",
    "txt=\"{:10} {:10.2f} {:5}\"\n",
    "for i in range(10):\n",
    "    st+=txt.format(name[i],balance[i],age[i])\n",
    "print(st)"
   ]
  },
  {
   "cell_type": "code",
   "execution_count": null,
   "metadata": {},
   "outputs": [],
   "source": []
  },
  {
   "cell_type": "code",
   "execution_count": 4,
   "metadata": {},
   "outputs": [],
   "source": [
    "txt=\"{:10} {:>10} {:>5}\"\n",
    "st=txt.format(\"Name\",\"Balance\",\"Age\")+\"\\n\"\n",
    "txt=\"{:10} {:10.2f} {:5}\"\n",
    "for i in range(10):\n",
    "    st+=txt.format(name[i],balance[i],age[i])+\"\\n\"\n",
    "with open(\"table.txt\",\"w\") as fout:\n",
    "    fout.write(st)"
   ]
  },
  {
   "cell_type": "code",
   "execution_count": null,
   "metadata": {},
   "outputs": [],
   "source": []
  }
 ],
 "metadata": {
  "kernelspec": {
   "display_name": "Python 3 (ipykernel)",
   "language": "python",
   "name": "python3"
  },
  "language_info": {
   "codemirror_mode": {
    "name": "ipython",
    "version": 3
   },
   "file_extension": ".py",
   "mimetype": "text/x-python",
   "name": "python",
   "nbconvert_exporter": "python",
   "pygments_lexer": "ipython3",
   "version": "3.9.12"
  }
 },
 "nbformat": 4,
 "nbformat_minor": 4
}
