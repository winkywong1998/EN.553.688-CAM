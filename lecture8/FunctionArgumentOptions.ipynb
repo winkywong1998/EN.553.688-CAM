{
 "cells": [
  {
   "cell_type": "markdown",
   "metadata": {},
   "source": [
    "**Function Arguments**\n",
    "\n",
    "**Named/Keyword arguments for functions**\n",
    "\n",
    "For clarity it is helpful to allow our function arguments to have names.\n",
    "\n",
    "For example, for solving \n",
    "\n",
    "$$Ax^2 + Bx+ C = 0 $$\n",
    "\n",
    "we usually write the quadratic formula in terms of A, B and C.\n",
    "\n",
    "Here we consider a quadratic formula function.\n",
    "\n",
    "We'll use the cmath package, which provides for mathematical calculations with complex numbers."
   ]
  },
  {
   "cell_type": "code",
   "execution_count": 1,
   "metadata": {},
   "outputs": [],
   "source": [
    "import cmath as c\n",
    "def quadratic_formula(A,B,C):\n",
    "    d=B*B-4*A*C\n",
    "    rtd=c.sqrt(d)\n",
    "    root1=(-B-rtd)/(2*A)\n",
    "    root2=(-B+rtd)/(2*A)\n",
    "    return((root1,root2))"
   ]
  },
  {
   "cell_type": "markdown",
   "metadata": {},
   "source": [
    "**Complex numbers**\n",
    "\n",
    "As an aside, not that Python provides complex numbers and the usual operations."
   ]
  },
  {
   "cell_type": "code",
   "execution_count": 2,
   "metadata": {},
   "outputs": [
    {
     "name": "stdout",
     "output_type": "stream",
     "text": [
      "<class 'complex'>\n",
      "(1.4+2.3j)\n",
      "(-2+7j)\n",
      "(4.8-2.4000000000000004j)\n",
      "(-15.569999999999999-1.2399999999999993j)\n",
      "(0.17979197622585438-0.4279346210995542j)\n"
     ]
    }
   ],
   "source": [
    "z1=1.4+2.3j\n",
    "z2=-3.4+4.7j\n",
    "print(type(z1))\n",
    "print(z1)\n",
    "print(z1+z2)\n",
    "print(z1-z2)\n",
    "print(z1*z2)\n",
    "print(z1/z2)"
   ]
  },
  {
   "cell_type": "markdown",
   "metadata": {},
   "source": [
    "Math's exp doesn't work as we'd like."
   ]
  },
  {
   "cell_type": "code",
   "execution_count": 3,
   "metadata": {},
   "outputs": [
    {
     "ename": "TypeError",
     "evalue": "can't convert complex to float",
     "output_type": "error",
     "traceback": [
      "\u001b[1;31m---------------------------------------------------------------------------\u001b[0m",
      "\u001b[1;31mTypeError\u001b[0m                                 Traceback (most recent call last)",
      "Input \u001b[1;32mIn [3]\u001b[0m, in \u001b[0;36m<cell line: 2>\u001b[1;34m()\u001b[0m\n\u001b[0;32m      1\u001b[0m \u001b[38;5;28;01mimport\u001b[39;00m \u001b[38;5;21;01mmath\u001b[39;00m \u001b[38;5;28;01mas\u001b[39;00m \u001b[38;5;21;01mm\u001b[39;00m\n\u001b[1;32m----> 2\u001b[0m \u001b[43mm\u001b[49m\u001b[38;5;241;43m.\u001b[39;49m\u001b[43mexp\u001b[49m\u001b[43m(\u001b[49m\u001b[43mz1\u001b[49m\u001b[43m)\u001b[49m\n",
      "\u001b[1;31mTypeError\u001b[0m: can't convert complex to float"
     ]
    }
   ],
   "source": [
    "import math as m\n",
    "m.exp(z1)"
   ]
  },
  {
   "cell_type": "markdown",
   "metadata": {},
   "source": [
    "But numpy's exp works fine."
   ]
  },
  {
   "cell_type": "code",
   "execution_count": null,
   "metadata": {},
   "outputs": [],
   "source": [
    "import numpy as np\n",
    "np.exp(z1)"
   ]
  },
  {
   "cell_type": "markdown",
   "metadata": {},
   "source": [
    "And we can get one of the square roots of a given complex number using numpy's sqrt function."
   ]
  },
  {
   "cell_type": "code",
   "execution_count": null,
   "metadata": {},
   "outputs": [],
   "source": [
    "np.sqrt(z1)"
   ]
  },
  {
   "cell_type": "code",
   "execution_count": null,
   "metadata": {},
   "outputs": [],
   "source": [
    "c.exp(z1)"
   ]
  },
  {
   "cell_type": "markdown",
   "metadata": {},
   "source": [
    "**Order of arguments**\n",
    "\n",
    "When we pass arguments to the function, we can use positions of the arguments, and the order of the arguments matters."
   ]
  },
  {
   "cell_type": "code",
   "execution_count": null,
   "metadata": {},
   "outputs": [],
   "source": [
    "print(quadratic_formula(1,2,3))\n",
    "print(quadratic_formula(3,2,1))"
   ]
  },
  {
   "cell_type": "markdown",
   "metadata": {},
   "source": [
    "**Names of arguments**\n",
    "\n",
    "But we implicitly named our arguments (A,B and C) so we can also use names for the arguments, which allows us to pass values in any order."
   ]
  },
  {
   "cell_type": "code",
   "execution_count": null,
   "metadata": {},
   "outputs": [],
   "source": [
    "print(quadratic_formula(A=1,B=2,C=3))\n",
    "print(quadratic_formula(C=3,A=1,B=2))\n"
   ]
  },
  {
   "cell_type": "markdown",
   "metadata": {},
   "source": [
    "**Default values**\n",
    "\n",
    "We can specify default values for arguments not included when the function is called.\n",
    "\n",
    "When we do this, we must put all arguments without default values first. Then the arguments without defaults are *positional* unless otherwise indicated."
   ]
  },
  {
   "cell_type": "code",
   "execution_count": null,
   "metadata": {},
   "outputs": [],
   "source": [
    "import cmath as c\n",
    "def quadratic_formula(A,C,B=0): # B is zero by default \n",
    "    d=B*B-4*A*C\n",
    "    rtd=c.sqrt(d)\n",
    "    root1=(-B-rtd)/(2*A)\n",
    "    root2=(-B+rtd)/(2*A)\n",
    "    return((root1,root2))"
   ]
  },
  {
   "cell_type": "code",
   "execution_count": null,
   "metadata": {},
   "outputs": [],
   "source": [
    "print(quadratic_formula(A=1,C=3))\n",
    "print(quadratic_formula(1,3))\n",
    "print(quadratic_formula(A=1,B=5,C=3))\n",
    "print(quadratic_formula(A=1,C=3,B=0))"
   ]
  },
  {
   "cell_type": "markdown",
   "metadata": {},
   "source": [
    "**Order restriction**\n",
    "\n",
    "In this case, any positional arguments must appear before named/keyword arguments"
   ]
  },
  {
   "cell_type": "code",
   "execution_count": null,
   "metadata": {},
   "outputs": [],
   "source": [
    "print(quadratic_formula(B=2,1,3))\n"
   ]
  },
  {
   "cell_type": "code",
   "execution_count": null,
   "metadata": {},
   "outputs": [],
   "source": [
    "print(quadratic_formula(A=1,3,2))"
   ]
  },
  {
   "cell_type": "markdown",
   "metadata": {},
   "source": [
    "**Optional Named Arguments**\n",
    "\n",
    "There are various examples of Python functions that use a variable number of positional arguments together with optional named arguments. Consider the print() function for example."
   ]
  },
  {
   "cell_type": "code",
   "execution_count": null,
   "metadata": {},
   "outputs": [],
   "source": [
    "help(print)"
   ]
  },
  {
   "cell_type": "markdown",
   "metadata": {},
   "source": [
    "**print has variable number of position arguments**"
   ]
  },
  {
   "cell_type": "code",
   "execution_count": null,
   "metadata": {},
   "outputs": [],
   "source": [
    "x=1\n",
    "y=2\n",
    "z=3\n",
    "print(x,y)\n",
    "print(x,y,z,\"bob\")"
   ]
  },
  {
   "cell_type": "markdown",
   "metadata": {},
   "source": [
    "**positional arguments must precede optional named/keyword arguments**"
   ]
  },
  {
   "cell_type": "code",
   "execution_count": null,
   "metadata": {},
   "outputs": [],
   "source": [
    "print(\"string1\",\"string2\",\"bob\",sep=\"_\",end='\\n\\n\\n')\n",
    "print(\"string1\")"
   ]
  },
  {
   "cell_type": "markdown",
   "metadata": {},
   "source": [
    "**Another example**\n",
    "\n",
    "Below, **sep** and **end** are optional named/keyword arguments."
   ]
  },
  {
   "cell_type": "code",
   "execution_count": null,
   "metadata": {},
   "outputs": [],
   "source": [
    "print(\"my\",\"dog\",\"ate\",\"my\",\"homework\",\"again\")\n",
    "print(\"my\",\"dog\",\"ate\",\"my\",\"homework\",sep=\"_\")\n",
    "print(\"my\",\"dog\",\"ate\",\"my\",\"homework\",sep=\" \")\n",
    "print(\"my\",\"dog\",\"ate\",\"my\",\"homework\",sep=\"_\",end=\"\\n\\n\")\n",
    "print(\"my\",\"dog\",\"ate\",\"my\",\"homework\",sep=\",\")"
   ]
  },
  {
   "cell_type": "markdown",
   "metadata": {},
   "source": [
    "**Writing your own functions**\n",
    "\n",
    "Let's write a function that does something similar. It should \n",
    "\n",
    "- output a string obtained concatenating the positional values,\n",
    "- use a separating expression inserted between each string, and\n",
    "- end with a ending string.\n",
    "\n",
    "When we create our code we'll use a certain syntax in the **def** line to indicate that there is a variable number of positional arguments.\n",
    "\n",
    "Note the use of the *asterisk* that tells the intepreter to allow for any number of position arguments.\n",
    "\n",
    "We're going to run this code with arguments to see what the types of the variables in the functions are."
   ]
  },
  {
   "cell_type": "code",
   "execution_count": null,
   "metadata": {},
   "outputs": [],
   "source": [
    "def concat_strings(*v,sep=\",\",end=\"\"):\n",
    "    print(type(v)) #  The positional arguments get loaded into tuple called values\n",
    "    print(v)\n",
    "    print(len(v))\n",
    "    for i in range(len(v)):\n",
    "        print(v[i])"
   ]
  },
  {
   "cell_type": "code",
   "execution_count": null,
   "metadata": {},
   "outputs": [],
   "source": [
    "concat_strings(\"a\",\"b\")"
   ]
  },
  {
   "cell_type": "markdown",
   "metadata": {},
   "source": [
    "We see how optional positional arguments are implemented. The intepreter loads all of the positional arguments into a tuple whose name is the one we used (v) with the asterisk.\n",
    "\n",
    "**Implementing the function**\n",
    "\n",
    "Now we do something with those arguments and create an implementation of our function."
   ]
  },
  {
   "cell_type": "code",
   "execution_count": null,
   "metadata": {},
   "outputs": [],
   "source": [
    "def concat_strings(*values,sep=\",\",end=\"\"):\n",
    "    mystring=\"\"\n",
    "    for v in values[:-1]:\n",
    "        mystring+=v+sep\n",
    "    mystring+=values[-1]+end\n",
    "    return(mystring)  "
   ]
  },
  {
   "cell_type": "code",
   "execution_count": null,
   "metadata": {},
   "outputs": [],
   "source": [
    "print(concat_strings(\"my\",\"dog\",\"ate\",\"my\",\"homework\"))\n",
    "print(concat_strings(\"my\",\"dog\",\"ate\",\"my\",\"homework\",sep=\"_\"))\n",
    "print(concat_strings(\"my\",\"dog\",\"ate\",\"my\",\"homework\",sep=\" \"))\n",
    "print(concat_strings(\"my\",\"dog\",\"ate\",\"my\",\"homework\",sep=\"_\",end=\"++++\"))\n",
    "print(concat_strings(\"my\",\"dog\",\"ate\",\"my\",\"homework\",sep=\",\"))"
   ]
  },
  {
   "cell_type": "markdown",
   "metadata": {},
   "source": [
    "**Enforcing use of only named/keyword arguments**\n",
    "\n",
    "If we want to require that only arguments include their names we can put the asterisk * by itself followed by the named arguments."
   ]
  },
  {
   "cell_type": "code",
   "execution_count": null,
   "metadata": {},
   "outputs": [],
   "source": [
    "import cmath as c\n",
    "def quadratic_formula(*,A,B,C):\n",
    "    d=B*B-4*A*C\n",
    "    rtd=c.sqrt(d)\n",
    "    root1=(-B-rtd)/(2*A)\n",
    "    root2=(-B+rtd)/(2*A)\n",
    "    return((root1,root2))"
   ]
  },
  {
   "cell_type": "code",
   "execution_count": null,
   "metadata": {},
   "outputs": [],
   "source": [
    "print(quadratic_formula(1,2,3))"
   ]
  },
  {
   "cell_type": "code",
   "execution_count": null,
   "metadata": {},
   "outputs": [],
   "source": [
    "print(quadratic_formula(C=3,B=2,A=1))"
   ]
  },
  {
   "cell_type": "markdown",
   "metadata": {},
   "source": [
    "**Combining required positional arguments and optional arbitrary number of positional arguments**\n",
    "\n",
    "We can have required positional arguments followed by a variable with an asterisk meaning that any number of additional optional arguments are allowed.\n",
    "\n",
    "In the code below, we see how the *extra* argument causes arguments to the function to be interpreted - here the **extra** variable becomes a tuple."
   ]
  },
  {
   "cell_type": "code",
   "execution_count": null,
   "metadata": {},
   "outputs": [],
   "source": [
    "def h(p1,p2,*myextra):\n",
    "    print(\"first required positional argument is \" + str(p1))\n",
    "    print(\"second required positional argument is \" + str(p2))\n",
    "    if len(myextra)>0:\n",
    "        print(\"you supplied \"+str(len(myextra))+\" optional arguments\")\n",
    "        ctr=0\n",
    "        for e in myextra:\n",
    "            print(\"   optional argument \" + str(ctr) + \" is \" + str(e))\n",
    "            ctr+=1\n",
    "    else:\n",
    "        print(\"you did not supply any optional arguments\")\n",
    "    return   "
   ]
  },
  {
   "cell_type": "code",
   "execution_count": null,
   "metadata": {},
   "outputs": [],
   "source": [
    "h(1,2,3,4,5,7,9)"
   ]
  },
  {
   "cell_type": "code",
   "execution_count": null,
   "metadata": {},
   "outputs": [],
   "source": [
    "h(p2=2,p1=1)"
   ]
  },
  {
   "cell_type": "code",
   "execution_count": null,
   "metadata": {},
   "outputs": [],
   "source": [
    "h(1,2)"
   ]
  },
  {
   "cell_type": "code",
   "execution_count": null,
   "metadata": {},
   "outputs": [],
   "source": [
    "h(1,2,3,4)"
   ]
  },
  {
   "cell_type": "markdown",
   "metadata": {},
   "source": [
    "**Arbitrary Numbers of Named/Keyword Arguments**\n",
    "\n",
    "We can allow for a function with an arbitary number of keyword arguments using double asterisks. The variable name is then interpreted by the function as a dictionary with the keyword=value pairs as key/value pairs."
   ]
  },
  {
   "cell_type": "code",
   "execution_count": 4,
   "metadata": {},
   "outputs": [],
   "source": [
    "def f(**x):\n",
    "    print(type(x))\n",
    "    print(len(x))\n",
    "    for k in x.keys():\n",
    "        print(\"key = \" + k + \"  value = \" + str(x[k]))"
   ]
  },
  {
   "cell_type": "code",
   "execution_count": 5,
   "metadata": {},
   "outputs": [
    {
     "name": "stdout",
     "output_type": "stream",
     "text": [
      "<class 'dict'>\n",
      "3\n",
      "key = a  value = dog\n",
      "key = b  value = cat\n",
      "key = c  value = 74\n"
     ]
    }
   ],
   "source": [
    "f(a=\"dog\",b=\"cat\",c=74)"
   ]
  },
  {
   "cell_type": "code",
   "execution_count": 6,
   "metadata": {},
   "outputs": [
    {
     "name": "stdout",
     "output_type": "stream",
     "text": [
      "<class 'dict'>\n",
      "0\n"
     ]
    }
   ],
   "source": [
    "f()"
   ]
  },
  {
   "cell_type": "code",
   "execution_count": 7,
   "metadata": {},
   "outputs": [
    {
     "name": "stdout",
     "output_type": "stream",
     "text": [
      "<class 'dict'>\n",
      "1\n",
      "key = u  value = 2\n"
     ]
    }
   ],
   "source": [
    "f(u=2)"
   ]
  },
  {
   "cell_type": "code",
   "execution_count": 8,
   "metadata": {},
   "outputs": [
    {
     "name": "stdout",
     "output_type": "stream",
     "text": [
      "<class 'dict'>\n",
      "1\n",
      "key = j  value = 7\n"
     ]
    }
   ],
   "source": [
    "f(j=7)"
   ]
  },
  {
   "cell_type": "markdown",
   "metadata": {},
   "source": [
    "**Combinations**\n",
    "\n",
    "Arbitrary numbers of positional values and named values can be obtained using the combination of these constructions."
   ]
  },
  {
   "cell_type": "code",
   "execution_count": null,
   "metadata": {},
   "outputs": [],
   "source": [
    "def g(*pargs,**kwargs):\n",
    "    # here pargs is a tuple kwargs is a dictionary\n",
    "    ctr=0\n",
    "    for p in pargs:\n",
    "        print(\"positional argument \" + str(ctr) + \" = \" + str(p))\n",
    "        ctr+=1\n",
    "    ctr=0\n",
    "    for k in kwargs.keys():\n",
    "        print(\"keyword argument = \" + str(ctr)+ \" key = \" + k + \"  value = \" + str(kwargs[k]))\n",
    "        ctr+=1\n",
    "    "
   ]
  },
  {
   "cell_type": "code",
   "execution_count": null,
   "metadata": {},
   "outputs": [],
   "source": [
    "g(6,7,4,a=56,b=92,c=\"joe\")"
   ]
  },
  {
   "cell_type": "code",
   "execution_count": null,
   "metadata": {},
   "outputs": [],
   "source": [
    "g(1,2,3)\n",
    "g(a=25,b=7)"
   ]
  },
  {
   "cell_type": "code",
   "execution_count": null,
   "metadata": {},
   "outputs": [],
   "source": [
    "g(a=56,b=92,c=\"joe\")"
   ]
  },
  {
   "cell_type": "markdown",
   "metadata": {},
   "source": [
    "**Finally, we can also have required arguments**"
   ]
  },
  {
   "cell_type": "code",
   "execution_count": null,
   "metadata": {},
   "outputs": [],
   "source": [
    "def y(r1, r2=0, *pargs,**kwargs):\n",
    "    print(\"required argument r1 = \"+str(r1))\n",
    "    print(\"required argument r2 = \"+str(r2))\n",
    "    ctr=0\n",
    "    for p in pargs:\n",
    "        print(\"positional argument \" + str(ctr) + \" = \" + str(p))\n",
    "        ctr+=1\n",
    "    ctr=0\n",
    "    for k in kwargs.keys():\n",
    "        print(\"keyword argument = \" + str(ctr)+ \" key = \" + k + \"  value = \" + str(kwargs[k]))\n",
    "        ctr+=1"
   ]
  },
  {
   "cell_type": "code",
   "execution_count": null,
   "metadata": {},
   "outputs": [],
   "source": [
    "y(r1=3,a=8,b=11)"
   ]
  },
  {
   "cell_type": "code",
   "execution_count": null,
   "metadata": {},
   "outputs": [],
   "source": [
    "y(1,2,5,6,7,a=1,b=2,c=4)"
   ]
  },
  {
   "cell_type": "code",
   "execution_count": null,
   "metadata": {},
   "outputs": [],
   "source": [
    "y(1,2,3)"
   ]
  },
  {
   "cell_type": "code",
   "execution_count": null,
   "metadata": {},
   "outputs": [],
   "source": [
    "y(1,2,3,x=8)"
   ]
  },
  {
   "cell_type": "markdown",
   "metadata": {},
   "source": [
    "**Unpacking into function arguments**\n",
    "\n",
    "There may be times when we have a function that takes multiple positional arguments and we want to take the elements of a tuple or list  as those arguments. \n",
    "\n",
    "We can precede a list or tuple appearing as an argument to unpack a list or tuple of arguments into its argument list."
   ]
  },
  {
   "cell_type": "code",
   "execution_count": null,
   "metadata": {},
   "outputs": [],
   "source": [
    "import cmath as c\n",
    "def quadratic_formula(A,B,C):\n",
    "    print(A,B,C)\n",
    "    d=B*B-4*A*C\n",
    "    rtd=c.sqrt(d)\n",
    "    root1=(-B-rtd)/(2*A)\n",
    "    root2=(-B+rtd)/(2*A)\n",
    "    return((root1,root2))"
   ]
  },
  {
   "cell_type": "code",
   "execution_count": null,
   "metadata": {},
   "outputs": [],
   "source": [
    "quadratic_formula(*[1,2,3])    "
   ]
  },
  {
   "cell_type": "code",
   "execution_count": null,
   "metadata": {},
   "outputs": [],
   "source": [
    "quadratic_formula(*(1,2,3))"
   ]
  },
  {
   "cell_type": "markdown",
   "metadata": {},
   "source": [
    "**Correct terminology**\n",
    "\n",
    "I tend to be sloppy about this but Python programmers make a distinction between the terms in \n",
    "\n",
    "> def f( ... )\n",
    "\n",
    "and the terms that appear when the function is invoked\n",
    "\n",
    "> y = f( ...)\n",
    "\n",
    "In the first case, the ... entries are referred to as parameters.\n",
    "\n",
    "In the second case, the ... entries are referred to as arguments."
   ]
  },
  {
   "cell_type": "code",
   "execution_count": null,
   "metadata": {},
   "outputs": [],
   "source": []
  }
 ],
 "metadata": {
  "kernelspec": {
   "display_name": "Python 3 (ipykernel)",
   "language": "python",
   "name": "python3"
  },
  "language_info": {
   "codemirror_mode": {
    "name": "ipython",
    "version": 3
   },
   "file_extension": ".py",
   "mimetype": "text/x-python",
   "name": "python",
   "nbconvert_exporter": "python",
   "pygments_lexer": "ipython3",
   "version": "3.9.11"
  }
 },
 "nbformat": 4,
 "nbformat_minor": 4
}
