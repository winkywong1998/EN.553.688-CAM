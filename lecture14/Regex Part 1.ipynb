{
 "cells": [
  {
   "cell_type": "markdown",
   "metadata": {},
   "source": [
    "**Regular Expressions Part 1**"
   ]
  },
  {
   "cell_type": "markdown",
   "metadata": {},
   "source": [
    "The regular expressions package is very useful for determining whether strings satisfy different matching criteria."
   ]
  },
  {
   "cell_type": "markdown",
   "metadata": {},
   "source": [
    "Lots of applications that allow for search include a regex engine. There is a chrome extension for regex's."
   ]
  },
  {
   "cell_type": "markdown",
   "metadata": {},
   "source": [
    "Introduction to Regular Expressions (regex's)"
   ]
  },
  {
   "cell_type": "markdown",
   "metadata": {},
   "source": [
    "**Some resources**\n",
    "\n",
    "There is a nice basic regular expressions tutorial here \n",
    "\n",
    "https://regexone.com/references/python (click on Interactive Tutorial)\n",
    "\n",
    "The Python 3 documentation:\n",
    "\n",
    "https://docs.python.org/3/library/re.html\n",
    "\n",
    "This is also a nice helpful tutorial:\n",
    "\n",
    "https://www.tutorialspoint.com/python3/python_reg_expressions.htm\n",
    "\n",
    "Some more links:\n",
    "\n",
    "https://docs.python.org/3.6/howto/regex.html\n",
    "\n",
    "https://www.rexegg.com/\n",
    "\n",
    "A cheat sheet:\n",
    "\n",
    "https://cheatography.com/davechild/cheat-sheets/regular-expressions/\n"
   ]
  },
  {
   "cell_type": "markdown",
   "metadata": {},
   "source": [
    "**Getting started**\n",
    "\n",
    "Regular expressions are typically used to determine whether a particular pattern can be found somewhere in a text string and return that location if it does.\n",
    "\n",
    "A regular expression consists of ordinary characters and special characters. The simplest form of regular expression consists of a single (non-special) character.\n",
    "\n",
    "We can combine regular expressions by concatenating them. Thus, if A is a regular expression and B is a regular expression, so is AB.\n",
    "\n",
    "For example, an ordinary character is a regular expression, so \"d\" is a regular expression. So is \"o\" and so is \"g\", so \"dog\" is a regular expression.\n",
    "\n",
    "Below is a simple example of regular expression search - looking for a pattern that is a substring of a given string. The result of re.search is a match object if a match is found, and otherwise the result is None.\n",
    "\n",
    "When we do find a match, we print out some additional information:\n",
    "\n",
    "- a message indicating that a match was found\n",
    "- the match object\n",
    "- the type of the match object\n",
    "- the span of the match object\n",
    "- the starting position of the match\n",
    "- the ending position of the match\n",
    "- the portion of text that matches\n",
    "\n",
    "Note that the *span* is a 2-tuple with the starting and ending positions of the match in the text string."
   ]
  },
  {
   "cell_type": "code",
   "execution_count": 1,
   "metadata": {},
   "outputs": [
    {
     "name": "stdout",
     "output_type": "stream",
     "text": [
      "found a match\n",
      "<class 're.Match'>\n",
      "<re.Match object; span=(11, 15), match='John'>\n",
      "(11, 15)\n",
      "11\n",
      "15\n",
      "John\n"
     ]
    }
   ],
   "source": [
    "import re\n",
    "\n",
    "text=\"My name is John. What is yours?\"\n",
    "\n",
    "pattern=\"John\" # regular expression - no special characters\n",
    "\n",
    "m=re.search(pattern,text)\n",
    "if m:\n",
    "    print(\"found a match\")\n",
    "    print(type(m))\n",
    "    print(m)\n",
    "    print(m.span())\n",
    "    print(m.start())\n",
    "    print(m.end())\n",
    "    print(text[m.start():m.end()])\n",
    "else:\n",
    "    print(\"no match\")"
   ]
  },
  {
   "cell_type": "markdown",
   "metadata": {},
   "source": [
    "**What is returned when there is no match**"
   ]
  },
  {
   "cell_type": "code",
   "execution_count": 2,
   "metadata": {},
   "outputs": [
    {
     "name": "stdout",
     "output_type": "stream",
     "text": [
      "None\n",
      "<class 'NoneType'>\n"
     ]
    }
   ],
   "source": [
    "text=\"My name is Joan. What is yours?\"\n",
    "pattern=\"John\" \n",
    "m=re.search(pattern,text)\n",
    "print(m)\n",
    "print(type(m))\n"
   ]
  },
  {
   "cell_type": "markdown",
   "metadata": {},
   "source": [
    "**A function**\n",
    "\n",
    "Let's introduce a function that gives information like we got above so we don't have to write so much code in each cell as we test searches."
   ]
  },
  {
   "cell_type": "code",
   "execution_count": 3,
   "metadata": {},
   "outputs": [
    {
     "name": "stdout",
     "output_type": "stream",
     "text": [
      "found a match\n",
      "(11, 15)\n",
      "John\n"
     ]
    }
   ],
   "source": [
    "def Search(pattern,text):\n",
    "    m=re.search(pattern,text)\n",
    "    if m:\n",
    "        print(\"found a match\")\n",
    "        print(m.span())\n",
    "        print(text[m.start():m.end()])\n",
    "    else:\n",
    "        print(\"no match\")\n",
    "\n",
    "text=\"My name is John. What is yours?\"\n",
    "pattern=\"John\" # regular expression - no special characters\n",
    "\n",
    "Search(pattern,text)"
   ]
  },
  {
   "cell_type": "markdown",
   "metadata": {},
   "source": [
    "**Which match is used**\n",
    "\n",
    "When we use the search method, the information we get back is about the first match."
   ]
  },
  {
   "cell_type": "code",
   "execution_count": 4,
   "metadata": {},
   "outputs": [
    {
     "name": "stdout",
     "output_type": "stream",
     "text": [
      "found a match\n",
      "(3, 6)\n",
      "345\n"
     ]
    }
   ],
   "source": [
    "text=\"01234567890123456789\"\n",
    "pattern=\"345\"\n",
    "Search(pattern,text)"
   ]
  },
  {
   "cell_type": "markdown",
   "metadata": {},
   "source": [
    "**Searching for special characters**\n",
    "\n",
    "We can also search for special characters like new line, carriage return, or tab."
   ]
  },
  {
   "cell_type": "code",
   "execution_count": 5,
   "metadata": {},
   "outputs": [
    {
     "name": "stdout",
     "output_type": "stream",
     "text": [
      "found a match\n",
      "(19, 20)\n",
      "\t\n"
     ]
    }
   ],
   "source": [
    "text=\"What is your name?\\n\\tMy name is John.\"\n",
    "pattern=\"\\t\"\n",
    "Search(pattern,text)"
   ]
  },
  {
   "cell_type": "markdown",
   "metadata": {},
   "source": [
    "**Special regular expression characters**\n",
    "\n",
    "There are special characters used to form more complex regular expressions that we can try to match. By default, the period (.) means any single character except newline \"\\n\". So \"d.g\" matches dog and dig, but not dg and not d\\ng."
   ]
  },
  {
   "cell_type": "code",
   "execution_count": 6,
   "metadata": {},
   "outputs": [
    {
     "name": "stdout",
     "output_type": "stream",
     "text": [
      "found a match\n",
      "(0, 3)\n",
      "dog\n"
     ]
    }
   ],
   "source": [
    "Search(\"d.g\",\"dog\")"
   ]
  },
  {
   "cell_type": "code",
   "execution_count": 7,
   "metadata": {},
   "outputs": [
    {
     "name": "stdout",
     "output_type": "stream",
     "text": [
      "found a match\n",
      "(0, 3)\n",
      "dig\n"
     ]
    }
   ],
   "source": [
    "Search(\"d.g\",\"dig\")"
   ]
  },
  {
   "cell_type": "code",
   "execution_count": 8,
   "metadata": {},
   "outputs": [
    {
     "name": "stdout",
     "output_type": "stream",
     "text": [
      "found a match\n",
      "(0, 3)\n",
      "d.g\n"
     ]
    }
   ],
   "source": [
    "Search(\"d.g\",\"d.g\")"
   ]
  },
  {
   "cell_type": "code",
   "execution_count": 9,
   "metadata": {},
   "outputs": [
    {
     "name": "stdout",
     "output_type": "stream",
     "text": [
      "found a match\n",
      "(0, 3)\n",
      "d0g\n"
     ]
    }
   ],
   "source": [
    "Search(\"d.g\",\"d0g\")"
   ]
  },
  {
   "cell_type": "code",
   "execution_count": 10,
   "metadata": {},
   "outputs": [
    {
     "name": "stdout",
     "output_type": "stream",
     "text": [
      "no match\n"
     ]
    }
   ],
   "source": [
    "Search(\"d.g\",\"d\\ng\")"
   ]
  },
  {
   "cell_type": "code",
   "execution_count": 11,
   "metadata": {},
   "outputs": [
    {
     "name": "stdout",
     "output_type": "stream",
     "text": [
      "no match\n"
     ]
    }
   ],
   "source": [
    "Search(\"d.g\",\"dg\")"
   ]
  },
  {
   "cell_type": "markdown",
   "metadata": {},
   "source": [
    "**The DOTALL flag**\n",
    "\n",
    "If we want \".\" to be interpreted as any single character, <u>including</u> the  newline character, we use the **DOTALL** *flag*. So in the following example, we do indeed get a match."
   ]
  },
  {
   "cell_type": "code",
   "execution_count": 12,
   "metadata": {},
   "outputs": [
    {
     "data": {
      "text/plain": [
       "<re.Match object; span=(0, 3), match='d\\ng'>"
      ]
     },
     "execution_count": 12,
     "metadata": {},
     "output_type": "execute_result"
    }
   ],
   "source": [
    "re.search(\"d.g\",\"d\\ng\",re.DOTALL)"
   ]
  },
  {
   "cell_type": "markdown",
   "metadata": {},
   "source": [
    "**Escaping**\n",
    "\n",
    "We ca escape the **.** using a backslash so that it is interpreted literally rather than being assigned the special meaning in re."
   ]
  },
  {
   "cell_type": "code",
   "execution_count": 13,
   "metadata": {},
   "outputs": [
    {
     "name": "stdout",
     "output_type": "stream",
     "text": [
      "no match\n",
      "found a match\n",
      "(0, 3)\n",
      "d.g\n"
     ]
    }
   ],
   "source": [
    "Search(\"d\\.g\",\"dog\")\n",
    "Search(\"d\\.g\",\"d.g\")"
   ]
  },
  {
   "cell_type": "markdown",
   "metadata": {},
   "source": [
    "**Matching**\n",
    "\n",
    "The **match** function is used to determine whether there is a match between a pattern and a substring starting at the beginning of a string."
   ]
  },
  {
   "cell_type": "code",
   "execution_count": 14,
   "metadata": {},
   "outputs": [
    {
     "name": "stdout",
     "output_type": "stream",
     "text": [
      "<re.Match object; span=(0, 3), match='dog'>\n",
      "<re.Match object; span=(0, 3), match='dog'>\n",
      "<re.Match object; span=(0, 3), match='dog'>\n",
      "None\n",
      "None\n",
      "<re.Match object; span=(0, 3), match='d\\ng'>\n"
     ]
    }
   ],
   "source": [
    "import re\n",
    "pattern=\"d.g\"\n",
    "print(re.match(pattern,\"dog\"))\n",
    "print(re.match(pattern,\"dog barked\"))\n",
    "print(re.match(pattern,\"dog barking\"))\n",
    "print(re.match(pattern,\"barking dog\"))\n",
    "print(re.match(pattern,\"d\\ng\"))\n",
    "print(re.match(pattern,\"d\\ng\",re.DOTALL))"
   ]
  },
  {
   "cell_type": "markdown",
   "metadata": {},
   "source": [
    "**Use of circumflex**\n",
    "\n",
    "We can also use ^ to in a **search** pattern to mean the portion of the string that matches must be an initial substring of the string."
   ]
  },
  {
   "cell_type": "code",
   "execution_count": 15,
   "metadata": {},
   "outputs": [
    {
     "name": "stdout",
     "output_type": "stream",
     "text": [
      "found a match\n",
      "(0, 3)\n",
      "dog\n"
     ]
    }
   ],
   "source": [
    "Search(\"^d.g\",\"dog\")"
   ]
  },
  {
   "cell_type": "code",
   "execution_count": 16,
   "metadata": {},
   "outputs": [
    {
     "name": "stdout",
     "output_type": "stream",
     "text": [
      "found a match\n",
      "(0, 3)\n",
      "d3g\n"
     ]
    }
   ],
   "source": [
    "Search(\"^d.g\",\"d3g\")"
   ]
  },
  {
   "cell_type": "code",
   "execution_count": 17,
   "metadata": {},
   "outputs": [
    {
     "name": "stdout",
     "output_type": "stream",
     "text": [
      "found a match\n",
      "(0, 3)\n",
      "d g\n"
     ]
    }
   ],
   "source": [
    "Search(\"^d.g\",\"d g\")"
   ]
  },
  {
   "cell_type": "code",
   "execution_count": 18,
   "metadata": {},
   "outputs": [
    {
     "name": "stdout",
     "output_type": "stream",
     "text": [
      "found a match\n",
      "(0, 3)\n",
      "dog\n"
     ]
    }
   ],
   "source": [
    "Search(\"^d.g\",\"dog barked\")"
   ]
  },
  {
   "cell_type": "code",
   "execution_count": 19,
   "metadata": {},
   "outputs": [
    {
     "name": "stdout",
     "output_type": "stream",
     "text": [
      "no match\n"
     ]
    }
   ],
   "source": [
    "Search(\"^d.g\",\"barking dog\")"
   ]
  },
  {
   "cell_type": "code",
   "execution_count": 20,
   "metadata": {},
   "outputs": [
    {
     "name": "stdout",
     "output_type": "stream",
     "text": [
      "no match\n"
     ]
    }
   ],
   "source": [
    "Search(\"^d.g\",\"d\\ng\")"
   ]
  },
  {
   "cell_type": "markdown",
   "metadata": {},
   "source": [
    "**Searching differs from matching**\n",
    "\n",
    "- Searching means determining whether there is a (contiguous) substring in *any* position in a string that matches. \n",
    "- Matching means determining whether a match occurs between the pattern and an initial portion of the string."
   ]
  },
  {
   "cell_type": "markdown",
   "metadata": {},
   "source": [
    "**Use of dollar sign**\n",
    "\n",
    "The **$** in a pattern refers to the end of the string, or just before the new line at the end of the string."
   ]
  },
  {
   "cell_type": "code",
   "execution_count": 21,
   "metadata": {},
   "outputs": [
    {
     "name": "stdout",
     "output_type": "stream",
     "text": [
      "found a match\n",
      "(0, 4)\n",
      "Jo8n\n"
     ]
    }
   ],
   "source": [
    "Search(\"Jo.n$\",\"Jo8n\")"
   ]
  },
  {
   "cell_type": "code",
   "execution_count": 22,
   "metadata": {},
   "outputs": [
    {
     "name": "stdout",
     "output_type": "stream",
     "text": [
      "found a match\n",
      "(17, 21)\n",
      "John\n"
     ]
    }
   ],
   "source": [
    "Search(\"Jo.n$\",\"has anybody seen John\")"
   ]
  },
  {
   "cell_type": "code",
   "execution_count": 23,
   "metadata": {},
   "outputs": [
    {
     "name": "stdout",
     "output_type": "stream",
     "text": [
      "found a match\n",
      "(14, 18)\n",
      "John\n"
     ]
    }
   ],
   "source": [
    "Search(\"Jo.n$\",\"are you there John\\n\")"
   ]
  },
  {
   "cell_type": "code",
   "execution_count": 24,
   "metadata": {},
   "outputs": [
    {
     "name": "stdout",
     "output_type": "stream",
     "text": [
      "no match\n"
     ]
    }
   ],
   "source": [
    "Search(\"Jo.n$\",\"are you there John?\")"
   ]
  },
  {
   "cell_type": "code",
   "execution_count": 25,
   "metadata": {},
   "outputs": [
    {
     "name": "stdout",
     "output_type": "stream",
     "text": [
      "no match\n"
     ]
    }
   ],
   "source": [
    "Search(\"Jo.n$\",\"hey John, I was looking for you!\")"
   ]
  },
  {
   "cell_type": "markdown",
   "metadata": {},
   "source": [
    "**Quantifiers**\n",
    "\n",
    "**Asterisk**\n",
    "\n",
    "The **\\*** refers to zero or more copies of the the preceding regular expression. In the following example, the o doesn't match the first character, but we still get a match because * allows for zero or more occurences of an o."
   ]
  },
  {
   "cell_type": "code",
   "execution_count": 26,
   "metadata": {},
   "outputs": [
    {
     "name": "stdout",
     "output_type": "stream",
     "text": [
      "found a match\n",
      "(0, 0)\n",
      "\n"
     ]
    }
   ],
   "source": [
    "Search(\"o*\",\"This is a test\")"
   ]
  },
  {
   "cell_type": "code",
   "execution_count": 27,
   "metadata": {},
   "outputs": [
    {
     "name": "stdout",
     "output_type": "stream",
     "text": [
      "found a match\n",
      "(0, 0)\n",
      "\n"
     ]
    }
   ],
   "source": [
    "Search(\"o*\",\"\")"
   ]
  },
  {
   "cell_type": "code",
   "execution_count": 28,
   "metadata": {},
   "outputs": [
    {
     "name": "stdout",
     "output_type": "stream",
     "text": [
      "found a match\n",
      "(0, 1)\n",
      "o\n"
     ]
    }
   ],
   "source": [
    "Search(\"o*\",\"o\")"
   ]
  },
  {
   "cell_type": "code",
   "execution_count": 29,
   "metadata": {},
   "outputs": [
    {
     "name": "stdout",
     "output_type": "stream",
     "text": [
      "found a match\n",
      "(0, 3)\n",
      "ooo\n"
     ]
    }
   ],
   "source": [
    "Search(\"o*\",\"ooo This is a test\")"
   ]
  },
  {
   "cell_type": "code",
   "execution_count": 30,
   "metadata": {},
   "outputs": [
    {
     "name": "stdout",
     "output_type": "stream",
     "text": [
      "found a match\n",
      "(0, 23)\n",
      "ooooooooooooooooooooooo\n"
     ]
    }
   ],
   "source": [
    "Search(\"o*\",\"ooooooooooooooooooooooo\")"
   ]
  },
  {
   "cell_type": "code",
   "execution_count": 31,
   "metadata": {},
   "outputs": [
    {
     "name": "stdout",
     "output_type": "stream",
     "text": [
      "found a match\n",
      "(0, 2)\n",
      "xx\n"
     ]
    }
   ],
   "source": [
    "Search(\"xo*x\",\"xx\")"
   ]
  },
  {
   "cell_type": "code",
   "execution_count": 32,
   "metadata": {},
   "outputs": [
    {
     "name": "stdout",
     "output_type": "stream",
     "text": [
      "found a match\n",
      "(0, 11)\n",
      "xooooooooox\n"
     ]
    }
   ],
   "source": [
    "Search(\"xo*x\",\"xooooooooox\")"
   ]
  },
  {
   "cell_type": "markdown",
   "metadata": {},
   "source": [
    "**Greediness**\n",
    "\n",
    "Regex finds the position where a match first occurs starting from that position.\n",
    "\n",
    "It is greedy in that once it finds a pattern that matches starting at **some position**, it will try to find the largest match starting from **that position**."
   ]
  },
  {
   "cell_type": "code",
   "execution_count": 33,
   "metadata": {},
   "outputs": [
    {
     "name": "stdout",
     "output_type": "stream",
     "text": [
      "found a match\n",
      "(0, 1)\n",
      "G\n"
     ]
    }
   ],
   "source": [
    "Search(\"Go*\",\"G things happen to Goood people\")"
   ]
  },
  {
   "cell_type": "code",
   "execution_count": 34,
   "metadata": {},
   "outputs": [
    {
     "name": "stdout",
     "output_type": "stream",
     "text": [
      "found a match\n",
      "(0, 2)\n",
      "Go\n"
     ]
    }
   ],
   "source": [
    "Search(\"Go*\",\"Go things happen to goood people\")"
   ]
  },
  {
   "cell_type": "code",
   "execution_count": 35,
   "metadata": {},
   "outputs": [
    {
     "name": "stdout",
     "output_type": "stream",
     "text": [
      "found a match\n",
      "(0, 3)\n",
      "Goo\n"
     ]
    }
   ],
   "source": [
    "Search(\"Go*\",\"Good things happen to goood people\")"
   ]
  },
  {
   "cell_type": "code",
   "execution_count": 36,
   "metadata": {},
   "outputs": [
    {
     "name": "stdout",
     "output_type": "stream",
     "text": [
      "found a match\n",
      "(0, 1)\n",
      "G\n"
     ]
    }
   ],
   "source": [
    "Search(\"Go*\",\"G-men are bad people non G-men are good people\")"
   ]
  },
  {
   "cell_type": "markdown",
   "metadata": {},
   "source": [
    "**Preceding regular expression**\n",
    "\n",
    "Quantifiers are said to quantify what ever regular expression precedes it.\n",
    "\n",
    "By default, the preceding regular expression refers to the smallest unit.\n",
    "\n",
    "In the following example, the **\\*** quantifies only the b and not the combination ab."
   ]
  },
  {
   "cell_type": "code",
   "execution_count": 37,
   "metadata": {},
   "outputs": [
    {
     "name": "stdout",
     "output_type": "stream",
     "text": [
      "found a match\n",
      "(0, 2)\n",
      "ab\n"
     ]
    }
   ],
   "source": [
    "Search(\"ab*\",\"abababab\")"
   ]
  },
  {
   "cell_type": "code",
   "execution_count": 38,
   "metadata": {},
   "outputs": [
    {
     "name": "stdout",
     "output_type": "stream",
     "text": [
      "found a match\n",
      "(0, 5)\n",
      "abbbb\n"
     ]
    }
   ],
   "source": [
    "Search(\"ab*\",\"abbbb\")"
   ]
  },
  {
   "cell_type": "code",
   "execution_count": 39,
   "metadata": {},
   "outputs": [
    {
     "name": "stdout",
     "output_type": "stream",
     "text": [
      "found a match\n",
      "(0, 1)\n",
      "a\n"
     ]
    }
   ],
   "source": [
    "Search(\"ab*\",\"a\")"
   ]
  },
  {
   "cell_type": "markdown",
   "metadata": {},
   "source": [
    "**Grouping**\n",
    "\n",
    "If we want the asterisk to refer to a more complex regular expression, we can use parentheses for the purpose of grouping components of patterns."
   ]
  },
  {
   "cell_type": "code",
   "execution_count": 40,
   "metadata": {},
   "outputs": [
    {
     "name": "stdout",
     "output_type": "stream",
     "text": [
      "found a match\n",
      "(0, 2)\n",
      "ab\n"
     ]
    }
   ],
   "source": [
    "Search(\"ab*\",\"abababab\")"
   ]
  },
  {
   "cell_type": "code",
   "execution_count": 41,
   "metadata": {},
   "outputs": [
    {
     "name": "stdout",
     "output_type": "stream",
     "text": [
      "found a match\n",
      "(0, 8)\n",
      "abababab\n"
     ]
    }
   ],
   "source": [
    "Search(\"(ab)*\",\"abababab\")"
   ]
  },
  {
   "cell_type": "code",
   "execution_count": 42,
   "metadata": {},
   "outputs": [
    {
     "name": "stdout",
     "output_type": "stream",
     "text": [
      "found a match\n",
      "(0, 0)\n",
      "\n"
     ]
    }
   ],
   "source": [
    "Search(\"(ab)*\",\"\")"
   ]
  },
  {
   "cell_type": "markdown",
   "metadata": {},
   "source": [
    "**Complex groupings**\n",
    "\n",
    "We can have more complex groupings. \n",
    "\n",
    "For example, in the following, we can search for repeated occurences of a repeated occurences of ab followed by a c"
   ]
  },
  {
   "cell_type": "code",
   "execution_count": 43,
   "metadata": {},
   "outputs": [
    {
     "name": "stdout",
     "output_type": "stream",
     "text": [
      "found a match\n",
      "(0, 15)\n",
      "ababcabababcabc\n"
     ]
    }
   ],
   "source": [
    "import re\n",
    "Search(\"((ab)*c)*\",\"ababcabababcabc\")"
   ]
  },
  {
   "cell_type": "markdown",
   "metadata": {},
   "source": [
    "**Combinations**\n",
    "\n",
    "We can combine special characters. In the following, the .* means zero or more occurences of any character (except \\n).\n",
    "\n",
    "The character repeated need not be the same."
   ]
  },
  {
   "cell_type": "code",
   "execution_count": 44,
   "metadata": {},
   "outputs": [
    {
     "name": "stdout",
     "output_type": "stream",
     "text": [
      "found a match\n",
      "(14, 25)\n",
      "doing well.\n"
     ]
    }
   ],
   "source": [
    "Search(\"do.*\",\"I see you are doing well.\")"
   ]
  },
  {
   "cell_type": "code",
   "execution_count": 45,
   "metadata": {},
   "outputs": [
    {
     "name": "stdout",
     "output_type": "stream",
     "text": [
      "found a match\n",
      "(5, 37)\n",
      "dog looks fine, but how are you?\n"
     ]
    }
   ],
   "source": [
    "Search(\"do.*\",\"your dog looks fine, but how are you?\")"
   ]
  },
  {
   "cell_type": "code",
   "execution_count": 46,
   "metadata": {},
   "outputs": [
    {
     "name": "stdout",
     "output_type": "stream",
     "text": [
      "found a match\n",
      "(5, 21)\n",
      "dog looks fine, \n"
     ]
    }
   ],
   "source": [
    "Search(\"do.*\",\"your dog looks fine, \\n but how are you?\")"
   ]
  },
  {
   "cell_type": "markdown",
   "metadata": {},
   "source": [
    "**The plus symbol**\n",
    "\n",
    "The + symbol means match 1 or more repetitions of the preceding expression."
   ]
  },
  {
   "cell_type": "code",
   "execution_count": 47,
   "metadata": {},
   "outputs": [
    {
     "name": "stdout",
     "output_type": "stream",
     "text": [
      "found a match\n",
      "(5, 9)\n",
      "pupp\n"
     ]
    }
   ],
   "source": [
    "Search(\"pup+\",\"here puppy\")"
   ]
  },
  {
   "cell_type": "code",
   "execution_count": 48,
   "metadata": {},
   "outputs": [
    {
     "name": "stdout",
     "output_type": "stream",
     "text": [
      "found a match\n",
      "(5, 8)\n",
      "pup\n"
     ]
    }
   ],
   "source": [
    "Search(\"pup+\",\"here pup\")"
   ]
  },
  {
   "cell_type": "code",
   "execution_count": 49,
   "metadata": {},
   "outputs": [
    {
     "name": "stdout",
     "output_type": "stream",
     "text": [
      "no match\n"
     ]
    }
   ],
   "source": [
    "Search(\"pup+\",\"here pu\")"
   ]
  },
  {
   "cell_type": "markdown",
   "metadata": {},
   "source": [
    "**Question mark**\n",
    "\n",
    "The ? character means match **exactly** 0 or 1 repetitions of the previous regular expression. In the following, the ? refers to the preceding group of characters  \"xo\"."
   ]
  },
  {
   "cell_type": "code",
   "execution_count": 50,
   "metadata": {},
   "outputs": [
    {
     "name": "stdout",
     "output_type": "stream",
     "text": [
      "found a match\n",
      "(0, 2)\n",
      "xo\n"
     ]
    }
   ],
   "source": [
    "Search(\"(xo)?\",\"xo\")"
   ]
  },
  {
   "cell_type": "code",
   "execution_count": 51,
   "metadata": {},
   "outputs": [
    {
     "name": "stdout",
     "output_type": "stream",
     "text": [
      "found a match\n",
      "(0, 2)\n",
      "xo\n"
     ]
    }
   ],
   "source": [
    "Search(\"(xo)?\",\"xoxo\")"
   ]
  },
  {
   "cell_type": "code",
   "execution_count": 52,
   "metadata": {},
   "outputs": [
    {
     "name": "stdout",
     "output_type": "stream",
     "text": [
      "found a match\n",
      "(0, 0)\n",
      "\n"
     ]
    }
   ],
   "source": [
    "Search(\"(xo)?\",\"\")"
   ]
  },
  {
   "cell_type": "code",
   "execution_count": 53,
   "metadata": {},
   "outputs": [
    {
     "name": "stdout",
     "output_type": "stream",
     "text": [
      "found a match\n",
      "(0, 0)\n",
      "\n"
     ]
    }
   ],
   "source": [
    "Search(\"(xo)?\",\"abc\")"
   ]
  },
  {
   "cell_type": "markdown",
   "metadata": {},
   "source": [
    "**Ensuring Non-Greedy Search**\n",
    "\n",
    "To ensure that matching is done in a non-greedy fashion, we can use +? to mean match exactly one occurence of the preceding regular expression.\n",
    "\n",
    "This is because \"+\" means one or more occurence and \"?\" means zero or one."
   ]
  },
  {
   "cell_type": "code",
   "execution_count": 54,
   "metadata": {},
   "outputs": [
    {
     "name": "stdout",
     "output_type": "stream",
     "text": [
      "found a match\n",
      "(8, 10)\n",
      "co\n"
     ]
    }
   ],
   "source": [
    "pattern=\"(co)+?\"\n",
    "Search(\"(co)+?\",\"Can you come to my house?\")"
   ]
  },
  {
   "cell_type": "code",
   "execution_count": 55,
   "metadata": {},
   "outputs": [
    {
     "name": "stdout",
     "output_type": "stream",
     "text": [
      "found a match\n",
      "(13, 17)\n",
      "coco\n"
     ]
    }
   ],
   "source": [
    "Search(\"(co)+\",\"Do you drink cocoa?\")"
   ]
  },
  {
   "cell_type": "code",
   "execution_count": 56,
   "metadata": {},
   "outputs": [
    {
     "name": "stdout",
     "output_type": "stream",
     "text": [
      "found a match\n",
      "(13, 15)\n",
      "co\n"
     ]
    }
   ],
   "source": [
    "Search(\"(co)+?\",\"Do you drink cocoa?\")"
   ]
  },
  {
   "cell_type": "markdown",
   "metadata": {},
   "source": [
    "**Non-greedy \\***\n",
    "\n",
    "The *? is the non-greedy version of * "
   ]
  },
  {
   "cell_type": "code",
   "execution_count": 57,
   "metadata": {},
   "outputs": [
    {
     "name": "stdout",
     "output_type": "stream",
     "text": [
      "found a match\n",
      "(0, 0)\n",
      "\n"
     ]
    }
   ],
   "source": [
    "Search(\"o*?\",\"Zm\")"
   ]
  },
  {
   "cell_type": "code",
   "execution_count": 58,
   "metadata": {},
   "outputs": [
    {
     "name": "stdout",
     "output_type": "stream",
     "text": [
      "found a match\n",
      "(0, 0)\n",
      "\n"
     ]
    }
   ],
   "source": [
    "Search(\"o*?\",\"Zom\")"
   ]
  },
  {
   "cell_type": "code",
   "execution_count": 59,
   "metadata": {},
   "outputs": [
    {
     "name": "stdout",
     "output_type": "stream",
     "text": [
      "found a match\n",
      "(0, 0)\n",
      "\n"
     ]
    }
   ],
   "source": [
    "Search(\"o*\",\"Zoom\")"
   ]
  },
  {
   "cell_type": "markdown",
   "metadata": {},
   "source": [
    "**A better example**\n",
    "\n",
    "Suppose we want to search for patterns starting with \"A\" and having any characters until seeing a \"g\". If we use as a pattern:\n",
    "\n",
    "**\"A.\\*g\"**\n",
    "    \n",
    "we will keep looking for other \"g\"'s after the first one. But maybe we want to stop when we've seen a single \"g\" after the \"A\". In this case we could use\n",
    "\n",
    "**\"A.\\*?g\"**\n"
   ]
  },
  {
   "cell_type": "code",
   "execution_count": 60,
   "metadata": {},
   "outputs": [
    {
     "name": "stdout",
     "output_type": "stream",
     "text": [
      "found a match\n",
      "(0, 54)\n",
      "All people have some goodness, but it is hard to see g\n"
     ]
    }
   ],
   "source": [
    "Search(\"A.*g\",\"All people have some goodness, but it is hard to see goodness in some.\")"
   ]
  },
  {
   "cell_type": "code",
   "execution_count": 61,
   "metadata": {},
   "outputs": [
    {
     "name": "stdout",
     "output_type": "stream",
     "text": [
      "found a match\n",
      "(0, 22)\n",
      "All people have some g\n"
     ]
    }
   ],
   "source": [
    "Search(\"A.*?g\",\"All people have some goodness, but it is hard to see goodness in some.\")"
   ]
  },
  {
   "cell_type": "markdown",
   "metadata": {},
   "source": [
    "**Double question marks**\n",
    "\n",
    "Without other quantifiers, a single question mark makes the preceding regular expression optional. "
   ]
  },
  {
   "cell_type": "code",
   "execution_count": 62,
   "metadata": {},
   "outputs": [
    {
     "name": "stdout",
     "output_type": "stream",
     "text": [
      "found a match\n",
      "(13, 39)\n",
      "any dogs or cats, did you?\n"
     ]
    }
   ],
   "source": [
    "Search(\"any (dogs)?.*\",\"I didn't see any dogs or cats, did you?\")"
   ]
  },
  {
   "cell_type": "code",
   "execution_count": 63,
   "metadata": {},
   "outputs": [
    {
     "name": "stdout",
     "output_type": "stream",
     "text": [
      "found a match\n",
      "(13, 31)\n",
      "any cats, did you?\n"
     ]
    }
   ],
   "source": [
    "Search(\"any (dogs)?.*\",\"I didn't see any cats, did you?\")"
   ]
  },
  {
   "cell_type": "markdown",
   "metadata": {},
   "source": [
    "**Inclusion precedence**\n",
    "\n",
    "When using **?**, preference is given to including an optional expression over not including it.\n",
    "\n",
    "In the following example inclusion wins out."
   ]
  },
  {
   "cell_type": "code",
   "execution_count": 64,
   "metadata": {},
   "outputs": [
    {
     "name": "stdout",
     "output_type": "stream",
     "text": [
      "found a match\n",
      "(0, 3)\n",
      "abc\n"
     ]
    }
   ],
   "source": [
    "Search(\"ab?c\", \"abc\")"
   ]
  },
  {
   "cell_type": "markdown",
   "metadata": {},
   "source": [
    "**Double question marks**\n",
    "\n",
    "When we use **??** the effect is to not include the optional expression unless it is **needed** to get a match.\n",
    "\n",
    "In other words, non-inclusion is given higher precedence than inclusion.\n",
    "\n",
    "This is demonstrated in the following example."
   ]
  },
  {
   "cell_type": "code",
   "execution_count": 65,
   "metadata": {},
   "outputs": [
    {
     "name": "stdout",
     "output_type": "stream",
     "text": [
      "found a match\n",
      "(0, 2)\n",
      "ab\n"
     ]
    }
   ],
   "source": [
    "Search(\"ab??b\",\"abb\")"
   ]
  },
  {
   "cell_type": "markdown",
   "metadata": {},
   "source": [
    "**Another example contrasting ? and ??**"
   ]
  },
  {
   "cell_type": "code",
   "execution_count": 66,
   "metadata": {},
   "outputs": [
    {
     "name": "stdout",
     "output_type": "stream",
     "text": [
      "found a match\n",
      "(0, 2)\n",
      "ab\n",
      "found a match\n",
      "(0, 1)\n",
      "a\n"
     ]
    }
   ],
   "source": [
    "Search(\"ab?\",\"ab\")\n",
    "Search(\"ab??\",\"ab\")"
   ]
  },
  {
   "cell_type": "markdown",
   "metadata": {},
   "source": [
    "**Braces**\n",
    "\n",
    "Braces provide another way to do quantification.\n",
    "\n",
    "We use {m} to match the previous regular expression exactly m times."
   ]
  },
  {
   "cell_type": "code",
   "execution_count": 67,
   "metadata": {
    "tags": []
   },
   "outputs": [
    {
     "name": "stdout",
     "output_type": "stream",
     "text": [
      "found a match\n",
      "(21, 25)\n",
      "xoxo\n"
     ]
    }
   ],
   "source": [
    "Search(\"(xo){2}\",\"xo i really love you xoxo\")"
   ]
  },
  {
   "cell_type": "code",
   "execution_count": 68,
   "metadata": {
    "tags": []
   },
   "outputs": [
    {
     "name": "stdout",
     "output_type": "stream",
     "text": [
      "found a match\n",
      "(21, 25)\n",
      "xoxo\n"
     ]
    }
   ],
   "source": [
    "Search(\"(xo){2}\",\"xo i really love you xoxoxox\")"
   ]
  },
  {
   "cell_type": "markdown",
   "metadata": {
    "tags": []
   },
   "source": [
    "**Enforcing exactly 1 match**\n",
    "\n",
    "We saw before that **+?** enforces exactly one match.\n",
    "\n",
    "So **+?** and **{1}** are the same quantifiers"
   ]
  },
  {
   "cell_type": "markdown",
   "metadata": {},
   "source": [
    "**Ranges**\n",
    "\n",
    "We can specify a range for the number of appearances using {m,n}. \n",
    "\n",
    "We also write \n",
    "\n",
    "- {,n} to refer to at most n occurences, and \n",
    "- {m,} to mean at least m occurences."
   ]
  },
  {
   "cell_type": "code",
   "execution_count": 69,
   "metadata": {},
   "outputs": [
    {
     "name": "stdout",
     "output_type": "stream",
     "text": [
      "found a match\n",
      "(21, 25)\n",
      "xoxo\n"
     ]
    }
   ],
   "source": [
    "Search(\"(xo){2,}\",\"xo i really love you xoxo\")"
   ]
  },
  {
   "cell_type": "code",
   "execution_count": 70,
   "metadata": {},
   "outputs": [
    {
     "name": "stdout",
     "output_type": "stream",
     "text": [
      "found a match\n",
      "(21, 35)\n",
      "xoxoxoxoxoxoxo\n"
     ]
    }
   ],
   "source": [
    "Search(\"(xo){2,}\",\"xo i really love you xoxoxoxoxoxoxo\")"
   ]
  },
  {
   "cell_type": "code",
   "execution_count": 71,
   "metadata": {},
   "outputs": [
    {
     "name": "stdout",
     "output_type": "stream",
     "text": [
      "no match\n"
     ]
    }
   ],
   "source": [
    "Search(\"(xo){1}.{11}(xo){2}\",\"xo i really love you xoxoxoxoxoxo\")"
   ]
  },
  {
   "cell_type": "code",
   "execution_count": 72,
   "metadata": {},
   "outputs": [
    {
     "name": "stdout",
     "output_type": "stream",
     "text": [
      "found a match\n",
      "(0, 25)\n",
      "xo i really love you xoxo\n"
     ]
    }
   ],
   "source": [
    "Search(\"(xo){1}.{19}(xo){2}\",\"xo i really love you xoxoxoxoxoxo\")"
   ]
  },
  {
   "cell_type": "code",
   "execution_count": 73,
   "metadata": {},
   "outputs": [
    {
     "name": "stdout",
     "output_type": "stream",
     "text": [
      "found a match\n",
      "(0, 27)\n",
      "xo i really love you xoxoxo\n"
     ]
    }
   ],
   "source": [
    "Search(\"(xo){1}.{21}(xo){2}\",\"xo i really love you xoxoxoxoxoxo\")"
   ]
  },
  {
   "cell_type": "code",
   "execution_count": 74,
   "metadata": {},
   "outputs": [
    {
     "name": "stdout",
     "output_type": "stream",
     "text": [
      "no match\n"
     ]
    }
   ],
   "source": [
    "Search(\"(xo){1}.{22}(xo){2}\",\"xo i really love you xoxoxoxoxoxo\")"
   ]
  },
  {
   "cell_type": "code",
   "execution_count": 75,
   "metadata": {},
   "outputs": [
    {
     "name": "stdout",
     "output_type": "stream",
     "text": [
      "found a match\n",
      "(0, 2)\n",
      "xo\n"
     ]
    }
   ],
   "source": [
    "Search(\"(xo){,3}\",\"xo i really love you xoxoxox\")"
   ]
  },
  {
   "cell_type": "code",
   "execution_count": 76,
   "metadata": {},
   "outputs": [
    {
     "name": "stdout",
     "output_type": "stream",
     "text": [
      "found a match\n",
      "(21, 31)\n",
      "xoxoxoxoxo\n"
     ]
    }
   ],
   "source": [
    "Search(\"(xo){4,5}\",\"xo i really love you xoxoxoxoxoxo\")"
   ]
  },
  {
   "cell_type": "code",
   "execution_count": 77,
   "metadata": {},
   "outputs": [
    {
     "name": "stdout",
     "output_type": "stream",
     "text": [
      "found a match\n",
      "(21, 31)\n",
      "xoxoxoxoxo\n"
     ]
    }
   ],
   "source": [
    "Search(\"(xo){4,5}\",\"xo i really love you xoxoxoxoxo\")"
   ]
  },
  {
   "cell_type": "markdown",
   "metadata": {},
   "source": [
    "**Preventing greediness**\n",
    "\n",
    "Again, the ? character allows us to create non-greedy versions of the {} patterns."
   ]
  },
  {
   "cell_type": "code",
   "execution_count": 78,
   "metadata": {},
   "outputs": [
    {
     "name": "stdout",
     "output_type": "stream",
     "text": [
      "found a match\n",
      "(21, 25)\n",
      "xoxo\n",
      "found a match\n",
      "(21, 25)\n",
      "xoxo\n"
     ]
    }
   ],
   "source": [
    "Search(\"(xo){2,}?\",\"xo i really love you xoxo\")\n",
    "\n",
    "Search(\"(xo){2,}?\",\"xo i really love you xoxoxoxo\")"
   ]
  }
 ],
 "metadata": {
  "kernelspec": {
   "display_name": "Python 3 (ipykernel)",
   "language": "python",
   "name": "python3"
  },
  "language_info": {
   "codemirror_mode": {
    "name": "ipython",
    "version": 3
   },
   "file_extension": ".py",
   "mimetype": "text/x-python",
   "name": "python",
   "nbconvert_exporter": "python",
   "pygments_lexer": "ipython3",
   "version": "3.9.7"
  }
 },
 "nbformat": 4,
 "nbformat_minor": 4
}
