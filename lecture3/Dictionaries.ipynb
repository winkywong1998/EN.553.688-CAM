{
 "cells": [
  {
   "cell_type": "markdown",
   "metadata": {},
   "source": [
    "**Dictionaries (Maps)**\n",
    "\n",
    "Another data structure of fundamental importance is that of a dictionary.\n",
    "\n",
    "Here, we associate labels called *keys* with objects, referred to as *values* - a *dictionary* is a collection of key/value pairs.\n",
    "\n",
    "Here is an example. There is a group of people, each of whom owns a car. \n",
    "\n",
    "In the following we create a dictionary called **car**.\n",
    "\n",
    "    - keys are names of individuals\n",
    "    - values are car models"
   ]
  },
  {
   "cell_type": "code",
   "execution_count": 1,
   "metadata": {},
   "outputs": [],
   "source": [
    "car={'George':'Corolla','Karla':'Mustang','Jim':'Accord'}"
   ]
  },
  {
   "cell_type": "code",
   "execution_count": 2,
   "metadata": {},
   "outputs": [
    {
     "name": "stdout",
     "output_type": "stream",
     "text": [
      "{'George': 'Corolla', 'Karla': 'Mustang', 'Jim': 'Accord'}\n"
     ]
    }
   ],
   "source": [
    "print(car)"
   ]
  },
  {
   "cell_type": "code",
   "execution_count": 3,
   "metadata": {},
   "outputs": [
    {
     "name": "stdout",
     "output_type": "stream",
     "text": [
      "<class 'dict'>\n"
     ]
    }
   ],
   "source": [
    "print(type(car))"
   ]
  },
  {
   "cell_type": "markdown",
   "metadata": {},
   "source": [
    "We can extract a value associated with a key using square brackets."
   ]
  },
  {
   "cell_type": "code",
   "execution_count": 4,
   "metadata": {},
   "outputs": [
    {
     "name": "stdout",
     "output_type": "stream",
     "text": [
      "Corolla\n",
      "Mustang\n",
      "Accord\n"
     ]
    }
   ],
   "source": [
    "print(car['George'])\n",
    "print(car['Karla'])\n",
    "print(car['Jim'])"
   ]
  },
  {
   "cell_type": "markdown",
   "metadata": {},
   "source": [
    "We can add a new key/value pair."
   ]
  },
  {
   "cell_type": "code",
   "execution_count": 5,
   "metadata": {},
   "outputs": [
    {
     "name": "stdout",
     "output_type": "stream",
     "text": [
      "{'George': 'Corolla', 'Karla': 'Mustang', 'Jim': 'Accord', 'Harriet': 'Vega'}\n"
     ]
    }
   ],
   "source": [
    "car[\"Harriet\"]='Vega'\n",
    "print(car)"
   ]
  },
  {
   "cell_type": "code",
   "execution_count": null,
   "metadata": {},
   "outputs": [],
   "source": [
    "And we can assign a new value to an existing key."
   ]
  },
  {
   "cell_type": "code",
   "execution_count": 6,
   "metadata": {},
   "outputs": [],
   "source": [
    "car[\"Harriet\"]='Camry'"
   ]
  },
  {
   "cell_type": "code",
   "execution_count": 7,
   "metadata": {},
   "outputs": [
    {
     "name": "stdout",
     "output_type": "stream",
     "text": [
      "{'George': 'Corolla', 'Karla': 'Mustang', 'Jim': 'Accord', 'Harriet': 'Camry'}\n"
     ]
    }
   ],
   "source": [
    "print(car)"
   ]
  },
  {
   "cell_type": "markdown",
   "metadata": {},
   "source": [
    "We can start with an empty dictionary and add items."
   ]
  },
  {
   "cell_type": "code",
   "execution_count": 8,
   "metadata": {},
   "outputs": [
    {
     "name": "stdout",
     "output_type": "stream",
     "text": [
      "{}\n",
      "{'Joe': 'Outback'}\n"
     ]
    }
   ],
   "source": [
    "car={}\n",
    "print(car)\n",
    "car[\"Joe\"]=\"Outback\"\n",
    "print(car)"
   ]
  },
  {
   "cell_type": "markdown",
   "metadata": {},
   "source": [
    "We can determine how many key/value pairs there are in a dictionary using len.\n",
    "\n",
    "Again, len is an overloaded function. \n",
    "It can be used to find\n",
    "- number characters there are in a string\n",
    "- number of items in a list\n",
    "- number of key/value pairs in a dictionary"
   ]
  },
  {
   "cell_type": "code",
   "execution_count": 9,
   "metadata": {},
   "outputs": [
    {
     "data": {
      "text/plain": [
       "3"
      ]
     },
     "execution_count": 9,
     "metadata": {},
     "output_type": "execute_result"
    }
   ],
   "source": [
    "car={'George':'Corolla','Karla':'Mustang','Jim':'Accord'}\n",
    "len(car)"
   ]
  },
  {
   "cell_type": "code",
   "execution_count": 11,
   "metadata": {},
   "outputs": [],
   "source": [
    "car={'George':'Corolla','Karla':'Mustang','Jim':'Accord','George':'Accord'}"
   ]
  },
  {
   "cell_type": "code",
   "execution_count": 12,
   "metadata": {},
   "outputs": [
    {
     "name": "stdout",
     "output_type": "stream",
     "text": [
      "{'George': 'Accord', 'Karla': 'Mustang', 'Jim': 'Accord'}\n"
     ]
    }
   ],
   "source": [
    "print(car)"
   ]
  },
  {
   "cell_type": "markdown",
   "metadata": {},
   "source": [
    "**What types are allowed as keys**\n",
    "\n",
    "We can use strings as keys. We can also use ints or floats.\n",
    "\n",
    "Dictionaries use hash functions applied to their keys to store their values. Discussion of hash functions is for another time, but suffice it to say\n",
    "\n",
    "- hashing makes dictionaries very fast for searching for items by key\n",
    "- keys must have a hashable type (a type for which hash(key) is defined\n",
    "    - ints are hashable\n",
    "    - strings are hashable\n",
    "    - floats are hashable\n",
    "    - lists are not hashable"
   ]
  },
  {
   "cell_type": "code",
   "execution_count": 13,
   "metadata": {},
   "outputs": [
    {
     "name": "stdout",
     "output_type": "stream",
     "text": [
      "{'George': 'Accord', 'Karla': 'Mustang', 'Jim': 'Accord', 1: 'Beetle', 5.3: 'Wrangler'}\n"
     ]
    }
   ],
   "source": [
    "car[1]=\"Beetle\"\n",
    "car[5.3]=\"Wrangler\"\n",
    "print(car)"
   ]
  },
  {
   "cell_type": "code",
   "execution_count": 14,
   "metadata": {},
   "outputs": [
    {
     "ename": "TypeError",
     "evalue": "unhashable type: 'list'",
     "output_type": "error",
     "traceback": [
      "\u001b[1;31m---------------------------------------------------------------------------\u001b[0m",
      "\u001b[1;31mTypeError\u001b[0m                                 Traceback (most recent call last)",
      "\u001b[1;32m<ipython-input-14-53c98668e02f>\u001b[0m in \u001b[0;36m<module>\u001b[1;34m\u001b[0m\n\u001b[0;32m      1\u001b[0m \u001b[0mL\u001b[0m\u001b[1;33m=\u001b[0m\u001b[1;33m[\u001b[0m\u001b[1;36m1\u001b[0m\u001b[1;33m,\u001b[0m\u001b[1;36m2\u001b[0m\u001b[1;33m,\u001b[0m\u001b[1;36m3\u001b[0m\u001b[1;33m]\u001b[0m\u001b[1;33m\u001b[0m\u001b[1;33m\u001b[0m\u001b[0m\n\u001b[1;32m----> 2\u001b[1;33m \u001b[0mcar\u001b[0m\u001b[1;33m[\u001b[0m\u001b[0mL\u001b[0m\u001b[1;33m]\u001b[0m\u001b[1;33m=\u001b[0m\u001b[1;34m\"m\"\u001b[0m\u001b[1;33m\u001b[0m\u001b[1;33m\u001b[0m\u001b[0m\n\u001b[0m",
      "\u001b[1;31mTypeError\u001b[0m: unhashable type: 'list'"
     ]
    }
   ],
   "source": [
    "L=[1,2,3]\n",
    "car[L]=\"m\""
   ]
  },
  {
   "cell_type": "markdown",
   "metadata": {},
   "source": [
    "**Dictionary methods**\n",
    "\n",
    "**keys** creates an object that is something like a list of keys\n",
    "\n",
    "**values** creates an object that is something like a list of values"
   ]
  },
  {
   "cell_type": "code",
   "execution_count": 15,
   "metadata": {},
   "outputs": [
    {
     "name": "stdout",
     "output_type": "stream",
     "text": [
      "dict_values(['Corolla', 'Mustang', 'Accord'])\n"
     ]
    }
   ],
   "source": [
    "car={'George':'Corolla','Karla':'Mustang','Jim':'Accord'} # Literal on the right\n",
    "v=car.values()\n",
    "print(v)"
   ]
  },
  {
   "cell_type": "code",
   "execution_count": 16,
   "metadata": {},
   "outputs": [
    {
     "ename": "TypeError",
     "evalue": "'dict_values' object is not subscriptable",
     "output_type": "error",
     "traceback": [
      "\u001b[1;31m---------------------------------------------------------------------------\u001b[0m",
      "\u001b[1;31mTypeError\u001b[0m                                 Traceback (most recent call last)",
      "\u001b[1;32m<ipython-input-16-dd012508c4a3>\u001b[0m in \u001b[0;36m<module>\u001b[1;34m\u001b[0m\n\u001b[1;32m----> 1\u001b[1;33m \u001b[0mv\u001b[0m\u001b[1;33m[\u001b[0m\u001b[1;36m0\u001b[0m\u001b[1;33m]\u001b[0m\u001b[1;33m\u001b[0m\u001b[1;33m\u001b[0m\u001b[0m\n\u001b[0m",
      "\u001b[1;31mTypeError\u001b[0m: 'dict_values' object is not subscriptable"
     ]
    }
   ],
   "source": [
    "v[0]"
   ]
  },
  {
   "cell_type": "markdown",
   "metadata": {},
   "source": [
    "So we don't really get a list but we get something that is *iterable* so we can do things like this:"
   ]
  },
  {
   "cell_type": "code",
   "execution_count": 17,
   "metadata": {},
   "outputs": [
    {
     "name": "stdout",
     "output_type": "stream",
     "text": [
      "Corolla\n",
      "Mustang\n",
      "Accord\n"
     ]
    }
   ],
   "source": [
    "for x in v:\n",
    "    print(x)"
   ]
  },
  {
   "cell_type": "markdown",
   "metadata": {},
   "source": [
    "And we can create a list of values using the following."
   ]
  },
  {
   "cell_type": "code",
   "execution_count": 18,
   "metadata": {},
   "outputs": [
    {
     "name": "stdout",
     "output_type": "stream",
     "text": [
      "['Corolla', 'Mustang', 'Accord']\n"
     ]
    }
   ],
   "source": [
    "L=list(v)\n",
    "print(L)"
   ]
  },
  {
   "cell_type": "markdown",
   "metadata": {},
   "source": [
    "Similarly, for keys we have"
   ]
  },
  {
   "cell_type": "code",
   "execution_count": 19,
   "metadata": {},
   "outputs": [
    {
     "name": "stdout",
     "output_type": "stream",
     "text": [
      "George\n",
      "Karla\n",
      "Jim\n"
     ]
    }
   ],
   "source": [
    "k=car.keys()\n",
    "for x in k:\n",
    "    print(x)"
   ]
  },
  {
   "cell_type": "markdown",
   "metadata": {},
   "source": [
    "and"
   ]
  },
  {
   "cell_type": "code",
   "execution_count": 20,
   "metadata": {},
   "outputs": [
    {
     "name": "stdout",
     "output_type": "stream",
     "text": [
      "['George', 'Karla', 'Jim']\n"
     ]
    }
   ],
   "source": [
    "L=list(car.keys())\n",
    "print(L)"
   ]
  },
  {
   "cell_type": "markdown",
   "metadata": {},
   "source": [
    "**pop**\n",
    "\n",
    "We can use pop to remove the key/value pair with some particular key and return the associated value."
   ]
  },
  {
   "cell_type": "code",
   "execution_count": 21,
   "metadata": {},
   "outputs": [
    {
     "name": "stdout",
     "output_type": "stream",
     "text": [
      "{'Karla': 'Mustang', 'Jim': 'Accord'}\n",
      "Corolla\n"
     ]
    }
   ],
   "source": [
    "car={'George':'Corolla','Karla':'Mustang','Jim':'Accord'} \n",
    "v=car.pop(\"George\")\n",
    "print(car)\n",
    "print(v)"
   ]
  },
  {
   "cell_type": "markdown",
   "metadata": {},
   "source": [
    "Or not make use of the return value, just do the removal."
   ]
  },
  {
   "cell_type": "code",
   "execution_count": 22,
   "metadata": {},
   "outputs": [
    {
     "name": "stdout",
     "output_type": "stream",
     "text": [
      "{'Karla': 'Mustang', 'Jim': 'Accord'}\n"
     ]
    }
   ],
   "source": [
    "car={'George':'Corolla','Karla':'Mustang','Jim':'Accord'} \n",
    "car.pop(\"George\")\n",
    "print(car)"
   ]
  },
  {
   "cell_type": "markdown",
   "metadata": {},
   "source": [
    "**popitem**\n",
    "\n",
    "The popitem method allows for removal and return of the key/value pair to a dictionary.\n",
    "\n",
    "The return is a 2-tuple (more on tuples later)."
   ]
  },
  {
   "cell_type": "code",
   "execution_count": 23,
   "metadata": {},
   "outputs": [
    {
     "name": "stdout",
     "output_type": "stream",
     "text": [
      "{'George': 'Corolla', 'Karla': 'Mustang'}\n",
      "{'George': 'Corolla'}\n",
      "('Karla', 'Mustang')\n",
      "<class 'tuple'>\n"
     ]
    }
   ],
   "source": [
    "car={}\n",
    "car['George']='Corolla'\n",
    "car['Karla']='Mustang'\n",
    "print(car)\n",
    "v=car.popitem()\n",
    "print(car)\n",
    "print(v)\n",
    "print(type(v))"
   ]
  },
  {
   "cell_type": "code",
   "execution_count": null,
   "metadata": {},
   "outputs": [],
   "source": []
  }
 ],
 "metadata": {
  "kernelspec": {
   "display_name": "Python 3 (ipykernel)",
   "language": "python",
   "name": "python3"
  },
  "language_info": {
   "codemirror_mode": {
    "name": "ipython",
    "version": 3
   },
   "file_extension": ".py",
   "mimetype": "text/x-python",
   "name": "python",
   "nbconvert_exporter": "python",
   "pygments_lexer": "ipython3",
   "version": "3.9.12"
  }
 },
 "nbformat": 4,
 "nbformat_minor": 4
}
