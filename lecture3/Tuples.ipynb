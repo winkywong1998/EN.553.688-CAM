{
 "cells": [
  {
   "cell_type": "markdown",
   "id": "9d271703-d3cd-4ec8-ae0a-65e1dde6a2e3",
   "metadata": {},
   "source": [
    "**Tuples**\n",
    "\n",
    "In Python, a tuple is like a list. It can be used to hold any number of objects.\n",
    "\n",
    "Here, we create some Python objects (including a couple of Boolean values) and store them in a tuple."
   ]
  },
  {
   "cell_type": "code",
   "execution_count": 1,
   "id": "a6b4e9bc-40cb-4e7e-b423-f3fd79f34d3a",
   "metadata": {},
   "outputs": [
    {
     "name": "stdout",
     "output_type": "stream",
     "text": [
      "([1, 2, 3], 'mystring', 98.6, True, False, {'Bob': 'Mustang', 'Judy': 'Beetle'})\n"
     ]
    }
   ],
   "source": [
    "L=[1,2,3]\n",
    "car={\"Bob\":\"Mustang\",\"Judy\":\"Beetle\"}\n",
    "s=\"mystring\"\n",
    "f=98.6\n",
    "b1=True\n",
    "b2=False\n",
    "\n",
    "t=(L,s,f,b1,b2,car)\n",
    "print(t)"
   ]
  },
  {
   "cell_type": "code",
   "execution_count": 2,
   "id": "1ed97c9a-2e0d-4267-9d7e-4d527a42beb5",
   "metadata": {},
   "outputs": [
    {
     "name": "stdout",
     "output_type": "stream",
     "text": [
      "[1, 2, 3]\n",
      "mystring\n",
      "('mystring', 98.6)\n",
      "False\n",
      "(98.6, True)\n"
     ]
    }
   ],
   "source": [
    "print(t[0])\n",
    "print(t[1])\n",
    "print(t[1:3])\n",
    "print(t[-2])\n",
    "print(t[-4:-2])"
   ]
  },
  {
   "cell_type": "markdown",
   "id": "347cd93f-95a4-4ecc-b63f-bbe8c7884115",
   "metadata": {},
   "source": [
    "**Immutability of tuples**\n",
    "\n",
    "Unlike lists, tuples can't be mutated?"
   ]
  },
  {
   "cell_type": "code",
   "execution_count": 3,
   "id": "eb931237-7ba5-4acb-b4d5-58dd88a8215e",
   "metadata": {},
   "outputs": [
    {
     "ename": "TypeError",
     "evalue": "'tuple' object does not support item assignment",
     "output_type": "error",
     "traceback": [
      "\u001b[1;31m---------------------------------------------------------------------------\u001b[0m",
      "\u001b[1;31mTypeError\u001b[0m                                 Traceback (most recent call last)",
      "\u001b[1;32m<ipython-input-3-5b12ff040b5d>\u001b[0m in \u001b[0;36m<module>\u001b[1;34m\u001b[0m\n\u001b[1;32m----> 1\u001b[1;33m \u001b[0mt\u001b[0m\u001b[1;33m[\u001b[0m\u001b[1;36m1\u001b[0m\u001b[1;33m]\u001b[0m\u001b[1;33m=\u001b[0m\u001b[1;36m87.2\u001b[0m\u001b[1;33m\u001b[0m\u001b[1;33m\u001b[0m\u001b[0m\n\u001b[0m",
      "\u001b[1;31mTypeError\u001b[0m: 'tuple' object does not support item assignment"
     ]
    }
   ],
   "source": [
    "t[1]=87.2"
   ]
  },
  {
   "cell_type": "markdown",
   "id": "e32af692-5c83-4bd1-a0be-70e9e62eaadd",
   "metadata": {},
   "source": [
    "**Constructing a tuple**\n",
    "\n",
    "For an an alternative construction of a tuple we can leave out the parentheses and do the following."
   ]
  },
  {
   "cell_type": "code",
   "execution_count": 4,
   "id": "9ec340e1-2c09-4629-86d6-6282123faadd",
   "metadata": {},
   "outputs": [
    {
     "name": "stdout",
     "output_type": "stream",
     "text": [
      "(5, [1, 2, 3], {'Bob': 'Mustang', 'Judy': 'Beetle'})\n",
      "<class 'tuple'>\n"
     ]
    }
   ],
   "source": [
    "t=5,L,car\n",
    "print(t)\n",
    "print(type(t))"
   ]
  },
  {
   "cell_type": "markdown",
   "id": "661c076f-e7d4-4e31-9b7a-a728c47912a8",
   "metadata": {},
   "source": [
    "**Assignments**\n",
    "\n",
    "If we put a comma separated list of variable names on the left side of an assignment, the intrepeter does matches up items."
   ]
  },
  {
   "cell_type": "code",
   "execution_count": 5,
   "id": "420be602-8d75-4a24-9de2-0d696aa50378",
   "metadata": {},
   "outputs": [
    {
     "name": "stdout",
     "output_type": "stream",
     "text": [
      "3\n",
      "4\n"
     ]
    }
   ],
   "source": [
    "t=(3,4)\n",
    "a,b=t   # assign values to a and b?\n",
    "print(a)\n",
    "print(b)"
   ]
  },
  {
   "cell_type": "markdown",
   "id": "d214eab9-c85e-4465-9e64-dcace42f7a6d",
   "metadata": {},
   "source": [
    "But make sure the same number of items appear in both sides of the assignment."
   ]
  },
  {
   "cell_type": "code",
   "execution_count": 6,
   "id": "4de205b0-c5ea-4d4f-83f8-9e5f67ee65ce",
   "metadata": {},
   "outputs": [
    {
     "ename": "ValueError",
     "evalue": "too many values to unpack (expected 2)",
     "output_type": "error",
     "traceback": [
      "\u001b[1;31m---------------------------------------------------------------------------\u001b[0m",
      "\u001b[1;31mValueError\u001b[0m                                Traceback (most recent call last)",
      "\u001b[1;32m<ipython-input-6-f11e772fa0be>\u001b[0m in \u001b[0;36m<module>\u001b[1;34m\u001b[0m\n\u001b[0;32m      1\u001b[0m \u001b[0mt\u001b[0m\u001b[1;33m=\u001b[0m\u001b[1;33m(\u001b[0m\u001b[1;36m3\u001b[0m\u001b[1;33m,\u001b[0m\u001b[1;36m4\u001b[0m\u001b[1;33m,\u001b[0m\u001b[1;36m5\u001b[0m\u001b[1;33m)\u001b[0m\u001b[1;33m\u001b[0m\u001b[1;33m\u001b[0m\u001b[0m\n\u001b[1;32m----> 2\u001b[1;33m \u001b[0ma\u001b[0m\u001b[1;33m,\u001b[0m\u001b[0mb\u001b[0m\u001b[1;33m=\u001b[0m\u001b[0mt\u001b[0m\u001b[1;33m\u001b[0m\u001b[1;33m\u001b[0m\u001b[0m\n\u001b[0m",
      "\u001b[1;31mValueError\u001b[0m: too many values to unpack (expected 2)"
     ]
    }
   ],
   "source": [
    "t=(3,4,5)\n",
    "a,b=t"
   ]
  },
  {
   "cell_type": "markdown",
   "id": "a64cd990-dc6a-40ae-9b68-cf90e4301d7a",
   "metadata": {},
   "source": [
    "**Multiple assignments in one line**\n",
    "\n",
    "We can assign values to multiple variables in one line like in this example."
   ]
  },
  {
   "cell_type": "code",
   "execution_count": 7,
   "id": "6e0cb00b-1da2-41c1-9e98-53bc0b273b1c",
   "metadata": {},
   "outputs": [
    {
     "name": "stdout",
     "output_type": "stream",
     "text": [
      "5\n",
      "7\n"
     ]
    }
   ],
   "source": [
    "x,y=5,7\n",
    "print(x)\n",
    "print(y)"
   ]
  },
  {
   "cell_type": "markdown",
   "id": "a0ecc53a-56b5-4b6a-8fc0-d3a013ad8c8f",
   "metadata": {},
   "source": [
    "**Swapping values**\n",
    "\n",
    "We can swap values of two variables in one line."
   ]
  },
  {
   "cell_type": "code",
   "execution_count": 8,
   "id": "63077c41-a6df-4e76-b7ed-cc6b3e2fd4d2",
   "metadata": {},
   "outputs": [
    {
     "name": "stdout",
     "output_type": "stream",
     "text": [
      "5 7\n",
      "7 5\n"
     ]
    }
   ],
   "source": [
    "x=5\n",
    "y=7\n",
    "print(x,y)\n",
    "x,y=y,x\n",
    "print(x,y)"
   ]
  },
  {
   "cell_type": "markdown",
   "id": "993d275d-4526-47b2-8646-b1c42ac78edf",
   "metadata": {},
   "source": [
    "**The Fibonacci sequence**\n",
    "\n",
    "Can you explain what is happening in this example?"
   ]
  },
  {
   "cell_type": "code",
   "execution_count": 9,
   "id": "ebb193a9-e90c-47e3-ae9b-b28886f15b24",
   "metadata": {},
   "outputs": [
    {
     "name": "stdout",
     "output_type": "stream",
     "text": [
      "1 1\n",
      "1 2\n",
      "2 3\n",
      "3 5\n",
      "5 8\n"
     ]
    }
   ],
   "source": [
    "x=1\n",
    "y=1\n",
    "print(x,y)\n",
    "x,y=y,x+y\n",
    "print(x,y)\n",
    "x,y=y,x+y\n",
    "print(x,y)\n",
    "x,y=y,x+y\n",
    "print(x,y)\n",
    "x,y=y,x+y\n",
    "print(x,y)"
   ]
  },
  {
   "cell_type": "markdown",
   "id": "6c93dd6f-5c19-41d3-8f98-63634641e911",
   "metadata": {},
   "source": [
    "**Lists and tuples are iterable**\n",
    "\n",
    "We mentioned iterability for dictionaries.\n",
    "Lists and tuples are also iterable.\n",
    "\n",
    "We can *iterate* over the values and do something for each value. The syntax for this is:\n",
    "\n",
    "    for x in iterable object:\n",
    "        do something with x\n",
    "\n",
    "(here, do something can mean print it out for example).\n",
    "\n",
    "Note that the colon appears at the end of the for statement. In Python the colon tells us that the following indented block of code is to be carried out with x taking on each value in the iterable object."
   ]
  },
  {
   "cell_type": "code",
   "execution_count": 10,
   "id": "bb7b8ad9-f612-4e37-a9cb-61d4297c1972",
   "metadata": {},
   "outputs": [
    {
     "name": "stdout",
     "output_type": "stream",
     "text": [
      "[1, 2, 3]\n",
      "mystring\n",
      "98.6\n",
      "True\n",
      "False\n",
      "{'Bob': 'Mustang', 'Judy': 'Beetle'}\n"
     ]
    }
   ],
   "source": [
    "L=[1,2,3]\n",
    "car={\"Bob\":\"Mustang\",\"Judy\":\"Beetle\"}\n",
    "s=\"mystring\"\n",
    "f=98.6\n",
    "b1=True\n",
    "b2=False\n",
    "\n",
    "t=(L,s,f,b1,b2,car)\n",
    "for x in t:\n",
    "    print(x)"
   ]
  },
  {
   "cell_type": "markdown",
   "id": "e865a42d-b57e-42b2-9ae5-6143f939ba89",
   "metadata": {},
   "source": [
    "In the following we make a list out of t, and iterate over it's values printing out the type of each of its members."
   ]
  },
  {
   "cell_type": "code",
   "execution_count": 11,
   "id": "2c2a4388-bec3-4da3-8c5e-d6b644dffbfa",
   "metadata": {},
   "outputs": [
    {
     "name": "stdout",
     "output_type": "stream",
     "text": [
      "[[1, 2, 3], 'mystring', 98.6, True, False, {'Bob': 'Mustang', 'Judy': 'Beetle'}]\n",
      "<class 'list'>\n",
      "<class 'str'>\n",
      "<class 'float'>\n",
      "<class 'bool'>\n",
      "<class 'bool'>\n",
      "<class 'dict'>\n"
     ]
    }
   ],
   "source": [
    "L=list(t)\n",
    "print(L)\n",
    "for x in L:\n",
    "    print(type(x))"
   ]
  },
  {
   "cell_type": "markdown",
   "id": "d0248c76-55ec-4efc-949a-b8e81e2600ea",
   "metadata": {},
   "source": [
    "**Creating an empty tuple**\n",
    "\n",
    "We saw that we could create an empty dictionary using "
   ]
  },
  {
   "cell_type": "code",
   "execution_count": 12,
   "id": "53b52f06-ff26-4b57-9260-5711b05b4dfc",
   "metadata": {},
   "outputs": [
    {
     "name": "stdout",
     "output_type": "stream",
     "text": [
      "{}\n"
     ]
    }
   ],
   "source": [
    "d={}\n",
    "print(d)"
   ]
  },
  {
   "cell_type": "markdown",
   "id": "9f8d6d03-5fc7-4053-a7c1-c3e849cddbbf",
   "metadata": {},
   "source": [
    "and by the way, this also works"
   ]
  },
  {
   "cell_type": "code",
   "execution_count": 13,
   "id": "333fe123-af83-4ab5-8f41-d01b8ae5b6ef",
   "metadata": {},
   "outputs": [
    {
     "name": "stdout",
     "output_type": "stream",
     "text": [
      "{}\n"
     ]
    }
   ],
   "source": [
    "d=dict()\n",
    "print(d)"
   ]
  },
  {
   "cell_type": "markdown",
   "id": "efaaaee9-40ed-4b37-b45b-f891f1cfabc2",
   "metadata": {},
   "source": [
    "We can also create an empty list (and presumably append stuff to it later) using:"
   ]
  },
  {
   "cell_type": "code",
   "execution_count": 14,
   "id": "2fd67e34-3f1d-4bc7-8bb9-62aea24136d0",
   "metadata": {},
   "outputs": [
    {
     "name": "stdout",
     "output_type": "stream",
     "text": [
      "[]\n",
      "[]\n"
     ]
    }
   ],
   "source": [
    "L=[]\n",
    "print(L)\n",
    "L=list()\n",
    "print(L)"
   ]
  },
  {
   "cell_type": "markdown",
   "id": "9bbcf697-822e-4cf1-9e2e-8bccec8a1605",
   "metadata": {},
   "source": [
    "We can also create an empty tuple in two ways."
   ]
  },
  {
   "cell_type": "code",
   "execution_count": 15,
   "id": "7171ed12-174f-428c-8886-f31d40fe763e",
   "metadata": {},
   "outputs": [
    {
     "name": "stdout",
     "output_type": "stream",
     "text": [
      "<class 'tuple'>\n",
      "0\n"
     ]
    }
   ],
   "source": [
    "t=()\n",
    "print(type(t))\n",
    "print(len(t))"
   ]
  },
  {
   "cell_type": "code",
   "execution_count": 16,
   "id": "51db1500-a64f-4f2c-b479-1aea210f6a60",
   "metadata": {},
   "outputs": [
    {
     "name": "stdout",
     "output_type": "stream",
     "text": [
      "<class 'tuple'>\n",
      "0\n"
     ]
    }
   ],
   "source": [
    "t=tuple()\n",
    "print(type(t))\n",
    "print(len(t))"
   ]
  },
  {
   "cell_type": "markdown",
   "id": "99106f86-be70-4ee2-826a-c7609d3ece45",
   "metadata": {},
   "source": [
    "**What about 1-tuples?**\n",
    "\n",
    "What do you suppose will happen here?"
   ]
  },
  {
   "cell_type": "code",
   "execution_count": 17,
   "id": "ce417ca7-e58f-43a6-960c-2ca88ed208be",
   "metadata": {},
   "outputs": [
    {
     "name": "stdout",
     "output_type": "stream",
     "text": [
      "3\n",
      "<class 'int'>\n"
     ]
    }
   ],
   "source": [
    "t=(3)\n",
    "print(t)\n",
    "print(type(t))"
   ]
  },
  {
   "cell_type": "code",
   "execution_count": 20,
   "id": "de673325-90bd-4e81-8784-ce9f4149b7d2",
   "metadata": {},
   "outputs": [
    {
     "data": {
      "text/plain": [
       "3"
      ]
     },
     "execution_count": 20,
     "metadata": {},
     "output_type": "execute_result"
    }
   ],
   "source": [
    "(3)"
   ]
  },
  {
   "cell_type": "markdown",
   "id": "f3c35580-5789-45f6-82a0-a4fb1bc03e6d",
   "metadata": {},
   "source": [
    "Why do we get an int?"
   ]
  },
  {
   "cell_type": "markdown",
   "id": "23807339-390a-40e1-929e-afb2e617c7da",
   "metadata": {},
   "source": [
    "This also fails to produce a tuple:"
   ]
  },
  {
   "cell_type": "code",
   "execution_count": 1,
   "id": "4ed889cf-2a7f-46c1-9ddb-89df55d12eb5",
   "metadata": {},
   "outputs": [
    {
     "data": {
      "text/plain": [
       "str"
      ]
     },
     "execution_count": 1,
     "metadata": {},
     "output_type": "execute_result"
    }
   ],
   "source": [
    "t=(\"giraffe\")\n",
    "type(t)"
   ]
  },
  {
   "cell_type": "code",
   "execution_count": null,
   "id": "e795cf19-bad0-4616-9cfd-d1322eaa8bdc",
   "metadata": {},
   "outputs": [],
   "source": [
    "Alternatively, we can do this."
   ]
  },
  {
   "cell_type": "code",
   "execution_count": 22,
   "id": "503b2b47-fe55-4764-8308-9feac6ad0917",
   "metadata": {},
   "outputs": [
    {
     "name": "stdout",
     "output_type": "stream",
     "text": [
      "(3,)\n",
      "<class 'tuple'>\n",
      "1\n"
     ]
    }
   ],
   "source": [
    "t=(3,)\n",
    "print(t)\n",
    "print(type(t))\n",
    "print(len(t))"
   ]
  },
  {
   "cell_type": "markdown",
   "id": "9bb25876-3374-4de9-a6b3-dfb888644c0a",
   "metadata": {},
   "source": [
    "or this, create a list first, then construct a tuple from that."
   ]
  },
  {
   "cell_type": "code",
   "execution_count": 23,
   "id": "b6b83b03-fc41-4e0c-a8f4-3aaf393741ec",
   "metadata": {},
   "outputs": [
    {
     "name": "stdout",
     "output_type": "stream",
     "text": [
      "(3,)\n",
      "<class 'tuple'>\n"
     ]
    }
   ],
   "source": [
    "t=tuple([3])\n",
    "print(t)\n",
    "print(type(t))"
   ]
  },
  {
   "cell_type": "markdown",
   "id": "4305e820-3ffb-4fd5-915b-f9ea63440334",
   "metadata": {},
   "source": [
    "As you might expect, we can create tuples of any size this way."
   ]
  },
  {
   "cell_type": "code",
   "execution_count": null,
   "id": "338e9485-2e7e-456c-97ab-631d099a51c6",
   "metadata": {},
   "outputs": [],
   "source": []
  }
 ],
 "metadata": {
  "kernelspec": {
   "display_name": "Python 3 (ipykernel)",
   "language": "python",
   "name": "python3"
  },
  "language_info": {
   "codemirror_mode": {
    "name": "ipython",
    "version": 3
   },
   "file_extension": ".py",
   "mimetype": "text/x-python",
   "name": "python",
   "nbconvert_exporter": "python",
   "pygments_lexer": "ipython3",
   "version": "3.9.11"
  }
 },
 "nbformat": 4,
 "nbformat_minor": 5
}
