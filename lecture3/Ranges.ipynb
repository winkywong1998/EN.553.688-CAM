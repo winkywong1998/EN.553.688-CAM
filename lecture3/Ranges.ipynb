{
 "cells": [
  {
   "cell_type": "markdown",
   "id": "16679bfa-0a8f-42f6-8352-df90d7568239",
   "metadata": {},
   "source": [
    "**Ranges**\n",
    "\n",
    "**The range function**\n",
    "\n",
    "In Python, the range function is used to produce an iterable that starts at some integer and keeps producing integers in equal steps until a stop value is reached.\n",
    "\n",
    "For the sequence of values 0,1,...,n-1 we use range(n), where n is a positive integer."
   ]
  },
  {
   "cell_type": "code",
   "execution_count": 1,
   "id": "f9ff9f93-d257-4b7b-8a15-caeeacb9a0e1",
   "metadata": {},
   "outputs": [
    {
     "name": "stdout",
     "output_type": "stream",
     "text": [
      "0\n",
      "1\n",
      "2\n",
      "3\n",
      "4\n"
     ]
    }
   ],
   "source": [
    "for x in range(5):\n",
    "    print(x)"
   ]
  },
  {
   "cell_type": "markdown",
   "id": "adcbc532-9d57-414e-8f06-ea514fd9d094",
   "metadata": {},
   "source": [
    "We can use len to determine the number of values in a range."
   ]
  },
  {
   "cell_type": "code",
   "execution_count": 2,
   "id": "c9347003-8d21-4966-bea2-f7c2ca0eaf1a",
   "metadata": {},
   "outputs": [
    {
     "data": {
      "text/plain": [
       "10"
      ]
     },
     "execution_count": 2,
     "metadata": {},
     "output_type": "execute_result"
    }
   ],
   "source": [
    "len(range(10))"
   ]
  },
  {
   "cell_type": "markdown",
   "id": "88354f0a-531f-4f12-ac09-594f64b9e258",
   "metadata": {},
   "source": [
    "Non-positive integers lead to empty ranges."
   ]
  },
  {
   "cell_type": "code",
   "execution_count": 3,
   "id": "61080e8e-5e4d-42d6-9acc-e65b464c7115",
   "metadata": {},
   "outputs": [
    {
     "name": "stdout",
     "output_type": "stream",
     "text": [
      "0\n",
      "0\n"
     ]
    }
   ],
   "source": [
    "print(len(range(0)))\n",
    "print(len(range(-3)))"
   ]
  },
  {
   "cell_type": "markdown",
   "id": "eb54818e-45d2-44ca-9afa-190a54c5f65b",
   "metadata": {},
   "source": [
    "**Start/Stop values**\n",
    "\n",
    "For alternative starting values, we can give the range function two arguments, a starting value and a stopping value.\n",
    "\n",
    "Note that the stopping value is not included."
   ]
  },
  {
   "cell_type": "code",
   "execution_count": 4,
   "id": "72c5b8be-e738-4919-8ab7-a861ef340e7a",
   "metadata": {},
   "outputs": [
    {
     "name": "stdout",
     "output_type": "stream",
     "text": [
      "1\n",
      "2\n",
      "3\n",
      "4\n"
     ]
    }
   ],
   "source": [
    "for i in range(1,5):\n",
    "    print(i)"
   ]
  },
  {
   "cell_type": "code",
   "execution_count": 5,
   "id": "662e9cdd-bd33-4aea-a9fe-75cbb6d279c3",
   "metadata": {},
   "outputs": [
    {
     "data": {
      "text/plain": [
       "0"
      ]
     },
     "execution_count": 5,
     "metadata": {},
     "output_type": "execute_result"
    }
   ],
   "source": [
    "len(range(1,1))"
   ]
  },
  {
   "cell_type": "code",
   "execution_count": 7,
   "id": "dbd0d43a-5952-48dc-a1ff-2f7f426f3112",
   "metadata": {},
   "outputs": [
    {
     "data": {
      "text/plain": [
       "0"
      ]
     },
     "execution_count": 7,
     "metadata": {},
     "output_type": "execute_result"
    }
   ],
   "source": [
    "len(range(1,-4))"
   ]
  },
  {
   "cell_type": "code",
   "execution_count": 9,
   "id": "3c131eb8-93ff-41f1-9a5f-14db69db40b6",
   "metadata": {},
   "outputs": [
    {
     "name": "stdout",
     "output_type": "stream",
     "text": [
      "-5\n",
      "-4\n",
      "-3\n",
      "-2\n"
     ]
    }
   ],
   "source": [
    "for i in range(-5,-1):\n",
    "    print(i)"
   ]
  },
  {
   "cell_type": "markdown",
   "id": "17fbddb3-fbfe-4834-991a-1a46b993c611",
   "metadata": {},
   "source": [
    "**Step value**"
   ]
  },
  {
   "cell_type": "markdown",
   "id": "027d666f-35d4-4e66-b475-89b923b53a56",
   "metadata": {},
   "source": [
    "By default, the each new value in a range is equal to the previous value plus 1. \n",
    "\n",
    "We can use other values as increments."
   ]
  },
  {
   "cell_type": "code",
   "execution_count": 11,
   "id": "62139cdc-c4fd-4db1-97c4-deba6bea6d39",
   "metadata": {},
   "outputs": [
    {
     "name": "stdout",
     "output_type": "stream",
     "text": [
      "1\n",
      "3\n",
      "5\n",
      "7\n",
      "9\n"
     ]
    }
   ],
   "source": [
    "for i in range(1,11,2):\n",
    "    print(i)"
   ]
  },
  {
   "cell_type": "markdown",
   "id": "bd80401d-17ef-4672-bb02-7be71b60c4c0",
   "metadata": {},
   "source": [
    "Again, observe that a value that equals the stop value is not included."
   ]
  },
  {
   "cell_type": "code",
   "execution_count": 12,
   "id": "7d27d0d3-cae4-45e2-b67c-6083d2c98007",
   "metadata": {},
   "outputs": [
    {
     "name": "stdout",
     "output_type": "stream",
     "text": [
      "10\n",
      "12\n",
      "14\n",
      "16\n",
      "18\n"
     ]
    }
   ],
   "source": [
    "for i in range(10,20,2):\n",
    "    print(i)"
   ]
  },
  {
   "cell_type": "code",
   "execution_count": 13,
   "id": "c7223d9a-4154-4a95-a348-7b25fd5987c8",
   "metadata": {},
   "outputs": [
    {
     "name": "stdout",
     "output_type": "stream",
     "text": [
      "10\n",
      "9\n",
      "8\n",
      "7\n",
      "6\n"
     ]
    }
   ],
   "source": [
    "for i in range(10,5,-1):\n",
    "    print(i)"
   ]
  },
  {
   "cell_type": "markdown",
   "id": "27ebc2a2-e3b1-4ba0-b50f-4c1388000619",
   "metadata": {},
   "source": [
    "**Ranges are not lists**\n",
    "\n",
    "Again, a range is an iterable but it is not a list.\n",
    "\n",
    "However, we can produce a list of the ranges elements using the list function."
   ]
  },
  {
   "cell_type": "code",
   "execution_count": 14,
   "id": "37caaf80-5cec-42a3-9006-bf55a3840d72",
   "metadata": {},
   "outputs": [
    {
     "name": "stdout",
     "output_type": "stream",
     "text": [
      "[1, 3, 5, 7, 9]\n"
     ]
    }
   ],
   "source": [
    "L=list(range(1,10,2))\n",
    "print(L)"
   ]
  },
  {
   "cell_type": "code",
   "execution_count": null,
   "id": "70a626a4-b1fa-4b6a-ab52-f127a33be4de",
   "metadata": {},
   "outputs": [],
   "source": []
  }
 ],
 "metadata": {
  "kernelspec": {
   "display_name": "Python 3 (ipykernel)",
   "language": "python",
   "name": "python3"
  },
  "language_info": {
   "codemirror_mode": {
    "name": "ipython",
    "version": 3
   },
   "file_extension": ".py",
   "mimetype": "text/x-python",
   "name": "python",
   "nbconvert_exporter": "python",
   "pygments_lexer": "ipython3",
   "version": "3.9.11"
  }
 },
 "nbformat": 4,
 "nbformat_minor": 5
}
