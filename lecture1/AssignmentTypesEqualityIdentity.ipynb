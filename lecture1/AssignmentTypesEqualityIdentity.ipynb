{
 "cells": [
  {
   "cell_type": "markdown",
   "id": "33aad8a7-9217-47a7-a11e-a9112675f0b0",
   "metadata": {},
   "source": [
    "## Evaluation, Assignment, Types, Equality, Identity"
   ]
  },
  {
   "cell_type": "markdown",
   "id": "48e1f757-92ca-40d2-b222-ca3b9c8391c5",
   "metadata": {},
   "source": [
    "**Evaluation**\n",
    "\n",
    "In Python, when we enter an expression in a code cell, and we evaluate the cell, that expression gets evaluated.\n",
    "\n",
    "An *expression* may consist of a single line of code in which no variables appear."
   ]
  },
  {
   "cell_type": "code",
   "execution_count": 20,
   "id": "d0eb7456-bdde-4a7a-8675-8cec912fd829",
   "metadata": {},
   "outputs": [
    {
     "data": {
      "text/plain": [
       "26.666666666666668"
      ]
     },
     "execution_count": 20,
     "metadata": {},
     "output_type": "execute_result"
    }
   ],
   "source": [
    "(80-32)*5/9"
   ]
  },
  {
   "cell_type": "markdown",
   "id": "f3945c6a-badc-42f2-874e-2509a8cb1fdc",
   "metadata": {},
   "source": [
    "So we can treat the Python interpreter like a primitive calculator."
   ]
  },
  {
   "cell_type": "markdown",
   "id": "9cac0a7e-8faf-4c72-aefd-4af227749720",
   "metadata": {},
   "source": [
    "A cell can also contain multiple lines of code. \n",
    "\n",
    "Some of the lines of code are *assignments.*\n",
    "\n",
    "If the last line is an expression and not an assignment then the expression is evaluated."
   ]
  },
  {
   "cell_type": "code",
   "execution_count": 21,
   "id": "4b501f0d-8608-4f47-a66f-a0e5e9cb432a",
   "metadata": {},
   "outputs": [
    {
     "data": {
      "text/plain": [
       "26.666666666666668"
      ]
     },
     "execution_count": 21,
     "metadata": {},
     "output_type": "execute_result"
    }
   ],
   "source": [
    "FahrTemp=80\n",
    "CentTemp=(FahrTemp-32)*5/9\n",
    "CentTemp"
   ]
  },
  {
   "cell_type": "markdown",
   "id": "512bd680-ef5c-4450-9df5-75b7de03c2eb",
   "metadata": {},
   "source": [
    "Ugh ... time to use a function to make that look better!\n",
    "Leaving lots of digits in your output is a **bad and easily avoidable rookie error**."
   ]
  },
  {
   "cell_type": "code",
   "execution_count": 22,
   "id": "befdfb4c-d235-461c-92cf-60fb8e74003b",
   "metadata": {},
   "outputs": [
    {
     "data": {
      "text/plain": [
       "26.67"
      ]
     },
     "execution_count": 22,
     "metadata": {},
     "output_type": "execute_result"
    }
   ],
   "source": [
    "round(CentTemp,2)"
   ]
  },
  {
   "cell_type": "markdown",
   "id": "a6c3555e-5793-41af-8b12-89c0aaa2a729",
   "metadata": {},
   "source": [
    "**Assignments**\n",
    "\n",
    "As demonstrated above, in Python, like in other programming languages, we assign values to variables by writing things like this:"
   ]
  },
  {
   "cell_type": "code",
   "execution_count": 4,
   "id": "07547d6d-8bb0-4901-9b64-3813b500049f",
   "metadata": {},
   "outputs": [],
   "source": [
    "x=56.7  # assign a floating point value to x\n",
    "y=\"dog\" # assign a string to y\n",
    "z=83    # assign an int value to z"
   ]
  },
  {
   "cell_type": "markdown",
   "id": "d17a9a39-acce-44ea-a451-bcc6e2d2a09f",
   "metadata": {},
   "source": [
    "In every case where we see an expression a variable name on the left hand side of an equal sign and an expression on the right hand side, this is interpreted to mean\n",
    "\n",
    "- evaluate the right hand side\n",
    "- make the variable on the left hand side take that value\n",
    "\n",
    "In the following example, before assigning a value to z, x is evaluated, y is evaluated, then x+y is evaluated. The result is then assigned to z."
   ]
  },
  {
   "cell_type": "code",
   "execution_count": 5,
   "id": "c1f5953b-d961-4d39-878a-360bf7b9360a",
   "metadata": {},
   "outputs": [],
   "source": [
    "x=45\n",
    "y=55\n",
    "z=x+y"
   ]
  },
  {
   "cell_type": "markdown",
   "id": "207db5b4-fb6d-4519-a736-c90f4ae61a2a",
   "metadata": {},
   "source": [
    "In some programming languages and in pseudo-code, a different notation is used to distinguish *assignment* from *equality.* For example in R, before they made it ok to use the equal sign in an assignment, we would write\n",
    "\n",
    "    z <- x+y\n",
    "    \n",
    "which is a bit more clear. We are computing x+y then dumping the result into z."
   ]
  },
  {
   "cell_type": "markdown",
   "id": "3925f84d-2fb1-4e04-acc5-7c11fe3bc1b0",
   "metadata": {},
   "source": [
    "But most programming languages are fine with the equal sign. \n",
    "\n",
    "So we can see things like this which make no sense to a mathematician."
   ]
  },
  {
   "cell_type": "code",
   "execution_count": 6,
   "id": "7159923b-2eb8-4822-a179-4f95c6a547f5",
   "metadata": {},
   "outputs": [],
   "source": [
    "x=x+99"
   ]
  },
  {
   "cell_type": "markdown",
   "id": "709031aa-2b51-43e7-9871-337e2f768844",
   "metadata": {},
   "source": [
    "**Types**\n",
    "\n",
    "It is very important to know what type of object we're working with when we program.\n",
    "Above we have already created variables that hold certain types."
   ]
  },
  {
   "cell_type": "code",
   "execution_count": 23,
   "id": "e6182447-92de-4d42-b1c3-1b497bbd26e7",
   "metadata": {},
   "outputs": [
    {
     "data": {
      "text/plain": [
       "int"
      ]
     },
     "execution_count": 23,
     "metadata": {},
     "output_type": "execute_result"
    }
   ],
   "source": [
    "x=986\n",
    "type(x)"
   ]
  },
  {
   "cell_type": "code",
   "execution_count": 24,
   "id": "eb7dbdb9-c954-441e-9735-f6f78aa30a4f",
   "metadata": {},
   "outputs": [
    {
     "data": {
      "text/plain": [
       "float"
      ]
     },
     "execution_count": 24,
     "metadata": {},
     "output_type": "execute_result"
    }
   ],
   "source": [
    "x=98.6\n",
    "type(x)"
   ]
  },
  {
   "cell_type": "code",
   "execution_count": 25,
   "id": "bf0e693d-8a79-433c-9393-5da933deabb0",
   "metadata": {},
   "outputs": [
    {
     "data": {
      "text/plain": [
       "str"
      ]
     },
     "execution_count": 25,
     "metadata": {},
     "output_type": "execute_result"
    }
   ],
   "source": [
    "x=\"ninety eight point six\"\n",
    "type(x)"
   ]
  },
  {
   "cell_type": "markdown",
   "id": "2d38b3ee-1133-454d-b515-4baf96911e2e",
   "metadata": {},
   "source": [
    "**Equality**\n",
    "\n",
    "We're frequently interested in knowing when two variables are storing the same value.\n",
    "We can test using ==."
   ]
  },
  {
   "cell_type": "code",
   "execution_count": 26,
   "id": "39682e8b-b0cc-4439-b104-66ed0488ff91",
   "metadata": {},
   "outputs": [
    {
     "data": {
      "text/plain": [
       "True"
      ]
     },
     "execution_count": 26,
     "metadata": {},
     "output_type": "execute_result"
    }
   ],
   "source": [
    "x=5\n",
    "y=5\n",
    "x==y"
   ]
  },
  {
   "cell_type": "code",
   "execution_count": 27,
   "id": "27d56d99-618f-4955-893e-e61d9fa5761f",
   "metadata": {},
   "outputs": [
    {
     "data": {
      "text/plain": [
       "False"
      ]
     },
     "execution_count": 27,
     "metadata": {},
     "output_type": "execute_result"
    }
   ],
   "source": [
    "x=5\n",
    "y=6\n",
    "x==y"
   ]
  },
  {
   "cell_type": "markdown",
   "id": "ad11ccaf-b6f3-4e25-a7ba-32fc05a6b9e2",
   "metadata": {},
   "source": [
    "**References**\n",
    "\n",
    "What happens when we do this?"
   ]
  },
  {
   "cell_type": "code",
   "execution_count": 29,
   "id": "8cca10ab-d6b2-4442-b61e-39bb9d80a1b7",
   "metadata": {},
   "outputs": [],
   "source": [
    "x=51821498219482984298593\n",
    "y=x"
   ]
  },
  {
   "cell_type": "markdown",
   "id": "cf77adc0-1441-4724-8149-541d28548de5",
   "metadata": {},
   "source": [
    "x and y hold the same value, but we can say more. \n",
    "\n",
    "They actually refer to the same storage location.\n",
    "\n",
    "Python deals with *references* differently from other languages, and it is important to understand how. \n",
    "\n",
    "When we assign a value to x as above, think of what is happening is that somewhere in memory, the number is stored, and the interpreter attaches the label x to that location:\n",
    "\n",
    "    x-------->51821498219482984298593\n",
    "    \n",
    "when we make the assignment y=x, the interpreter simply attaches another label to that same location:\n",
    "\n",
    "    x,y-------->51821498219482984298593\n",
    "    \n",
    "Of course, we can see that they store the same *value* using"
   ]
  },
  {
   "cell_type": "code",
   "execution_count": 30,
   "id": "f075a56b-6a12-498b-a870-8fd1d8bfed2e",
   "metadata": {},
   "outputs": [
    {
     "data": {
      "text/plain": [
       "True"
      ]
     },
     "execution_count": 30,
     "metadata": {},
     "output_type": "execute_result"
    }
   ],
   "source": [
    "x==y"
   ]
  },
  {
   "cell_type": "markdown",
   "id": "f60b0243-48f0-41a9-a73b-2d7f388d6d09",
   "metadata": {},
   "source": [
    "But to see that they are really referring to the same object in memory, we look at the *id* of each variable."
   ]
  },
  {
   "cell_type": "code",
   "execution_count": 31,
   "id": "92e6ed9e-6308-40ac-8543-05c6b407c47a",
   "metadata": {},
   "outputs": [
    {
     "name": "stdout",
     "output_type": "stream",
     "text": [
      "2325343315312\n",
      "2325343315312\n"
     ]
    },
    {
     "data": {
      "text/plain": [
       "True"
      ]
     },
     "execution_count": 31,
     "metadata": {},
     "output_type": "execute_result"
    }
   ],
   "source": [
    "print(id(x))\n",
    "print(id(y))\n",
    "id(x)==id(y)"
   ]
  },
  {
   "cell_type": "markdown",
   "id": "b577a216-528d-492a-bdc4-5ddece82018d",
   "metadata": {},
   "source": [
    "On the other hand, consider this code."
   ]
  },
  {
   "cell_type": "code",
   "execution_count": 32,
   "id": "68ef9dab-d367-41b3-97f7-d03ad5720061",
   "metadata": {},
   "outputs": [
    {
     "name": "stdout",
     "output_type": "stream",
     "text": [
      "True\n",
      "False\n"
     ]
    }
   ],
   "source": [
    "x=51821498219482984298593\n",
    "y=51821498219482984298593\n",
    "print(x==y)\n",
    "print(id(x)==id(y))"
   ]
  },
  {
   "cell_type": "markdown",
   "id": "8cc5b6c2-92bb-4656-a04e-8a365d4ca5de",
   "metadata": {},
   "source": [
    "**Reassignment**\n",
    "\n",
    "Try to understand what is happening in the following code."
   ]
  },
  {
   "cell_type": "code",
   "execution_count": 33,
   "id": "cbc0206b-fb39-4455-a1dc-f84c118ec6f4",
   "metadata": {},
   "outputs": [
    {
     "name": "stdout",
     "output_type": "stream",
     "text": [
      "5\n",
      "29\n"
     ]
    }
   ],
   "source": [
    "x=5\n",
    "y=x\n",
    "x=29\n",
    "print(y)\n",
    "print(x)"
   ]
  },
  {
   "cell_type": "markdown",
   "id": "abf9980b-8419-4a77-a4b5-1e253f4c74c4",
   "metadata": {},
   "source": [
    "We first assign the value 5 to x\n",
    "\n",
    "    x------------>5\n",
    "\n",
    "Set y to equal x\n",
    "\n",
    "    x,y---------->5         \n",
    "    \n",
    "When we do the assignment y=x Python interprets this to mean that you want y to take the same value that x takes, but x is nothing more than a label for some location/object in memory, so the interpreter just adds the y label to that same location/object. \n",
    "\n",
    "When we repurpose the x label by assigning x to a new value, a new memory location gets associated with x, and y still points to what it pointed to before.\n",
    "\n",
    "    y------------>5\n",
    "    x------------>29\n"
   ]
  }
 ],
 "metadata": {
  "kernelspec": {
   "display_name": "Python 3 (ipykernel)",
   "language": "python",
   "name": "python3"
  },
  "language_info": {
   "codemirror_mode": {
    "name": "ipython",
    "version": 3
   },
   "file_extension": ".py",
   "mimetype": "text/x-python",
   "name": "python",
   "nbconvert_exporter": "python",
   "pygments_lexer": "ipython3",
   "version": "3.9.12"
  }
 },
 "nbformat": 4,
 "nbformat_minor": 5
}
