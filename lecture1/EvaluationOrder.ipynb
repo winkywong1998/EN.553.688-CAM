{
 "cells": [
  {
   "cell_type": "markdown",
   "id": "a548b51f-b46e-4430-a13d-db495c0a552a",
   "metadata": {},
   "source": [
    "**Evaluation Order**\n",
    "\n",
    "One of the benefits of programming in a a Jupyter notebook is that one can jump around between cells and excecute code.\n",
    "\n",
    "For example, you might want to test some code. You can scroll down to the botton (or top) of your notebook, run some code in a cell and go back to where you were.\n",
    "\n",
    "**Beware!!** This benefit can also be hazardous. In a Jupyter notebook, execution of code need not be carried out according to the order in which cells appear.\n",
    "\n",
    "Consider the following example:"
   ]
  },
  {
   "cell_type": "code",
   "execution_count": 5,
   "id": "60af18d9-ac9d-4833-90a3-27f545f22857",
   "metadata": {},
   "outputs": [],
   "source": [
    "x=1"
   ]
  },
  {
   "cell_type": "code",
   "execution_count": 6,
   "id": "f52b8186-6190-4454-9832-0ff2b3e6c3cc",
   "metadata": {},
   "outputs": [],
   "source": [
    "y=x+1"
   ]
  },
  {
   "cell_type": "code",
   "execution_count": 3,
   "id": "a42b12a1-6356-4a0b-9478-1076dfee1386",
   "metadata": {},
   "outputs": [],
   "source": [
    "x=3"
   ]
  },
  {
   "cell_type": "code",
   "execution_count": 7,
   "id": "3c2fc90c-39be-4f67-96e4-378db61f94ca",
   "metadata": {},
   "outputs": [
    {
     "name": "stdout",
     "output_type": "stream",
     "text": [
      "2\n"
     ]
    }
   ],
   "source": [
    "print(y)"
   ]
  },
  {
   "cell_type": "markdown",
   "id": "0dca4168-fad8-410b-8b9f-570450307e68",
   "metadata": {},
   "source": [
    "Fortunately, a Jupyter notebook comes with an extra feature. Cells are labeled showing execution order."
   ]
  },
  {
   "cell_type": "code",
   "execution_count": null,
   "id": "c2932efd-6bb8-46ed-b852-1721fc7c3bed",
   "metadata": {},
   "outputs": [],
   "source": []
  }
 ],
 "metadata": {
  "kernelspec": {
   "display_name": "Python 3 (ipykernel)",
   "language": "python",
   "name": "python3"
  },
  "language_info": {
   "codemirror_mode": {
    "name": "ipython",
    "version": 3
   },
   "file_extension": ".py",
   "mimetype": "text/x-python",
   "name": "python",
   "nbconvert_exporter": "python",
   "pygments_lexer": "ipython3",
   "version": "3.9.12"
  }
 },
 "nbformat": 4,
 "nbformat_minor": 5
}
