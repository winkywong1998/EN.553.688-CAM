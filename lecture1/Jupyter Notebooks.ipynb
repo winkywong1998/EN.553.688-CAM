{
 "cells": [
  {
   "cell_type": "markdown",
   "metadata": {},
   "source": [
    "# Jupyter notebook features"
   ]
  },
  {
   "cell_type": "markdown",
   "metadata": {},
   "source": [
    "**General stuff**\n",
    "\n",
    "- Launching\n",
    "- Shutting down\n",
    "- Path\n",
    "- another bullet item\n",
    "- another bullet item\n",
    "- another bullet item\n",
    "\n",
    "**Cell types**\n",
    "\n",
    "-  Markdown (M) https://medium.com/ibm-data-science-experience/markdown-for-jupyter-notebooks-cheatsheet-386c05aeebed\n",
    "-  Code (Y)\n",
    "\n",
    "**Command mode vs. Edit mode**\n",
    "\n",
    "- Esc key - puts you in edit mode when you are editing a notebook\n",
    "- Shift enter - evaluates cells and puts you in command mode\n"
   ]
  },
  {
   "cell_type": "markdown",
   "metadata": {},
   "source": [
    "**Cell evaluation**\n",
    "\n",
    "- Shift enter is used  to evaluate a cell\n",
    "    - in the case of markdown cells we get to see how the cell is displayed\n",
    "    - in the case of a code cell, the code in the cell is evaluated"
   ]
  },
  {
   "cell_type": "markdown",
   "metadata": {},
   "source": [
    "**Examples**"
   ]
  },
  {
   "cell_type": "markdown",
   "metadata": {},
   "source": [
    "Here is a **markdown** cell and rhe following cell is a code cell."
   ]
  },
  {
   "cell_type": "code",
   "execution_count": 2,
   "metadata": {},
   "outputs": [
    {
     "name": "stdout",
     "output_type": "stream",
     "text": [
      "36\n"
     ]
    }
   ],
   "source": [
    "y=36\n",
    "print(y)"
   ]
  },
  {
   "cell_type": "markdown",
   "metadata": {},
   "source": [
    "**Cell basics**\n",
    "\n",
    "-  Selecting\n",
    "-  Adding a cell\n",
    "-  Deleting a cell\n",
    "-  Merging cells\n",
    "-  Moving cells\n",
    "-  Copy/Paste\n",
    "\n",
    "\n",
    "\n",
    "**Bullets**\n",
    "\n",
    "- This is\n",
    "- A test\n",
    "\n",
    "- This is another test\n",
    "\n",
    "    - test1\n",
    "    - test2\n",
    "\n",
    "**Numbered lists/Outlines (use the tab key to indent)**\n",
    "\n",
    "1. First entry\n",
    "2. Second entry\n",
    "    1. Sub entry\n",
    "    2. Sub entry\n",
    "        1. Subsub entry 1\n",
    "        2. Subsub entry 2\n",
    "        3. Subsub entry 3\n",
    "    3. Sub entry\n",
    "    4. Another entry\n",
    "3. Not indented\n",
    "\n",
    "**Math via latex**\n",
    "\n",
    "This is an example of some text with embedded mathematical expression. For example, here is an integral  $\\int_{x=0}^\\infty e^{-t} dt = 1$ you are probably familiar with. In addition, I'm guessing you know how to solve the equation $Ax^2+Bx+C=0$ for the variable $x.$\n",
    "\n",
    "Here is a math in a centered display  \n",
    "\n",
    "$$\\Phi(x) = \\int_{t=-\\infty}^\\infty e^{-\\frac{1}{2}x^2} dx$$\n",
    "\n",
    "**Fonts**\n",
    "\n",
    "    Bold: __string__ or **string**\n",
    "\n",
    "**this should be bold**\n",
    "    \n",
    "    Italic: _string_ or *string*\n",
    "\n",
    "*this should be italicized*\n",
    "   \n",
    "  \n",
    "**Indenting**\n",
    "\n",
    ">This should be indented\n",
    ">> This should be double-indented"
   ]
  },
  {
   "cell_type": "markdown",
   "metadata": {},
   "source": [
    "**Commmenting Out Blocks of Code**\n",
    "\n",
    "When you are writing code, there are times when you'll want to comment out blocks of code so that lines in the black are not evaluated.\n",
    "\n"
   ]
  },
  {
   "cell_type": "markdown",
   "metadata": {},
   "source": [
    "**Toggling Line Numbers**"
   ]
  },
  {
   "cell_type": "raw",
   "metadata": {},
   "source": [
    "Sometimes we want to have line numbers in our code.  Using \"L\" in command mode allows us to turn line numbers on and off in a selected cell."
   ]
  },
  {
   "cell_type": "code",
   "execution_count": null,
   "metadata": {},
   "outputs": [],
   "source": [
    "x=1\n",
    "y=2\n",
    "print(x)\n",
    "print(y)"
   ]
  },
  {
   "cell_type": "markdown",
   "metadata": {},
   "source": [
    "**Moving from Cell to Cell**"
   ]
  },
  {
   "cell_type": "markdown",
   "metadata": {},
   "source": [
    "In edit mode, use j to move to the next cell and k to move to the previous cell."
   ]
  },
  {
   "cell_type": "markdown",
   "metadata": {},
   "source": [
    "**Commenting out lines in code**\n",
    "\n",
    "It is very important and useful to have comments in your code. \n",
    "\n",
    "It not only tells others what the code is meant to do in words, it also reminds you what you meant for the code to do.\n",
    "\n",
    "In a code cell, any code that appears with a # before it in a line is ignored when we evaluate the cell."
   ]
  },
  {
   "cell_type": "code",
   "execution_count": 8,
   "metadata": {},
   "outputs": [],
   "source": [
    "x=3\n",
    "y=4\n",
    "z=x+y\n",
    "#print(x)\n",
    "#print(y)\n",
    "#print(z)"
   ]
  },
  {
   "cell_type": "markdown",
   "metadata": {},
   "source": [
    "We can comment out selected blocks of code using CTRL-/ and then uncomment using CTR-/ again"
   ]
  },
  {
   "cell_type": "markdown",
   "metadata": {},
   "source": [
    "**Indenting portions of code**\n",
    "\n",
    "In Python, indentation in code plays an important role as it is used to indicate\n",
    "\n",
    "- what is supposed to happen in a loop\n",
    "- whether some condition is satisfied.\n",
    "- the body of a function"
   ]
  },
  {
   "cell_type": "code",
   "execution_count": 10,
   "metadata": {},
   "outputs": [
    {
     "name": "stdout",
     "output_type": "stream",
     "text": [
      "5\n"
     ]
    }
   ],
   "source": [
    "x=5\n",
    "if x>3:\n",
    "    print(x)"
   ]
  },
  {
   "cell_type": "code",
   "execution_count": 11,
   "metadata": {},
   "outputs": [
    {
     "name": "stdout",
     "output_type": "stream",
     "text": [
      "0\n",
      "1\n",
      "2\n",
      "3\n"
     ]
    }
   ],
   "source": [
    "for i in range(4):\n",
    "    print(i)"
   ]
  },
  {
   "cell_type": "code",
   "execution_count": 14,
   "metadata": {},
   "outputs": [
    {
     "name": "stdout",
     "output_type": "stream",
     "text": [
      "49\n"
     ]
    }
   ],
   "source": [
    "def f(x):\n",
    "    y=x**2\n",
    "    return(y)\n",
    "u=7\n",
    "print(f(u))"
   ]
  },
  {
   "cell_type": "markdown",
   "metadata": {},
   "source": [
    "There are times when we want to copy a large chunk of code from one place to another. But that code might not be indented. When code is selected CTRL-] indents it and CTRL-[\n",
    "unindents it."
   ]
  },
  {
   "cell_type": "markdown",
   "metadata": {},
   "source": [
    "# Heading 1\n",
    "\n",
    "Some text\n",
    "\n",
    "## Heading 2\n",
    "\n",
    "Some more text\n",
    "\n",
    "### Heading 3\n",
    "\n",
    "Even more test"
   ]
  },
  {
   "cell_type": "markdown",
   "metadata": {},
   "source": [
    "# Images\n",
    "\n",
    "There are various ways to embed an image in a notebook. In the following two examples, the embedding shows up as long as the image referred to is in the current working folder. (This folder can be set to some other folder if you wish it to be.)"
   ]
  },
  {
   "cell_type": "markdown",
   "metadata": {},
   "source": [
    "![title](Capture.PNG)"
   ]
  },
  {
   "cell_type": "markdown",
   "metadata": {},
   "source": [
    "<img src=\"Capture.PNG\" width=\"400\" height=\"300\">"
   ]
  },
  {
   "cell_type": "markdown",
   "metadata": {},
   "source": [
    "If you want to share a notebook with somebody else, you might want to use a different approach to ensure that you only need to give them a copy of the notebook and not the extraneous file.\n",
    "\n",
    "You can do this by creating a markdown cell and dragging the file into the cell in edit mode."
   ]
  },
  {
   "cell_type": "markdown",
   "metadata": {},
   "source": [
    "# Video\n",
    "\n",
    "You can also include video in a notebook."
   ]
  },
  {
   "cell_type": "code",
   "execution_count": 3,
   "metadata": {},
   "outputs": [
    {
     "data": {
      "text/html": [
       "<video src=\"HungryDog.mp4\" controls  width=\"300\"  height=\"450\">\n",
       "      Your browser does not support the <code>video</code> element.\n",
       "    </video>"
      ],
      "text/plain": [
       "<IPython.core.display.Video object>"
      ]
     },
     "execution_count": 3,
     "metadata": {},
     "output_type": "execute_result"
    }
   ],
   "source": [
    "from IPython.display import Video\n",
    "Video(\"HungryDog.mp4\",width=300,height=450)"
   ]
  },
  {
   "cell_type": "markdown",
   "metadata": {},
   "source": [
    "**Hyperlinks can be included**"
   ]
  },
  {
   "cell_type": "code",
   "execution_count": 16,
   "metadata": {},
   "outputs": [
    {
     "data": {
      "text/html": [
       "<iframe width=\"560\" height=\"315\" src=\"https://www.youtube.com/embed/I7Atlvtk3AI?rel=0&amp;controls=0&amp;showinfo=0\" frameborder=\"0\" allowfullscreen></iframe>"
      ],
      "text/plain": [
       "<IPython.core.display.HTML object>"
      ]
     },
     "execution_count": 16,
     "metadata": {},
     "output_type": "execute_result"
    }
   ],
   "source": [
    "from IPython.display import HTML\n",
    "\n",
    "HTML('<iframe width=\"560\" height=\"315\" src=\"https://www.youtube.com/embed/I7Atlvtk3AI?rel=0&amp;controls=0&amp;showinfo=0\" frameborder=\"0\" allowfullscreen></iframe>')\n"
   ]
  },
  {
   "cell_type": "code",
   "execution_count": null,
   "metadata": {},
   "outputs": [],
   "source": []
  }
 ],
 "metadata": {
  "kernelspec": {
   "display_name": "Python 3 (ipykernel)",
   "language": "python",
   "name": "python3"
  },
  "language_info": {
   "codemirror_mode": {
    "name": "ipython",
    "version": 3
   },
   "file_extension": ".py",
   "mimetype": "text/x-python",
   "name": "python",
   "nbconvert_exporter": "python",
   "pygments_lexer": "ipython3",
   "version": "3.9.12"
  }
 },
 "nbformat": 4,
 "nbformat_minor": 4
}
