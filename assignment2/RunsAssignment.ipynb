{
 "cells": [
  {
   "cell_type": "markdown",
   "metadata": {},
   "source": [
    "**Runs Assignment**"
   ]
  },
  {
   "cell_type": "markdown",
   "metadata": {},
   "source": [
    "**Important - read carefully**\n",
    "\n",
    "- Failure to follow instructions will lead to point penalties.\n",
    "\n",
    "- You may use numpy but **no other packages** in this assignment.\n",
    "\n",
    "- When you are done with this assignment, evaluation of all cells should produce no errors.\n",
    "\n",
    "- When asked to write a function, **use exactly the function name requested** and \n",
    "do not define any other function with the same name anywhere else in the notebook.\n",
    "\n",
    "- When asked to make a **literal assignment** to a variable, you should \n",
    "    - use exactly the name of the variable requested on the left hand side\n",
    "of the assignment\n",
    "    - do **not** assign a value to that variable name anywhere else in the notebook\n",
    "    - use **no functions, no variables, and no arithmetic operations on the right hand side (you can use a different cell to print out a number and then copy the number** to the right hand side of the assignment.\n",
    "    - when asked for a literal floating point value in an assignment, for example\n",
    "        - x = 67.5 **is** ok\n",
    "        - x = \"67.5\" is **not** ok (that's a literal **string** assignment!)"
   ]
  },
  {
   "cell_type": "markdown",
   "metadata": {},
   "source": [
    "**Execute the following cell**"
   ]
  },
  {
   "cell_type": "code",
   "execution_count": 1,
   "metadata": {},
   "outputs": [],
   "source": [
    "import numpy as np"
   ]
  },
  {
   "cell_type": "markdown",
   "metadata": {},
   "source": [
    "**Problem 1 (5 points):  Compute run data from list**\n",
    "\n",
    "Given a list $L,$ we say a *run* of the value $v$ starts at position $i$ in the list if either\n",
    "\n",
    "- $i=0$ and $L[i]=v$ or\n",
    "- $i>0,$ $L[i]=v$ and $L[i-1]\\neq v.$\n",
    "\n",
    "when a run of the value $v$ starts at position $i$ we define the **length** of that run to be the **maximum** value of $m$ such that\n",
    "$$\n",
    "L[j]=v \\mbox{ for } j=i,i+1,\\ldots,i+m-1\n",
    "$$\n",
    "\n",
    "So, for example, in the list [1,1,1,2,3,3,1,1,2,1,2,5,5] if we consider runs of the value 1, there are 3 of them:\n",
    "\n",
    "- starting at 0 and having length 3\n",
    "- starting at 6 and having length 2\n",
    "- starting at 9 and having length 1\n",
    "\n",
    "Write a function *get_run_data* that takes as input the following arguments\n",
    "\n",
    "- a list or 1-d numpy array **L**\n",
    "- a value **v**\n",
    "\n",
    "and whose output is a \n",
    "\n",
    "- a **list** of 2-tuples giving all pairs of the form $(p,m)$ where $p$ is the starting position of a run, and $m$ is its length.\n",
    "\n",
    "If there are no runs of the value v the output should be an empty list.\n",
    "\n",
    "In the example above, \n",
    "\n",
    "> get_run_data([1,1,1,2,3,3,1,1,2,1,2,5,5])\n",
    "\n",
    "should return \n",
    "\n",
    "> [(0,3),(6,2),(9,1)].\n",
    "\n",
    "We will refer to the length of the list you get in the output of the get_run_data program as the **number of runs** of the value $v$ in the input list.\n",
    "\n",
    "\n",
    "**Important instructions**\n",
    "- Your function should make use of Python **CONTROL FLOW** methods and **not any numpy functions.**\n",
    "- Your code should work if the input is a list or a 1d numpy array\n",
    "- Your code should be **self-contained** so if your code requires any extra user-defined functions put them **inside** the body of the get_run_data definition.\n",
    "- Make sure you test your code on examples to ensure your code works correctly.\n",
    "- An error in your code wil affect subsequent answers that rely on this code.\n",
    "- The function definition for **get_run_data** should not appear in any other part of this notebook.\n",
    "\n",
    "**Put your code for the function in the following cell.**"
   ]
  },
  {
   "cell_type": "code",
   "execution_count": 2,
   "metadata": {},
   "outputs": [],
   "source": [
    "def get_run_data(L,v):\n",
    "    i = 1\n",
    "    count = [0 for _ in range(len(L))]\n",
    "    count[0] = 1\n",
    "    res = []\n",
    "    begin = 0\n",
    "    while(i < len(L)):\n",
    "        if (L[i] != L[i - 1]):\n",
    "            count[i] = 1\n",
    "            if(L[i - 1] == v):\n",
    "                res.append((begin, count[i - 1]))\n",
    "            begin = i\n",
    "        elif (L[i] == L[i - 1]):\n",
    "            count[i] = count[i - 1] + 1\n",
    "            if(i == len(L) - 1 and L[i] == v):\n",
    "                res.append((begin, count[i]))\n",
    "        i += 1\n",
    "    return res"
   ]
  },
  {
   "cell_type": "code",
   "execution_count": 3,
   "metadata": {},
   "outputs": [
    {
     "name": "stdout",
     "output_type": "stream",
     "text": [
      "[(0, 3), (6, 2), (9, 1)]\n",
      "[(11, 2)]\n",
      "[(4, 2)]\n"
     ]
    }
   ],
   "source": [
    "a = [1,1,1,2,3,3,1,1,2,1,2,5,5]\n",
    "b = 1\n",
    "c = get_run_data(a,b)\n",
    "count_list = [i[1] for i in c]\n",
    "print(c)\n",
    "b = 5\n",
    "c = get_run_data(a,b)\n",
    "print(c)\n",
    "b = 3\n",
    "c = get_run_data(a,b)\n",
    "print(c)"
   ]
  },
  {
   "cell_type": "markdown",
   "metadata": {},
   "source": [
    "**Problem 2 (5 points):**\n",
    "    \n",
    "If a biased coin with the probability of heads being 2/3 is flipped independently 250 times, let $N$ denote the number of runs of heads that occur. Use Monte-Carlo simulation with 100,000 trials and your get_run_data code to provide estimates for\n",
    "\n",
    "- $E[N],$ the expected number of runs that occur, and call this **ENest**.\n",
    "- $\\sqrt{\\mbox{Var}(N)},$ the standard deviation of $N$ and call this **SDNest**.\n",
    "- a 95% confidence interval for the expected value of $N$ and call the lower and upper confidence bounds for this interval **LowerConfidenceBoundEN** and **UpperConfidenceBoundEN.**\n",
    "\n",
    "Note - you should estimate the <u>standard deviation</u> of the number of runs using the <u>sample standard deviation</u>, which for a sequence of sample values $N_1,\\ldots,N_n$ is defined as the quantity $S$ where\n",
    "\n",
    "$$S^2=\\sum_{i=0}^{n-1} (N_i - \\overline{N})^2/(n-1) = {\\sum_{i=0}^{n-1} N_i^2 - n \\overline{N}^2 \\over n-1}\n",
    "$$\n",
    "\n",
    "Be careful. This is not the same as the <u> standard error </u> of the estimator $\\overline{N}$ of $E[N],$ which we can write as $S/\\sqrt{n}.$ \n",
    "The standard error is an estimator of the quantity \n",
    "\n",
    "$\\sqrt{\\mbox{Var}(\\overline{N})}$ \n",
    "\n",
    "Recall from basic statistics, that\n",
    "\n",
    "$\\sqrt{\\mbox{Var}(\\overline{N})}= \\sqrt{\\mbox{Var}(N)}/\\sqrt{n}$ \n",
    "\n",
    "so while typically, $S$ gets closer and closer to the standard deviation\n",
    "$\\sqrt{\\mbox{Var}(N)}$ as $n\\rightarrow \\infty,$ (typically a positive quantity)\n",
    "the standard error approahes zero \n",
    "as $n\\rightarrow \\infty.$\n",
    "\n",
    "Use the following cell for your code for this problem."
   ]
  },
  {
   "cell_type": "code",
   "execution_count": 4,
   "metadata": {},
   "outputs": [
    {
     "name": "stdout",
     "output_type": "stream",
     "text": [
      "expected value estimate = 55.79920\n",
      "standard deviation estimate = 4.28737\n",
      "95% confidence interval = (55.77263,55.82577)\n"
     ]
    }
   ],
   "source": [
    "import numpy as np\n",
    "\n",
    "def coin_flip(time):\n",
    "    coins = []\n",
    "    for i in range(time):\n",
    "        coin = np.random.uniform(0,1)\n",
    "        if(coin<2 / 3):\n",
    "            coins.append(1)\n",
    "        else:\n",
    "            coins.append(0)\n",
    "    return coins \n",
    "\n",
    "ntrials = 100000\n",
    "s = 0\n",
    "s2 = 0\n",
    "for i in range(ntrials):\n",
    "    coins = coin_flip(250)\n",
    "    head = len(get_run_data(coins, 1))\n",
    "    s += head\n",
    "    s2 += head ** 2\n",
    "est = s / ntrials\n",
    "vest = (s2 - ntrials * est ** 2) / (ntrials - 1)\n",
    "stderr = np.sqrt(vest / ntrials)\n",
    "stddev = stderr * np.sqrt(ntrials)\n",
    "CIlower = est - 1.96 * stderr\n",
    "CIupper = est + 1.96 * stderr\n",
    "print(\"expected value estimate = {0:7.5f}\".format(est))\n",
    "print(\"standard deviation estimate = {0:7.5f}\".format(stddev))\n",
    "print(\"95% confidence interval = ({0:7.5f},{1:7.5f})\".format(CIlower,CIupper))"
   ]
  },
  {
   "cell_type": "markdown",
   "metadata": {},
   "source": [
    "**Answers for Problem 2**\n",
    "\n",
    "In the following cell, assign **literal float values** to the variables \n",
    "\n",
    "- ENest\n",
    "- SDNest\n",
    "- LowerConfidenceBoundEN\n",
    "- UpperConfidenceBoundEN\n",
    "\n",
    "**Additional instructions - these apply to <u> all subsequent questions</u> below**\n",
    "\n",
    "- Given that these are estimates you should round your answers. As a general rule of thumb **througout this notebook and throughout this course,** only include digits that you are **somewhat certain to be correct** (and please don't ask me to define what this means since I want you to use some judgement). \n",
    "- You should **not** assign values to these variables anywhere else in your notebook.\n",
    "- In the work cell above you can print out values of variables using different names and copy those *literal** values in the right hand side below."
   ]
  },
  {
   "cell_type": "code",
   "execution_count": 5,
   "metadata": {},
   "outputs": [],
   "source": [
    "ENest = 55.79920\n",
    "SDNest = 4.28737\n",
    "LowerConfidenceBoundEN = 55.77263\n",
    "UpperConfidenceBoundEN = 55.82577"
   ]
  },
  {
   "cell_type": "markdown",
   "metadata": {},
   "source": [
    "**Problem 3 (5 points)**\n",
    "    \n",
    "If a biased coin with the probability of heads being 2/3 is flipped independently 250 times, let $M$ denote the length of the longest run of heads that occurs. Use Monte-Carlo simulation with 100,000 trials and your get_run_data code to provide estimates for\n",
    "\n",
    "- $E[M],$ the expected length of the longest run that occur, and call this *EMest*.\n",
    "- $\\sqrt{\\mbox{Var}(M)},$ the standard deviation of the longest run and call this *SDMest*.\n",
    "- a 95% confidence interval for the expected value of $M$ and call the lower and upper confidence bounds for this interval *LowerConfidenceBoundEM* and *UpperConfidenceBoundEM.*\n",
    "\n",
    "**Put your code for this problem in the following cell.**"
   ]
  },
  {
   "cell_type": "code",
   "execution_count": 6,
   "metadata": {},
   "outputs": [
    {
     "name": "stdout",
     "output_type": "stream",
     "text": [
      "expected value estimate = 11.85357\n",
      "standard deviation estimate = 3.09494\n",
      "95% confidence interval = (11.83439,11.87275)\n"
     ]
    }
   ],
   "source": [
    "import numpy as np\n",
    "\n",
    "def coin_flip(time):\n",
    "    coins = []\n",
    "    for i in range(time):\n",
    "        coin = np.random.uniform(0,1)\n",
    "        if(coin<2 / 3):\n",
    "            coins.append(1)\n",
    "        else:\n",
    "            coins.append(0)\n",
    "    return coins \n",
    "\n",
    "ntrials = 100000\n",
    "s = 0\n",
    "s2 = 0\n",
    "for i in range(ntrials):\n",
    "    coins = coin_flip(250)\n",
    "    count_list = [i[1] for i in get_run_data(coins, 1)]\n",
    "    max_count = max(count_list)\n",
    "    s += max_count\n",
    "    s2 += max_count ** 2\n",
    "est = s / ntrials\n",
    "vest = (s2 - ntrials * est ** 2) / (ntrials - 1)\n",
    "stderr = np.sqrt(vest / ntrials)\n",
    "stddev = stderr * np.sqrt(ntrials)\n",
    "CIlower = est - 1.96 * stderr\n",
    "CIupper = est + 1.96 * stderr\n",
    "print(\"expected value estimate = {0:7.5f}\".format(est))\n",
    "print(\"standard deviation estimate = {0:7.5f}\".format(stddev))\n",
    "print(\"95% confidence interval = ({0:7.5f},{1:7.5f})\".format(CIlower,CIupper))"
   ]
  },
  {
   "cell_type": "markdown",
   "metadata": {},
   "source": [
    "**Answers for Problem 3**\n",
    "\n",
    "In the following cell, assign **literal float values** to the variables \n",
    "- EMest\n",
    "- SDMest\n",
    "- LowerConfidenceBoundEM\n",
    "- UpperConfidenceBoundEM"
   ]
  },
  {
   "cell_type": "code",
   "execution_count": 7,
   "metadata": {},
   "outputs": [],
   "source": [
    "EMest = 11.85357\n",
    "SDMest = 3.09494\n",
    "LowerConfidenceBoundEM = 11.83439\n",
    "UpperConfidenceBoundEM = 11.87275"
   ]
  },
  {
   "cell_type": "markdown",
   "metadata": {},
   "source": [
    "**Problem 4 (5 points):**\n",
    "\n",
    "Let $M$ denote the size of the longest run when 250 **fair** coins are flipped. Estimate the probability that $M \\geq 10$ and get a 95% confidence interval for this probability based on 100,000 trials.\n",
    "\n",
    "- call the estimate of the probability **pfairest** \n",
    "- call the confidence bounds **pfairlower** and **pfairupper**\n",
    "\n",
    "\n",
    "**Put your code for this problem in the following cell**"
   ]
  },
  {
   "cell_type": "code",
   "execution_count": 8,
   "metadata": {},
   "outputs": [
    {
     "name": "stdout",
     "output_type": "stream",
     "text": [
      "probability = 0.11217\n",
      "95% confidence interval = (0.11021,0.11413)\n"
     ]
    }
   ],
   "source": [
    "import numpy as np\n",
    "\n",
    "def coin_flip(time):\n",
    "    coins = []\n",
    "    for i in range(time):\n",
    "        coin = np.random.uniform(0,1)\n",
    "        if(coin < 1 / 2):\n",
    "            coins.append(1)\n",
    "        else:\n",
    "            coins.append(0)\n",
    "    return coins \n",
    "\n",
    "ntrials = 100000\n",
    "s = 0\n",
    "s2 = 0\n",
    "for i in range(ntrials):\n",
    "    coins = coin_flip(250)\n",
    "    count_list = [i[1] for i in get_run_data(coins, 1)]\n",
    "    max_count = max(count_list)\n",
    "    s += (max_count >= 10)\n",
    "    s2 += (max_count >=10) ** 2\n",
    "est = s / ntrials\n",
    "vest = (s2 - ntrials * est ** 2) / (ntrials - 1)\n",
    "stderr = np.sqrt(vest / ntrials)\n",
    "stddev = stderr * np.sqrt(ntrials)\n",
    "CIlower = est - 1.96 * stderr\n",
    "CIupper = est + 1.96 * stderr\n",
    "print(\"probability = {0:7.5f}\".format(est))\n",
    "print(\"95% confidence interval = ({0:7.5f},{1:7.5f})\".format(CIlower,CIupper))"
   ]
  },
  {
   "cell_type": "markdown",
   "metadata": {
    "tags": []
   },
   "source": [
    "**Answers to Problem 4**\n",
    "\n",
    "In the following cell, assign **literal float values** to the variables\n",
    "\n",
    "- pfairest\n",
    "- pairlower\n",
    "- pfairupper"
   ]
  },
  {
   "cell_type": "code",
   "execution_count": 9,
   "metadata": {},
   "outputs": [],
   "source": [
    "pfairest = 0.11217\n",
    "pfairlower = 0.11021\n",
    "pfairupper = 0.11413"
   ]
  },
  {
   "cell_type": "markdown",
   "metadata": {},
   "source": [
    "**Problem 5 (5 points):**\n",
    "Let $M$ denote the size of the longest run when 250 **biased** coins with the probability of heads being 2/3 are flipped. Estimate the probability that $M \\geq 10$ and get a 95% confidence interval for this probability based on 100,000 trials.\n",
    "\n",
    "- call the estimate of the probability **pbiasedest** \n",
    "- call the confidence bounds **pbiasedlower** and **pbiasedupper**\n",
    "\n",
    "\n",
    "**Put your code for this problem in the following cell**"
   ]
  },
  {
   "cell_type": "code",
   "execution_count": 10,
   "metadata": {},
   "outputs": [
    {
     "name": "stdout",
     "output_type": "stream",
     "text": [
      "probability = 0.77764\n",
      "95% confidence interval = (0.77506,0.78022)\n"
     ]
    }
   ],
   "source": [
    "import numpy as np\n",
    "\n",
    "def coin_flip(time):\n",
    "    coins = []\n",
    "    for i in range(time):\n",
    "        coin = np.random.uniform(0,1)\n",
    "        if(coin < 2 / 3):\n",
    "            coins.append(1)\n",
    "        else:\n",
    "            coins.append(0)\n",
    "    return coins \n",
    "\n",
    "ntrials = 100000\n",
    "s = 0\n",
    "s2 = 0\n",
    "for i in range(ntrials):\n",
    "    coins = coin_flip(250)\n",
    "    count_list = [i[1] for i in get_run_data(coins, 1)]\n",
    "    max_count = max(count_list)\n",
    "    run = max_count >= 10\n",
    "    s += run\n",
    "    s2 += run ** 2\n",
    "est = s / ntrials\n",
    "vest = (s2 - ntrials * est ** 2) / (ntrials - 1)\n",
    "stderr = np.sqrt(vest / ntrials)\n",
    "stddev = stderr * np.sqrt(ntrials)\n",
    "CIlower = est - 1.96 * stderr\n",
    "CIupper = est + 1.96 * stderr\n",
    "print(\"probability = {0:7.5f}\".format(est))\n",
    "print(\"95% confidence interval = ({0:7.5f},{1:7.5f})\".format(CIlower,CIupper))"
   ]
  },
  {
   "cell_type": "markdown",
   "metadata": {
    "tags": []
   },
   "source": [
    "**Answers to Problem 5**\n",
    "\n",
    "In the following cell, assign **literal float values** to the variables\n",
    "\n",
    "- pbiasedest\n",
    "- pbiasedlower\n",
    "- pbiasedupper"
   ]
  },
  {
   "cell_type": "code",
   "execution_count": 11,
   "metadata": {},
   "outputs": [],
   "source": [
    "pbiasedest = 0.77764\n",
    "pbiasedlower = 0.77506\n",
    "pbiasedupper = 0.78022"
   ]
  },
  {
   "cell_type": "markdown",
   "metadata": {},
   "source": [
    "**Final Instructions:**\n",
    "1) save your notebook befor submitting it in Blackboard\n",
    "2) do not zip your notebook \n",
    "3) you needn't change the name of your notebook as your jhed id is automatically attached to the name when you upload it\n",
    "4) make sure you followed the rules about only assigning values to variables asked for at most a single time."
   ]
  },
  {
   "cell_type": "code",
   "execution_count": null,
   "metadata": {},
   "outputs": [],
   "source": []
  }
 ],
 "metadata": {
  "kernelspec": {
   "display_name": "Python 3 (ipykernel)",
   "language": "python",
   "name": "python3"
  },
  "language_info": {
   "codemirror_mode": {
    "name": "ipython",
    "version": 3
   },
   "file_extension": ".py",
   "mimetype": "text/x-python",
   "name": "python",
   "nbconvert_exporter": "python",
   "pygments_lexer": "ipython3",
   "version": "3.9.7"
  }
 },
 "nbformat": 4,
 "nbformat_minor": 4
}
