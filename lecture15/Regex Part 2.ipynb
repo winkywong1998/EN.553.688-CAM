{
 "cells": [
  {
   "cell_type": "markdown",
   "metadata": {},
   "source": [
    "**Regular Expressions - Part 2**\n",
    "\n",
    "Again, we'll make use of the following search function below to avoid repetitive typing.\n",
    "\n",
    "This has been modified to allow for us to pass the **re.DOTALL** flag to be used in a search."
   ]
  },
  {
   "cell_type": "code",
   "execution_count": 1,
   "metadata": {},
   "outputs": [],
   "source": [
    "import re\n",
    "def Search(pattern,text,flags=0):\n",
    "    m=re.search(pattern,text,flags)\n",
    "    if m:\n",
    "        print(\"found a match\")\n",
    "        print(m.span())\n",
    "        print(text[m.start():m.end()])\n",
    "    else:\n",
    "        print(\"no match\")"
   ]
  },
  {
   "cell_type": "code",
   "execution_count": 2,
   "metadata": {},
   "outputs": [
    {
     "name": "stdout",
     "output_type": "stream",
     "text": [
      "no match\n"
     ]
    }
   ],
   "source": [
    "Search(\"dog.*cat\",\"I lost my dog.\\n He was chasing your cat\")"
   ]
  },
  {
   "cell_type": "code",
   "execution_count": 3,
   "metadata": {},
   "outputs": [
    {
     "name": "stdout",
     "output_type": "stream",
     "text": [
      "found a match\n",
      "(10, 39)\n",
      "dog.\n",
      " He was chasing your cat\n"
     ]
    }
   ],
   "source": [
    "Search(\"dog.*cat\",\"I lost my dog.\\n He was chasing your cat\",re.DOTALL)"
   ]
  },
  {
   "cell_type": "markdown",
   "metadata": {},
   "source": [
    "**Escaping**\n",
    "\n",
    "The backslash character is used to escape a special character in a regex pattern. So, for example, for searching for a literal + character, you would need to do something like the followng."
   ]
  },
  {
   "cell_type": "code",
   "execution_count": 4,
   "metadata": {},
   "outputs": [
    {
     "name": "stdout",
     "output_type": "stream",
     "text": [
      "found a match\n",
      "(1, 2)\n",
      "+\n"
     ]
    }
   ],
   "source": [
    "pattern=\"\\+\"\n",
    "text=\"2+5=7\"\n",
    "Search(pattern,text)"
   ]
  },
  {
   "cell_type": "markdown",
   "metadata": {},
   "source": [
    "**Backslash in strings**\n",
    "\n",
    "The backslash appears in strings with other special meanings, including specification of \n",
    "\n",
    "- a character in a string using its hexadecimal (base 16) representation via \\xDD where each D is hexadecimal digit 0-9,A-F.\n",
    "- a character in a string using its octal (base 8) representation via \\DD where each D is an octal digit 0-7.\n",
    "\n",
    "Here is an example where we create a string consisting of a single ASCII character. The decimal number 65 is 41 in hexadecimal and 101 in octal."
   ]
  },
  {
   "cell_type": "code",
   "execution_count": 5,
   "metadata": {},
   "outputs": [
    {
     "name": "stdout",
     "output_type": "stream",
     "text": [
      "A\n",
      "A\n",
      "A\n",
      "True\n",
      "True\n"
     ]
    }
   ],
   "source": [
    "text1=\"\\x41\"\n",
    "text2=\"\\101\"\n",
    "text3=chr(65)\n",
    "print(text1)\n",
    "print(text2)\n",
    "print(text3)\n",
    "print(text1==text2)\n",
    "print(text1==text3)"
   ]
  },
  {
   "cell_type": "markdown",
   "metadata": {},
   "source": [
    "**Extended ASCII range**\n",
    "\n",
    "The same works when use the range from 128-255 (what is referred to as the *extended ASCII* range). Here, we create a string with a single character corresponding to the decimal 129."
   ]
  },
  {
   "cell_type": "code",
   "execution_count": 6,
   "metadata": {},
   "outputs": [
    {
     "name": "stdout",
     "output_type": "stream",
     "text": [
      "\n",
      "\n",
      "\n",
      "True\n",
      "True\n"
     ]
    }
   ],
   "source": [
    "text1=\"\\x81\"\n",
    "text2=\"\\201\"\n",
    "text3=chr(129)\n",
    "print(text1)\n",
    "print(text2)\n",
    "print(text3)\n",
    "print(text1==text2)\n",
    "print(text1==text3)"
   ]
  },
  {
   "cell_type": "markdown",
   "metadata": {},
   "source": [
    "And we can create strings with multiple characters in this manner."
   ]
  },
  {
   "cell_type": "code",
   "execution_count": 7,
   "metadata": {},
   "outputs": [
    {
     "name": "stdout",
     "output_type": "stream",
     "text": [
      "AA\n"
     ]
    },
    {
     "data": {
      "text/plain": [
       "4"
      ]
     },
     "execution_count": 7,
     "metadata": {},
     "output_type": "execute_result"
    }
   ],
   "source": [
    "text=\"\\x41\\101\\x81\\201\"\n",
    "print(text)\n",
    "len(text)"
   ]
  },
  {
   "cell_type": "markdown",
   "metadata": {},
   "source": [
    "**Putting a literal backslash in a pattern**\n",
    "\n",
    "When we want a pattern string to have a literal backslash in it some care is required.\n",
    "\n",
    "For example, using\n",
    "\n",
    "text=\"\\\\\"\n",
    "\n",
    "doesn't work because \\\" means literal quote in a string and the string is not closed properly."
   ]
  },
  {
   "cell_type": "markdown",
   "metadata": {},
   "source": [
    "**What can we do?**\n",
    "\n",
    "We have these options:\n",
    "\n",
    "- escape the backslash\n",
    "- use chr(92)\n",
    "- use the unicode representation \\x5c "
   ]
  },
  {
   "cell_type": "code",
   "execution_count": 8,
   "metadata": {},
   "outputs": [
    {
     "name": "stdout",
     "output_type": "stream",
     "text": [
      "\\\n",
      "True\n",
      "True\n"
     ]
    }
   ],
   "source": [
    "text1=\"\\\\\"\n",
    "text2=chr(92)\n",
    "text3=b\"\\x5c\".decode()\n",
    "print(text1)\n",
    "print(text1==text2)\n",
    "print(text1==text3)"
   ]
  },
  {
   "cell_type": "markdown",
   "metadata": {
    "tags": []
   },
   "source": [
    "**Raw Strings**\n",
    "\n",
    "There will be instances in which we want to create a search pattern or a text string and we want all of the characters in our string to be interpreted literally, rather than using their special meaning in Python strings. \n",
    "\n",
    "Python provides the **raw string** mechanism for telling the interpreter to take all of the characters literally, without interpretation. \n",
    "\n",
    "In the following example, here's a sentence one might see in a textbook explaing how latex works.\n",
    "\n",
    "\"In latex, we use \\xi to represent the greek letter $\\xi.$\"\n",
    "\n",
    "And in a textbook explaining unicode, we might write this:\n",
    "\n",
    "'To get the greek character $\\xi$ we would encode the byte array \"\\xCE\\xBE\".'\n",
    "\n",
    "Without escaping the backslash things don't work.\n",
    "\n",
    "For example this would produce an error:\n",
    "\n",
    "text=\"\\\\xi\""
   ]
  },
  {
   "cell_type": "markdown",
   "metadata": {},
   "source": [
    "And this doesn't produce the desired result."
   ]
  },
  {
   "cell_type": "code",
   "execution_count": 9,
   "metadata": {},
   "outputs": [
    {
     "name": "stdout",
     "output_type": "stream",
     "text": [
      "Î\n"
     ]
    }
   ],
   "source": [
    "text=\"\\xCE\"\n",
    "print(text)"
   ]
  },
  {
   "cell_type": "markdown",
   "metadata": {},
   "source": [
    "But escaping works ..."
   ]
  },
  {
   "cell_type": "code",
   "execution_count": 10,
   "metadata": {},
   "outputs": [
    {
     "name": "stdout",
     "output_type": "stream",
     "text": [
      "\\xi\n",
      "\\xCE\n"
     ]
    }
   ],
   "source": [
    "text=\"\\\\xi\"\n",
    "print(text)\n",
    "text=\"\\\\xCE\"\n",
    "print(text)"
   ]
  },
  {
   "cell_type": "markdown",
   "metadata": {},
   "source": [
    "We can also use a raw string."
   ]
  },
  {
   "cell_type": "code",
   "execution_count": 11,
   "metadata": {
    "tags": []
   },
   "outputs": [
    {
     "name": "stdout",
     "output_type": "stream",
     "text": [
      "In latex, we use \\xi to represent the greek letter \n"
     ]
    }
   ],
   "source": [
    "text=r'In latex, we use \\xi to represent the greek letter '\n",
    "print(text)"
   ]
  },
  {
   "cell_type": "code",
   "execution_count": 12,
   "metadata": {},
   "outputs": [
    {
     "name": "stdout",
     "output_type": "stream",
     "text": [
      "\\xCE\\xBE\n"
     ]
    }
   ],
   "source": [
    "text=r'\\xCE\\xBE'\n",
    "print(text)"
   ]
  },
  {
   "cell_type": "markdown",
   "metadata": {},
   "source": [
    "**Getting a single quote in a raw string**\n",
    "\n",
    "There is one issue to be careful of. How do we get a single quote symbol in a strings when we specify as a raw string?\n",
    "\n",
    "We could try\n",
    "\n",
    "text=r'\\\\'\n",
    "\n",
    "but that leads to an error."
   ]
  },
  {
   "cell_type": "markdown",
   "metadata": {},
   "source": [
    "**Explanation**\n",
    "\n",
    "The problem is explained in this portion of the Python tutorial:\n",
    "\n",
    "\"When an 'r' or 'R' prefix is present, a character following a backslash is included in the string without change, and all backslashes are left in the string.\"\n",
    "\n",
    "So the interpreter is trying to include the second single quote in the string, and the string is not terminated.\n",
    "\n",
    "This explains the following example."
   ]
  },
  {
   "cell_type": "code",
   "execution_count": 13,
   "metadata": {
    "tags": []
   },
   "outputs": [
    {
     "name": "stdout",
     "output_type": "stream",
     "text": [
      "\\'\n"
     ]
    }
   ],
   "source": [
    "text=r'\\''\n",
    "print(text)"
   ]
  },
  {
   "cell_type": "markdown",
   "metadata": {},
   "source": [
    "And this example."
   ]
  },
  {
   "cell_type": "code",
   "execution_count": 14,
   "metadata": {},
   "outputs": [
    {
     "name": "stdout",
     "output_type": "stream",
     "text": [
      "\\\\\n"
     ]
    },
    {
     "data": {
      "text/plain": [
       "2"
      ]
     },
     "execution_count": 14,
     "metadata": {},
     "output_type": "execute_result"
    }
   ],
   "source": [
    "text=r'\\\\'\n",
    "print(text)\n",
    "len(text)"
   ]
  },
  {
   "cell_type": "markdown",
   "metadata": {
    "tags": []
   },
   "source": [
    "And as a consequence, an odd number of backslashes as in \n",
    "\n",
    "text=r'\\\\\\\\\\\\'\n",
    "\n",
    "can't be used but an even number can."
   ]
  },
  {
   "cell_type": "code",
   "execution_count": 15,
   "metadata": {
    "tags": []
   },
   "outputs": [
    {
     "name": "stdout",
     "output_type": "stream",
     "text": [
      "\\\\\\\\\n"
     ]
    }
   ],
   "source": [
    "txt=r\"\\\\\\\\\"\n",
    "print(txt)"
   ]
  },
  {
   "cell_type": "markdown",
   "metadata": {},
   "source": [
    "So while use of raw strings in regular expression patterns is strongly advised, there will be times when we have to put a single backslash in a string and then we'll need to break up the pattern into pieces and include a single backslash using one of the methods described above.\n",
    "\n",
    "Since, as we'll see below, the backslash has a special use in regular expressions, we'll need to be mindful of this."
   ]
  },
  {
   "cell_type": "markdown",
   "metadata": {},
   "source": [
    "**Character Classes**\n",
    "\n",
    "Square brackets are used to represent sets of characters. For example, to match one of the letters a, b or c, we can use [abc]."
   ]
  },
  {
   "cell_type": "code",
   "execution_count": 16,
   "metadata": {},
   "outputs": [
    {
     "name": "stdout",
     "output_type": "stream",
     "text": [
      "no match\n"
     ]
    }
   ],
   "source": [
    "Search(\"[abc]\",\"d\")"
   ]
  },
  {
   "cell_type": "code",
   "execution_count": 17,
   "metadata": {},
   "outputs": [
    {
     "name": "stdout",
     "output_type": "stream",
     "text": [
      "found a match\n",
      "(11, 12)\n",
      "a\n"
     ]
    }
   ],
   "source": [
    "Search(\"[abc]\",\"help me please\")"
   ]
  },
  {
   "cell_type": "code",
   "execution_count": 21,
   "metadata": {},
   "outputs": [
    {
     "name": "stdout",
     "output_type": "stream",
     "text": [
      "found a match\n",
      "(0, 2)\n",
      "ca\n"
     ]
    }
   ],
   "source": [
    "Search(\"[abcde]{2}\",\"can you help me find my lost cat please\")"
   ]
  },
  {
   "cell_type": "markdown",
   "metadata": {},
   "source": [
    "**Some more complicated examples**"
   ]
  },
  {
   "cell_type": "code",
   "execution_count": 22,
   "metadata": {},
   "outputs": [
    {
     "name": "stdout",
     "output_type": "stream",
     "text": [
      "found a match\n",
      "(0, 1)\n",
      "n\n"
     ]
    }
   ],
   "source": [
    "Search(\"^[ab)cden (]+?\",\"n (ab\")"
   ]
  },
  {
   "cell_type": "code",
   "execution_count": 23,
   "metadata": {},
   "outputs": [
    {
     "name": "stdout",
     "output_type": "stream",
     "text": [
      "found a match\n",
      "(0, 5)\n",
      "n (ab\n"
     ]
    }
   ],
   "source": [
    "Search(\"^[ab)cden (]+\",\"n (abx\")"
   ]
  },
  {
   "cell_type": "markdown",
   "metadata": {},
   "source": [
    "**Escaping**\n",
    "\n",
    "As usual, if we want to search for the $[$ character we have to escape it.\n",
    "\n",
    "Observe that the second $]$ is automatically treated as a literal character since there is not an opening $[$ to pair with."
   ]
  },
  {
   "cell_type": "code",
   "execution_count": 24,
   "metadata": {},
   "outputs": [
    {
     "name": "stdout",
     "output_type": "stream",
     "text": [
      "found a match\n",
      "(0, 13)\n",
      "[abracadabra]\n"
     ]
    }
   ],
   "source": [
    "Search(\"\\[[abcdr]+]\",\"[abracadabra]\")"
   ]
  },
  {
   "cell_type": "markdown",
   "metadata": {},
   "source": [
    "**Another use of circumflex**\n",
    "\n",
    "A circumflex at the beginning of the list means any character not included."
   ]
  },
  {
   "cell_type": "code",
   "execution_count": 25,
   "metadata": {},
   "outputs": [
    {
     "name": "stdout",
     "output_type": "stream",
     "text": [
      "found a match\n",
      "(3, 4)\n",
      "d\n"
     ]
    }
   ],
   "source": [
    "Search(\"[^abc]\",\"abcd\")"
   ]
  },
  {
   "cell_type": "code",
   "execution_count": 26,
   "metadata": {},
   "outputs": [
    {
     "name": "stdout",
     "output_type": "stream",
     "text": [
      "found a match\n",
      "(1, 3)\n",
      "\tx\n"
     ]
    }
   ],
   "source": [
    "Search(\"[^abc]x\",\"c\\tx\")"
   ]
  },
  {
   "cell_type": "markdown",
   "metadata": {},
   "source": [
    "**Character ranges can be used**"
   ]
  },
  {
   "cell_type": "code",
   "execution_count": 43,
   "metadata": {},
   "outputs": [
    {
     "name": "stdout",
     "output_type": "stream",
     "text": [
      "found a match\n",
      "(24, 26)\n",
      "12\n"
     ]
    }
   ],
   "source": [
    "Search(\"[0-5]{2}\",\"can you help me find my 12 lost cats please\")"
   ]
  },
  {
   "cell_type": "code",
   "execution_count": 46,
   "metadata": {},
   "outputs": [
    {
     "name": "stdout",
     "output_type": "stream",
     "text": [
      "found a match\n",
      "(34, 36)\n",
      "12\n"
     ]
    }
   ],
   "source": [
    "Search(\"[0-5]{2}\",\"can you 17 people help me find my 12 lost cats please?\")"
   ]
  },
  {
   "cell_type": "code",
   "execution_count": 49,
   "metadata": {
    "scrolled": true,
    "tags": []
   },
   "outputs": [
    {
     "name": "stdout",
     "output_type": "stream",
     "text": [
      "found a match\n",
      "(4, 10)\n",
      "hoping\n"
     ]
    }
   ],
   "source": [
    "Search(\"[g-m][n-z][a-z]+\",\"I'm hoping you can you help me find my lost cat.\")"
   ]
  },
  {
   "cell_type": "code",
   "execution_count": 50,
   "metadata": {},
   "outputs": [
    {
     "name": "stdout",
     "output_type": "stream",
     "text": [
      "found a match\n",
      "(21, 23)\n",
      "my\n"
     ]
    }
   ],
   "source": [
    "Search(\"[g-mt-z]{2}\",\"Can you help me find my lost cat please?\")"
   ]
  },
  {
   "cell_type": "code",
   "execution_count": 51,
   "metadata": {},
   "outputs": [
    {
     "name": "stdout",
     "output_type": "stream",
     "text": [
      "found a match\n",
      "(1, 3)\n",
      "82\n"
     ]
    }
   ],
   "source": [
    "Search(\"[4-8][1-2]\",\"5823824854782102786467438\")"
   ]
  },
  {
   "cell_type": "markdown",
   "metadata": {},
   "source": [
    "**Escape again**\n",
    "\n",
    "If you want your set to include the \"-\" character, it needs to be escaped. \n",
    "\n",
    "Here we search for a three character pattern using the space or dash. "
   ]
  },
  {
   "cell_type": "code",
   "execution_count": 53,
   "metadata": {},
   "outputs": [
    {
     "name": "stdout",
     "output_type": "stream",
     "text": [
      "found a match\n",
      "(23, 26)\n",
      " - \n"
     ]
    }
   ],
   "source": [
    "Search(\"[\\- ]{3}\",\"If you are around today - can you please email me?\")"
   ]
  },
  {
   "cell_type": "markdown",
   "metadata": {},
   "source": [
    "**Special re characters inside \\[\\]**\n",
    "\n",
    "Most special re characters inside []'s are taken literally, i.e. they are not interpreted as having any special meaning. "
   ]
  },
  {
   "cell_type": "code",
   "execution_count": 54,
   "metadata": {},
   "outputs": [
    {
     "name": "stdout",
     "output_type": "stream",
     "text": [
      "found a match\n",
      "(1, 2)\n",
      "*\n"
     ]
    }
   ],
   "source": [
    "Search(\"[/*+]\",\"8*9=72\")"
   ]
  },
  {
   "cell_type": "code",
   "execution_count": 55,
   "metadata": {},
   "outputs": [
    {
     "name": "stdout",
     "output_type": "stream",
     "text": [
      "found a match\n",
      "(1, 2)\n",
      "/\n"
     ]
    }
   ],
   "source": [
    "Search(\"[/*+]\",\"8/2=4\")"
   ]
  },
  {
   "cell_type": "code",
   "execution_count": 56,
   "metadata": {},
   "outputs": [
    {
     "name": "stdout",
     "output_type": "stream",
     "text": [
      "found a match\n",
      "(1, 2)\n",
      "+\n"
     ]
    }
   ],
   "source": [
    "Search(\"[/*+]\",\"8+2=10\")"
   ]
  },
  {
   "cell_type": "code",
   "execution_count": 57,
   "metadata": {},
   "outputs": [
    {
     "name": "stdout",
     "output_type": "stream",
     "text": [
      "found a match\n",
      "(23, 24)\n",
      "?\n"
     ]
    }
   ],
   "source": [
    "Search(\"[?]\",\"Did she have a nice day? Did you?\")"
   ]
  },
  {
   "cell_type": "code",
   "execution_count": 58,
   "metadata": {},
   "outputs": [
    {
     "name": "stdout",
     "output_type": "stream",
     "text": [
      "found a match\n",
      "(32, 33)\n",
      "?\n"
     ]
    }
   ],
   "source": [
    "Search(\"[?]$\",\"Did she have a nice day? Did you?\")"
   ]
  },
  {
   "cell_type": "markdown",
   "metadata": {},
   "source": [
    "**Escaping characters with special re meaning**\n",
    "\n",
    "The backslash can still be used as to escape the meaning to re of a character."
   ]
  },
  {
   "cell_type": "code",
   "execution_count": 59,
   "metadata": {},
   "outputs": [
    {
     "name": "stdout",
     "output_type": "stream",
     "text": [
      "no match\n"
     ]
    }
   ],
   "source": [
    "Search(\"[/*-+]\",\"10-2=8\")"
   ]
  },
  {
   "cell_type": "code",
   "execution_count": 60,
   "metadata": {},
   "outputs": [
    {
     "name": "stdout",
     "output_type": "stream",
     "text": [
      "found a match\n",
      "(2, 3)\n",
      "-\n"
     ]
    }
   ],
   "source": [
    "Search(\"[/*\\-+]\",\"10-2=8\")"
   ]
  },
  {
   "cell_type": "markdown",
   "metadata": {},
   "source": [
    "**Special non-re characters**\n",
    "\n",
    "The backslash still gets its usual special meaning in a python strings."
   ]
  },
  {
   "cell_type": "code",
   "execution_count": 61,
   "metadata": {},
   "outputs": [
    {
     "name": "stdout",
     "output_type": "stream",
     "text": [
      "found a match\n",
      "(12, 13)\n",
      "\t\n"
     ]
    }
   ],
   "source": [
    "Search(\"[\\t]\",\"Have a nice \\t day.\")"
   ]
  },
  {
   "cell_type": "code",
   "execution_count": 62,
   "metadata": {},
   "outputs": [
    {
     "name": "stdout",
     "output_type": "stream",
     "text": [
      "found a match\n",
      "(0, 4)\n",
      "ABAB\n"
     ]
    }
   ],
   "source": [
    "Search(\"[\\x41\\x42]+\",\"ABAB\")"
   ]
  },
  {
   "cell_type": "code",
   "execution_count": 63,
   "metadata": {},
   "outputs": [
    {
     "name": "stdout",
     "output_type": "stream",
     "text": [
      "found a match\n",
      "(0, 4)\n",
      "ABAB\n"
     ]
    }
   ],
   "source": [
    "Search(\"[\\101\\102]+\",\"ABAB\")"
   ]
  },
  {
   "cell_type": "code",
   "execution_count": 64,
   "metadata": {},
   "outputs": [
    {
     "name": "stdout",
     "output_type": "stream",
     "text": [
      "found a match\n",
      "(32, 33)\n",
      "?\n"
     ]
    }
   ],
   "source": [
    "Search(\"[?]$\",\"Did she have a nice day? Did you?\")"
   ]
  },
  {
   "cell_type": "markdown",
   "metadata": {},
   "source": [
    "**Finding a single backslash**\n",
    "\n",
    "How can we find a single backslash in a string? \n",
    "\n",
    "Consider the following example."
   ]
  },
  {
   "cell_type": "code",
   "execution_count": 65,
   "metadata": {},
   "outputs": [
    {
     "name": "stdout",
     "output_type": "stream",
     "text": [
      "8\\2\n",
      "3\n",
      "\\\n",
      "1\n"
     ]
    },
    {
     "ename": "error",
     "evalue": "bad escape (end of pattern) at position 0",
     "output_type": "error",
     "traceback": [
      "\u001b[1;31m---------------------------------------------------------------------------\u001b[0m",
      "\u001b[1;31merror\u001b[0m                                     Traceback (most recent call last)",
      "\u001b[1;32m~\\AppData\\Local\\Temp/ipykernel_51820/1472820637.py\u001b[0m in \u001b[0;36m<module>\u001b[1;34m\u001b[0m\n\u001b[0;32m      5\u001b[0m \u001b[0mprint\u001b[0m\u001b[1;33m(\u001b[0m\u001b[0mpattern\u001b[0m\u001b[1;33m)\u001b[0m\u001b[1;33m\u001b[0m\u001b[1;33m\u001b[0m\u001b[0m\n\u001b[0;32m      6\u001b[0m \u001b[0mprint\u001b[0m\u001b[1;33m(\u001b[0m\u001b[0mlen\u001b[0m\u001b[1;33m(\u001b[0m\u001b[0mpattern\u001b[0m\u001b[1;33m)\u001b[0m\u001b[1;33m)\u001b[0m\u001b[1;33m\u001b[0m\u001b[1;33m\u001b[0m\u001b[0m\n\u001b[1;32m----> 7\u001b[1;33m \u001b[0mSearch\u001b[0m\u001b[1;33m(\u001b[0m\u001b[0mpattern\u001b[0m\u001b[1;33m,\u001b[0m\u001b[0mtext\u001b[0m\u001b[1;33m)\u001b[0m\u001b[1;33m\u001b[0m\u001b[1;33m\u001b[0m\u001b[0m\n\u001b[0m",
      "\u001b[1;32m~\\AppData\\Local\\Temp/ipykernel_51820/3373248789.py\u001b[0m in \u001b[0;36mSearch\u001b[1;34m(pattern, text, flags)\u001b[0m\n\u001b[0;32m      1\u001b[0m \u001b[1;32mimport\u001b[0m \u001b[0mre\u001b[0m\u001b[1;33m\u001b[0m\u001b[1;33m\u001b[0m\u001b[0m\n\u001b[0;32m      2\u001b[0m \u001b[1;32mdef\u001b[0m \u001b[0mSearch\u001b[0m\u001b[1;33m(\u001b[0m\u001b[0mpattern\u001b[0m\u001b[1;33m,\u001b[0m\u001b[0mtext\u001b[0m\u001b[1;33m,\u001b[0m\u001b[0mflags\u001b[0m\u001b[1;33m=\u001b[0m\u001b[1;36m0\u001b[0m\u001b[1;33m)\u001b[0m\u001b[1;33m:\u001b[0m\u001b[1;33m\u001b[0m\u001b[1;33m\u001b[0m\u001b[0m\n\u001b[1;32m----> 3\u001b[1;33m     \u001b[0mm\u001b[0m\u001b[1;33m=\u001b[0m\u001b[0mre\u001b[0m\u001b[1;33m.\u001b[0m\u001b[0msearch\u001b[0m\u001b[1;33m(\u001b[0m\u001b[0mpattern\u001b[0m\u001b[1;33m,\u001b[0m\u001b[0mtext\u001b[0m\u001b[1;33m,\u001b[0m\u001b[0mflags\u001b[0m\u001b[1;33m)\u001b[0m\u001b[1;33m\u001b[0m\u001b[1;33m\u001b[0m\u001b[0m\n\u001b[0m\u001b[0;32m      4\u001b[0m     \u001b[1;32mif\u001b[0m \u001b[0mm\u001b[0m\u001b[1;33m:\u001b[0m\u001b[1;33m\u001b[0m\u001b[1;33m\u001b[0m\u001b[0m\n\u001b[0;32m      5\u001b[0m         \u001b[0mprint\u001b[0m\u001b[1;33m(\u001b[0m\u001b[1;34m\"found a match\"\u001b[0m\u001b[1;33m)\u001b[0m\u001b[1;33m\u001b[0m\u001b[1;33m\u001b[0m\u001b[0m\n",
      "\u001b[1;32m~\\anaconda3\\lib\\re.py\u001b[0m in \u001b[0;36msearch\u001b[1;34m(pattern, string, flags)\u001b[0m\n\u001b[0;32m    199\u001b[0m     \"\"\"Scan through string looking for a match to the pattern, returning\n\u001b[0;32m    200\u001b[0m     a Match object, or None if no match was found.\"\"\"\n\u001b[1;32m--> 201\u001b[1;33m     \u001b[1;32mreturn\u001b[0m \u001b[0m_compile\u001b[0m\u001b[1;33m(\u001b[0m\u001b[0mpattern\u001b[0m\u001b[1;33m,\u001b[0m \u001b[0mflags\u001b[0m\u001b[1;33m)\u001b[0m\u001b[1;33m.\u001b[0m\u001b[0msearch\u001b[0m\u001b[1;33m(\u001b[0m\u001b[0mstring\u001b[0m\u001b[1;33m)\u001b[0m\u001b[1;33m\u001b[0m\u001b[1;33m\u001b[0m\u001b[0m\n\u001b[0m\u001b[0;32m    202\u001b[0m \u001b[1;33m\u001b[0m\u001b[0m\n\u001b[0;32m    203\u001b[0m \u001b[1;32mdef\u001b[0m \u001b[0msub\u001b[0m\u001b[1;33m(\u001b[0m\u001b[0mpattern\u001b[0m\u001b[1;33m,\u001b[0m \u001b[0mrepl\u001b[0m\u001b[1;33m,\u001b[0m \u001b[0mstring\u001b[0m\u001b[1;33m,\u001b[0m \u001b[0mcount\u001b[0m\u001b[1;33m=\u001b[0m\u001b[1;36m0\u001b[0m\u001b[1;33m,\u001b[0m \u001b[0mflags\u001b[0m\u001b[1;33m=\u001b[0m\u001b[1;36m0\u001b[0m\u001b[1;33m)\u001b[0m\u001b[1;33m:\u001b[0m\u001b[1;33m\u001b[0m\u001b[1;33m\u001b[0m\u001b[0m\n",
      "\u001b[1;32m~\\anaconda3\\lib\\re.py\u001b[0m in \u001b[0;36m_compile\u001b[1;34m(pattern, flags)\u001b[0m\n\u001b[0;32m    302\u001b[0m     \u001b[1;32mif\u001b[0m \u001b[1;32mnot\u001b[0m \u001b[0msre_compile\u001b[0m\u001b[1;33m.\u001b[0m\u001b[0misstring\u001b[0m\u001b[1;33m(\u001b[0m\u001b[0mpattern\u001b[0m\u001b[1;33m)\u001b[0m\u001b[1;33m:\u001b[0m\u001b[1;33m\u001b[0m\u001b[1;33m\u001b[0m\u001b[0m\n\u001b[0;32m    303\u001b[0m         \u001b[1;32mraise\u001b[0m \u001b[0mTypeError\u001b[0m\u001b[1;33m(\u001b[0m\u001b[1;34m\"first argument must be string or compiled pattern\"\u001b[0m\u001b[1;33m)\u001b[0m\u001b[1;33m\u001b[0m\u001b[1;33m\u001b[0m\u001b[0m\n\u001b[1;32m--> 304\u001b[1;33m     \u001b[0mp\u001b[0m \u001b[1;33m=\u001b[0m \u001b[0msre_compile\u001b[0m\u001b[1;33m.\u001b[0m\u001b[0mcompile\u001b[0m\u001b[1;33m(\u001b[0m\u001b[0mpattern\u001b[0m\u001b[1;33m,\u001b[0m \u001b[0mflags\u001b[0m\u001b[1;33m)\u001b[0m\u001b[1;33m\u001b[0m\u001b[1;33m\u001b[0m\u001b[0m\n\u001b[0m\u001b[0;32m    305\u001b[0m     \u001b[1;32mif\u001b[0m \u001b[1;32mnot\u001b[0m \u001b[1;33m(\u001b[0m\u001b[0mflags\u001b[0m \u001b[1;33m&\u001b[0m \u001b[0mDEBUG\u001b[0m\u001b[1;33m)\u001b[0m\u001b[1;33m:\u001b[0m\u001b[1;33m\u001b[0m\u001b[1;33m\u001b[0m\u001b[0m\n\u001b[0;32m    306\u001b[0m         \u001b[1;32mif\u001b[0m \u001b[0mlen\u001b[0m\u001b[1;33m(\u001b[0m\u001b[0m_cache\u001b[0m\u001b[1;33m)\u001b[0m \u001b[1;33m>=\u001b[0m \u001b[0m_MAXCACHE\u001b[0m\u001b[1;33m:\u001b[0m\u001b[1;33m\u001b[0m\u001b[1;33m\u001b[0m\u001b[0m\n",
      "\u001b[1;32m~\\anaconda3\\lib\\sre_compile.py\u001b[0m in \u001b[0;36mcompile\u001b[1;34m(p, flags)\u001b[0m\n\u001b[0;32m    762\u001b[0m     \u001b[1;32mif\u001b[0m \u001b[0misstring\u001b[0m\u001b[1;33m(\u001b[0m\u001b[0mp\u001b[0m\u001b[1;33m)\u001b[0m\u001b[1;33m:\u001b[0m\u001b[1;33m\u001b[0m\u001b[1;33m\u001b[0m\u001b[0m\n\u001b[0;32m    763\u001b[0m         \u001b[0mpattern\u001b[0m \u001b[1;33m=\u001b[0m \u001b[0mp\u001b[0m\u001b[1;33m\u001b[0m\u001b[1;33m\u001b[0m\u001b[0m\n\u001b[1;32m--> 764\u001b[1;33m         \u001b[0mp\u001b[0m \u001b[1;33m=\u001b[0m \u001b[0msre_parse\u001b[0m\u001b[1;33m.\u001b[0m\u001b[0mparse\u001b[0m\u001b[1;33m(\u001b[0m\u001b[0mp\u001b[0m\u001b[1;33m,\u001b[0m \u001b[0mflags\u001b[0m\u001b[1;33m)\u001b[0m\u001b[1;33m\u001b[0m\u001b[1;33m\u001b[0m\u001b[0m\n\u001b[0m\u001b[0;32m    765\u001b[0m     \u001b[1;32melse\u001b[0m\u001b[1;33m:\u001b[0m\u001b[1;33m\u001b[0m\u001b[1;33m\u001b[0m\u001b[0m\n\u001b[0;32m    766\u001b[0m         \u001b[0mpattern\u001b[0m \u001b[1;33m=\u001b[0m \u001b[1;32mNone\u001b[0m\u001b[1;33m\u001b[0m\u001b[1;33m\u001b[0m\u001b[0m\n",
      "\u001b[1;32m~\\anaconda3\\lib\\sre_parse.py\u001b[0m in \u001b[0;36mparse\u001b[1;34m(str, flags, state)\u001b[0m\n\u001b[0;32m    938\u001b[0m     \u001b[1;31m# parse 're' pattern into list of (opcode, argument) tuples\u001b[0m\u001b[1;33m\u001b[0m\u001b[1;33m\u001b[0m\u001b[0m\n\u001b[0;32m    939\u001b[0m \u001b[1;33m\u001b[0m\u001b[0m\n\u001b[1;32m--> 940\u001b[1;33m     \u001b[0msource\u001b[0m \u001b[1;33m=\u001b[0m \u001b[0mTokenizer\u001b[0m\u001b[1;33m(\u001b[0m\u001b[0mstr\u001b[0m\u001b[1;33m)\u001b[0m\u001b[1;33m\u001b[0m\u001b[1;33m\u001b[0m\u001b[0m\n\u001b[0m\u001b[0;32m    941\u001b[0m \u001b[1;33m\u001b[0m\u001b[0m\n\u001b[0;32m    942\u001b[0m     \u001b[1;32mif\u001b[0m \u001b[0mstate\u001b[0m \u001b[1;32mis\u001b[0m \u001b[1;32mNone\u001b[0m\u001b[1;33m:\u001b[0m\u001b[1;33m\u001b[0m\u001b[1;33m\u001b[0m\u001b[0m\n",
      "\u001b[1;32m~\\anaconda3\\lib\\sre_parse.py\u001b[0m in \u001b[0;36m__init__\u001b[1;34m(self, string)\u001b[0m\n\u001b[0;32m    230\u001b[0m         \u001b[0mself\u001b[0m\u001b[1;33m.\u001b[0m\u001b[0mindex\u001b[0m \u001b[1;33m=\u001b[0m \u001b[1;36m0\u001b[0m\u001b[1;33m\u001b[0m\u001b[1;33m\u001b[0m\u001b[0m\n\u001b[0;32m    231\u001b[0m         \u001b[0mself\u001b[0m\u001b[1;33m.\u001b[0m\u001b[0mnext\u001b[0m \u001b[1;33m=\u001b[0m \u001b[1;32mNone\u001b[0m\u001b[1;33m\u001b[0m\u001b[1;33m\u001b[0m\u001b[0m\n\u001b[1;32m--> 232\u001b[1;33m         \u001b[0mself\u001b[0m\u001b[1;33m.\u001b[0m\u001b[0m__next\u001b[0m\u001b[1;33m(\u001b[0m\u001b[1;33m)\u001b[0m\u001b[1;33m\u001b[0m\u001b[1;33m\u001b[0m\u001b[0m\n\u001b[0m\u001b[0;32m    233\u001b[0m     \u001b[1;32mdef\u001b[0m \u001b[0m__next\u001b[0m\u001b[1;33m(\u001b[0m\u001b[0mself\u001b[0m\u001b[1;33m)\u001b[0m\u001b[1;33m:\u001b[0m\u001b[1;33m\u001b[0m\u001b[1;33m\u001b[0m\u001b[0m\n\u001b[0;32m    234\u001b[0m         \u001b[0mindex\u001b[0m \u001b[1;33m=\u001b[0m \u001b[0mself\u001b[0m\u001b[1;33m.\u001b[0m\u001b[0mindex\u001b[0m\u001b[1;33m\u001b[0m\u001b[1;33m\u001b[0m\u001b[0m\n",
      "\u001b[1;32m~\\anaconda3\\lib\\sre_parse.py\u001b[0m in \u001b[0;36m__next\u001b[1;34m(self)\u001b[0m\n\u001b[0;32m    243\u001b[0m                 \u001b[0mchar\u001b[0m \u001b[1;33m+=\u001b[0m \u001b[0mself\u001b[0m\u001b[1;33m.\u001b[0m\u001b[0mdecoded_string\u001b[0m\u001b[1;33m[\u001b[0m\u001b[0mindex\u001b[0m\u001b[1;33m]\u001b[0m\u001b[1;33m\u001b[0m\u001b[1;33m\u001b[0m\u001b[0m\n\u001b[0;32m    244\u001b[0m             \u001b[1;32mexcept\u001b[0m \u001b[0mIndexError\u001b[0m\u001b[1;33m:\u001b[0m\u001b[1;33m\u001b[0m\u001b[1;33m\u001b[0m\u001b[0m\n\u001b[1;32m--> 245\u001b[1;33m                 raise error(\"bad escape (end of pattern)\",\n\u001b[0m\u001b[0;32m    246\u001b[0m                             self.string, len(self.string) - 1) from None\n\u001b[0;32m    247\u001b[0m         \u001b[0mself\u001b[0m\u001b[1;33m.\u001b[0m\u001b[0mindex\u001b[0m \u001b[1;33m=\u001b[0m \u001b[0mindex\u001b[0m \u001b[1;33m+\u001b[0m \u001b[1;36m1\u001b[0m\u001b[1;33m\u001b[0m\u001b[1;33m\u001b[0m\u001b[0m\n",
      "\u001b[1;31merror\u001b[0m: bad escape (end of pattern) at position 0"
     ]
    }
   ],
   "source": [
    "text=\"8\\\\2\"\n",
    "print(text)\n",
    "print(len(text))\n",
    "pattern=\"\\\\\"\n",
    "print(pattern)\n",
    "print(len(pattern))\n",
    "Search(pattern,text)"
   ]
  },
  {
   "cell_type": "markdown",
   "metadata": {},
   "source": [
    "The issue here is that the pattern string consisting of a single backslash is problematic for the re.search function. That backslash needs to be escaped.\n",
    "\n",
    "Consequently, we need to take as our initial pattern \"\\\\\\\\\". "
   ]
  },
  {
   "cell_type": "code",
   "execution_count": 66,
   "metadata": {},
   "outputs": [
    {
     "name": "stdout",
     "output_type": "stream",
     "text": [
      "8\\2\n",
      "3\n",
      "\\\\\n",
      "2\n",
      "found a match\n",
      "(1, 2)\n",
      "\\\n"
     ]
    }
   ],
   "source": [
    "text=\"8\\\\2\"\n",
    "print(text)\n",
    "print(len(text))\n",
    "pattern=\"\\\\\\\\\"\n",
    "print(pattern)\n",
    "print(len(pattern))\n",
    "Search(pattern,text)"
   ]
  },
  {
   "cell_type": "markdown",
   "metadata": {},
   "source": [
    "Or we can use two backslashes in a raw string. "
   ]
  },
  {
   "cell_type": "code",
   "execution_count": 67,
   "metadata": {},
   "outputs": [
    {
     "name": "stdout",
     "output_type": "stream",
     "text": [
      "8\\2\n",
      "3\n",
      "\\\\\n",
      "2\n",
      "found a match\n",
      "(1, 2)\n",
      "\\\n"
     ]
    }
   ],
   "source": [
    "text=\"8\\\\2\"\n",
    "print(text)\n",
    "print(len(text))\n",
    "pattern=r\"\\\\\"\n",
    "print(pattern)\n",
    "print(len(pattern))\n",
    "Search(pattern,text)"
   ]
  },
  {
   "cell_type": "markdown",
   "metadata": {},
   "source": [
    "**Character Sets**\n",
    "\n",
    "**Digits/non-digits**\n",
    "\n",
    "There are some special classes of characters that can appear in search patterns. For example, **\\d** refers to any digit (0-9), **\\D** refers to a non-digit.\n",
    "\n",
    "- **\\d** is the same as **\\[0-9\\]**\n",
    "- **\\D** is the same as **\\[^0-9\\]**\n"
   ]
  },
  {
   "cell_type": "code",
   "execution_count": 68,
   "metadata": {},
   "outputs": [
    {
     "name": "stdout",
     "output_type": "stream",
     "text": [
      "found a match\n",
      "(0, 1)\n",
      "9\n"
     ]
    }
   ],
   "source": [
    "Search(\"\\d\",\"9\")"
   ]
  },
  {
   "cell_type": "code",
   "execution_count": 69,
   "metadata": {},
   "outputs": [
    {
     "name": "stdout",
     "output_type": "stream",
     "text": [
      "no match\n"
     ]
    }
   ],
   "source": [
    "Search(\"\\d\",\"-\")"
   ]
  },
  {
   "cell_type": "code",
   "execution_count": 70,
   "metadata": {},
   "outputs": [
    {
     "name": "stdout",
     "output_type": "stream",
     "text": [
      "no match\n"
     ]
    }
   ],
   "source": [
    "Search(\"\\D\",\"9\")"
   ]
  },
  {
   "cell_type": "code",
   "execution_count": 71,
   "metadata": {},
   "outputs": [
    {
     "name": "stdout",
     "output_type": "stream",
     "text": [
      "found a match\n",
      "(0, 1)\n",
      "-\n"
     ]
    }
   ],
   "source": [
    "Search(\"\\D\",\"-\")"
   ]
  },
  {
   "cell_type": "markdown",
   "metadata": {
    "jp-MarkdownHeadingCollapsed": true,
    "tags": []
   },
   "source": [
    "**Word/non-word characters**\n",
    "\n",
    "**\\w** refers to a word character, defined as a single letter, digit or underscore character\n",
    "**\\W** refers to non word character\n",
    "\n",
    "- **\\w** is the same as **\\[a-z0-9_\\]**\n",
    "\n",
    "- **\\W** is the same as **\\[^a-z0-9_\\]**\n",
    "\n"
   ]
  },
  {
   "cell_type": "code",
   "execution_count": 75,
   "metadata": {},
   "outputs": [
    {
     "name": "stdout",
     "output_type": "stream",
     "text": [
      "found a match\n",
      "(19, 26)\n",
      " E3Y4F7\n"
     ]
    }
   ],
   "source": [
    "pattern=\"\\W(\\w\\d){3}\"\n",
    "string=\"My license plate is E3Y4F7.\"\n",
    "Search(pattern,string)"
   ]
  },
  {
   "cell_type": "markdown",
   "metadata": {},
   "source": [
    "**White space characters**\n",
    "\n",
    "White space characters (newline, space, tab, etc.) are indicated with **\\s** and non-white space using **\\S**. \n",
    "\n",
    "So one could use the following to search for a phone number."
   ]
  },
  {
   "cell_type": "code",
   "execution_count": 76,
   "metadata": {},
   "outputs": [
    {
     "data": {
      "text/plain": [
       "<re.Match object; span=(20, 33), match=' 877-236-1876'>"
      ]
     },
     "execution_count": 76,
     "metadata": {},
     "output_type": "execute_result"
    }
   ],
   "source": [
    "import re\n",
    "pattern=\"\\s\\d{3}-\\d{3}-\\d{4}\"\n",
    "string=\"Is your phone number 877-236-1876?\"\n",
    "re.search(pattern,string)"
   ]
  },
  {
   "cell_type": "markdown",
   "metadata": {},
   "source": [
    "**Example**\n",
    "\n",
    "We can search for a date (I mean in a text string!)."
   ]
  },
  {
   "cell_type": "code",
   "execution_count": 77,
   "metadata": {},
   "outputs": [
    {
     "name": "stdout",
     "output_type": "stream",
     "text": [
      "found a match\n",
      "(13, 24)\n",
      " 04/12/1955\n"
     ]
    }
   ],
   "source": [
    "Search(\"\\s\\d{2}[_/\\-]?\\d{2}[_/\\-]?\\d{4}\",\"I was born on 04/12/1955\")"
   ]
  },
  {
   "cell_type": "code",
   "execution_count": 78,
   "metadata": {},
   "outputs": [
    {
     "name": "stdout",
     "output_type": "stream",
     "text": [
      "found a match\n",
      "(13, 24)\n",
      " 04_12_1955\n"
     ]
    }
   ],
   "source": [
    "Search(\"\\s\\d{2}[_/\\-]?\\d{2}[_/\\-]?\\d{4}\",\"I was born on 04_12_1955\")"
   ]
  },
  {
   "cell_type": "code",
   "execution_count": 79,
   "metadata": {},
   "outputs": [
    {
     "name": "stdout",
     "output_type": "stream",
     "text": [
      "found a match\n",
      "(13, 24)\n",
      " 04-12-1955\n"
     ]
    }
   ],
   "source": [
    "Search(\"\\s\\d{2}[_/\\-]?\\d{2}[_/\\-]?\\d{4}\",\"I was born on 04-12-1955\")"
   ]
  },
  {
   "cell_type": "code",
   "execution_count": 80,
   "metadata": {},
   "outputs": [
    {
     "name": "stdout",
     "output_type": "stream",
     "text": [
      "found a match\n",
      "(13, 22)\n",
      " 04121955\n"
     ]
    }
   ],
   "source": [
    "Search(\"\\s\\d{2}[_/\\-]?\\d{2}[_/\\-]?\\d{4}\",\"I was born on 04121955\")"
   ]
  },
  {
   "cell_type": "markdown",
   "metadata": {},
   "source": [
    "**Logical or** \n",
    "\n",
    "The construction A|B is used to match occurences of one regular expression A or another B."
   ]
  },
  {
   "cell_type": "code",
   "execution_count": 81,
   "metadata": {},
   "outputs": [
    {
     "name": "stdout",
     "output_type": "stream",
     "text": [
      "found a match\n",
      "(13, 16)\n",
      "dog\n"
     ]
    }
   ],
   "source": [
    "pattern=\"(dog)|(cat)\"\n",
    "string=\"I don't like dogs, I do like cats\"\n",
    "Search(pattern,string)"
   ]
  },
  {
   "cell_type": "markdown",
   "metadata": {},
   "source": [
    "In the above example, you can leave out the parentheses with the same result because the | operator gets lowest precedence among regex operators. \n",
    "\n",
    "So the following is the same."
   ]
  },
  {
   "cell_type": "code",
   "execution_count": 82,
   "metadata": {},
   "outputs": [
    {
     "name": "stdout",
     "output_type": "stream",
     "text": [
      "found a match\n",
      "(13, 16)\n",
      "dog\n"
     ]
    }
   ],
   "source": [
    "pattern=\"dog|cat\"\n",
    "string=\"I don't like dogs, I do like cats\"\n",
    "Search(pattern,string)"
   ]
  },
  {
   "cell_type": "markdown",
   "metadata": {},
   "source": [
    "**Another example**\n",
    "\n",
    "Why do you suppose these give different results?"
   ]
  },
  {
   "cell_type": "code",
   "execution_count": 86,
   "metadata": {},
   "outputs": [
    {
     "data": {
      "text/plain": [
       "<re.Match object; span=(13, 16), match='dog'>"
      ]
     },
     "execution_count": 86,
     "metadata": {},
     "output_type": "execute_result"
    }
   ],
   "source": [
    "pattern=\"(dog)|(cat).*cat\"\n",
    "string=\"I don't like dogs, I do like cats\"\n",
    "re.search(pattern,string)"
   ]
  },
  {
   "cell_type": "code",
   "execution_count": 87,
   "metadata": {},
   "outputs": [
    {
     "data": {
      "text/plain": [
       "<re.Match object; span=(13, 32), match='dogs, I do like cat'>"
      ]
     },
     "execution_count": 87,
     "metadata": {},
     "output_type": "execute_result"
    }
   ],
   "source": [
    "pattern=\"((dog)|(cat)).*cat\"\n",
    "string=\"I don't like dogs, I do like cats\"\n",
    "re.search(pattern,string)"
   ]
  },
  {
   "cell_type": "markdown",
   "metadata": {},
   "source": [
    "**Exercise** \n",
    "\n",
    "Try to understand what's going on above."
   ]
  },
  {
   "cell_type": "markdown",
   "metadata": {},
   "source": [
    "**Order of items matters**\n",
    "\n",
    "When using A|B if A matches, B is no longer tried, even if it produces a longer match."
   ]
  },
  {
   "cell_type": "code",
   "execution_count": 88,
   "metadata": {},
   "outputs": [
    {
     "name": "stdout",
     "output_type": "stream",
     "text": [
      "found a match\n",
      "(13, 16)\n",
      "dog\n"
     ]
    }
   ],
   "source": [
    "Search(\"dog|dogs\",\"I don't like dogs, I like cats\")"
   ]
  },
  {
   "cell_type": "code",
   "execution_count": 89,
   "metadata": {},
   "outputs": [
    {
     "name": "stdout",
     "output_type": "stream",
     "text": [
      "found a match\n",
      "(13, 17)\n",
      "dogs\n"
     ]
    }
   ],
   "source": [
    "Search(\"dogs|dog\",\"I don't like dogs, I like cats\")"
   ]
  },
  {
   "cell_type": "markdown",
   "metadata": {},
   "source": [
    "**Multiple regular expressions separated by |**"
   ]
  },
  {
   "cell_type": "code",
   "execution_count": 90,
   "metadata": {},
   "outputs": [
    {
     "data": {
      "text/plain": [
       "<re.Match object; span=(13, 17), match='bird'>"
      ]
     },
     "execution_count": 90,
     "metadata": {},
     "output_type": "execute_result"
    }
   ],
   "source": [
    "import re\n",
    "pattern=\"dog|cat|bird\"\n",
    "string=\"I don't like birds, or cats or dogs.\"\n",
    "re.search(pattern,string)"
   ]
  },
  {
   "cell_type": "markdown",
   "metadata": {},
   "source": [
    "**Operator precedence in re**\n",
    "\n",
    "The standard for operator precedence can be found on this page:\n",
    "\n",
    "&nbsp;&nbsp;&nbsp; https://www.boost.org/doc/libs/1_38_0/libs/regex/doc/html/boost_regex/syntax/basic_extended.html\n",
    "\n",
    "As mentioned above, the alternation symbol | gets lowest precedence."
   ]
  },
  {
   "cell_type": "markdown",
   "metadata": {},
   "source": [
    "**Back References**\n",
    "\n",
    "Once we create an regex group using parentheses, a patten that is matched is stored for a later match.\n",
    "\n",
    "The terms \\1, \\2, ... refer to the groups in order."
   ]
  },
  {
   "cell_type": "code",
   "execution_count": 108,
   "metadata": {},
   "outputs": [
    {
     "name": "stdout",
     "output_type": "stream",
     "text": [
      "found a match\n",
      "(17, 99)\n",
      "dog Fido, did your cat Fida see him?\n",
      "I dig him since he's a great dog. \n",
      "Do you dig\n"
     ]
    }
   ],
   "source": [
    "pattern=r\"(d.g).*(d.g)\"\n",
    "text=\"\"\"\n",
    "I can't find my dog Fido, did your cat Fida see him?\n",
    "I dig him since he's a great dog. \n",
    "Do you dig him too?\n",
    "\"\"\"\n",
    "Search(pattern,text,re.DOTALL)"
   ]
  },
  {
   "cell_type": "code",
   "execution_count": 109,
   "metadata": {},
   "outputs": [
    {
     "name": "stdout",
     "output_type": "stream",
     "text": [
      "(d.g).*\\1\n",
      "found a match\n",
      "(17, 87)\n",
      "dog Fido, did your cat Fida see him?\n",
      "I dig him since he is a great dog\n"
     ]
    }
   ],
   "source": [
    "import re\n",
    "\n",
    "pattern=r\"(d.g).*\\1\"\n",
    "text=\"\"\"\n",
    "I can't find my dog Fido, did your cat Fida see him?\n",
    "I dig him since he is a great dog.\n",
    "Do you dig him too?\n",
    "\"\"\"\n",
    "Search(pattern,text,re.DOTALL)"
   ]
  },
  {
   "cell_type": "code",
   "execution_count": null,
   "metadata": {},
   "outputs": [],
   "source": []
  }
 ],
 "metadata": {
  "kernelspec": {
   "display_name": "Python 3 (ipykernel)",
   "language": "python",
   "name": "python3"
  },
  "language_info": {
   "codemirror_mode": {
    "name": "ipython",
    "version": 3
   },
   "file_extension": ".py",
   "mimetype": "text/x-python",
   "name": "python",
   "nbconvert_exporter": "python",
   "pygments_lexer": "ipython3",
   "version": "3.9.7"
  }
 },
 "nbformat": 4,
 "nbformat_minor": 4
}
