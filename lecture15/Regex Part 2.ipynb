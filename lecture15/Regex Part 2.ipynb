{
 "cells": [
  {
   "cell_type": "markdown",
   "metadata": {},
   "source": [
    "**Regular Expressions - Part 2**\n",
    "\n",
    "Again, we'll make use of the following search function below to avoid repetitive typing.\n",
    "\n",
    "This has been modified to allow for us to pass the **re.DOTALL** flag to be used in a search."
   ]
  },
  {
   "cell_type": "code",
   "execution_count": 1,
   "metadata": {},
   "outputs": [],
   "source": [
    "import re\n",
    "def Search(pattern,text,flags=0):\n",
    "    m=re.search(pattern,text,flags)\n",
    "    if m:\n",
    "        print(\"found a match\")\n",
    "        print(m.span())\n",
    "        print(text[m.start():m.end()])\n",
    "    else:\n",
    "        print(\"no match\")"
   ]
  },
  {
   "cell_type": "code",
   "execution_count": 2,
   "metadata": {},
   "outputs": [
    {
     "name": "stdout",
     "output_type": "stream",
     "text": [
      "no match\n"
     ]
    }
   ],
   "source": [
    "Search(\"dog.*cat\",\"I lost my dog.\\n He was chasing your cat\")"
   ]
  },
  {
   "cell_type": "code",
   "execution_count": 3,
   "metadata": {},
   "outputs": [
    {
     "name": "stdout",
     "output_type": "stream",
     "text": [
      "found a match\n",
      "(10, 39)\n",
      "dog.\n",
      " He was chasing your cat\n"
     ]
    }
   ],
   "source": [
    "Search(\"dog.*cat\",\"I lost my dog.\\n He was chasing your cat\",re.DOTALL)"
   ]
  },
  {
   "cell_type": "markdown",
   "metadata": {},
   "source": [
    "**Escaping**\n",
    "\n",
    "The backslash character is used to escape a special character in a regex pattern. So, for example, for searching for a literal + character, you would need to do something like the followng."
   ]
  },
  {
   "cell_type": "code",
   "execution_count": 4,
   "metadata": {},
   "outputs": [
    {
     "name": "stdout",
     "output_type": "stream",
     "text": [
      "found a match\n",
      "(1, 2)\n",
      "+\n"
     ]
    }
   ],
   "source": [
    "pattern=\"\\+\"\n",
    "text=\"2+5=7\"\n",
    "Search(pattern,text)"
   ]
  },
  {
   "cell_type": "markdown",
   "metadata": {},
   "source": [
    "**Backslash in strings**\n",
    "\n",
    "The backslash appears in strings with other special meanings, including specification of \n",
    "\n",
    "- a character in a string using its hexadecimal (base 16) representation via \\xDD where each D is hexadecimal digit 0-9,A-F.\n",
    "- a character in a string using its octal (base 8) representation via \\DD where each D is an octal digit 0-7.\n",
    "\n",
    "Here is an example where we create a string consisting of a single ASCII character. The decimal number 65 is 41 in hexadecimal and 101 in octal."
   ]
  },
  {
   "cell_type": "code",
   "execution_count": 5,
   "metadata": {},
   "outputs": [
    {
     "name": "stdout",
     "output_type": "stream",
     "text": [
      "A\n",
      "A\n",
      "A\n",
      "True\n",
      "True\n"
     ]
    }
   ],
   "source": [
    "text1=\"\\x41\"\n",
    "text2=\"\\101\"\n",
    "text3=chr(65)\n",
    "print(text1)\n",
    "print(text2)\n",
    "print(text3)\n",
    "print(text1==text2)\n",
    "print(text1==text3)"
   ]
  },
  {
   "cell_type": "markdown",
   "metadata": {},
   "source": [
    "**Extended ASCII range**\n",
    "\n",
    "The same works when use the range from 128-255 (what is referred to as the *extended ASCII* range). Here, we create a string with a single character corresponding to the decimal 129."
   ]
  },
  {
   "cell_type": "code",
   "execution_count": 6,
   "metadata": {},
   "outputs": [
    {
     "name": "stdout",
     "output_type": "stream",
     "text": [
      "\n",
      "\n",
      "\n",
      "True\n",
      "True\n"
     ]
    }
   ],
   "source": [
    "text1=\"\\x81\"\n",
    "text2=\"\\201\"\n",
    "text3=chr(129)\n",
    "print(text1)\n",
    "print(text2)\n",
    "print(text3)\n",
    "print(text1==text2)\n",
    "print(text1==text3)"
   ]
  },
  {
   "cell_type": "markdown",
   "metadata": {},
   "source": [
    "And we can create strings with multiple characters in this manner."
   ]
  },
  {
   "cell_type": "code",
   "execution_count": 7,
   "metadata": {},
   "outputs": [
    {
     "name": "stdout",
     "output_type": "stream",
     "text": [
      "AA\n"
     ]
    },
    {
     "data": {
      "text/plain": [
       "4"
      ]
     },
     "execution_count": 7,
     "metadata": {},
     "output_type": "execute_result"
    }
   ],
   "source": [
    "text=\"\\x41\\101\\x81\\201\"\n",
    "print(text)\n",
    "len(text)"
   ]
  },
  {
   "cell_type": "markdown",
   "metadata": {},
   "source": [
    "**Putting a literal backslash in a pattern**\n",
    "\n",
    "When we want a pattern string to have a literal backslash in it some care is required.\n",
    "\n",
    "For example, using\n",
    "\n",
    "text=\"\\\\\"\n",
    "\n",
    "doesn't work because \\\" means literal quote in a string and the string is not closed properly."
   ]
  },
  {
   "cell_type": "markdown",
   "metadata": {},
   "source": [
    "**What can we do?**\n",
    "\n",
    "We have these options:\n",
    "\n",
    "- escape the backslash\n",
    "- use chr(92)\n",
    "- use the unicode representation \\x5c "
   ]
  },
  {
   "cell_type": "code",
   "execution_count": 8,
   "metadata": {},
   "outputs": [
    {
     "name": "stdout",
     "output_type": "stream",
     "text": [
      "\\\n",
      "True\n",
      "True\n"
     ]
    }
   ],
   "source": [
    "text1=\"\\\\\"\n",
    "text2=chr(92)\n",
    "text3=b\"\\x5c\".decode()\n",
    "print(text1)\n",
    "print(text1==text2)\n",
    "print(text1==text3)"
   ]
  },
  {
   "cell_type": "markdown",
   "metadata": {
    "tags": []
   },
   "source": [
    "**Raw Strings**\n",
    "\n",
    "There will be instances in which we want to create a search pattern or a text string and we want all of the characters in our string to be interpreted literally, rather than using their special meaning in Python strings. \n",
    "\n",
    "Python provides the **raw string** mechanism for telling the interpreter to take all of the characters literally, without interpretation. \n",
    "\n",
    "In the following example, here's a sentence one might see in a textbook explaing how latex works.\n",
    "\n",
    "\"In latex, we use \\xi to represent the greek letter $\\xi.$\"\n",
    "\n",
    "And in a textbook explaining unicode, we might write this:\n",
    "\n",
    "'To get the greek character $\\xi$ we would encode the byte array \"\\xCE\\xBE\".'\n",
    "\n",
    "Without escaping the backslash things don't work.\n",
    "\n",
    "For example this would produce an error:\n",
    "\n",
    "text=\"\\\\xi\""
   ]
  },
  {
   "cell_type": "markdown",
   "metadata": {},
   "source": [
    "And this doesn't produce the desired result."
   ]
  },
  {
   "cell_type": "code",
   "execution_count": 9,
   "metadata": {},
   "outputs": [
    {
     "name": "stdout",
     "output_type": "stream",
     "text": [
      "Î\n"
     ]
    }
   ],
   "source": [
    "text=\"\\xCE\"\n",
    "print(text)"
   ]
  },
  {
   "cell_type": "markdown",
   "metadata": {},
   "source": [
    "But escaping works ..."
   ]
  },
  {
   "cell_type": "code",
   "execution_count": 10,
   "metadata": {},
   "outputs": [
    {
     "name": "stdout",
     "output_type": "stream",
     "text": [
      "\\xi\n",
      "\\xCE\n"
     ]
    }
   ],
   "source": [
    "text=\"\\\\xi\"\n",
    "print(text)\n",
    "text=\"\\\\xCE\"\n",
    "print(text)"
   ]
  },
  {
   "cell_type": "markdown",
   "metadata": {},
   "source": [
    "We can also use a raw string."
   ]
  },
  {
   "cell_type": "code",
   "execution_count": 11,
   "metadata": {
    "tags": []
   },
   "outputs": [
    {
     "name": "stdout",
     "output_type": "stream",
     "text": [
      "In latex, we use \\xi to represent the greek letter \n"
     ]
    }
   ],
   "source": [
    "text=r'In latex, we use \\xi to represent the greek letter '\n",
    "print(text)"
   ]
  },
  {
   "cell_type": "code",
   "execution_count": 12,
   "metadata": {},
   "outputs": [
    {
     "name": "stdout",
     "output_type": "stream",
     "text": [
      "\\xCE\\xBE\n"
     ]
    }
   ],
   "source": [
    "text=r'\\xCE\\xBE'\n",
    "print(text)"
   ]
  },
  {
   "cell_type": "markdown",
   "metadata": {},
   "source": [
    "**Getting a single quote in a raw string**\n",
    "\n",
    "There is one issue to be careful of. How do we get a single quote symbol in a strings when we specify as a raw string?\n",
    "\n",
    "We could try\n",
    "\n",
    "text=r'\\\\'\n",
    "\n",
    "but that leads to an error."
   ]
  },
  {
   "cell_type": "markdown",
   "metadata": {},
   "source": [
    "**Explanation**\n",
    "\n",
    "The problem is explained in this portion of the Python tutorial:\n",
    "\n",
    "\"When an 'r' or 'R' prefix is present, a character following a backslash is included in the string without change, and all backslashes are left in the string.\"\n",
    "\n",
    "So the interpreter is trying to include the second single quote in the string, and the string is not terminated.\n",
    "\n",
    "This explains the following example."
   ]
  },
  {
   "cell_type": "code",
   "execution_count": 13,
   "metadata": {
    "tags": []
   },
   "outputs": [
    {
     "name": "stdout",
     "output_type": "stream",
     "text": [
      "\\'\n"
     ]
    }
   ],
   "source": [
    "text=r'\\''\n",
    "print(text)"
   ]
  },
  {
   "cell_type": "markdown",
   "metadata": {},
   "source": [
    "And this example."
   ]
  },
  {
   "cell_type": "code",
   "execution_count": 14,
   "metadata": {},
   "outputs": [
    {
     "name": "stdout",
     "output_type": "stream",
     "text": [
      "\\\\\n"
     ]
    },
    {
     "data": {
      "text/plain": [
       "2"
      ]
     },
     "execution_count": 14,
     "metadata": {},
     "output_type": "execute_result"
    }
   ],
   "source": [
    "text=r'\\\\'\n",
    "print(text)\n",
    "len(text)"
   ]
  },
  {
   "cell_type": "markdown",
   "metadata": {
    "tags": []
   },
   "source": [
    "And as a consequence, an odd number of backslashes as in \n",
    "\n",
    "text=r'\\\\\\\\\\\\'\n",
    "\n",
    "can't be used but an even number can."
   ]
  },
  {
   "cell_type": "code",
   "execution_count": 15,
   "metadata": {
    "tags": []
   },
   "outputs": [
    {
     "name": "stdout",
     "output_type": "stream",
     "text": [
      "\\\\\\\\\n"
     ]
    }
   ],
   "source": [
    "txt=r\"\\\\\\\\\"\n",
    "print(txt)"
   ]
  },
  {
   "cell_type": "markdown",
   "metadata": {},
   "source": [
    "So while use of raw strings in regular expression patterns is strongly advised, there will be times when we have to put a single backslash in a string and then we'll need to break up the pattern into pieces and include a single backslash using one of the methods described above.\n",
    "\n",
    "Since, as we'll see below, the backslash has a special use in regular expressions, we'll need to be mindful of this."
   ]
  },
  {
   "cell_type": "markdown",
   "metadata": {},
   "source": [
    "**Character Classes**\n",
    "\n",
    "Square brackets are used to represent sets of characters. For example, to match one of the letters a, b or c, we can use [abc]."
   ]
  },
  {
   "cell_type": "code",
   "execution_count": null,
   "metadata": {},
   "outputs": [],
   "source": [
    "Search(\"[abc]\",\"d\")"
   ]
  },
  {
   "cell_type": "code",
   "execution_count": null,
   "metadata": {},
   "outputs": [],
   "source": [
    "Search(\"[abc]\",\"help me please\")"
   ]
  },
  {
   "cell_type": "code",
   "execution_count": null,
   "metadata": {},
   "outputs": [],
   "source": [
    "Search(\"[abcde]{2}\",\"can you help me find my lost cat please\")"
   ]
  },
  {
   "cell_type": "markdown",
   "metadata": {},
   "source": [
    "**Some more complicated examples**"
   ]
  },
  {
   "cell_type": "code",
   "execution_count": null,
   "metadata": {},
   "outputs": [],
   "source": [
    "Search(\"^[ab)cden (]+?\",\"n (ab\")"
   ]
  },
  {
   "cell_type": "code",
   "execution_count": null,
   "metadata": {},
   "outputs": [],
   "source": [
    "Search(\"^[ab)cden (]+\",\"n (abx\")"
   ]
  },
  {
   "cell_type": "markdown",
   "metadata": {},
   "source": [
    "**Escaping**\n",
    "\n",
    "As usual, if we want to search for the $[$ character we have to escape it.\n",
    "\n",
    "Observe that the second $]$ is automatically treated as a literal character since there is not an opening $[$ to pair with."
   ]
  },
  {
   "cell_type": "code",
   "execution_count": null,
   "metadata": {},
   "outputs": [],
   "source": [
    "Search(\"\\[[abcdr]+]\",\"[abracadabra]\")"
   ]
  },
  {
   "cell_type": "markdown",
   "metadata": {},
   "source": [
    "**Another use of circumflex**\n",
    "\n",
    "A circumflex at the beginning of the list means any character not included."
   ]
  },
  {
   "cell_type": "code",
   "execution_count": null,
   "metadata": {},
   "outputs": [],
   "source": [
    "Search(\"[^abc]\",\"abcd\")"
   ]
  },
  {
   "cell_type": "code",
   "execution_count": null,
   "metadata": {},
   "outputs": [],
   "source": [
    "Search(\"[^abc]x\",\"c\\tx\")"
   ]
  },
  {
   "cell_type": "markdown",
   "metadata": {},
   "source": [
    "**Character ranges can be used**"
   ]
  },
  {
   "cell_type": "code",
   "execution_count": null,
   "metadata": {},
   "outputs": [],
   "source": [
    "Search(\"[0-5]{2}\",\"can you help me find my 12 lost cats please\")"
   ]
  },
  {
   "cell_type": "code",
   "execution_count": null,
   "metadata": {},
   "outputs": [],
   "source": [
    "Search(\"[0-5]{2}\",\"can you 17 people help me find my 12 lost cats please?\")"
   ]
  },
  {
   "cell_type": "code",
   "execution_count": null,
   "metadata": {
    "scrolled": true,
    "tags": []
   },
   "outputs": [],
   "source": [
    "Search(\"[g-m][n-z][a-z]+\",\"I'm hoping you can you help me find my lost cat.\")"
   ]
  },
  {
   "cell_type": "code",
   "execution_count": null,
   "metadata": {},
   "outputs": [],
   "source": [
    "Search(\"[g-mt-z]{2}\",\"Can you help me find my lost cat please?\")"
   ]
  },
  {
   "cell_type": "code",
   "execution_count": null,
   "metadata": {},
   "outputs": [],
   "source": [
    "Search(\"[4-8][1-2]\",\"5823824854782102786467438\")"
   ]
  },
  {
   "cell_type": "markdown",
   "metadata": {},
   "source": [
    "**Escape again**\n",
    "\n",
    "If you want your set to include the \"-\" character, it needs to be escaped. \n",
    "\n",
    "Here we search for a three character pattern using the space or dash. "
   ]
  },
  {
   "cell_type": "code",
   "execution_count": null,
   "metadata": {},
   "outputs": [],
   "source": [
    "Search(\"[\\- ]{3}\",\"If you are around today - can you please email me?\")"
   ]
  },
  {
   "cell_type": "markdown",
   "metadata": {},
   "source": [
    "**Special re characters inside \\[\\]**\n",
    "\n",
    "Most special re characters inside []'s are taken literally, i.e. they are not interpreted as having any special meaning. "
   ]
  },
  {
   "cell_type": "code",
   "execution_count": null,
   "metadata": {},
   "outputs": [],
   "source": [
    "Search(\"[/*+]\",\"8*9=72\")"
   ]
  },
  {
   "cell_type": "code",
   "execution_count": null,
   "metadata": {},
   "outputs": [],
   "source": [
    "Search(\"[/*+]\",\"8/2=4\")"
   ]
  },
  {
   "cell_type": "code",
   "execution_count": null,
   "metadata": {},
   "outputs": [],
   "source": [
    "Search(\"[/*+]\",\"8+2=10\")"
   ]
  },
  {
   "cell_type": "code",
   "execution_count": null,
   "metadata": {},
   "outputs": [],
   "source": [
    "Search(\"[?]\",\"Did she have a nice day? Did you?\")"
   ]
  },
  {
   "cell_type": "code",
   "execution_count": null,
   "metadata": {},
   "outputs": [],
   "source": [
    "Search(\"[?]$\",\"Did she have a nice day? Did you?\")"
   ]
  },
  {
   "cell_type": "markdown",
   "metadata": {},
   "source": [
    "**Escaping characters with special re meaning**\n",
    "\n",
    "The backslash can still be used as to escape the meaning to re of a character."
   ]
  },
  {
   "cell_type": "code",
   "execution_count": null,
   "metadata": {},
   "outputs": [],
   "source": [
    "Search(\"[/*-+]\",\"10-2=8\")"
   ]
  },
  {
   "cell_type": "code",
   "execution_count": null,
   "metadata": {},
   "outputs": [],
   "source": [
    "Search(\"[/*\\-+]\",\"10-2=8\")"
   ]
  },
  {
   "cell_type": "markdown",
   "metadata": {},
   "source": [
    "**Special non-re characters**\n",
    "\n",
    "The backslash still gets its usual special meaning in a python strings."
   ]
  },
  {
   "cell_type": "code",
   "execution_count": null,
   "metadata": {},
   "outputs": [],
   "source": [
    "Search(\"[\\t]\",\"Have a nice \\t day.\")"
   ]
  },
  {
   "cell_type": "code",
   "execution_count": null,
   "metadata": {},
   "outputs": [],
   "source": [
    "Search(\"[\\x41\\x42]+\",\"ABAB\")"
   ]
  },
  {
   "cell_type": "code",
   "execution_count": null,
   "metadata": {},
   "outputs": [],
   "source": [
    "Search(\"[\\101\\102]+\",\"ABAB\")"
   ]
  },
  {
   "cell_type": "code",
   "execution_count": null,
   "metadata": {},
   "outputs": [],
   "source": [
    "Search(\"[?]$\",\"Did she have a nice day? Did you?\")"
   ]
  },
  {
   "cell_type": "markdown",
   "metadata": {},
   "source": [
    "**Finding a single backslash**\n",
    "\n",
    "How can we find a single backslash in a string? \n",
    "\n",
    "Consider the following example."
   ]
  },
  {
   "cell_type": "code",
   "execution_count": null,
   "metadata": {},
   "outputs": [],
   "source": [
    "text=\"8\\\\2\"\n",
    "print(text)\n",
    "print(len(text))\n",
    "pattern=\"\\\\\"\n",
    "print(pattern)\n",
    "print(len(pattern))\n",
    "Search(pattern,text)"
   ]
  },
  {
   "cell_type": "markdown",
   "metadata": {},
   "source": [
    "The issue here is that the pattern string consisting of a single backslash is problematic for the re.search function. That backslash needs to be escaped.\n",
    "\n",
    "Consequently, we need to take as our initial pattern \"\\\\\\\\\". "
   ]
  },
  {
   "cell_type": "code",
   "execution_count": null,
   "metadata": {},
   "outputs": [],
   "source": [
    "text=\"8\\\\2\"\n",
    "print(text)\n",
    "print(len(text))\n",
    "pattern=\"\\\\\\\\\"\n",
    "print(pattern)\n",
    "print(len(pattern))\n",
    "Search(pattern,text)"
   ]
  },
  {
   "cell_type": "markdown",
   "metadata": {},
   "source": [
    "Or we can use two backslashes in a raw string. "
   ]
  },
  {
   "cell_type": "code",
   "execution_count": null,
   "metadata": {},
   "outputs": [],
   "source": [
    "text=\"8\\\\2\"\n",
    "print(text)\n",
    "print(len(text))\n",
    "pattern=r\"\\\\\"\n",
    "print(pattern)\n",
    "print(len(pattern))\n",
    "Search(pattern,text)"
   ]
  },
  {
   "cell_type": "markdown",
   "metadata": {},
   "source": [
    "**Character Sets**\n",
    "\n",
    "**Digits/non-digits**\n",
    "\n",
    "There are some special classes of characters that can appear in search patterns. For example, **\\d** refers to any digit (0-9), **\\D** refers to a non-digit.\n",
    "\n",
    "- **\\d** is the same as **\\[0-9\\]**\n",
    "- **\\D** is the same as **\\[^0-9\\]**\n"
   ]
  },
  {
   "cell_type": "code",
   "execution_count": null,
   "metadata": {},
   "outputs": [],
   "source": [
    "Search(\"\\d\",\"9\")"
   ]
  },
  {
   "cell_type": "code",
   "execution_count": null,
   "metadata": {},
   "outputs": [],
   "source": [
    "Search(\"\\d\",\"-\")"
   ]
  },
  {
   "cell_type": "code",
   "execution_count": null,
   "metadata": {},
   "outputs": [],
   "source": [
    "Search(\"\\D\",\"9\")"
   ]
  },
  {
   "cell_type": "code",
   "execution_count": null,
   "metadata": {},
   "outputs": [],
   "source": [
    "Search(\"\\D\",\"-\")"
   ]
  },
  {
   "cell_type": "markdown",
   "metadata": {
    "jp-MarkdownHeadingCollapsed": true,
    "tags": []
   },
   "source": [
    "**Word/non-word characters**\n",
    "\n",
    "**\\w** refers to a word character, defined as a single letter, digit or underscore character\n",
    "**\\W** refers to non word character\n",
    "\n",
    "- **\\w** is the same as **\\[a-z0-9_\\]**\n",
    "\n",
    "- **\\W** is the same as **\\[^a-z0-9_\\]**\n",
    "\n"
   ]
  },
  {
   "cell_type": "code",
   "execution_count": null,
   "metadata": {},
   "outputs": [],
   "source": [
    "pattern=\"\\W(\\w\\d){3}\"\n",
    "string=\"My license plate is E3Y4F7.\"\n",
    "Search(pattern,string)"
   ]
  },
  {
   "cell_type": "markdown",
   "metadata": {},
   "source": [
    "**White space characters**\n",
    "\n",
    "White space characters (newline, space, tab, etc.) are indicated with **\\s** and non-white space using **\\S**. \n",
    "\n",
    "So one could use the following to search for a phone number."
   ]
  },
  {
   "cell_type": "code",
   "execution_count": null,
   "metadata": {},
   "outputs": [],
   "source": [
    "import re\n",
    "pattern=\"\\s\\d{3}-\\d{3}-\\d{4}\"\n",
    "string=\"Is your phone number 877-236-1876?\"\n",
    "re.search(pattern,string)"
   ]
  },
  {
   "cell_type": "markdown",
   "metadata": {},
   "source": [
    "**Example**\n",
    "\n",
    "We can search for a date (I mean in a text string!)."
   ]
  },
  {
   "cell_type": "code",
   "execution_count": null,
   "metadata": {},
   "outputs": [],
   "source": [
    "Search(\"\\s\\d{2}[_/\\-]?\\d{2}[_/\\-]?\\d{4}\",\"I was born on 04/12/1955\")"
   ]
  },
  {
   "cell_type": "code",
   "execution_count": null,
   "metadata": {},
   "outputs": [],
   "source": [
    "Search(\"\\s\\d{2}[_/\\-]?\\d{2}[_/\\-]?\\d{4}\",\"I was born on 04_12_1955\")"
   ]
  },
  {
   "cell_type": "code",
   "execution_count": null,
   "metadata": {},
   "outputs": [],
   "source": [
    "Search(\"\\s\\d{2}[_/\\-]?\\d{2}[_/\\-]?\\d{4}\",\"I was born on 04-12-1955\")"
   ]
  },
  {
   "cell_type": "code",
   "execution_count": null,
   "metadata": {},
   "outputs": [],
   "source": [
    "Search(\"\\s\\d{2}[_/\\-]?\\d{2}[_/\\-]?\\d{4}\",\"I was born on 04121955\")"
   ]
  },
  {
   "cell_type": "markdown",
   "metadata": {},
   "source": [
    "**Logical or** \n",
    "\n",
    "The construction A|B is used to match occurences of one regular expression A or another B."
   ]
  },
  {
   "cell_type": "code",
   "execution_count": null,
   "metadata": {},
   "outputs": [],
   "source": [
    "pattern=\"(dog)|(cat)\"\n",
    "string=\"I don't like dogs, I do like cats\"\n",
    "Search(pattern,string)"
   ]
  },
  {
   "cell_type": "markdown",
   "metadata": {},
   "source": [
    "In the above example, you can leave out the parentheses with the same result because the | operator gets lowest precedence among regex operators. \n",
    "\n",
    "So the following is the same."
   ]
  },
  {
   "cell_type": "code",
   "execution_count": null,
   "metadata": {},
   "outputs": [],
   "source": [
    "pattern=\"dog|cat\"\n",
    "string=\"I don't like dogs, I do like cats\"\n",
    "Search(pattern,string)"
   ]
  },
  {
   "cell_type": "markdown",
   "metadata": {},
   "source": [
    "**Another example**\n",
    "\n",
    "Why do you suppose these give different results?"
   ]
  },
  {
   "cell_type": "code",
   "execution_count": null,
   "metadata": {},
   "outputs": [],
   "source": [
    "pattern=\"(dog)|(cat).*cat\"\n",
    "string=\"I don't like dogs, I do like cats\"\n",
    "re.search(pattern,string)"
   ]
  },
  {
   "cell_type": "code",
   "execution_count": null,
   "metadata": {},
   "outputs": [],
   "source": [
    "pattern=\"((dog)|(cat)).*cat\"\n",
    "string=\"I don't like dogs, I do like cats\"\n",
    "re.search(pattern,string)"
   ]
  },
  {
   "cell_type": "markdown",
   "metadata": {},
   "source": [
    "**Exercise** \n",
    "\n",
    "Try to understand what's going on above."
   ]
  },
  {
   "cell_type": "markdown",
   "metadata": {},
   "source": [
    "**Order of items matters**\n",
    "\n",
    "When using A|B if A matches, B is no longer tried, even if it produces a longer match."
   ]
  },
  {
   "cell_type": "code",
   "execution_count": null,
   "metadata": {},
   "outputs": [],
   "source": [
    "Search(\"dog|dogs\",\"I don't like dogs, I like cats\")"
   ]
  },
  {
   "cell_type": "code",
   "execution_count": null,
   "metadata": {},
   "outputs": [],
   "source": [
    "Search(\"dogs|dog\",\"I don't like dogs, I like cats\")"
   ]
  },
  {
   "cell_type": "markdown",
   "metadata": {},
   "source": [
    "**Multiple regular expressions separated by |**"
   ]
  },
  {
   "cell_type": "code",
   "execution_count": null,
   "metadata": {},
   "outputs": [],
   "source": [
    "import re\n",
    "pattern=\"dog|cat|bird\"\n",
    "string=\"I don't like birds, or cats or dogs.\"\n",
    "re.search(pattern,string)"
   ]
  },
  {
   "cell_type": "markdown",
   "metadata": {},
   "source": [
    "**Operator precedence in re**\n",
    "\n",
    "The standard for operator precedence can be found on this page:\n",
    "\n",
    "&nbsp;&nbsp;&nbsp; https://www.boost.org/doc/libs/1_38_0/libs/regex/doc/html/boost_regex/syntax/basic_extended.html\n",
    "\n",
    "As mentioned above, the alternation symbol | gets lowest precedence."
   ]
  },
  {
   "cell_type": "markdown",
   "metadata": {},
   "source": [
    "**Back References**\n",
    "\n",
    "Once we create an regex group using parentheses, a patten that is matched is stored for a later match.\n",
    "\n",
    "The terms \\1, \\2, ... refer to the groups in order."
   ]
  },
  {
   "cell_type": "code",
   "execution_count": null,
   "metadata": {},
   "outputs": [],
   "source": [
    "pattern=r\"(d.g).*(d.g)\"\n",
    "text=\"\"\"\n",
    "I can't find my dog Fido, did your cat Fida see him?\n",
    "I dig him since he's a great dog. \n",
    "Do you dig him too?\n",
    "\"\"\"\n",
    "Search(pattern,text,re.DOTALL)"
   ]
  },
  {
   "cell_type": "code",
   "execution_count": null,
   "metadata": {},
   "outputs": [],
   "source": [
    "import re\n",
    "\n",
    "pattern=r\"(d.g).*\\1\"\n",
    "text=\"\"\"\n",
    "I can't find my dog Fido, did your cat Fida see him?\n",
    "I dig him since he is a great dog.\n",
    "Do you dig him too?\n",
    "\"\"\"\n",
    "Search(pattern,text,re.DOTALL)"
   ]
  },
  {
   "cell_type": "code",
   "execution_count": null,
   "metadata": {},
   "outputs": [],
   "source": []
  }
 ],
 "metadata": {
  "kernelspec": {
   "display_name": "Python 3 (ipykernel)",
   "language": "python",
   "name": "python3"
  },
  "language_info": {
   "codemirror_mode": {
    "name": "ipython",
    "version": 3
   },
   "file_extension": ".py",
   "mimetype": "text/x-python",
   "name": "python",
   "nbconvert_exporter": "python",
   "pygments_lexer": "ipython3",
   "version": "3.9.11"
  }
 },
 "nbformat": 4,
 "nbformat_minor": 4
}
