{
 "cells": [
  {
   "cell_type": "markdown",
   "metadata": {},
   "source": [
    "**Regular expressions part 3**\n",
    "\n",
    "Again, we'll use the convenient code below.\n",
    "\n",
    "I modified this again to replace the line about printing the text that matches with m.group() which gives the same thing."
   ]
  },
  {
   "cell_type": "code",
   "execution_count": 1,
   "metadata": {},
   "outputs": [],
   "source": [
    "import re\n",
    "def Search(pattern,text,flags=0):\n",
    "    m=re.search(pattern,text,flags)\n",
    "    if m:\n",
    "        print(\"found a match\")\n",
    "        print(m.span())\n",
    "        print(m.group())\n",
    "        # print(text[m.start():m.end()]) old version\n",
    "    else:\n",
    "        print(\"no match\")"
   ]
  },
  {
   "cell_type": "markdown",
   "metadata": {},
   "source": [
    "**More flags**\n",
    "\n",
    "There are additional special flags that can be used to help accomplish certain tasks. \n",
    "\n",
    "One example is the **.I** flag means ignore case."
   ]
  },
  {
   "cell_type": "markdown",
   "metadata": {},
   "source": [
    "**How flags work**\n",
    "\n",
    "This is a brief aside.\n",
    "\n",
    "Every flag stores an integer in which there is a single bit that is non-zero. \n",
    "\n",
    "In other words, an integer that is a power of 2."
   ]
  },
  {
   "cell_type": "code",
   "execution_count": 2,
   "metadata": {},
   "outputs": [
    {
     "data": {
      "text/plain": [
       "16"
      ]
     },
     "execution_count": 2,
     "metadata": {},
     "output_type": "execute_result"
    }
   ],
   "source": [
    "int(re.DOTALL)"
   ]
  },
  {
   "cell_type": "code",
   "execution_count": 3,
   "metadata": {
    "tags": []
   },
   "outputs": [
    {
     "data": {
      "text/plain": [
       "8"
      ]
     },
     "execution_count": 3,
     "metadata": {},
     "output_type": "execute_result"
    }
   ],
   "source": [
    "int(re.M)"
   ]
  },
  {
   "cell_type": "code",
   "execution_count": 4,
   "metadata": {
    "tags": []
   },
   "outputs": [
    {
     "data": {
      "text/plain": [
       "2"
      ]
     },
     "execution_count": 4,
     "metadata": {},
     "output_type": "execute_result"
    }
   ],
   "source": [
    "int(re.I)"
   ]
  },
  {
   "cell_type": "markdown",
   "metadata": {},
   "source": [
    "**Vertical bar**\n",
    "\n",
    "When we want multiple flags to be passed to the re.search function, we use the vertical bar **|** and pass a combined flag expressions like this: \n",
    "\n",
    "**re.DOTALL | re.M**\n",
    "\n",
    "In Python (this is not a statement about the regular expressions package), the vertical bar for ints is the *or* operation on its binary digits."
   ]
  },
  {
   "cell_type": "code",
   "execution_count": 5,
   "metadata": {},
   "outputs": [
    {
     "name": "stdout",
     "output_type": "stream",
     "text": [
      "0b11000000\n",
      "0b10100111\n",
      "231\n",
      "0b11100111\n"
     ]
    }
   ],
   "source": [
    "print(bin(192))\n",
    "print(bin(167))\n",
    "print(192|167)\n",
    "print(bin(192|167))"
   ]
  },
  {
   "cell_type": "markdown",
   "metadata": {},
   "source": [
    "When we use this operation on multiple flags we see which bits are *flagged*."
   ]
  },
  {
   "cell_type": "code",
   "execution_count": 6,
   "metadata": {},
   "outputs": [
    {
     "name": "stdout",
     "output_type": "stream",
     "text": [
      "0b11010\n",
      "0b11000\n",
      "0b10010\n"
     ]
    }
   ],
   "source": [
    "print(bin(re.DOTALL|re.M|re.I))\n",
    "print(bin(re.DOTALL|re.M))\n",
    "print(bin(re.DOTALL|re.I))"
   ]
  },
  {
   "cell_type": "markdown",
   "metadata": {},
   "source": [
    "**Default flag**\n",
    "\n",
    "So as you might guess, if we specify a flag of 0, this would be taken by the search function to mean *no flags*.\n",
    "\n",
    "We use this as the default value of **flags** in our new function."
   ]
  },
  {
   "cell_type": "code",
   "execution_count": 7,
   "metadata": {},
   "outputs": [],
   "source": [
    "def Search(pattern,text,flags=0):\n",
    "    m=re.search(pattern,text,flags)\n",
    "    if m:\n",
    "        print(\"found a match\")\n",
    "        print(m.span())\n",
    "        print(m.group())\n",
    "    else:\n",
    "        print(\"no match\")"
   ]
  },
  {
   "cell_type": "markdown",
   "metadata": {},
   "source": [
    "**Ignore case**"
   ]
  },
  {
   "cell_type": "code",
   "execution_count": 8,
   "metadata": {},
   "outputs": [
    {
     "name": "stdout",
     "output_type": "stream",
     "text": [
      "no match\n"
     ]
    }
   ],
   "source": [
    "text=\"Can I help you?\"\n",
    "pattern=\"i\"\n",
    "Search(pattern,text)"
   ]
  },
  {
   "cell_type": "code",
   "execution_count": 9,
   "metadata": {},
   "outputs": [
    {
     "name": "stdout",
     "output_type": "stream",
     "text": [
      "found a match\n",
      "(4, 5)\n",
      "I\n"
     ]
    }
   ],
   "source": [
    "Search(pattern,text,re.I)"
   ]
  },
  {
   "cell_type": "markdown",
   "metadata": {},
   "source": [
    "**Ignore case and use DOTALL**"
   ]
  },
  {
   "cell_type": "code",
   "execution_count": 10,
   "metadata": {},
   "outputs": [
    {
     "name": "stdout",
     "output_type": "stream",
     "text": [
      "no match\n"
     ]
    }
   ],
   "source": [
    "text=\"Can I help you?\\nI need help from you.\"\n",
    "pattern=\"i.*need\"\n",
    "Search(pattern,text)"
   ]
  },
  {
   "cell_type": "code",
   "execution_count": 11,
   "metadata": {},
   "outputs": [
    {
     "name": "stdout",
     "output_type": "stream",
     "text": [
      "found a match\n",
      "(4, 22)\n",
      "I help you?\n",
      "I need\n"
     ]
    }
   ],
   "source": [
    "Search(pattern,text,re.I|re.DOTALL)"
   ]
  },
  {
   "cell_type": "markdown",
   "metadata": {},
   "source": [
    "**The .M flag**\n",
    "\n",
    "Recall that the circumflex matches the beginning of a string and the dollar sign the end of a string.\n",
    "\n",
    "If a string contains multiple lines, we can use the .M flag which means to \n",
    "\n",
    "- interpret ^ as the beginning of any line, and \n",
    "- $ as the end of any line."
   ]
  },
  {
   "cell_type": "code",
   "execution_count": 12,
   "metadata": {},
   "outputs": [
    {
     "name": "stdout",
     "output_type": "stream",
     "text": [
      "no match\n"
     ]
    }
   ],
   "source": [
    "text=\"I need some help. \\nCan you help me please?\"\n",
    "pattern=\"^Can.*help\"\n",
    "Search(pattern,text)"
   ]
  },
  {
   "cell_type": "code",
   "execution_count": 13,
   "metadata": {},
   "outputs": [
    {
     "name": "stdout",
     "output_type": "stream",
     "text": [
      "found a match\n",
      "(19, 31)\n",
      "Can you help\n"
     ]
    }
   ],
   "source": [
    "Search(pattern,text,re.M)"
   ]
  },
  {
   "cell_type": "code",
   "execution_count": 14,
   "metadata": {},
   "outputs": [
    {
     "name": "stdout",
     "output_type": "stream",
     "text": [
      "no match\n"
     ]
    }
   ],
   "source": [
    "text=\"I need some help.\\nCan you help me please?\"\n",
    "pattern=\".*help\\.$\"\n",
    "Search(pattern,text)"
   ]
  },
  {
   "cell_type": "code",
   "execution_count": 15,
   "metadata": {},
   "outputs": [
    {
     "name": "stdout",
     "output_type": "stream",
     "text": [
      "found a match\n",
      "(0, 17)\n",
      "I need some help.\n"
     ]
    }
   ],
   "source": [
    "Search(pattern,text,re.M)"
   ]
  },
  {
   "cell_type": "markdown",
   "metadata": {},
   "source": [
    "**Splitting a line**\n",
    "\n",
    "We already saw that strings have a **split** method.\n",
    "\n",
    "This method takes as an argument a string to split on."
   ]
  },
  {
   "cell_type": "code",
   "execution_count": 16,
   "metadata": {},
   "outputs": [
    {
     "name": "stdout",
     "output_type": "stream",
     "text": [
      "['A man', ' A plan', ' A canal', ' Panama', ' He can']\n",
      "['A ma', ' A pla', ' A canal. Panama. He can']\n"
     ]
    }
   ],
   "source": [
    "st=\"A man. A plan. A canal. Panama. He can\"\n",
    "print(st.split(\".\"))\n",
    "print(st.split(\"n.\"))"
   ]
  },
  {
   "cell_type": "markdown",
   "metadata": {},
   "source": [
    "**Splitting on a regular expression**\n",
    "\n",
    "Using the re package, we can split a line using a regular expression as a delimiter. \n",
    "\n",
    "In the following example, we split on any white space character."
   ]
  },
  {
   "cell_type": "code",
   "execution_count": 17,
   "metadata": {},
   "outputs": [
    {
     "name": "stdout",
     "output_type": "stream",
     "text": [
      "['Honestly,', 'this', 'is', 'the', 'craziest', 'idea', 'you', 'have', 'ever', 'presented', 'in', 'all', 'my', 'years', 'of', 'being', 'your', 'partner']\n"
     ]
    }
   ],
   "source": [
    "text=\"Honestly, this is the craziest idea you have\\never\\tpresented in all my years of being your partner\"\n",
    "pattern=\"\\s\"\n",
    "L=re.split(pattern,text)\n",
    "print(L)"
   ]
  },
  {
   "cell_type": "markdown",
   "metadata": {},
   "source": [
    "If there are no matches, then the output is a list with the whole string."
   ]
  },
  {
   "cell_type": "code",
   "execution_count": 18,
   "metadata": {},
   "outputs": [
    {
     "data": {
      "text/plain": [
       "['this is the craziest idea you have ever presented in all my years']"
      ]
     },
     "execution_count": 18,
     "metadata": {},
     "output_type": "execute_result"
    }
   ],
   "source": [
    "text=\"this is the craziest idea you have ever presented in all my years\"\n",
    "pattern=\"q\"\n",
    "re.split(pattern,text)"
   ]
  },
  {
   "cell_type": "markdown",
   "metadata": {},
   "source": [
    "**Start of line**\n",
    "\n",
    "If the start of the line matches, then the list starts with an empty string. (It is as if there is an empty field before the first delimiter.)"
   ]
  },
  {
   "cell_type": "code",
   "execution_count": 19,
   "metadata": {},
   "outputs": [
    {
     "data": {
      "text/plain": [
       "['',\n",
       " 'Woke up from a dream. ',\n",
       " 'fell back asleep. ',\n",
       " 'woke up and felt refreshed.']"
      ]
     },
     "execution_count": 19,
     "metadata": {},
     "output_type": "execute_result"
    }
   ],
   "source": [
    "text=\"5AM: Woke up from a dream. 6AM: fell back asleep. 12PM: woke up and felt refreshed.\"\n",
    "pattern=\"\\d{1,2}[AP]M: \"\n",
    "re.split(pattern,text)"
   ]
  },
  {
   "cell_type": "markdown",
   "metadata": {},
   "source": [
    "**Capturing all occurences of a pattern**\n",
    "\n",
    "The **findall** function returns a *list* of all occurences found.\n",
    "\n",
    "Here, we read in all of Pride and Predjudice as a string and do some searches in that string."
   ]
  },
  {
   "cell_type": "code",
   "execution_count": 20,
   "metadata": {},
   "outputs": [],
   "source": [
    "with open(\"PrideAndPredjudice.txt\",\"rb\") as fin:\n",
    "    text=fin.read().decode()  "
   ]
  },
  {
   "cell_type": "markdown",
   "metadata": {},
   "source": [
    "**How many times does a word appear**\n",
    "\n",
    "We can search for all occurences of the word the surrounded by a space character. "
   ]
  },
  {
   "cell_type": "code",
   "execution_count": 21,
   "metadata": {},
   "outputs": [
    {
     "name": "stdout",
     "output_type": "stream",
     "text": [
      "3420\n"
     ]
    }
   ],
   "source": [
    "res=re.findall(\" the \",text)\n",
    "print(len(res))"
   ]
  },
  {
   "cell_type": "markdown",
   "metadata": {},
   "source": [
    "**Questions:**\n",
    "\n",
    "We can ask all sorts of questions and some of these we'll look at as an in-class exercise.\n",
    "\n",
    "- How many words are there?\n",
    "- How many sentences?\n",
    "- What is the frequency of each word in the text?"
   ]
  },
  {
   "cell_type": "markdown",
   "metadata": {},
   "source": [
    "To get an approximate count of the number of words, here is one possible approach."
   ]
  },
  {
   "cell_type": "code",
   "execution_count": 22,
   "metadata": {},
   "outputs": [
    {
     "name": "stdout",
     "output_type": "stream",
     "text": [
      "137074\n"
     ]
    }
   ],
   "source": [
    "res=re.split(\"\\s\",text)\n",
    "print(len(res))"
   ]
  },
  {
   "cell_type": "markdown",
   "metadata": {},
   "source": [
    "**Findall doesn't find all**\n",
    "\n",
    "Findall is greedy in the usual sense.\n",
    "\n",
    "When a match is found in some position, it looks for a larger match starting from that same position."
   ]
  },
  {
   "cell_type": "code",
   "execution_count": 23,
   "metadata": {},
   "outputs": [
    {
     "name": "stdout",
     "output_type": "stream",
     "text": [
      "['theretherethere']\n"
     ]
    }
   ],
   "source": [
    "pattern=\"t.*e\"\n",
    "text=\"theretherethere\"\n",
    "res=re.findall(pattern,text)\n",
    "print(res)"
   ]
  },
  {
   "cell_type": "markdown",
   "metadata": {},
   "source": [
    "When a match is found, the pattern is next searched starting from the text that follows the end position of the previous match."
   ]
  },
  {
   "cell_type": "code",
   "execution_count": 24,
   "metadata": {},
   "outputs": [
    {
     "name": "stdout",
     "output_type": "stream",
     "text": [
      "['here', 'there', 'everywhere']\n"
     ]
    }
   ],
   "source": [
    "import re\n",
    "pattern=\"[thwe].*?ere\"\n",
    "text=\"here, there and everywhere\"\n",
    "res=re.findall(pattern,text)\n",
    "print(res)"
   ]
  },
  {
   "cell_type": "markdown",
   "metadata": {},
   "source": [
    "**Iterating over matches**\n",
    "\n",
    "Another method is **finditer** which returns and iterator over all matches.\n",
    "\n",
    "For each iterate, we can capture its position and the text making up the match"
   ]
  },
  {
   "cell_type": "code",
   "execution_count": 25,
   "metadata": {},
   "outputs": [
    {
     "name": "stdout",
     "output_type": "stream",
     "text": [
      "substring = Chapter    start =         45 end =         52\n",
      "substring = Chapter    start =       4666 end =       4673\n",
      "substring = Chapter    start =       9083 end =       9090\n",
      "substring = Chapter    start =      18785 end =      18792\n",
      "substring = Chapter    start =      24857 end =      24864\n",
      "substring = Chapter    start =      30257 end =      30264\n",
      "substring = Chapter    start =      43546 end =      43553\n",
      "substring = Chapter    start =      54942 end =      54949\n",
      "substring = Chapter    start =      66195 end =      66202\n",
      "substring = Chapter    start =      76147 end =      76154\n",
      "substring = Chapter    start =      88907 end =      88914\n",
      "substring = Chapter    start =      98040 end =      98047\n",
      "substring = Chapter    start =     102057 end =     102064\n",
      "substring = Chapter    start =     111453 end =     111460\n",
      "substring = Chapter    start =     118030 end =     118037\n",
      "substring = Chapter    start =     128000 end =     128007\n",
      "substring = Chapter    start =     147388 end =     147395\n",
      "substring = Chapter    start =     154805 end =     154812\n",
      "substring = Chapter    start =     184468 end =     184475\n",
      "substring = Chapter    start =     195333 end =     195340\n",
      "substring = Chapter    start =     204693 end =     204700\n",
      "substring = Chapter    start =     216150 end =     216157\n",
      "substring = Chapter    start =     226279 end =     226286\n",
      "substring = Chapter    start =     235784 end =     235791\n",
      "substring = Chapter    start =     246826 end =     246833\n",
      "substring = Chapter    start =     255568 end =     255575\n",
      "substring = Chapter    start =     268560 end =     268567\n",
      "substring = Chapter    start =     275936 end =     275943\n",
      "substring = Chapter    start =     284333 end =     284340\n",
      "substring = Chapter    start =     298307 end =     298314\n",
      "substring = Chapter    start =     305499 end =     305506\n",
      "substring = Chapter    start =     314340 end =     314347\n",
      "substring = Chapter    start =     323008 end =     323015\n",
      "substring = Chapter    start =     333570 end =     333577\n",
      "substring = Chapter    start =     345807 end =     345814\n",
      "substring = Chapter    start =     363072 end =     363079\n",
      "substring = Chapter    start =     375056 end =     375063\n",
      "substring = Chapter    start =     383000 end =     383007\n",
      "substring = Chapter    start =     389051 end =     389058\n",
      "substring = Chapter    start =     397973 end =     397980\n",
      "substring = Chapter    start =     407337 end =     407344\n",
      "substring = Chapter    start =     420601 end =     420608\n",
      "substring = Chapter    start =     431431 end =     431438\n",
      "substring = Chapter    start =     459420 end =     459427\n",
      "substring = Chapter    start =     473030 end =     473037\n",
      "substring = Chapter    start =     483299 end =     483306\n",
      "substring = Chapter    start =     500467 end =     500474\n",
      "substring = Chapter    start =     523273 end =     523280\n",
      "substring = Chapter    start =     536060 end =     536067\n",
      "substring = Chapter    start =     548569 end =     548576\n",
      "substring = Chapter    start =     561317 end =     561324\n",
      "substring = Chapter    start =     572773 end =     572780\n",
      "substring = Chapter    start =     589708 end =     589715\n",
      "substring = Chapter    start =     606150 end =     606157\n",
      "substring = Chapter    start =     615239 end =     615246\n",
      "substring = Chapter    start =     628509 end =     628516\n",
      "substring = Chapter    start =     644174 end =     644181\n",
      "substring = Chapter    start =     653818 end =     653825\n",
      "substring = Chapter    start =     667757 end =     667764\n",
      "substring = Chapter    start =     681687 end =     681694\n",
      "substring = Chapter    start =     690602 end =     690609\n"
     ]
    }
   ],
   "source": [
    "with open(\"PrideAndPredjudice.txt\",\"rb\") as fin:\n",
    "    text=fin.read().decode()\n",
    "\n",
    "pattern=\"Chapter\"\n",
    "it=re.finditer(pattern,text)\n",
    "for m in it:\n",
    "    st=\"substring = {:10s} start = {:10d} end = {:10d}\".format(m.group(),m.start(),m.end())\n",
    "    print(st)"
   ]
  },
  {
   "cell_type": "markdown",
   "metadata": {},
   "source": [
    "**Substitutions**\n",
    "\n",
    "We can substitute for all found regular expressions in text."
   ]
  },
  {
   "cell_type": "code",
   "execution_count": 26,
   "metadata": {},
   "outputs": [
    {
     "name": "stdout",
     "output_type": "stream",
     "text": [
      "X, X and X\n"
     ]
    }
   ],
   "source": [
    "pattern=\"[the].*?ere\"\n",
    "text=\"here, there and everywhere\"\n",
    "substitution=\"X\"\n",
    "result=re.sub(pattern,substitution,text)\n",
    "print(result)"
   ]
  },
  {
   "cell_type": "markdown",
   "metadata": {},
   "source": [
    "**Functions defining the substitution**\n",
    "\n",
    "We can also specify a function of a match object to substitute instead of a string. \n",
    "\n",
    "By default, the function calculates a value for the match object found and substitutes that.\n",
    "\n",
    "In the following example, the function **f** \n",
    "\n",
    "- takes the match object **m** as input\n",
    "- computes the matching substring (**m.group()**)\n",
    "- appends \"in\" to that substring to define a new string **u**\n",
    "- returns the string **u**"
   ]
  },
  {
   "cell_type": "code",
   "execution_count": 27,
   "metadata": {},
   "outputs": [
    {
     "name": "stdout",
     "output_type": "stream",
     "text": [
      "herein, therein and everywherein\n"
     ]
    }
   ],
   "source": [
    "def f(m):\n",
    "    u=m.group()+\"in\"\n",
    "    return(u)\n",
    "\n",
    "pattern=\"[the].*?ere\"\n",
    "text=\"here, there and everywhere\"\n",
    "result=re.sub(pattern,f,text)\n",
    "print(result)"
   ]
  },
  {
   "cell_type": "markdown",
   "metadata": {},
   "source": [
    "**Groups**\n",
    "\n",
    "We can use m.group to find locations of matching portions of a pattern."
   ]
  },
  {
   "cell_type": "code",
   "execution_count": 28,
   "metadata": {},
   "outputs": [
    {
     "name": "stdout",
     "output_type": "stream",
     "text": [
      "students in applied math are smarter than any\n",
      "students\n",
      "math\n",
      "any\n"
     ]
    }
   ],
   "source": [
    "text = \"I believe that students in applied math are smarter than anyone.\"\n",
    "pattern = \"(st.*ts) .* (math) .*(any)\"\n",
    "m = re.search(pattern, text)\n",
    "print(m.group(0))\n",
    "print(m.group(1))\n",
    "print(m.group(2))\n",
    "print(m.group(3))"
   ]
  },
  {
   "cell_type": "markdown",
   "metadata": {
    "jp-MarkdownHeadingCollapsed": true,
    "tags": []
   },
   "source": [
    "**Compiling Patterns**\n",
    "\n",
    "In doing repeated searches it is more efficient to _compile_ a pattern to search for.\n",
    "\n",
    "In the following, we break up Pride and Predjudice into chapters and search each chapter for the word \"moderation\"."
   ]
  },
  {
   "cell_type": "code",
   "execution_count": 29,
   "metadata": {},
   "outputs": [],
   "source": [
    "with open(\"PrideAndPredjudice.txt\",\"rb\") as fin:\n",
    "    text=fin.read().decode()\n",
    "Chapters=re.split(\"Chapter\",text)"
   ]
  },
  {
   "cell_type": "code",
   "execution_count": 30,
   "metadata": {
    "tags": []
   },
   "outputs": [
    {
     "name": "stdout",
     "output_type": "stream",
     "text": [
      "None\n",
      "None\n",
      "None\n",
      "None\n",
      "None\n",
      "None\n",
      "None\n",
      "None\n",
      "None\n",
      "None\n",
      "None\n",
      "None\n",
      "None\n",
      "None\n",
      "None\n",
      "None\n",
      "None\n",
      "None\n",
      "None\n",
      "None\n",
      "None\n",
      "None\n",
      "None\n",
      "None\n",
      "None\n",
      "None\n",
      "None\n",
      "None\n",
      "None\n",
      "None\n",
      "None\n",
      "None\n",
      "None\n",
      "None\n",
      "None\n",
      "None\n",
      "<re.Match object; span=(7123, 7133), match='moderation'>\n",
      "None\n",
      "None\n",
      "None\n",
      "None\n",
      "None\n",
      "None\n",
      "None\n",
      "None\n",
      "None\n",
      "None\n",
      "<re.Match object; span=(13301, 13311), match='moderation'>\n",
      "None\n",
      "None\n",
      "None\n",
      "None\n",
      "None\n",
      "None\n",
      "None\n",
      "None\n",
      "None\n",
      "None\n",
      "None\n",
      "None\n",
      "None\n",
      "None\n"
     ]
    }
   ],
   "source": [
    "p=re.compile(\"moderation\")\n",
    "for c in Chapters:\n",
    "    res=p.search(c)\n",
    "    print(res)"
   ]
  },
  {
   "cell_type": "markdown",
   "metadata": {},
   "source": [
    "This also works with findall."
   ]
  },
  {
   "cell_type": "code",
   "execution_count": 31,
   "metadata": {},
   "outputs": [
    {
     "name": "stdout",
     "output_type": "stream",
     "text": [
      "[' moderation ', ' moderation ']\n"
     ]
    }
   ],
   "source": [
    "with open(\"PrideAndPredjudice.txt\",\"rb\") as fin:\n",
    "    text=fin.read().decode()\n",
    "\n",
    "pattern=\"\\smoderation\\s\"\n",
    "p=re.compile(pattern)\n",
    "L=p.findall(text)\n",
    "print(L)"
   ]
  },
  {
   "cell_type": "markdown",
   "metadata": {},
   "source": [
    "And with finditer."
   ]
  },
  {
   "cell_type": "code",
   "execution_count": 32,
   "metadata": {},
   "outputs": [
    {
     "name": "stdout",
     "output_type": "stream",
     "text": [
      "<re.Match object; span=(370201, 370213), match=' moderation '>\n",
      "<re.Match object; span=(513774, 513786), match=' moderation '>\n"
     ]
    }
   ],
   "source": [
    "with open(\"PrideAndPredjudice.txt\",\"rb\") as fin:\n",
    "    text=fin.read().decode()\n",
    "\n",
    "pattern=\"\\smoderation\\s\"\n",
    "p=re.compile(pattern)\n",
    "it=p.finditer(text)\n",
    "for m in it:\n",
    "    print(m)"
   ]
  },
  {
   "cell_type": "code",
   "execution_count": null,
   "metadata": {},
   "outputs": [],
   "source": []
  }
 ],
 "metadata": {
  "kernelspec": {
   "display_name": "Python 3 (ipykernel)",
   "language": "python",
   "name": "python3"
  },
  "language_info": {
   "codemirror_mode": {
    "name": "ipython",
    "version": 3
   },
   "file_extension": ".py",
   "mimetype": "text/x-python",
   "name": "python",
   "nbconvert_exporter": "python",
   "pygments_lexer": "ipython3",
   "version": "3.9.12"
  }
 },
 "nbformat": 4,
 "nbformat_minor": 4
}
