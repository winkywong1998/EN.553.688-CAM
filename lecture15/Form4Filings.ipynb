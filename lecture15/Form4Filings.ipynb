{
 "cells": [
  {
   "cell_type": "markdown",
   "id": "cd2c9c10-4e03-4b1a-8baa-c3732f13a9bc",
   "metadata": {},
   "source": [
    "**SEC Form 4 Filings**\n",
    "\n",
    "An insider of a publicly traded company is someone who is a director, an officer, or who owns at least 10% of the company's equity.\n",
    "\n",
    "When an insider trades shares of stock in the company they are an insider of, they must file a Form 4 with the SEC.\n",
    "\n",
    "These forms are posted at the SEC's web site for the public to see for some amount of time after the filing takes place.  I've pulled all of the most recent Form 4 filings for Pfizer (PFE) and deposited them at a local web site.\n",
    " \n",
    "The web page \"http://jesse.ams.jhu.edu/~dan/SEC\" contains an xml file for every Pfizer (PFE) filing in the recent past.\n",
    "\n",
    "There are 4,366 files.\n",
    "\n",
    "If you point your browswer to that url you will see a listing of those files.\n",
    "\n",
    "As an exercise, we might wish to download every one of these files and pull data from them.\n",
    "\n",
    "We need to get the url for each file so we download the text from the page above and pull those urls.\n",
    "\n",
    "**Examine the file listing page**"
   ]
  },
  {
   "cell_type": "code",
   "execution_count": 3,
   "id": "a5af45d3-e5a1-4220-8911-864c01532aae",
   "metadata": {},
   "outputs": [
    {
     "name": "stdout",
     "output_type": "stream",
     "text": [
      "<!DOCTYPE HTML PUBLIC \"-//W3C//DTD HTML 3.2 Final//EN\">\n",
      "<html>\n",
      " <head>\n",
      "  <title>Index of /~dan/SEC</title>\n",
      " </head>\n",
      " <body>\n",
      "<h1>Index of /~dan/SEC</h1>\n",
      "  <table>\n",
      "   <tr><th valign=\"top\"><img src=\"/icons/blank.gif\" alt=\"[ICO]\"></th><th><a href=\"?C=N;O=D\">Name</a></th><th><a href=\"?C=M;O=A\">Last modified</a></th><th><a href=\"?C=S;O=A\">Size</a></th><th><a href=\"?C=D;O=A\">Description</a></th></tr>\n",
      "   <tr><th colspan=\"5\"><hr></th></tr>\n",
      "<tr><td valign=\"top\"><img src=\"/icons/back.gif\" alt=\"[PARENTDIR]\"></td><td><a href=\"/~dan/\">Parent Directory</a>       </td><td>&nbsp;</td><td align=\"right\">  - </td><td>&nbsp;</td></tr>\n",
      "<tr><td valign=\"top\"><img src=\"/icons/text.gif\" alt=\"[TXT]\"></td><td><a href=\"filing_details_0000078003-03-000051.xml\">filing_details_00000..&gt;</a></td><td align=\"right\">2022-10-18 08:26  </td><td align=\"right\">3.0K</td><td>&nbsp;</td></tr>\n",
      "<tr><td valign=\"top\"><img src=\"/icons/text.gif\" alt=\"[TXT]\"></td><td><a href=\"filing_details_0000078003-03-000055.xml\">filing_details_0\n"
     ]
    }
   ],
   "source": [
    "import requests as req\n",
    "url=\"http://jesse.ams.jhu.edu/~dan/SEC\"\n",
    "res=req.get(url)\n",
    "text=res.text\n",
    "print(text[0:1000])"
   ]
  },
  {
   "cell_type": "markdown",
   "id": "6f55a53f-4fc3-4fc4-83d8-7c459f3cd37c",
   "metadata": {},
   "source": [
    "**Make a list of the urls we want**"
   ]
  },
  {
   "cell_type": "code",
   "execution_count": 20,
   "id": "bc1b4431-6124-49c8-87e5-e0d10ae9b18e",
   "metadata": {},
   "outputs": [],
   "source": [
    "import re"
   ]
  },
  {
   "cell_type": "markdown",
   "id": "40a8e5a2-8d82-4b4c-b197-0984789ae0fd",
   "metadata": {},
   "source": [
    "**Parse one of the XML files**\n",
    "\n",
    "In the notebook \"XML and Element Tree.ipnb\" the XML parser is introduced.\n",
    "\n",
    "This is used in a different way from the HTML parser in that it is not based on using a derived class.\n",
    "\n",
    "Instead, we create our own class with handlers."
   ]
  },
  {
   "cell_type": "code",
   "execution_count": 28,
   "id": "04da0399-5fba-4282-871e-432a71a59cf1",
   "metadata": {},
   "outputs": [],
   "source": [
    "from xml.etree.ElementTree import XMLParser\n",
    "class myparser_target: \n",
    "    def start(self, tag, attrib):\n",
    "        pass\n",
    "    def end(self, tag):             \n",
    "        pass\n",
    "    def data(self, data):\n",
    "        pass\n",
    "    # this is an extra function that we can call when the parser is done\n",
    "    def close(self):    \n",
    "        pass\n",
    "\n",
    "target = myparser_target()\n",
    "parser = XMLParser(target=target)\n",
    "url=\"http://jesse.ams.jhu.edu/~dan/SEC/filing_details_0000078003-03-000056.xml\"\n",
    "res=req.get(url)\n",
    "text=res.text\n",
    "parser.feed(text)\n",
    "parser.close()"
   ]
  },
  {
   "cell_type": "code",
   "execution_count": 13,
   "id": "6d3f0e76-ced3-41a6-b12a-e4ecd1d25bfb",
   "metadata": {},
   "outputs": [
    {
     "name": "stdout",
     "output_type": "stream",
     "text": [
      "<?xml version=\"1.0\"?>\n",
      "<ownershipDocument>\n",
      "    <schemaVersion>X0101</schemaVersion>\n",
      "\n",
      "<documentType>4</documentType>\n",
      "\t<periodOfReport>2003-05-15</periodOfReport>\n",
      "\t<notSubjectToSection16>0</notSubjectToSection16>\n",
      "<issuer>\t\t<issuerCik>0000078003</issuerCik>\n",
      "        <issuerName>PFIZER INC</issuerName>\n",
      "<issuerTradingSymbol>PFE</issuerTradingSymbol>\n",
      "\t</issuer>\n",
      "\t<reportingOwner>\n",
      "\t\t<reportingOwnerId>\n",
      "\t\t\t<rptOwnerCik>0001176312</rptOwnerCik>\n",
      "            <rptOwnerName>CORR PETER B</rptOwnerName>\n",
      "        </reportingOwnerId>\n",
      "        <reportingOwnerAddress>\n",
      "            <rptOwnerStreet1>  </rptOwnerStreet1>\n",
      "            <rptOwnerStreet2>  </rptOwnerStreet2>\n",
      "            <rptOwnerCity>  </rptOwnerCity>\n",
      "            <rptOwnerState>  </rptOwnerState>\n",
      "            <rptOwnerZipCode>  </rptOwnerZipCode>\n",
      "        </reportingOwnerAddress>\n",
      "<reportingOwnerRelationship>\n",
      "\t\t\t<isDirector>0</isDirector>\n",
      "\t\t\t<isOfficer>1</isOfficer>\n",
      "\t\t\t<isTenPercentOwner>0</isTenPercentOwner>\n",
      "\t\t\t<isOther>0</isOther>\n",
      "\t\t\t<officerTitle>Senior Vice President</officerTitle>\n",
      "\t\t</reportingOwnerRelationship>\n",
      "\t</reportingOwner>\n",
      "\t<derivativeSecurity>\n",
      "\t\t<securityTitle>\n",
      "\t\t\t<value>Phantom Stock Units SSP</value>\n",
      "\t\t</securityTitle>\n",
      "\t\t<conversionOrExercisePrice>\n",
      "\t\t\t<value>0.00</value>\n",
      "\t\t\t<footnoteId id=\"F1\"/>\n",
      "\t\t</conversionOrExercisePrice>\n",
      "\t\t<transactionDate>\n",
      "\t\t\t<value>2003-05-15</value>\n",
      "\t\t</transactionDate>\n",
      "\t\t<transactionCoding>\n",
      "\t\t\t<transactionFormType>4</transactionFormType>\n",
      "\t\t\t<transactionCode>A</transactionCode>\n",
      "\t\t\t<equitySwapInvolved>0</equitySwapInvolved>\n",
      "\t\t</transactionCoding>\n",
      "\t\t<transactionAmounts>\n",
      "\t\t\t<transactionShares>\n",
      "\t\t\t\t<value>45</value>\n",
      "\t\t\t</transactionShares>\n",
      "\t\t\t<transactionValue>\n",
      "\t\t\t\t<value>33.53</value>\n",
      "\t\t\t</transactionValue>\n",
      "\t\t\t<transactionAcquiredDisposedCode>\n",
      "\t\t\t\t<value>A</value>\n",
      "\t\t\t</transactionAcquiredDisposedCode>\n",
      "\t\t</transactionAmounts>\n",
      "\t\t<exerciseDate>\n",
      "\t\t\t<value>1988-08-08</value>\n",
      "\t\t\t<footnoteId id=\"F2\"/>\n",
      "\t\t</exerciseDate>\n",
      "\t\t<expirationDate>\n",
      "\t\t\t<value>1988-08-08</value>\n",
      "\t\t\t<footnoteId id=\"F2\"/>\n",
      "\t\t</expirationDate>\n",
      "\t\t<underlyingSecurity>\n",
      "\t\t\t<underlyingSecurityTitle>\n",
      "\t\t\t\t<value>Common Stock</value>\n",
      "\t\t\t</underlyingSecurityTitle>\n",
      "\t\t\t<underlyingSecurityShares>\n",
      "\t\t\t\t<value>45</value>\n",
      "\t\t\t</underlyingSecurityShares>\n",
      "\t\t</underlyingSecurity>\n",
      "\t\t<postTransactionAmounts>\n",
      "\t\t\t<sharesOwnedFollowingTransaction>\n",
      "\t\t\t\t<value>143</value>\n",
      "\t\t\t</sharesOwnedFollowingTransaction>\n",
      "\t\t</postTransactionAmounts>\n",
      "\t\t<ownershipNature>\n",
      "\t\t\t<directOrIndirectOwnership>\n",
      "\t\t\t\t<value>D</value>\n",
      "\t\t\t</directOrIndirectOwnership>\n",
      "\t\t\t<natureOfOwnership>\n",
      "\t\t\t\t<value/>\n",
      "\t\t\t</natureOfOwnership>\n",
      "\t\t</ownershipNature>\n",
      "\t</derivativeSecurity>\n",
      "\t<footnotes>\n",
      "\t\t<footnote id=\"F1\">Each unit represents one phantom share of common stock.</footnote>\n",
      "\t\t<footnote id=\"F2\">These units, which were acquired pursuant to the Pfizer Inc. Nonfunded Deferred Compensation and Supplemental Savings Plan, are settled in cash following the reporting person's separation from service.</footnote>\n",
      "\t</footnotes>\n",
      "\t<ownerSignature>\n",
      "\t\t<signatureName>By: Lawrence A. Fox for Peter B. Corr</signatureName>\n",
      "\t\t<signatureDate>2003-05-16</signatureDate>\n",
      "\t</ownerSignature>\n",
      "</ownershipDocument>\n",
      "\n",
      "\n"
     ]
    }
   ],
   "source": [
    "print(text)"
   ]
  },
  {
   "cell_type": "code",
   "execution_count": null,
   "id": "e451d884-0894-4a3a-9752-def86c20748a",
   "metadata": {},
   "outputs": [],
   "source": []
  }
 ],
 "metadata": {
  "kernelspec": {
   "display_name": "Python 3 (ipykernel)",
   "language": "python",
   "name": "python3"
  },
  "language_info": {
   "codemirror_mode": {
    "name": "ipython",
    "version": 3
   },
   "file_extension": ".py",
   "mimetype": "text/x-python",
   "name": "python",
   "nbconvert_exporter": "python",
   "pygments_lexer": "ipython3",
   "version": "3.9.12"
  }
 },
 "nbformat": 4,
 "nbformat_minor": 5
}
