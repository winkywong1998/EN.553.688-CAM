{
 "cells": [
  {
   "cell_type": "markdown",
   "id": "3a64e16d-2897-403e-b4cb-52a446f60a36",
   "metadata": {},
   "source": [
    "**XML**\n",
    "\n",
    "XML (*extensible markup language*) is a general method  for storing information in a text file.\n",
    "\n",
    "\n",
    "It is similar to HTML but HTML is a specific language structured like XML, and used to describe how information is to be displayed in a browser. \n",
    "\n",
    "XML addresses a more general need, that of storing information for a wide variety of purposes. One common use of XML is to put information in something akin to the familiar idea of a *form*, with fields reserved for specific information.\n",
    "\n",
    "XML is unlike HTML in that it does not have specific tags. A user of XML can decide what tags they wish to make use of.\n",
    "\n",
    "XML provides a separate representation of data that is separate from a description as to how the data ought to be displayed.\n",
    "\n",
    "The process of creating an HTML display of data in an an XML file is made easier using something called XSLT (Extensible Stylesheet Language Transformations). This is not discussed here.\n",
    "\n",
    "Users can decide on a common understanding of how, in a particular application, their XML files ought to be structured. In doing this, they may arrive at an XML *schema* (also not discussed here).\n",
    "\n",
    "Here are some resources for learning about XML \n",
    "\n",
    "https://www.w3schools.com/xml/\n",
    "\n",
    "and for the related element tree package we'll be using below:\n",
    "\n",
    "https://docs.python.org/3/library/xml.etree.elementtree.html\n",
    "\n",
    "https://www.datacamp.com/tutorial/python-xml-elementtree\n",
    "\n",
    "\n",
    "**Structure of an XML file**\n",
    "\n",
    "Typically an XML file starts with a *prolog* line indicating the XML version and the encoding.\n",
    "\n",
    "$$\\mbox{<?xml version=\"1.0\" encoding=\"utf-8\"?>}$$"
   ]
  },
  {
   "cell_type": "markdown",
   "id": "d1cfba4b-05ca-4479-9bc0-76c09e69eab8",
   "metadata": {},
   "source": [
    "**Tag syntax**\n",
    "\n",
    "XML tags can be \n",
    "\n",
    "- opening $\\mbox{<tagname ...>}$\n",
    "- closing $\\mbox{</tagname>}$\n",
    "- self-closing $\\mbox{<tagname ... />}$\n",
    "\n",
    "As we saw for html, tags can have attributes (name/value pairs) \n",
    "\n",
    "$$\\mbox{<tagname attr1=\"...\" attr2=\"...\" ... >}$$ \n"
   ]
  },
  {
   "cell_type": "markdown",
   "id": "16646f8a-b518-48c4-a4e8-b1ed88ebfe5f",
   "metadata": {},
   "source": [
    "The tags in an XML file must be *nested* which gives an XML file a hierarchical tree structure.\n",
    "\n",
    "To illustrate, we'll use the sample xml file found here:\n",
    "\n",
    "https://docs.microsoft.com/en-us/dotnet/standard/linq/sample-xml-file-customers-orders\n",
    "\n",
    "We start by reading it into a string then print it out some of it."
   ]
  },
  {
   "cell_type": "code",
   "execution_count": 5,
   "id": "16e54b7f-5e6b-4b39-a27a-0704c1bcafa1",
   "metadata": {},
   "outputs": [
    {
     "name": "stdout",
     "output_type": "stream",
     "text": [
      "<?xml version=\"1.0\" encoding=\"utf-8\"?>\n",
      "<Root>\n",
      "  <Customers>\n",
      "    <Customer CustomerID=\"GREAL\">\n",
      "      <CompanyName>Great Lakes Food Market</CompanyName>\n",
      "      <ContactName>Howard Snyder</ContactNam\n",
      "\n",
      "\n",
      "\n",
      "\n",
      "\n",
      "\n",
      "Francisco</ShipCity>\n",
      "        <ShipRegion>CA</ShipRegion>\n",
      "        <ShipPostalCode>94117</ShipPostalCode>\n",
      "        <ShipCountry>USA</ShipCountry>\n",
      "      </ShipInfo>\n",
      "    </Order>\n",
      "  </Orders>\n",
      "</Root>\n"
     ]
    }
   ],
   "source": [
    "with open(\"sample.xml\",\"rb\") as fin:\n",
    "    b=fin.read()\n",
    "    text=b.decode()\n",
    "print(text[:200])\n",
    "print(\"\\n\\n\\n\\n\\n\")\n",
    "print(text[-200:])"
   ]
  },
  {
   "cell_type": "markdown",
   "id": "5406fce4-f9af-4dd0-aa80-ee14027dbd68",
   "metadata": {},
   "source": [
    "**Element tree package**\n",
    "\n",
    "In an XML file, an element refers to everything from a start tag to its corresponding end tag (including both).\n",
    "\n",
    "We can use the element tree package to extract elements from an XML file.\n",
    "\n",
    "We first get the root element of the tree from our xml file."
   ]
  },
  {
   "cell_type": "code",
   "execution_count": 6,
   "id": "f3ed6d2e-1a18-4b9e-8a56-423ba68adaba",
   "metadata": {},
   "outputs": [
    {
     "name": "stdout",
     "output_type": "stream",
     "text": [
      "<Element 'Root' at 0x0000025971713630>\n"
     ]
    }
   ],
   "source": [
    "import xml.etree.ElementTree as ET\n",
    "tree = ET.parse('sample.xml')\n",
    "root = tree.getroot()\n",
    "print(root)"
   ]
  },
  {
   "cell_type": "markdown",
   "id": "46003f49-ba98-46ae-a539-3f550e48951e",
   "metadata": {},
   "source": [
    "We can also get the root directly from a string like the one we read from the file above."
   ]
  },
  {
   "cell_type": "code",
   "execution_count": 7,
   "id": "df4e54b9-58b9-491f-b68a-77bc5437fd5f",
   "metadata": {},
   "outputs": [
    {
     "name": "stdout",
     "output_type": "stream",
     "text": [
      "<Element 'Root' at 0x000002597322E310>\n"
     ]
    }
   ],
   "source": [
    "root=ET.fromstring(text)\n",
    "print(root)"
   ]
  },
  {
   "cell_type": "markdown",
   "id": "513f1892-ce1a-4544-bb4b-1376c65911ce",
   "metadata": {},
   "source": [
    "**Element attributes**\n",
    "\n",
    "Each element has \n",
    "\n",
    "- a tag\n",
    "- attributes possibly empty\n",
    "- text/data\n",
    "\n",
    "Have a look at the root element."
   ]
  },
  {
   "cell_type": "code",
   "execution_count": 8,
   "id": "0aae1637-3680-40cb-ab37-18e07387a34c",
   "metadata": {},
   "outputs": [
    {
     "name": "stdout",
     "output_type": "stream",
     "text": [
      "tag=Root\n",
      "attrib={}\n",
      "text = \n",
      "  \n"
     ]
    }
   ],
   "source": [
    "print(\"tag=\"+root.tag)\n",
    "print(\"attrib=\"+str(root.attrib))\n",
    "print(\"text = \"+str(root.text))"
   ]
  },
  {
   "cell_type": "markdown",
   "id": "b02044f6-b75d-40f7-98a6-a6f8f551aaca",
   "metadata": {},
   "source": [
    "**Iterating over descendents**\n",
    "\n",
    "For any element, we can iterate over **all of its descendants** using the **element.iter** method and print out related information.\n",
    "\n",
    "Here, we print the first 25 tags that are descendants of the root element."
   ]
  },
  {
   "cell_type": "code",
   "execution_count": 9,
   "id": "5c58fc9c-2e79-481e-a5e8-304e56f29619",
   "metadata": {},
   "outputs": [
    {
     "name": "stdout",
     "output_type": "stream",
     "text": [
      "Root\n",
      "Customers\n",
      "Customer\n",
      "CompanyName\n",
      "ContactName\n",
      "ContactTitle\n",
      "Phone\n",
      "FullAddress\n",
      "Address\n",
      "City\n",
      "Region\n",
      "PostalCode\n",
      "Country\n",
      "Customer\n",
      "CompanyName\n",
      "ContactName\n",
      "ContactTitle\n",
      "Phone\n",
      "Fax\n",
      "FullAddress\n",
      "Address\n",
      "City\n",
      "Region\n",
      "PostalCode\n",
      "Country\n",
      "Customer\n"
     ]
    }
   ],
   "source": [
    "ctr=0\n",
    "for e in root.iter():\n",
    "    if ctr>25:\n",
    "        break\n",
    "    print(e.tag)\n",
    "    ctr+=1"
   ]
  },
  {
   "cell_type": "markdown",
   "id": "920d4205-8691-4706-bc21-e7a13a9f6465",
   "metadata": {},
   "source": [
    "**Restricting to specific tags**\n",
    "\n",
    "We can specify a tag to restrict to when we iterate. \n",
    "\n",
    "Here\n",
    "\n",
    "- we restrict to Customer tags, and\n",
    "- when we find one we iterate over elements descending from it."
   ]
  },
  {
   "cell_type": "code",
   "execution_count": 10,
   "id": "9da80d60-559a-4bc8-85db-42f3f023b015",
   "metadata": {},
   "outputs": [
    {
     "name": "stdout",
     "output_type": "stream",
     "text": [
      "Customer             \n",
      "                   \n",
      "CompanyName          Great Lakes Food Market\n",
      "ContactName          Howard Snyder       \n",
      "ContactTitle         Marketing Manager   \n",
      "Phone                (503) 555-7555      \n",
      "FullAddress          \n",
      "                   \n",
      "Address              2732 Baker Blvd.    \n",
      "City                 Eugene              \n",
      "Region               OR                  \n",
      "PostalCode           97403               \n",
      "Country              USA                 \n",
      "Customer             \n",
      "                   \n",
      "CompanyName          Hungry Coyote Import Store\n",
      "ContactName          Yoshi Latimer       \n",
      "ContactTitle         Sales Representative\n",
      "Phone                (503) 555-6874      \n",
      "Fax                  (503) 555-2376      \n",
      "FullAddress          \n",
      "                   \n",
      "Address              City Center Plaza 516 Main St.\n",
      "City                 Elgin               \n",
      "Region               OR                  \n",
      "PostalCode           97827               \n",
      "Country              USA                 \n",
      "Customer             \n",
      "                   \n",
      "CompanyName          Lazy K Kountry Store\n",
      "ContactName          John Steel          \n",
      "ContactTitle         Marketing Manager   \n",
      "Phone                (509) 555-7969      \n",
      "Fax                  (509) 555-6221      \n",
      "FullAddress          \n",
      "                   \n",
      "Address              12 Orchestra Terrace\n",
      "City                 Walla Walla         \n",
      "Region               WA                  \n",
      "PostalCode           99362               \n",
      "Country              USA                 \n",
      "Customer             \n",
      "                   \n",
      "CompanyName          Let's Stop N Shop   \n",
      "ContactName          Jaime Yorres        \n",
      "ContactTitle         Owner               \n",
      "Phone                (415) 555-5938      \n",
      "FullAddress          \n",
      "                   \n",
      "Address              87 Polk St. Suite 5 \n",
      "City                 San Francisco       \n",
      "Region               CA                  \n",
      "PostalCode           94117               \n",
      "Country              USA                 \n"
     ]
    }
   ],
   "source": [
    "for e in root.iter(\"Customer\"):\n",
    "    for f in e.iter():\n",
    "        st=\"{:20s} {:20s}\".format(f.tag,f.text)\n",
    "        print(st)"
   ]
  },
  {
   "cell_type": "markdown",
   "id": "bd326009-889a-4d67-a601-1b75e13a9e70",
   "metadata": {},
   "source": [
    "**Specifying children of an element**\n",
    "\n",
    "The children of an element can be accessed using square brackets."
   ]
  },
  {
   "cell_type": "code",
   "execution_count": 11,
   "id": "e5880b9c-63ce-4a15-a4d3-7cac7e9a50a9",
   "metadata": {},
   "outputs": [
    {
     "name": "stdout",
     "output_type": "stream",
     "text": [
      "Customers\n"
     ]
    }
   ],
   "source": [
    "x=root[0]\n",
    "print(x.tag)"
   ]
  },
  {
   "cell_type": "code",
   "execution_count": 12,
   "id": "2eedf913-da0d-47e0-a4db-25c9c4d2b10b",
   "metadata": {},
   "outputs": [
    {
     "name": "stdout",
     "output_type": "stream",
     "text": [
      "Orders\n"
     ]
    }
   ],
   "source": [
    "x=root[1]\n",
    "print(x.tag)"
   ]
  },
  {
   "cell_type": "markdown",
   "id": "77c2228d-7548-4d61-819b-4a506844d2eb",
   "metadata": {},
   "source": [
    "This works at all levels."
   ]
  },
  {
   "cell_type": "code",
   "execution_count": 13,
   "id": "73d30c24-eb17-46a2-8967-128065b30ca8",
   "metadata": {},
   "outputs": [
    {
     "name": "stdout",
     "output_type": "stream",
     "text": [
      "Customer\n",
      "CompanyName\n",
      "Hungry Coyote Import Store\n"
     ]
    }
   ],
   "source": [
    "print(root[0][1].tag)\n",
    "print(root[0][1][0].tag)\n",
    "print(root[0][1][0].text)"
   ]
  },
  {
   "cell_type": "markdown",
   "id": "abe38e72-d41b-4a6a-ab89-7976bb8e60cd",
   "metadata": {},
   "source": [
    "**Searching for elements using XPATH**\n",
    "\n",
    "XPATH is a protocol for picking out portions of an XML file. Some of this is capability is available in the element tree package.\n",
    "\n",
    "\n",
    "We can use findall to iterate over a specific element's children using *path* specification."
   ]
  },
  {
   "cell_type": "code",
   "execution_count": 14,
   "id": "2ce246a5-3962-47db-b282-b2b0345eea2a",
   "metadata": {},
   "outputs": [
    {
     "name": "stdout",
     "output_type": "stream",
     "text": [
      "Root\n"
     ]
    }
   ],
   "source": [
    "it=root.findall(\".\")\n",
    "for x in it:\n",
    "    print(x.tag)"
   ]
  },
  {
   "cell_type": "code",
   "execution_count": 15,
   "id": "637e439b-d279-4a45-a831-48784e61a619",
   "metadata": {},
   "outputs": [
    {
     "name": "stdout",
     "output_type": "stream",
     "text": [
      "Customers\n",
      "Orders\n"
     ]
    }
   ],
   "source": [
    "it=root.findall(\"./\")\n",
    "for x in it:\n",
    "    print(x.tag)"
   ]
  },
  {
   "cell_type": "markdown",
   "id": "115bdd4f-0998-4962-bbf6-5de0f1865697",
   "metadata": {},
   "source": [
    "Here, once we find an element we iterate over it."
   ]
  },
  {
   "cell_type": "code",
   "execution_count": 16,
   "id": "ae06e6a2-9ac3-415e-afab-5b7d439a7748",
   "metadata": {},
   "outputs": [
    {
     "name": "stdout",
     "output_type": "stream",
     "text": [
      "{'CustomerID': 'GREAL'}\n",
      "{'CustomerID': 'HUNGC'}\n",
      "{'CustomerID': 'LAZYK'}\n",
      "{'CustomerID': 'LETSS'}\n"
     ]
    }
   ],
   "source": [
    "it=root.findall(\"./Customers\")\n",
    "for x in it:\n",
    "    it2=x.findall(\"Customer\")\n",
    "    for x2 in it2:\n",
    "        print(x2.attrib)"
   ]
  },
  {
   "cell_type": "code",
   "execution_count": 13,
   "id": "f1f4e26c-5163-406c-ac82-bdf267ccd7bc",
   "metadata": {},
   "outputs": [
    {
     "name": "stdout",
     "output_type": "stream",
     "text": [
      "Great Lakes Food Market\n",
      "Hungry Coyote Import Store\n",
      "Lazy K Kountry Store\n",
      "Let's Stop N Shop\n"
     ]
    }
   ],
   "source": [
    "it=root.findall(\"./Customers/Customer\")\n",
    "for x in it:\n",
    "    it2=x.iter()\n",
    "    for x2 in it2:\n",
    "        if x2.tag==\"CompanyName\":\n",
    "            print(x2.text)"
   ]
  },
  {
   "cell_type": "code",
   "execution_count": 14,
   "id": "7ca86898-3892-4f7a-83ea-c1ed9c1b1659",
   "metadata": {},
   "outputs": [
    {
     "name": "stdout",
     "output_type": "stream",
     "text": [
      "Customer\n",
      "   Customer             \n",
      "                   \n",
      "   CompanyName          Great Lakes Food Market\n",
      "   ContactName          Howard Snyder       \n",
      "   ContactTitle         Marketing Manager   \n",
      "   Phone                (503) 555-7555      \n",
      "   FullAddress          \n",
      "                   \n",
      "      Address              2732 Baker Blvd.    \n",
      "      City                 Eugene              \n",
      "      Region               OR                  \n",
      "      PostalCode           97403               \n",
      "      Country              USA                 \n",
      "   Address              2732 Baker Blvd.    \n",
      "   City                 Eugene              \n",
      "   Region               OR                  \n",
      "   PostalCode           97403               \n",
      "   Country              USA                 \n",
      "Customer\n",
      "   Customer             \n",
      "                   \n",
      "   CompanyName          Hungry Coyote Import Store\n",
      "   ContactName          Yoshi Latimer       \n",
      "   ContactTitle         Sales Representative\n",
      "   Phone                (503) 555-6874      \n",
      "   Fax                  (503) 555-2376      \n",
      "   FullAddress          \n",
      "                   \n",
      "      Address              City Center Plaza 516 Main St.\n",
      "      City                 Elgin               \n",
      "      Region               OR                  \n",
      "      PostalCode           97827               \n",
      "      Country              USA                 \n",
      "   Address              City Center Plaza 516 Main St.\n",
      "   City                 Elgin               \n",
      "   Region               OR                  \n",
      "   PostalCode           97827               \n",
      "   Country              USA                 \n",
      "Customer\n",
      "   Customer             \n",
      "                   \n",
      "   CompanyName          Lazy K Kountry Store\n",
      "   ContactName          John Steel          \n",
      "   ContactTitle         Marketing Manager   \n",
      "   Phone                (509) 555-7969      \n",
      "   Fax                  (509) 555-6221      \n",
      "   FullAddress          \n",
      "                   \n",
      "      Address              12 Orchestra Terrace\n",
      "      City                 Walla Walla         \n",
      "      Region               WA                  \n",
      "      PostalCode           99362               \n",
      "      Country              USA                 \n",
      "   Address              12 Orchestra Terrace\n",
      "   City                 Walla Walla         \n",
      "   Region               WA                  \n",
      "   PostalCode           99362               \n",
      "   Country              USA                 \n",
      "Customer\n",
      "   Customer             \n",
      "                   \n",
      "   CompanyName          Let's Stop N Shop   \n",
      "   ContactName          Jaime Yorres        \n",
      "   ContactTitle         Owner               \n",
      "   Phone                (415) 555-5938      \n",
      "   FullAddress          \n",
      "                   \n",
      "      Address              87 Polk St. Suite 5 \n",
      "      City                 San Francisco       \n",
      "      Region               CA                  \n",
      "      PostalCode           94117               \n",
      "      Country              USA                 \n",
      "   Address              87 Polk St. Suite 5 \n",
      "   City                 San Francisco       \n",
      "   Region               CA                  \n",
      "   PostalCode           94117               \n",
      "   Country              USA                 \n"
     ]
    }
   ],
   "source": [
    "it=root.findall(\"Customers/Customer\")\n",
    "for x in it:\n",
    "    print(\"Customer\")\n",
    "    it2=x.iter()\n",
    "    for t in it2:\n",
    "        st=\"   {:20s} {:20s}\".format(t.tag,t.text)\n",
    "        print(st)\n",
    "        if t.tag==\"FullAddress\":\n",
    "            for t2 in t:\n",
    "                st=\"      {:20s} {:20s}\".format(t2.tag,t2.text)\n",
    "                print(st)\n",
    "        "
   ]
  },
  {
   "cell_type": "markdown",
   "id": "14c2884f-b9ce-4466-a6f3-5e33ea6472b3",
   "metadata": {},
   "source": [
    "**Searching for tags with specified data**\n",
    "\n",
    "Here we search all customers for a ContactName"
   ]
  },
  {
   "cell_type": "code",
   "execution_count": 17,
   "id": "ba67156a-4327-4f7a-adf6-430828065fe2",
   "metadata": {},
   "outputs": [
    {
     "name": "stdout",
     "output_type": "stream",
     "text": [
      "Customer\n",
      "{'CustomerID': 'LETSS'}\n",
      "      Customer             \n",
      "                   \n",
      "      CompanyName          Let's Stop N Shop   \n",
      "      ContactName          Jaime Yorres        \n",
      "      ContactTitle         Owner               \n",
      "      Phone                (415) 555-5938      \n",
      "      FullAddress          \n",
      "                   \n",
      "      Address              87 Polk St. Suite 5 \n",
      "      City                 San Francisco       \n",
      "      Region               CA                  \n",
      "      PostalCode           94117               \n",
      "      Country              USA                 \n"
     ]
    }
   ],
   "source": [
    "for c in root.findall(\"./Customers/Customer/[ContactName='Jaime Yorres']\"):\n",
    "    print(c.tag)\n",
    "    print(c.attrib)\n",
    "    for c2 in c.iter():\n",
    "        st=\"      {:20s} {:20s}\".format(c2.tag,c2.text)\n",
    "        print(st)\n",
    "        "
   ]
  },
  {
   "cell_type": "markdown",
   "id": "7b8ad4a7-24e0-4755-8858-1deec9458f93",
   "metadata": {},
   "source": [
    "**Searching for an attribute**\n",
    "\n",
    "Here we can search for a Customer whose CustomerID attribute is some specified value.\n",
    "\n",
    "Note that in contrast with the above example the **@** symbol is used because CustomerID is an **attribute.**"
   ]
  },
  {
   "cell_type": "code",
   "execution_count": 16,
   "id": "7dd5488a-1e97-401d-ada2-ca252b42fc28",
   "metadata": {},
   "outputs": [
    {
     "name": "stdout",
     "output_type": "stream",
     "text": [
      "Customer\n",
      "{'CustomerID': 'LETSS'}\n"
     ]
    }
   ],
   "source": [
    "for x in root.findall(\"./Customers/Customer[@CustomerID='LETSS']\"):\n",
    "    print(x.tag)\n",
    "    print(x.attrib)"
   ]
  },
  {
   "cell_type": "markdown",
   "id": "48b334c2-e3b3-4b3a-9731-7080e4516284",
   "metadata": {},
   "source": [
    "**Parent element**\n",
    "\n",
    "When we search, we can get the parent by appending ... to the string."
   ]
  },
  {
   "cell_type": "code",
   "execution_count": 17,
   "id": "d5a9f037-51e5-4657-96ef-5ce73c810e35",
   "metadata": {},
   "outputs": [
    {
     "name": "stdout",
     "output_type": "stream",
     "text": [
      "Customers\n",
      "{}\n"
     ]
    }
   ],
   "source": [
    "for x in root.findall(\"./Customers/Customer[@CustomerID='LETSS']...\"):\n",
    "    print(x.tag)\n",
    "    print(x.attrib)"
   ]
  },
  {
   "cell_type": "markdown",
   "id": "2dc1e5ef-9cc5-4de2-a564-ff497292e14c",
   "metadata": {},
   "source": [
    "**Child elements**\n",
    "\n",
    "We can also get the child elements of elements found."
   ]
  },
  {
   "cell_type": "code",
   "execution_count": 18,
   "id": "f1f3ce23-9e4e-481d-8f0b-a116f718e4de",
   "metadata": {},
   "outputs": [
    {
     "name": "stdout",
     "output_type": "stream",
     "text": [
      "CompanyName          Let's Stop N Shop   \n",
      "ContactName          Jaime Yorres        \n",
      "ContactTitle         Owner               \n",
      "Phone                (415) 555-5938      \n",
      "FullAddress          \n",
      "                   \n"
     ]
    }
   ],
   "source": [
    "for x in root.findall(\"./Customers/Customer[@CustomerID='LETSS']/\"):\n",
    "    st=\"{:20s} {:20s}\".format(x.tag,x.text)\n",
    "    print(st)"
   ]
  },
  {
   "cell_type": "markdown",
   "id": "85db8417-4e2e-4d41-ad33-e05fd0f35734",
   "metadata": {},
   "source": [
    "**XML Parser**\n",
    "\n",
    "We can also parse an XML file by specifying a parser.\n",
    "\n",
    "This is done in a similar manner to the HTM parser (see the *Parsing HTML files notebook*) except the class we build is not a derived class. \n",
    "\n",
    "Here is a simple example: when we see a Customer tag we print its attribute dictionary."
   ]
  },
  {
   "cell_type": "code",
   "execution_count": 18,
   "id": "c8755940-8897-456a-975e-db743d615b37",
   "metadata": {},
   "outputs": [
    {
     "name": "stdout",
     "output_type": "stream",
     "text": [
      "{'CustomerID': 'GREAL'}\n",
      "{'CustomerID': 'HUNGC'}\n",
      "{'CustomerID': 'LAZYK'}\n",
      "{'CustomerID': 'LETSS'}\n"
     ]
    }
   ],
   "source": [
    "from xml.etree.ElementTree import XMLParser\n",
    "class myparser_target: \n",
    "    def start(self, tag, attrib):\n",
    "        if tag==\"Customer\":\n",
    "            print(attrib)\n",
    "    def end(self, tag):             \n",
    "        pass\n",
    "    def data(self, data):\n",
    "        pass            \n",
    "    def close(self):    \n",
    "        pass\n",
    "\n",
    "target = myparser_target()\n",
    "parser = XMLParser(target=target)\n",
    "with open(\"sample.xml\",\"rb\") as fin:\n",
    "    b=fin.read()\n",
    "    text=b.decode(\"utf-8\")\n",
    "parser.feed(text)"
   ]
  },
  {
   "cell_type": "markdown",
   "id": "cc16750f-32cf-4d39-b084-1527920eb79f",
   "metadata": {},
   "source": [
    "**Namespaces**\n",
    "\n",
    "In order to avoid naming conflicts in which tags with the same name need to be used with different purposes, XML documents can have *namespaces*. Tags are then prefixed to indicate which namespace they belong to. We won't go into too much detail here, but if you see an attribute **xmlns** be aware that a namespace prefix will be added to tags in the XML file.\n",
    "\n",
    "We'll focus on an xml file, similar to the one above, but with namespaces used.\n",
    "\n",
    "The URI (http://www.?.com) is not used but typically be a web site providing documentation for the namespace."
   ]
  },
  {
   "cell_type": "code",
   "execution_count": 20,
   "id": "4721611f-8208-40e3-b707-b8aa5fd93820",
   "metadata": {},
   "outputs": [
    {
     "name": "stdout",
     "output_type": "stream",
     "text": [
      "<?xml version=\"1.0\" encoding=\"utf-8\"?>\n",
      "<Root>\n",
      "  <Customers xmlns:C=\"http://www.C.com/\">\n",
      "    <C:Customer CustomerID=\"GREAL\">\n",
      "      <C:CompanyName>Great Lakes Food Market</C:CompanyName>\n",
      "      <C:ContactTitle>Marketing Manager</C:ContactTitle>\n",
      "      <C:Phone>(503) 555-7555</C:Phone>\n",
      "      <C:FullAddress>\n",
      "        <C:Address>2732 Baker Blvd.</C:Address>\n",
      "        <C:City>Eugene</C:City>\n",
      "        <C:Region>OR</C:Region>\n",
      "        <C:PostalCode>97403</C:PostalCode>\n",
      "        <C:Country>USA</C:Country>\n",
      "      </C:FullAddress>\n",
      "    </C:Customer>\n",
      "    <C:Customer CustomerID=\"HUNGC\">\n",
      "      <C:CompanyName>Hungry Coyote Import Store</C:CompanyName>\n",
      "      <C:ContactName>Yoshi Latimer</C:ContactName>\n",
      "      <C:ContactTitle>Sales Representative</C:ContactTitle>\n",
      "      <C:Phone>(503) 555-6874</C:Phone>\n",
      "      <C:Fax>(503) 555-2376</C:Fax>\n",
      "      <C:FullAddress>\n",
      "        <C:Address>City Center Plaza 516 Main St.</C:Address>\n",
      "        <C:City>Elgin</C:City>\n",
      "        <C:Region>OR</C:Region>\n",
      "        <C:PostalCode>97827</C:PostalCode>\n",
      "        <C:Country>USA</C:Country>\n",
      "      </C:FullAddress>\n",
      "    </C:Customer>\n",
      "  </Customers>\n",
      "  <Orders xmlns:O=\"http://www.O.com/\">\n",
      "    <O:Order>\n",
      "      <O:CustomerID>GREAL</O:CustomerID>\n",
      "      <O:EmployeeID>6</O:EmployeeID>\n",
      "      <O:OrderDate>1997-05-06T00:00:00</O:OrderDate>\n",
      "      <O:RequiredDate>1997-05-20T00:00:00</O:RequiredDate>\n",
      "      <O:ShipInfo ShippedDate=\"1997-05-09T00:00:00\">\n",
      "        <O:ShipVia>2</O:ShipVia>\n",
      "        <O:Freight>3.35</O:Freight>\n",
      "        <O:ShipName>Great Lakes Food Market</O:ShipName>\n",
      "        <O:ShipAddress>2732 Baker Blvd.</O:ShipAddress>\n",
      "        <O:ShipCity>Eugene</O:ShipCity>\n",
      "        <O:ShipRegion>OR</O:ShipRegion>\n",
      "        <O:ShipPostalCode>97403</O:ShipPostalCode>\n",
      "        <O:ShipCountry>USA</O:ShipCountry>\n",
      "      </O:ShipInfo>\n",
      "    </O:Order>\n",
      "    <O:Order>\n",
      "      <O:CustomerID>GREAL</O:CustomerID>\n",
      "      <O:EmployeeID>8</O:EmployeeID>\n",
      "      <O:OrderDate>1997-07-04T00:00:00</O:OrderDate>\n",
      "      <O:RequiredDate>1997-08-01T00:00:00</O:RequiredDate>\n",
      "      <O:ShipInfo ShippedDate=\"1997-07-14T00:00:00\">\n",
      "        <O:ShipVia>2</O:ShipVia>\n",
      "        <O:Freight>4.42</O:Freight>\n",
      "        <O:ShipName>Great Lakes Food Market</O:ShipName>\n",
      "        <O:ShipAddress>2732 Baker Blvd.</O:ShipAddress>\n",
      "        <O:ShipCity>Eugene</O:ShipCity>\n",
      "        <O:ShipRegion>OR</O:ShipRegion>\n",
      "        <O:ShipPostalCode>97403</O:ShipPostalCode>\n",
      "        <O:ShipCountry>USA</O:ShipCountry>\n",
      "      </O:ShipInfo>\n",
      "    </O:Order>\n",
      "    <O:Order>\n",
      "      <O:CustomerID>GREAL</O:CustomerID>\n",
      "      <O:EmployeeID>1</O:EmployeeID>\n",
      "      <O:OrderDate>1997-07-31T00:00:00</O:OrderDate>\n",
      "      <O:RequiredDate>1997-08-28T00:00:00</O:RequiredDate>\n",
      "      <O:ShipInfo ShippedDate=\"1997-08-05T00:00:00\">\n",
      "        <O:ShipVia>2</O:ShipVia>\n",
      "        <O:Freight>116.53</O:Freight>\n",
      "        <O:ShipName>Great Lakes Food Market</O:ShipName>\n",
      "        <O:ShipAddress>2732 Baker Blvd.</O:ShipAddress>\n",
      "        <O:ShipCity>Eugene</O:ShipCity>\n",
      "        <O:ShipRegion>OR</O:ShipRegion>\n",
      "        <O:ShipPostalCode>97403</O:ShipPostalCode>\n",
      "        <O:ShipCountry>USA</O:ShipCountry>\n",
      "      </O:ShipInfo>\n",
      "    </O:Order>\n",
      "  </Orders>\n",
      "</Root>\n"
     ]
    }
   ],
   "source": [
    "with open(\"sample_with_namespace.xml\") as fin:\n",
    "    text=fin.read()\n",
    "print(text)"
   ]
  },
  {
   "cell_type": "markdown",
   "id": "60192acd-19cf-4fad-b6d4-15e3d01b4d27",
   "metadata": {},
   "source": [
    "So here's what happens when we iterate through the tags."
   ]
  },
  {
   "cell_type": "code",
   "execution_count": 21,
   "id": "8d084be5-14e4-4e56-bfc0-99efcc74d749",
   "metadata": {},
   "outputs": [
    {
     "name": "stdout",
     "output_type": "stream",
     "text": [
      "Root\n",
      "Customers\n",
      "{http://www.C.com/}Customer\n",
      "{http://www.C.com/}CompanyName\n",
      "{http://www.C.com/}ContactTitle\n",
      "{http://www.C.com/}Phone\n",
      "{http://www.C.com/}FullAddress\n",
      "{http://www.C.com/}Address\n",
      "{http://www.C.com/}City\n",
      "{http://www.C.com/}Region\n",
      "{http://www.C.com/}PostalCode\n",
      "{http://www.C.com/}Country\n",
      "{http://www.C.com/}Customer\n",
      "{http://www.C.com/}CompanyName\n",
      "{http://www.C.com/}ContactName\n",
      "{http://www.C.com/}ContactTitle\n",
      "{http://www.C.com/}Phone\n",
      "{http://www.C.com/}Fax\n",
      "{http://www.C.com/}FullAddress\n",
      "{http://www.C.com/}Address\n",
      "{http://www.C.com/}City\n",
      "{http://www.C.com/}Region\n",
      "{http://www.C.com/}PostalCode\n",
      "{http://www.C.com/}Country\n",
      "Orders\n",
      "{http://www.O.com/}Order\n",
      "{http://www.O.com/}CustomerID\n",
      "{http://www.O.com/}EmployeeID\n",
      "{http://www.O.com/}OrderDate\n",
      "{http://www.O.com/}RequiredDate\n",
      "{http://www.O.com/}ShipInfo\n",
      "{http://www.O.com/}ShipVia\n",
      "{http://www.O.com/}Freight\n",
      "{http://www.O.com/}ShipName\n",
      "{http://www.O.com/}ShipAddress\n",
      "{http://www.O.com/}ShipCity\n",
      "{http://www.O.com/}ShipRegion\n",
      "{http://www.O.com/}ShipPostalCode\n",
      "{http://www.O.com/}ShipCountry\n",
      "{http://www.O.com/}Order\n",
      "{http://www.O.com/}CustomerID\n",
      "{http://www.O.com/}EmployeeID\n",
      "{http://www.O.com/}OrderDate\n",
      "{http://www.O.com/}RequiredDate\n",
      "{http://www.O.com/}ShipInfo\n",
      "{http://www.O.com/}ShipVia\n",
      "{http://www.O.com/}Freight\n",
      "{http://www.O.com/}ShipName\n",
      "{http://www.O.com/}ShipAddress\n",
      "{http://www.O.com/}ShipCity\n",
      "{http://www.O.com/}ShipRegion\n",
      "{http://www.O.com/}ShipPostalCode\n",
      "{http://www.O.com/}ShipCountry\n",
      "{http://www.O.com/}Order\n",
      "{http://www.O.com/}CustomerID\n",
      "{http://www.O.com/}EmployeeID\n",
      "{http://www.O.com/}OrderDate\n",
      "{http://www.O.com/}RequiredDate\n",
      "{http://www.O.com/}ShipInfo\n",
      "{http://www.O.com/}ShipVia\n",
      "{http://www.O.com/}Freight\n",
      "{http://www.O.com/}ShipName\n",
      "{http://www.O.com/}ShipAddress\n",
      "{http://www.O.com/}ShipCity\n",
      "{http://www.O.com/}ShipRegion\n",
      "{http://www.O.com/}ShipPostalCode\n",
      "{http://www.O.com/}ShipCountry\n"
     ]
    }
   ],
   "source": [
    "import xml.etree.ElementTree as ET\n",
    "tree = ET.parse('sample_with_namespace.xml')\n",
    "root2 = tree.getroot()\n",
    "for e in root2.iter():\n",
    "    print(e.tag)"
   ]
  },
  {
   "cell_type": "markdown",
   "id": "99a3f29c-6788-4cf9-ab0a-7b77e6f35483",
   "metadata": {},
   "source": [
    "**More**\n",
    "\n",
    "There is lots more that could be said but is not covered here. Importantly you might want to:\n",
    "\n",
    "- modify an existing XML document\n",
    "- create your own XML document"
   ]
  }
 ],
 "metadata": {
  "kernelspec": {
   "display_name": "Python 3 (ipykernel)",
   "language": "python",
   "name": "python3"
  },
  "language_info": {
   "codemirror_mode": {
    "name": "ipython",
    "version": 3
   },
   "file_extension": ".py",
   "mimetype": "text/x-python",
   "name": "python",
   "nbconvert_exporter": "python",
   "pygments_lexer": "ipython3",
   "version": "3.9.12"
  }
 },
 "nbformat": 4,
 "nbformat_minor": 5
}
