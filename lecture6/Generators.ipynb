{
 "cells": [
  {
   "cell_type": "markdown",
   "metadata": {},
   "source": [
    "**Generators**\n",
    "\n",
    "Here is a link to a nice blog about Python generators.\n",
    "\n",
    "https://jeffknupp.com/blog/2013/04/07/improve-your-python-yield-and-generators-explained/\n",
    "\n",
    "and another informative page\n",
    "\n",
    "http://anandology.com/python-practice-book/iterators.html\n",
    "\n",
    "\n",
    "A generator can be viewed as a function capable of producing, when called, a next value in some sequence.\n",
    "\n",
    "The idea is to write code for a function that can \n",
    "\n",
    "- pause at some point in its execution,\n",
    "- output a value,\n",
    "- save the state of all of its local variables,\n",
    "- allow user to re-enter the function to continue processing\n"
   ]
  },
  {
   "cell_type": "markdown",
   "metadata": {},
   "source": [
    "We have already encountered an important example of a generator, namely, a random number generator (RNG).\n",
    "\n",
    "The value that is output when an RNG is called is determined by its current state. (Think of a sequence of numbers in which the position in the sequence defines the current state.)\n",
    "\n",
    "When the RNG is called, it outputs a value depending on its current state, and the state is updated and stored until it is needed in the next RNG call. (In the sequence example, the next number is outputted and the current position is incremented.)"
   ]
  },
  {
   "cell_type": "markdown",
   "metadata": {},
   "source": [
    "**Generator basics**\n",
    "\n",
    "The following code produces a generator of the squares of the natural numbers.\n",
    "\n",
    "Observe that a return statement is nowhere to be found."
   ]
  },
  {
   "cell_type": "code",
   "execution_count": 1,
   "metadata": {},
   "outputs": [],
   "source": [
    "def NaturalNumberSquares():\n",
    "    n=1\n",
    "    yield(n)\n",
    "    while True:\n",
    "        n+=1\n",
    "        yield(n**2)      "
   ]
  },
  {
   "cell_type": "markdown",
   "metadata": {},
   "source": [
    "But the keyword **yield** appears. To use this, we assign a value and *instantiate* a generator."
   ]
  },
  {
   "cell_type": "code",
   "execution_count": 2,
   "metadata": {},
   "outputs": [],
   "source": [
    "g=NaturalNumberSquares()"
   ]
  },
  {
   "cell_type": "markdown",
   "metadata": {},
   "source": [
    "And now we can use the **next** function to get a value from our generator."
   ]
  },
  {
   "cell_type": "code",
   "execution_count": 3,
   "metadata": {},
   "outputs": [
    {
     "name": "stdout",
     "output_type": "stream",
     "text": [
      "1\n"
     ]
    }
   ],
   "source": [
    "x=next(g)\n",
    "print(x)"
   ]
  },
  {
   "cell_type": "code",
   "execution_count": 4,
   "metadata": {},
   "outputs": [
    {
     "name": "stdout",
     "output_type": "stream",
     "text": [
      "4\n"
     ]
    }
   ],
   "source": [
    "x=next(g)\n",
    "print(x)"
   ]
  },
  {
   "cell_type": "code",
   "execution_count": 5,
   "metadata": {},
   "outputs": [
    {
     "name": "stdout",
     "output_type": "stream",
     "text": [
      "9\n"
     ]
    }
   ],
   "source": [
    "x=next(g)\n",
    "print(x)"
   ]
  },
  {
   "cell_type": "markdown",
   "metadata": {},
   "source": [
    "So here is the explanation for what's going on.\n",
    "\n",
    "- The first time we use next(g) the body of the function is executed until a yield statment is reached, and that value is returned by next function.\n",
    "- The location of that yield statement is stored so that in future uses of next(g) the function picks up where it left off.\n",
    "- Each time the next(g) us used, any local variables in the function retain their values. In this case, the variable n retains its value."
   ]
  },
  {
   "cell_type": "markdown",
   "metadata": {},
   "source": [
    "**Multiple generators from the same function**\n",
    "\n",
    "We can have multiple generators using the same function, each exhibiting identical behavior, but each holding its own state.\n",
    "\n",
    "In the following example, we create two generators g1 and g2 but we only use next on g1."
   ]
  },
  {
   "cell_type": "code",
   "execution_count": 6,
   "metadata": {},
   "outputs": [
    {
     "name": "stdout",
     "output_type": "stream",
     "text": [
      "1\n",
      "4\n",
      "9\n",
      "16\n",
      "25\n"
     ]
    }
   ],
   "source": [
    "g1=NaturalNumberSquares()\n",
    "g2=NaturalNumberSquares()\n",
    "for i in range(5):\n",
    "    print(next(g1))"
   ]
  },
  {
   "cell_type": "markdown",
   "metadata": {},
   "source": [
    "Now use g2 and we see that g2 was unaffected by what we did with g1."
   ]
  },
  {
   "cell_type": "code",
   "execution_count": 7,
   "metadata": {},
   "outputs": [
    {
     "name": "stdout",
     "output_type": "stream",
     "text": [
      "1\n",
      "4\n",
      "9\n",
      "16\n",
      "25\n"
     ]
    }
   ],
   "source": [
    "for i in range(5):\n",
    "    print(next(g2))"
   ]
  },
  {
   "cell_type": "markdown",
   "metadata": {},
   "source": [
    "**Generators can stop**\n",
    "\n",
    "A generator needn't produce an infinite sequence. \n",
    "\n",
    "Consider the following example in which we have a break statement that would cause the while loop to terminate."
   ]
  },
  {
   "cell_type": "code",
   "execution_count": 8,
   "metadata": {},
   "outputs": [],
   "source": [
    "def NaturalNumberSquares():\n",
    "    n=1\n",
    "    yield(n)\n",
    "    while True:\n",
    "        n+=1\n",
    "        yield(n**2)\n",
    "        if n>5:\n",
    "            break"
   ]
  },
  {
   "cell_type": "code",
   "execution_count": 9,
   "metadata": {},
   "outputs": [
    {
     "name": "stdout",
     "output_type": "stream",
     "text": [
      "0 1\n",
      "1 4\n",
      "2 9\n",
      "3 16\n",
      "4 25\n",
      "5 36\n"
     ]
    },
    {
     "ename": "StopIteration",
     "evalue": "",
     "output_type": "error",
     "traceback": [
      "\u001b[1;31m---------------------------------------------------------------------------\u001b[0m",
      "\u001b[1;31mStopIteration\u001b[0m                             Traceback (most recent call last)",
      "Input \u001b[1;32mIn [9]\u001b[0m, in \u001b[0;36m<cell line: 2>\u001b[1;34m()\u001b[0m\n\u001b[0;32m      1\u001b[0m g\u001b[38;5;241m=\u001b[39mNaturalNumberSquares()\n\u001b[0;32m      2\u001b[0m \u001b[38;5;28;01mfor\u001b[39;00m i \u001b[38;5;129;01min\u001b[39;00m \u001b[38;5;28mrange\u001b[39m(\u001b[38;5;241m10\u001b[39m):\n\u001b[1;32m----> 3\u001b[0m     \u001b[38;5;28mprint\u001b[39m(i,\u001b[38;5;28;43mnext\u001b[39;49m\u001b[43m(\u001b[49m\u001b[43mg\u001b[49m\u001b[43m)\u001b[49m)\n",
      "\u001b[1;31mStopIteration\u001b[0m: "
     ]
    }
   ],
   "source": [
    "g=NaturalNumberSquares()\n",
    "for i in range(10):\n",
    "    print(i,next(g))"
   ]
  },
  {
   "cell_type": "code",
   "execution_count": 10,
   "metadata": {},
   "outputs": [
    {
     "name": "stdout",
     "output_type": "stream",
     "text": [
      "0 1\n",
      "1 4\n",
      "2 9\n",
      "3 16\n",
      "4 25\n",
      "5 36\n",
      "no value generated\n",
      "no value generated\n",
      "no value generated\n",
      "no value generated\n",
      "done\n"
     ]
    }
   ],
   "source": [
    "g=NaturalNumberSquares()\n",
    "for i in range(10):\n",
    "    try:\n",
    "        print(i,next(g))\n",
    "    except StopIteration:\n",
    "        print(\"no value generated\")\n",
    "print(\"done\")"
   ]
  },
  {
   "cell_type": "markdown",
   "metadata": {},
   "source": [
    "**The Sieve of Eratosthenes**\n",
    "\n",
    "This is a very old algorithm for creating a list of all prime numbers.\n",
    "\n",
    "Start with an empty list (of primes) <br>\n",
    "Set n=2 <br>\n",
    "Repeat <br>\n",
    "> If no prime in the current list divides n\n",
    "> > append n to the list <br>\n",
    "\n",
    "> set n=n+1\n",
    "\n",
    "Let's write a generator that implements this algorithm.\n",
    "\n",
    "Notes:\n",
    "\n",
    "- n%m = remainder when n is divided by m and n is divisible by m if this is zero\n",
    "- list comprehension can be used to list the current primes that divide n\n",
    "- whenever a new prime is found, we append it to the list and yield it"
   ]
  },
  {
   "cell_type": "code",
   "execution_count": 11,
   "metadata": {},
   "outputs": [],
   "source": [
    "def SieveOfEratosthenes():\n",
    "    PrimeList=[]\n",
    "    n=2\n",
    "    while True:\n",
    "        DivisorList=[p for p in PrimeList if n%p==0]\n",
    "        if len(DivisorList)==0:\n",
    "            PrimeList.append(n)\n",
    "            yield(n)\n",
    "        n+=1"
   ]
  },
  {
   "cell_type": "code",
   "execution_count": 12,
   "metadata": {},
   "outputs": [
    {
     "name": "stdout",
     "output_type": "stream",
     "text": [
      "2\n",
      "3\n",
      "5\n",
      "7\n",
      "11\n"
     ]
    }
   ],
   "source": [
    "g=SieveOfEratosthenes()\n",
    "print(next(g))\n",
    "print(next(g))\n",
    "print(next(g))\n",
    "print(next(g))\n",
    "print(next(g))"
   ]
  },
  {
   "cell_type": "markdown",
   "metadata": {},
   "source": [
    "**Alternative method**\n",
    "\n",
    "Instead of using list comprehension here is another approach that leads to an important programming device.\n",
    "\n",
    "We want to test whether any prime in the current list divides n, so we iterate over the list.\n",
    "\n",
    "In the snippet of code below, when we do get a prime that divides n we'd like to go to the next value of n, i.e. break out of for loop and recall that we did find a prime that divides n.\n",
    "\n",
    "How can we do that? "
   ]
  },
  {
   "cell_type": "code",
   "execution_count": null,
   "metadata": {},
   "outputs": [],
   "source": [
    "def SieveOfEratosthenes():\n",
    "    PrimeList=[]\n",
    "    n=2\n",
    "    while True:\n",
    "        for p in PrimeList:\n",
    "            if n%p==0:\n",
    "                #\n",
    "                # want to go to the next value of n here\n",
    "                #\n",
    "        #\n",
    "        # if we didn't find a prime that divides n\n",
    "        # but we don't want to do this if no prime found\n",
    "        PrimeList.append(n)\n",
    "        yield(n)\n",
    "        #\n",
    "        #\n",
    "        #\n",
    "        n+=1"
   ]
  },
  {
   "cell_type": "code",
   "execution_count": 13,
   "metadata": {},
   "outputs": [],
   "source": [
    "def SieveOfEratosthenes():\n",
    "    PrimeList=[]\n",
    "    n=2\n",
    "    while True:\n",
    "        founddivisor=False\n",
    "        for p in PrimeList:\n",
    "            if n%p==0:\n",
    "                founddivisor=True\n",
    "                break\n",
    "        if not founddivisor:\n",
    "            PrimeList.append(n)\n",
    "            yield(n)\n",
    "        n+=1"
   ]
  },
  {
   "cell_type": "code",
   "execution_count": 14,
   "metadata": {},
   "outputs": [
    {
     "name": "stdout",
     "output_type": "stream",
     "text": [
      "2\n",
      "3\n",
      "5\n",
      "7\n",
      "11\n",
      "13\n",
      "17\n",
      "19\n",
      "23\n",
      "29\n"
     ]
    }
   ],
   "source": [
    "g=SieveOfEratosthenes()\n",
    "for i in range(10):\n",
    "    print(next(g))"
   ]
  },
  {
   "cell_type": "code",
   "execution_count": 15,
   "metadata": {},
   "outputs": [
    {
     "name": "stdout",
     "output_type": "stream",
     "text": [
      "31\n"
     ]
    }
   ],
   "source": [
    "print(next(g))"
   ]
  },
  {
   "cell_type": "markdown",
   "metadata": {},
   "source": [
    "**Generator Analogue to List Comprehension**\n",
    "\n",
    "If in what would usually look like a form of list comprehension we use parentheses instead of square brackets, we get a generator."
   ]
  },
  {
   "cell_type": "code",
   "execution_count": 16,
   "metadata": {},
   "outputs": [],
   "source": [
    "gsquares = (x*x for x in range(10))"
   ]
  },
  {
   "cell_type": "code",
   "execution_count": 17,
   "metadata": {},
   "outputs": [
    {
     "name": "stdout",
     "output_type": "stream",
     "text": [
      "<class 'generator'>\n"
     ]
    }
   ],
   "source": [
    "print(type(gsquares))"
   ]
  },
  {
   "cell_type": "code",
   "execution_count": 18,
   "metadata": {},
   "outputs": [
    {
     "name": "stdout",
     "output_type": "stream",
     "text": [
      "0\n",
      "1\n",
      "4\n",
      "9\n",
      "16\n",
      "25\n"
     ]
    }
   ],
   "source": [
    "for i in range(6):\n",
    "    print(next(gsquares))"
   ]
  },
  {
   "cell_type": "code",
   "execution_count": null,
   "metadata": {},
   "outputs": [],
   "source": []
  }
 ],
 "metadata": {
  "kernelspec": {
   "display_name": "Python 3 (ipykernel)",
   "language": "python",
   "name": "python3"
  },
  "language_info": {
   "codemirror_mode": {
    "name": "ipython",
    "version": 3
   },
   "file_extension": ".py",
   "mimetype": "text/x-python",
   "name": "python",
   "nbconvert_exporter": "python",
   "pygments_lexer": "ipython3",
   "version": "3.9.11"
  }
 },
 "nbformat": 4,
 "nbformat_minor": 4
}
