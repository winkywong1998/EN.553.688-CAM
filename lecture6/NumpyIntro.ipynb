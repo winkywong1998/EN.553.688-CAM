{
 "cells": [
  {
   "cell_type": "markdown",
   "metadata": {},
   "source": [
    "**Introduction to Numpy**\n",
    "\n",
    "We sometimes want lists to behave like vectors, i.e. add them and perform scalar multiplication (the vector space operations).\n",
    "\n",
    "Lists don't behave in the way we might want to for mathematical applications."
   ]
  },
  {
   "cell_type": "code",
   "execution_count": null,
   "metadata": {},
   "outputs": [],
   "source": [
    "x=[1,2]\n",
    "y=[3,4]\n",
    "x+y\n",
    "print(x+y)"
   ]
  },
  {
   "cell_type": "code",
   "execution_count": null,
   "metadata": {},
   "outputs": [],
   "source": [
    "5*x"
   ]
  },
  {
   "cell_type": "code",
   "execution_count": null,
   "metadata": {},
   "outputs": [],
   "source": [
    "2.3*x"
   ]
  },
  {
   "cell_type": "markdown",
   "metadata": {},
   "source": [
    "**Numpy to the rescue!**\n",
    "\n",
    "We can make a list of floats into a numpy array."
   ]
  },
  {
   "cell_type": "code",
   "execution_count": null,
   "metadata": {},
   "outputs": [],
   "source": [
    "import numpy as np\n",
    "\n",
    "x=[1.,2.,3.,4.,5.]\n",
    "y=[5.,6.,7.,8.,9.]\n",
    "xv=np.array(x) # construct an array\n",
    "yv=np.array(y)\n",
    "print(type(xv))\n",
    "print(xv)\n",
    "print(xv+yv)\n",
    "print(3.*xv)"
   ]
  },
  {
   "cell_type": "markdown",
   "metadata": {},
   "source": [
    "**Dimension/Shape**\n",
    "\n",
    "When we create an array from a simple list of numbers we get a *vector* or also referred to as a 1-dimensional (1-d) array.\n",
    "\n",
    "The *shape* attribute of the array gives a 1-tuple with the number of elements. "
   ]
  },
  {
   "cell_type": "code",
   "execution_count": null,
   "metadata": {},
   "outputs": [],
   "source": [
    "xv.shape"
   ]
  },
  {
   "cell_type": "markdown",
   "metadata": {},
   "source": [
    "Selection works as it does for a list."
   ]
  },
  {
   "cell_type": "code",
   "execution_count": null,
   "metadata": {},
   "outputs": [],
   "source": [
    "print(type(xv[0]))\n",
    "print(xv[0])\n",
    "print(xv[-1])"
   ]
  },
  {
   "cell_type": "markdown",
   "metadata": {},
   "source": [
    "Slices still work as for lists."
   ]
  },
  {
   "cell_type": "code",
   "execution_count": null,
   "metadata": {},
   "outputs": [],
   "source": [
    "xv[1:3]"
   ]
  },
  {
   "cell_type": "markdown",
   "metadata": {},
   "source": [
    "**Type conversion**\n",
    "\n",
    "Note that when we created a numpy array, the values were converted to numpy floats - these are not the same as floats."
   ]
  },
  {
   "cell_type": "code",
   "execution_count": 2,
   "metadata": {},
   "outputs": [
    {
     "name": "stdout",
     "output_type": "stream",
     "text": [
      "<class 'list'>\n",
      "<class 'float'>\n",
      "<class 'numpy.ndarray'>\n",
      "<class 'numpy.float64'>\n"
     ]
    }
   ],
   "source": [
    "print(type(x))\n",
    "print(type(x[0]))\n",
    "print(type(xv))\n",
    "print(type(xv[0]))"
   ]
  },
  {
   "cell_type": "markdown",
   "metadata": {},
   "source": [
    "Even if we convert back to a list the values are not floats. \n",
    "\n",
    "Remember that lists can hold any types of objects and numpy provided a new type of object."
   ]
  },
  {
   "cell_type": "code",
   "execution_count": 3,
   "metadata": {},
   "outputs": [
    {
     "name": "stdout",
     "output_type": "stream",
     "text": [
      "<class 'list'>\n",
      "1.0\n",
      "<class 'numpy.float64'>\n"
     ]
    }
   ],
   "source": [
    "x=list(xv)\n",
    "print(type(x))\n",
    "print(x[0])\n",
    "print(type(x[0]))"
   ]
  },
  {
   "cell_type": "markdown",
   "metadata": {},
   "source": [
    "**Conversion from numpy type**\n",
    "\n",
    "When we have a numpy float, if we wish to, we can convert it back to a python float."
   ]
  },
  {
   "cell_type": "code",
   "execution_count": 1,
   "metadata": {},
   "outputs": [
    {
     "name": "stdout",
     "output_type": "stream",
     "text": [
      "<class 'numpy.float64'>\n",
      "<class 'float'>\n"
     ]
    }
   ],
   "source": [
    "import numpy as np\n",
    "x=[1.,2.,3.]\n",
    "xv=np.array(x)\n",
    "u=xv[0]\n",
    "print(type(u))\n",
    "v=float(u)\n",
    "print(type(v))"
   ]
  },
  {
   "cell_type": "markdown",
   "metadata": {},
   "source": [
    "**Some commonly used methods**\n",
    "\n",
    "**Norms**\n",
    "\n",
    "There are various *norms* that are used to describe the *size* of a vector $x = (x_1,\\ldots,x_d).$\n",
    "\n",
    "The Euclidean or $L_2$ norm: $\\sqrt{\\sum_{i=1}^d x_i^2}$\n",
    "\n",
    "The $L_1$ norm: $\\sum_{i=1}^d \\vert x_i\\vert$\n",
    "\n",
    "The $L_{\\infty}$ norm: $\\max_{i=1,\\ldots,d} \\vert x_i \\vert$\n",
    "\n",
    "and these (among others) are available."
   ]
  },
  {
   "cell_type": "code",
   "execution_count": null,
   "metadata": {},
   "outputs": [],
   "source": [
    "x=np.array([3,4])\n",
    "print(np.linalg.norm(x,2))\n",
    "print(np.linalg.norm(x,1))\n",
    "print(np.linalg.norm(x,np.inf)) # np.inf\n"
   ]
  },
  {
   "cell_type": "markdown",
   "metadata": {},
   "source": [
    "**Sum**\n",
    "\n",
    "We can sum the elements in a numpy array."
   ]
  },
  {
   "cell_type": "code",
   "execution_count": null,
   "metadata": {},
   "outputs": [],
   "source": [
    "x=np.array([1,-2,3])\n",
    "x.sum()"
   ]
  },
  {
   "cell_type": "markdown",
   "metadata": {},
   "source": [
    "**Dot products**\n",
    "\n",
    "The dot product between $x=(x_1,\\ldots,x_d)$ and $y=(y_1,\\ldots,y_d)$ is defined as $\\sum_{i=1}^d x_i y_i.$"
   ]
  },
  {
   "cell_type": "code",
   "execution_count": null,
   "metadata": {},
   "outputs": [],
   "source": [
    "x=np.array([1,2,3,4,5])\n",
    "y=np.array([6,7,8,9,10])\n",
    "print(x.dot(y))\n",
    "print((x*y).sum()) # equivalent way"
   ]
  },
  {
   "cell_type": "markdown",
   "metadata": {},
   "source": [
    "**min** and **max**"
   ]
  },
  {
   "cell_type": "code",
   "execution_count": null,
   "metadata": {},
   "outputs": [],
   "source": [
    "print(x.min())\n",
    "print(x.max())"
   ]
  },
  {
   "cell_type": "markdown",
   "metadata": {},
   "source": [
    "**mean** and **standard deviation**"
   ]
  },
  {
   "cell_type": "code",
   "execution_count": null,
   "metadata": {},
   "outputs": [],
   "source": [
    "print(x.mean())\n",
    "print(x.std())"
   ]
  },
  {
   "cell_type": "markdown",
   "metadata": {},
   "source": [
    "**Special numpy arrays**\n",
    "\n",
    "Numpy provides some special arrays. \n",
    "\n",
    "**zeros** can be used to create an array of zeros."
   ]
  },
  {
   "cell_type": "code",
   "execution_count": null,
   "metadata": {},
   "outputs": [],
   "source": [
    "import numpy as np\n",
    "np.zeros(5)"
   ]
  },
  {
   "cell_type": "markdown",
   "metadata": {},
   "source": [
    "**ones** is used for an array of ones."
   ]
  },
  {
   "cell_type": "code",
   "execution_count": null,
   "metadata": {},
   "outputs": [],
   "source": [
    "np.ones(7)"
   ]
  },
  {
   "cell_type": "markdown",
   "metadata": {},
   "source": [
    "**linspace**\n",
    "\n",
    "The numpy linspace function creates an array of equispaced values - a kind of array we often need in applications.\n",
    "Here were create 10 equispaced values between 2.3 and 4.7."
   ]
  },
  {
   "cell_type": "code",
   "execution_count": null,
   "metadata": {},
   "outputs": [],
   "source": [
    "import numpy as np\n",
    "xvec=np.linspace(2.3,4.7,10)\n",
    "print(xvec)"
   ]
  },
  {
   "cell_type": "markdown",
   "metadata": {},
   "source": [
    "**Numpy mathematical functions**\n",
    "\n",
    "There are many standard mathematical constants and functions (like we saw in the math library) available in numpy.\n",
    "\n",
    "These in include \n",
    "\n",
    "- pi\n",
    "- sqrt\n",
    "- exp\n",
    "- log\n",
    "- log10\n",
    "- sin\n",
    "- cos"
   ]
  },
  {
   "cell_type": "code",
   "execution_count": null,
   "metadata": {},
   "outputs": [],
   "source": [
    "import numpy as np\n",
    "x=np.pi\n",
    "print(np.sqrt(x))\n",
    "print(np.exp(x))\n",
    "print(np.log(x))\n",
    "print(np.log10(x))\n",
    "print(np.sin(x))\n",
    "print(np.cos(x))"
   ]
  },
  {
   "cell_type": "markdown",
   "metadata": {},
   "source": [
    "**Applying a function componentwise**\n",
    "\n",
    "We can apply a *numpy* function to a **list** of values or a **numpy array** and the result is a numpy array.\n",
    "And here we compute square roots in a list array componentwise."
   ]
  },
  {
   "cell_type": "code",
   "execution_count": null,
   "metadata": {},
   "outputs": [],
   "source": [
    "xvec=np.array([1.,2.,3.,4.,5.])\n",
    "yvec=np.sqrt(xvec)\n",
    "\n",
    "print(type(yvec))\n",
    "print(yvec)"
   ]
  },
  {
   "cell_type": "markdown",
   "metadata": {},
   "source": [
    "**Non-numpy functions**\n",
    "\n",
    "This doesn't necessarily work for non-numpy functions."
   ]
  },
  {
   "cell_type": "code",
   "execution_count": null,
   "metadata": {},
   "outputs": [],
   "source": [
    "import numpy as np\n",
    "import math\n",
    "\n",
    "x=np.linspace(2.3,4.7,10)\n",
    "y=math.sqrt(x)\n",
    "print(y)"
   ]
  },
  {
   "cell_type": "markdown",
   "metadata": {},
   "source": [
    "And this doesn't work using our own function."
   ]
  },
  {
   "cell_type": "code",
   "execution_count": null,
   "metadata": {},
   "outputs": [],
   "source": [
    "import numpy as np\n",
    "import math\n",
    "def myfunction(x):\n",
    "    y=math.exp(x/100)\n",
    "    w=math.sin(y)\n",
    "    return(w)\n",
    "x=np.linspace(2.3,4.7,100)\n",
    "y=myfunction(x)"
   ]
  },
  {
   "cell_type": "markdown",
   "metadata": {},
   "source": [
    "**Numpifying a function**\n",
    "\n",
    "We can remedy this by creating a numpy function out of ours using numpy.frompyfunc. Here, we to specify the number of arguments and number of values returned by our function."
   ]
  },
  {
   "cell_type": "code",
   "execution_count": null,
   "metadata": {},
   "outputs": [],
   "source": [
    "import numpy as np\n",
    "import math\n",
    "def myfunction(x):\n",
    "    y=math.exp(x/100)\n",
    "    w=math.sin(y)\n",
    "    return(w)\n",
    "f=np.frompyfunc(myfunction,1,1)\n",
    "x=np.linspace(2.3,4.7,10)\n",
    "y=f(x)\n",
    "print(y)"
   ]
  },
  {
   "cell_type": "markdown",
   "metadata": {},
   "source": [
    "**Numpy data types**\n",
    "\n",
    "A numpy array can hold various data types, including booleans, ints, and floats. \n",
    "\n",
    "Typically, unlike in a Python list, in a numpy array, all of the things being stored have the same type.\n",
    "\n",
    "The *dtype* attribute reveals the type."
   ]
  },
  {
   "cell_type": "code",
   "execution_count": null,
   "metadata": {},
   "outputs": [],
   "source": [
    "import numpy as np\n",
    "\n",
    "x=np.array([True,False])\n",
    "print(x.dtype)\n",
    "print(x)\n",
    "\n",
    "x=np.array([1,2,3])\n",
    "print(x.dtype)\n",
    "\n",
    "x=np.array([1.,2.,3.])\n",
    "print(x.dtype)"
   ]
  },
  {
   "cell_type": "markdown",
   "metadata": {},
   "source": [
    "**Ints**\n",
    "\n",
    "There is a limit to the size of a 32 bit *signed* int. \n",
    "\n",
    "If we have $32$ bits of storage and we want our integer to possibly have a sign, that means we can store the numbers\n",
    "\n",
    "- 0\n",
    "- 1,...,$2^{31}-1$\n",
    "- -1,...,$-2^{31}$\n",
    "\n",
    "In the following we see that when we store an array of integers, the storage type depends on what the sizes of the numbers (number of bits of storage required) in our list are.\n",
    "\n",
    "When an integer to be stored requires more than 32 bits, the numbers are taken to be 64 bit integers."
   ]
  },
  {
   "cell_type": "code",
   "execution_count": null,
   "metadata": {},
   "outputs": [],
   "source": [
    "x=np.array([-2**31,2**31-1])\n",
    "print(x.dtype)\n",
    "x=np.array([-2**32,2**31])\n",
    "print(x.dtype)"
   ]
  },
  {
   "cell_type": "markdown",
   "metadata": {},
   "source": [
    "So even if we put in an integer that can be stored using 32 bits, each int uses 64 bits if one of them does."
   ]
  },
  {
   "cell_type": "code",
   "execution_count": null,
   "metadata": {},
   "outputs": [],
   "source": [
    "x=np.array([-2**32,2**31,0,1,2,3])\n",
    "for i in range(6):\n",
    "    print(type(x[i]))"
   ]
  },
  {
   "cell_type": "markdown",
   "metadata": {},
   "source": [
    "**Storing Objects**\n",
    "\n",
    "If we try to store ints requiring more than 64 bits, what happens?"
   ]
  },
  {
   "cell_type": "code",
   "execution_count": null,
   "metadata": {},
   "outputs": [],
   "source": [
    "x=2**65\n",
    "type(x)"
   ]
  },
  {
   "cell_type": "code",
   "execution_count": null,
   "metadata": {},
   "outputs": [],
   "source": [
    "x=np.array([2**64,2**65,2**66])\n",
    "x.dtype"
   ]
  },
  {
   "cell_type": "markdown",
   "metadata": {},
   "source": [
    "Here the 'O' stands for \"object\". numpy allows use to store python objects - here each object is stored as a pointer to a python object somewhere in memory.\n",
    "\n",
    "We can create numpy arrays of various python types of objects."
   ]
  },
  {
   "cell_type": "code",
   "execution_count": null,
   "metadata": {},
   "outputs": [],
   "source": [
    "d={1:\"one\",2:\"two\"}\n",
    "L=[6,7,[8,9]]\n",
    "x=np.array([1,2,3,6.7,8.8,L,d,True, False,\"dog\",\"cat\",\"rhinocerous\"],dtype=\"object\")\n",
    "print(x)\n",
    "print(x.dtype)"
   ]
  },
  {
   "cell_type": "code",
   "execution_count": null,
   "metadata": {},
   "outputs": [],
   "source": [
    "type(x[6])"
   ]
  },
  {
   "cell_type": "markdown",
   "metadata": {},
   "source": [
    "**Multidimensional arrays**\n",
    "\n",
    "We can create 2-d arrays (matrices) and higher dimensional arrays. \n",
    "\n",
    "These also allow for addition (of arrays of same size) and scalar multiplication."
   ]
  },
  {
   "cell_type": "markdown",
   "metadata": {},
   "source": [
    "And we can add and multiply componentwise."
   ]
  },
  {
   "cell_type": "code",
   "execution_count": null,
   "metadata": {},
   "outputs": [],
   "source": [
    "import numpy as np\n",
    "A=np.array([[1,2,3],[4,5,6]])\n",
    "B=np.array([[7,8,9],[10,11,12]])\n",
    "print(A)\n",
    "print(\"\\n\")\n",
    "print(A.shape)\n",
    "print(\"\\n\")\n",
    "print(2*A)\n",
    "print(\"\\n\")\n",
    "print(A+B)"
   ]
  },
  {
   "cell_type": "markdown",
   "metadata": {},
   "source": [
    "**Componentwise multiplication**\n",
    "\n",
    "We can also multiply componentwise."
   ]
  },
  {
   "cell_type": "code",
   "execution_count": null,
   "metadata": {},
   "outputs": [],
   "source": [
    "print(A*B)"
   ]
  },
  {
   "cell_type": "markdown",
   "metadata": {},
   "source": [
    "**Matrix multiplication**\n",
    "\n",
    "As you probably anticipated, matrix multiplication is available."
   ]
  },
  {
   "cell_type": "code",
   "execution_count": null,
   "metadata": {},
   "outputs": [],
   "source": [
    "import numpy as np\n",
    "A=np.array([[1,2,3,4],[5,6,7,8]])\n",
    "B=np.array([[7,8,9,10,11],[12,13,14,15,16],[17,18,18,20,21],[22,23,24,25,26]])\n",
    "print(A.shape)\n",
    "print(B.shape)\n",
    "np.matmul(A,B)"
   ]
  },
  {
   "cell_type": "markdown",
   "metadata": {},
   "source": [
    "**Special matrices**\n",
    "\n",
    "\n",
    "**zeros** and **ones** have multidimensional analogues"
   ]
  },
  {
   "cell_type": "code",
   "execution_count": null,
   "metadata": {},
   "outputs": [],
   "source": [
    "import numpy as np\n",
    "np.zeros((2,3))"
   ]
  },
  {
   "cell_type": "code",
   "execution_count": null,
   "metadata": {},
   "outputs": [],
   "source": [
    "np.ones((5,2))"
   ]
  },
  {
   "cell_type": "markdown",
   "metadata": {},
   "source": [
    "**Identity** and **diagonal** matrices"
   ]
  },
  {
   "cell_type": "code",
   "execution_count": null,
   "metadata": {},
   "outputs": [],
   "source": [
    "np.eye(4,4)"
   ]
  },
  {
   "cell_type": "code",
   "execution_count": null,
   "metadata": {},
   "outputs": [],
   "source": [
    "np.diag([1,2,3,4])"
   ]
  },
  {
   "cell_type": "markdown",
   "metadata": {},
   "source": [
    "**Sampling** \n",
    "\n",
    "Numpy has several functions for pseudo-random samples from specific distributions and arrays of any size and dimension can be created."
   ]
  },
  {
   "cell_type": "code",
   "execution_count": null,
   "metadata": {},
   "outputs": [],
   "source": [
    "import numpy as np\n",
    "np.random.choice([0,1,2,3],size=(5,3))"
   ]
  },
  {
   "cell_type": "markdown",
   "metadata": {},
   "source": [
    "We can sample from any discrete probability distribution with finitely many possible values."
   ]
  },
  {
   "cell_type": "code",
   "execution_count": null,
   "metadata": {},
   "outputs": [],
   "source": [
    "np.random.choice([0,1,2,3],size=25,p=(.1,.2,.3,.4))"
   ]
  },
  {
   "cell_type": "markdown",
   "metadata": {},
   "source": [
    "By default, if size is not specified, a single value is generated."
   ]
  },
  {
   "cell_type": "code",
   "execution_count": null,
   "metadata": {},
   "outputs": [],
   "source": [
    "np.random.choice(['a','b','c'])"
   ]
  },
  {
   "cell_type": "code",
   "execution_count": null,
   "metadata": {},
   "outputs": [],
   "source": [
    "np.random.normal(50,5,size=(4,3))"
   ]
  },
  {
   "cell_type": "markdown",
   "metadata": {},
   "source": [
    "**Random permutation**\n",
    "\n",
    "We can generate a random permutation of a sequence."
   ]
  },
  {
   "cell_type": "code",
   "execution_count": null,
   "metadata": {},
   "outputs": [],
   "source": [
    "np.random.permutation(range(10))"
   ]
  },
  {
   "cell_type": "code",
   "execution_count": null,
   "metadata": {},
   "outputs": [],
   "source": [
    "np.random.permutation([\"A\",\"B\",\"C\",\"D\",\"E\"])"
   ]
  },
  {
   "cell_type": "code",
   "execution_count": null,
   "metadata": {},
   "outputs": [],
   "source": []
  }
 ],
 "metadata": {
  "kernelspec": {
   "display_name": "Python 3 (ipykernel)",
   "language": "python",
   "name": "python3"
  },
  "language_info": {
   "codemirror_mode": {
    "name": "ipython",
    "version": 3
   },
   "file_extension": ".py",
   "mimetype": "text/x-python",
   "name": "python",
   "nbconvert_exporter": "python",
   "pygments_lexer": "ipython3",
   "version": "3.9.11"
  }
 },
 "nbformat": 4,
 "nbformat_minor": 4
}
